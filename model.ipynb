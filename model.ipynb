{
 "cells": [
  {
   "cell_type": "markdown",
   "metadata": {},
   "source": [
    "### **Modelling stock price data**\n",
    "\n",
    "##### **Model SPY yearly data**\n",
    "\n",
    "Model SPY yearly price change data with macroeconomic features: emplyment, interest rates, house prices, consumer prices, credit etc.\n",
    "\n",
    "While correlation does not necessarly mean causation, modelling price change and finding the feature weights can give us an idea of how the stock market moves.\n",
    "\n",
    "Data:\n",
    "1. Yahoo finance SPY price change\n",
    "1. Bank if international settlements webpage [BIS](www.bis.org)\n",
    "\n",
    "##### **Model Quarterly stock data**\n",
    "\n",
    "We will model stock price data (log price or percentage change) using quarterly net earnings, US policy rates, property prices and employment data.\n",
    "\n",
    "Before modelling, we will do some data validation to understand the distribution of each feature and their relationship with the dependent variable.\n",
    "\n",
    "We will use the following models:\n",
    "\n",
    "1. Basic multivariate regression model\n",
    "2. GAM to model the non-linear relationships between independent and dependent variables\n",
    "3. Bayesian model \n",
    "\n",
    "Stocks to model: MSFT, BAC"
   ]
  },
  {
   "cell_type": "code",
   "execution_count": 40,
   "metadata": {},
   "outputs": [],
   "source": [
    "# Data manipulation\n",
    "import numpy as np\n",
    "import pandas as pd\n",
    "\n",
    "import functools as ft\n",
    "\n",
    "import matplotlib.pyplot as plt\n",
    "import seaborn as sns"
   ]
  },
  {
   "cell_type": "code",
   "execution_count": 41,
   "metadata": {},
   "outputs": [],
   "source": [
    "# load data \n",
    "df_spy = pd.read_csv('./data/SPY.csv') # monthly SPY data\n",
    "df_cp = pd.read_excel('./data/consumer_prices.xlsx', sheet_name='data') # consumer prices, monthly\n",
    "df_pp = pd.read_excel('./data/properties_prices.xlsx', sheet_name='data') # properity prices, quarterly\n",
    "df_ir = pd.read_excel('./data/interest_rates.xlsx', sheet_name='monthly') # interest rates, monthly\n",
    "df_tc = pd.read_excel('./data/totcredit.xlsx', sheet_name='quarterly_data') # total credit, quarterly\n",
    "df_nfp = pd.read_excel('./data/nfp_total.xlsx') # nfp employment data, monthly"
   ]
  },
  {
   "cell_type": "markdown",
   "metadata": {},
   "source": [
    "### Preparing data"
   ]
  },
  {
   "cell_type": "markdown",
   "metadata": {},
   "source": [
    "##### Consumer Price data"
   ]
  },
  {
   "cell_type": "code",
   "execution_count": 42,
   "metadata": {},
   "outputs": [],
   "source": [
    "df_cp = df_cp.set_index('Period')\n",
    "df_cp = df_cp.resample('Q').ohlc()"
   ]
  },
  {
   "cell_type": "code",
   "execution_count": 43,
   "metadata": {},
   "outputs": [
    {
     "data": {
      "text/html": [
       "<div>\n",
       "<style scoped>\n",
       "    .dataframe tbody tr th:only-of-type {\n",
       "        vertical-align: middle;\n",
       "    }\n",
       "\n",
       "    .dataframe tbody tr th {\n",
       "        vertical-align: top;\n",
       "    }\n",
       "\n",
       "    .dataframe thead tr th {\n",
       "        text-align: left;\n",
       "    }\n",
       "\n",
       "    .dataframe thead tr:last-of-type th {\n",
       "        text-align: right;\n",
       "    }\n",
       "</style>\n",
       "<table border=\"1\" class=\"dataframe\">\n",
       "  <thead>\n",
       "    <tr>\n",
       "      <th></th>\n",
       "      <th colspan=\"4\" halign=\"left\">US</th>\n",
       "      <th colspan=\"4\" halign=\"left\">Euro</th>\n",
       "    </tr>\n",
       "    <tr>\n",
       "      <th></th>\n",
       "      <th>open</th>\n",
       "      <th>high</th>\n",
       "      <th>low</th>\n",
       "      <th>close</th>\n",
       "      <th>open</th>\n",
       "      <th>high</th>\n",
       "      <th>low</th>\n",
       "      <th>close</th>\n",
       "    </tr>\n",
       "    <tr>\n",
       "      <th>Period</th>\n",
       "      <th></th>\n",
       "      <th></th>\n",
       "      <th></th>\n",
       "      <th></th>\n",
       "      <th></th>\n",
       "      <th></th>\n",
       "      <th></th>\n",
       "      <th></th>\n",
       "    </tr>\n",
       "  </thead>\n",
       "  <tbody>\n",
       "    <tr>\n",
       "      <th>1914-03-31</th>\n",
       "      <td>2.040816</td>\n",
       "      <td>2.040816</td>\n",
       "      <td>1.020408</td>\n",
       "      <td>1.020408</td>\n",
       "      <td>NaN</td>\n",
       "      <td>NaN</td>\n",
       "      <td>NaN</td>\n",
       "      <td>NaN</td>\n",
       "    </tr>\n",
       "    <tr>\n",
       "      <th>1914-06-30</th>\n",
       "      <td>0.000000</td>\n",
       "      <td>2.061856</td>\n",
       "      <td>0.000000</td>\n",
       "      <td>1.020408</td>\n",
       "      <td>NaN</td>\n",
       "      <td>NaN</td>\n",
       "      <td>NaN</td>\n",
       "      <td>NaN</td>\n",
       "    </tr>\n",
       "    <tr>\n",
       "      <th>1914-09-30</th>\n",
       "      <td>1.010101</td>\n",
       "      <td>3.030303</td>\n",
       "      <td>1.010101</td>\n",
       "      <td>2.000000</td>\n",
       "      <td>NaN</td>\n",
       "      <td>NaN</td>\n",
       "      <td>NaN</td>\n",
       "      <td>NaN</td>\n",
       "    </tr>\n",
       "    <tr>\n",
       "      <th>1914-12-31</th>\n",
       "      <td>1.000000</td>\n",
       "      <td>1.000000</td>\n",
       "      <td>0.990099</td>\n",
       "      <td>1.000000</td>\n",
       "      <td>NaN</td>\n",
       "      <td>NaN</td>\n",
       "      <td>NaN</td>\n",
       "      <td>NaN</td>\n",
       "    </tr>\n",
       "    <tr>\n",
       "      <th>1915-03-31</th>\n",
       "      <td>1.000000</td>\n",
       "      <td>1.010101</td>\n",
       "      <td>0.000000</td>\n",
       "      <td>0.000000</td>\n",
       "      <td>NaN</td>\n",
       "      <td>NaN</td>\n",
       "      <td>NaN</td>\n",
       "      <td>NaN</td>\n",
       "    </tr>\n",
       "  </tbody>\n",
       "</table>\n",
       "</div>"
      ],
      "text/plain": [
       "                  US                               Euro               \n",
       "                open      high       low     close open high low close\n",
       "Period                                                                \n",
       "1914-03-31  2.040816  2.040816  1.020408  1.020408  NaN  NaN NaN   NaN\n",
       "1914-06-30  0.000000  2.061856  0.000000  1.020408  NaN  NaN NaN   NaN\n",
       "1914-09-30  1.010101  3.030303  1.010101  2.000000  NaN  NaN NaN   NaN\n",
       "1914-12-31  1.000000  1.000000  0.990099  1.000000  NaN  NaN NaN   NaN\n",
       "1915-03-31  1.000000  1.010101  0.000000  0.000000  NaN  NaN NaN   NaN"
      ]
     },
     "execution_count": 43,
     "metadata": {},
     "output_type": "execute_result"
    }
   ],
   "source": [
    "df_cp.head()"
   ]
  },
  {
   "cell_type": "code",
   "execution_count": 44,
   "metadata": {},
   "outputs": [],
   "source": [
    "df_cp = df_cp['US'].reset_index()\n",
    "df_cp = df_cp[['close', 'Period']].rename(columns={'close':'us_cp'})"
   ]
  },
  {
   "cell_type": "code",
   "execution_count": 45,
   "metadata": {},
   "outputs": [
    {
     "data": {
      "text/html": [
       "<div>\n",
       "<style scoped>\n",
       "    .dataframe tbody tr th:only-of-type {\n",
       "        vertical-align: middle;\n",
       "    }\n",
       "\n",
       "    .dataframe tbody tr th {\n",
       "        vertical-align: top;\n",
       "    }\n",
       "\n",
       "    .dataframe thead th {\n",
       "        text-align: right;\n",
       "    }\n",
       "</style>\n",
       "<table border=\"1\" class=\"dataframe\">\n",
       "  <thead>\n",
       "    <tr style=\"text-align: right;\">\n",
       "      <th></th>\n",
       "      <th>us_cp</th>\n",
       "      <th>date</th>\n",
       "    </tr>\n",
       "  </thead>\n",
       "  <tbody>\n",
       "    <tr>\n",
       "      <th>0</th>\n",
       "      <td>1.020408</td>\n",
       "      <td>1914-03-01</td>\n",
       "    </tr>\n",
       "    <tr>\n",
       "      <th>1</th>\n",
       "      <td>1.020408</td>\n",
       "      <td>1914-06-01</td>\n",
       "    </tr>\n",
       "    <tr>\n",
       "      <th>2</th>\n",
       "      <td>2.000000</td>\n",
       "      <td>1914-09-01</td>\n",
       "    </tr>\n",
       "    <tr>\n",
       "      <th>3</th>\n",
       "      <td>1.000000</td>\n",
       "      <td>1914-12-01</td>\n",
       "    </tr>\n",
       "    <tr>\n",
       "      <th>4</th>\n",
       "      <td>0.000000</td>\n",
       "      <td>1915-03-01</td>\n",
       "    </tr>\n",
       "  </tbody>\n",
       "</table>\n",
       "</div>"
      ],
      "text/plain": [
       "      us_cp       date\n",
       "0  1.020408 1914-03-01\n",
       "1  1.020408 1914-06-01\n",
       "2  2.000000 1914-09-01\n",
       "3  1.000000 1914-12-01\n",
       "4  0.000000 1915-03-01"
      ]
     },
     "execution_count": 45,
     "metadata": {},
     "output_type": "execute_result"
    }
   ],
   "source": [
    "df_cp[\"date\"] = df_cp['Period'].apply(lambda dt: dt.replace(day=1))\n",
    "df_cp.drop(['Period'], axis=1, inplace=True)\n",
    "df_cp.head()"
   ]
  },
  {
   "cell_type": "markdown",
   "metadata": {},
   "source": [
    "##### Total credit"
   ]
  },
  {
   "cell_type": "code",
   "execution_count": 46,
   "metadata": {},
   "outputs": [
    {
     "data": {
      "text/html": [
       "<div>\n",
       "<style scoped>\n",
       "    .dataframe tbody tr th:only-of-type {\n",
       "        vertical-align: middle;\n",
       "    }\n",
       "\n",
       "    .dataframe tbody tr th {\n",
       "        vertical-align: top;\n",
       "    }\n",
       "\n",
       "    .dataframe thead th {\n",
       "        text-align: right;\n",
       "    }\n",
       "</style>\n",
       "<table border=\"1\" class=\"dataframe\">\n",
       "  <thead>\n",
       "    <tr style=\"text-align: right;\">\n",
       "      <th></th>\n",
       "      <th>us_tc</th>\n",
       "      <th>date</th>\n",
       "    </tr>\n",
       "  </thead>\n",
       "  <tbody>\n",
       "    <tr>\n",
       "      <th>0</th>\n",
       "      <td>353.722</td>\n",
       "      <td>1945-12-01</td>\n",
       "    </tr>\n",
       "    <tr>\n",
       "      <th>1</th>\n",
       "      <td>354.332</td>\n",
       "      <td>1946-03-01</td>\n",
       "    </tr>\n",
       "    <tr>\n",
       "      <th>2</th>\n",
       "      <td>350.867</td>\n",
       "      <td>1946-06-01</td>\n",
       "    </tr>\n",
       "    <tr>\n",
       "      <th>3</th>\n",
       "      <td>346.826</td>\n",
       "      <td>1946-09-01</td>\n",
       "    </tr>\n",
       "    <tr>\n",
       "      <th>4</th>\n",
       "      <td>345.682</td>\n",
       "      <td>1946-12-01</td>\n",
       "    </tr>\n",
       "  </tbody>\n",
       "</table>\n",
       "</div>"
      ],
      "text/plain": [
       "     us_tc       date\n",
       "0  353.722 1945-12-01\n",
       "1  354.332 1946-03-01\n",
       "2  350.867 1946-06-01\n",
       "3  346.826 1946-09-01\n",
       "4  345.682 1946-12-01"
      ]
     },
     "execution_count": 46,
     "metadata": {},
     "output_type": "execute_result"
    }
   ],
   "source": [
    "df_tc[\"date\"] = df_tc['Period'].apply(lambda dt: dt.replace(day=1))\n",
    "df_tc.drop(['Period'], axis=1, inplace=True)\n",
    "df_tc = df_tc[['US', 'date']]\n",
    "df_tc.rename(columns={'US':'us_tc'}, inplace=True)\n",
    "df_tc.head()"
   ]
  },
  {
   "cell_type": "markdown",
   "metadata": {},
   "source": [
    "##### NFP"
   ]
  },
  {
   "cell_type": "code",
   "execution_count": 47,
   "metadata": {},
   "outputs": [
    {
     "data": {
      "text/html": [
       "<div>\n",
       "<style scoped>\n",
       "    .dataframe tbody tr th:only-of-type {\n",
       "        vertical-align: middle;\n",
       "    }\n",
       "\n",
       "    .dataframe tbody tr th {\n",
       "        vertical-align: top;\n",
       "    }\n",
       "\n",
       "    .dataframe thead th {\n",
       "        text-align: right;\n",
       "    }\n",
       "</style>\n",
       "<table border=\"1\" class=\"dataframe\">\n",
       "  <thead>\n",
       "    <tr style=\"text-align: right;\">\n",
       "      <th></th>\n",
       "      <th>Year</th>\n",
       "      <th>month</th>\n",
       "      <th>nfp</th>\n",
       "    </tr>\n",
       "  </thead>\n",
       "  <tbody>\n",
       "    <tr>\n",
       "      <th>0</th>\n",
       "      <td>1980</td>\n",
       "      <td>Jan</td>\n",
       "      <td>90800.0</td>\n",
       "    </tr>\n",
       "    <tr>\n",
       "      <th>1</th>\n",
       "      <td>1981</td>\n",
       "      <td>Jan</td>\n",
       "      <td>91033.0</td>\n",
       "    </tr>\n",
       "    <tr>\n",
       "      <th>2</th>\n",
       "      <td>1982</td>\n",
       "      <td>Jan</td>\n",
       "      <td>90565.0</td>\n",
       "    </tr>\n",
       "    <tr>\n",
       "      <th>3</th>\n",
       "      <td>1983</td>\n",
       "      <td>Jan</td>\n",
       "      <td>88990.0</td>\n",
       "    </tr>\n",
       "    <tr>\n",
       "      <th>4</th>\n",
       "      <td>1984</td>\n",
       "      <td>Jan</td>\n",
       "      <td>92673.0</td>\n",
       "    </tr>\n",
       "  </tbody>\n",
       "</table>\n",
       "</div>"
      ],
      "text/plain": [
       "   Year month      nfp\n",
       "0  1980   Jan  90800.0\n",
       "1  1981   Jan  91033.0\n",
       "2  1982   Jan  90565.0\n",
       "3  1983   Jan  88990.0\n",
       "4  1984   Jan  92673.0"
      ]
     },
     "execution_count": 47,
     "metadata": {},
     "output_type": "execute_result"
    }
   ],
   "source": [
    "df_nfp_melt = pd.melt(df_nfp, id_vars=['Year'], value_vars=df_nfp.columns, var_name='month', value_name='nfp')\n",
    "df_nfp_melt.head()"
   ]
  },
  {
   "cell_type": "code",
   "execution_count": 48,
   "metadata": {},
   "outputs": [],
   "source": [
    "df_nfp_melt['date_month'] = df_nfp_melt.Year.astype('str') + \"-\" + df_nfp_melt.month.astype('str') "
   ]
  },
  {
   "cell_type": "code",
   "execution_count": 49,
   "metadata": {},
   "outputs": [
    {
     "data": {
      "text/html": [
       "<div>\n",
       "<style scoped>\n",
       "    .dataframe tbody tr th:only-of-type {\n",
       "        vertical-align: middle;\n",
       "    }\n",
       "\n",
       "    .dataframe tbody tr th {\n",
       "        vertical-align: top;\n",
       "    }\n",
       "\n",
       "    .dataframe thead th {\n",
       "        text-align: right;\n",
       "    }\n",
       "</style>\n",
       "<table border=\"1\" class=\"dataframe\">\n",
       "  <thead>\n",
       "    <tr style=\"text-align: right;\">\n",
       "      <th></th>\n",
       "      <th>nfp</th>\n",
       "      <th>date_month</th>\n",
       "    </tr>\n",
       "  </thead>\n",
       "  <tbody>\n",
       "    <tr>\n",
       "      <th>0</th>\n",
       "      <td>90800.0</td>\n",
       "      <td>1980-01-01</td>\n",
       "    </tr>\n",
       "    <tr>\n",
       "      <th>1</th>\n",
       "      <td>91033.0</td>\n",
       "      <td>1981-01-01</td>\n",
       "    </tr>\n",
       "    <tr>\n",
       "      <th>2</th>\n",
       "      <td>90565.0</td>\n",
       "      <td>1982-01-01</td>\n",
       "    </tr>\n",
       "    <tr>\n",
       "      <th>3</th>\n",
       "      <td>88990.0</td>\n",
       "      <td>1983-01-01</td>\n",
       "    </tr>\n",
       "    <tr>\n",
       "      <th>4</th>\n",
       "      <td>92673.0</td>\n",
       "      <td>1984-01-01</td>\n",
       "    </tr>\n",
       "  </tbody>\n",
       "</table>\n",
       "</div>"
      ],
      "text/plain": [
       "       nfp date_month\n",
       "0  90800.0 1980-01-01\n",
       "1  91033.0 1981-01-01\n",
       "2  90565.0 1982-01-01\n",
       "3  88990.0 1983-01-01\n",
       "4  92673.0 1984-01-01"
      ]
     },
     "execution_count": 49,
     "metadata": {},
     "output_type": "execute_result"
    }
   ],
   "source": [
    "df_nfp_melt['date_month'] = pd.to_datetime(df_nfp_melt['date_month'])\n",
    "df_nfp_melt.drop(['Year', 'month'], axis=1, inplace=True)\n",
    "df_nfp_melt.head()"
   ]
  },
  {
   "cell_type": "code",
   "execution_count": 50,
   "metadata": {},
   "outputs": [],
   "source": [
    "df_nfp_melt = df_nfp_melt.set_index('date_month')\n",
    "df_nfp_melt = df_nfp_melt.resample('Q').ohlc()"
   ]
  },
  {
   "cell_type": "code",
   "execution_count": 51,
   "metadata": {},
   "outputs": [],
   "source": [
    "df_nfp_melt = df_nfp_melt['nfp'].reset_index()\n",
    "df_nfp_melt = df_nfp_melt[['close', 'date_month']].rename(columns={'close':'nfp'})"
   ]
  },
  {
   "cell_type": "code",
   "execution_count": 52,
   "metadata": {},
   "outputs": [
    {
     "data": {
      "text/html": [
       "<div>\n",
       "<style scoped>\n",
       "    .dataframe tbody tr th:only-of-type {\n",
       "        vertical-align: middle;\n",
       "    }\n",
       "\n",
       "    .dataframe tbody tr th {\n",
       "        vertical-align: top;\n",
       "    }\n",
       "\n",
       "    .dataframe thead th {\n",
       "        text-align: right;\n",
       "    }\n",
       "</style>\n",
       "<table border=\"1\" class=\"dataframe\">\n",
       "  <thead>\n",
       "    <tr style=\"text-align: right;\">\n",
       "      <th></th>\n",
       "      <th>nfp</th>\n",
       "      <th>date</th>\n",
       "    </tr>\n",
       "  </thead>\n",
       "  <tbody>\n",
       "    <tr>\n",
       "      <th>0</th>\n",
       "      <td>90994.0</td>\n",
       "      <td>1980-03-01</td>\n",
       "    </tr>\n",
       "    <tr>\n",
       "      <th>1</th>\n",
       "      <td>90101.0</td>\n",
       "      <td>1980-06-01</td>\n",
       "    </tr>\n",
       "    <tr>\n",
       "      <th>2</th>\n",
       "      <td>90213.0</td>\n",
       "      <td>1980-09-01</td>\n",
       "    </tr>\n",
       "    <tr>\n",
       "      <th>3</th>\n",
       "      <td>90943.0</td>\n",
       "      <td>1980-12-01</td>\n",
       "    </tr>\n",
       "    <tr>\n",
       "      <th>4</th>\n",
       "      <td>91210.0</td>\n",
       "      <td>1981-03-01</td>\n",
       "    </tr>\n",
       "  </tbody>\n",
       "</table>\n",
       "</div>"
      ],
      "text/plain": [
       "       nfp       date\n",
       "0  90994.0 1980-03-01\n",
       "1  90101.0 1980-06-01\n",
       "2  90213.0 1980-09-01\n",
       "3  90943.0 1980-12-01\n",
       "4  91210.0 1981-03-01"
      ]
     },
     "execution_count": 52,
     "metadata": {},
     "output_type": "execute_result"
    }
   ],
   "source": [
    "df_nfp_melt[\"date\"] = df_nfp_melt['date_month'].apply(lambda dt: dt.replace(day=1))\n",
    "df_nfp_melt.drop(['date_month'], axis=1, inplace=True)\n",
    "df_nfp_melt.head()"
   ]
  },
  {
   "cell_type": "markdown",
   "metadata": {},
   "source": [
    "##### Property Prices"
   ]
  },
  {
   "cell_type": "code",
   "execution_count": 53,
   "metadata": {},
   "outputs": [
    {
     "data": {
      "text/html": [
       "<div>\n",
       "<style scoped>\n",
       "    .dataframe tbody tr th:only-of-type {\n",
       "        vertical-align: middle;\n",
       "    }\n",
       "\n",
       "    .dataframe tbody tr th {\n",
       "        vertical-align: top;\n",
       "    }\n",
       "\n",
       "    .dataframe thead th {\n",
       "        text-align: right;\n",
       "    }\n",
       "</style>\n",
       "<table border=\"1\" class=\"dataframe\">\n",
       "  <thead>\n",
       "    <tr style=\"text-align: right;\">\n",
       "      <th></th>\n",
       "      <th>Period</th>\n",
       "      <th>EXISTNG_DWELLINGS</th>\n",
       "      <th>EXIST.1-FAMILY_HOUSES</th>\n",
       "      <th>NEW 1-FAMILY_HOUSES</th>\n",
       "      <th>Euro</th>\n",
       "    </tr>\n",
       "  </thead>\n",
       "  <tbody>\n",
       "    <tr>\n",
       "      <th>0</th>\n",
       "      <td>1963-03-31</td>\n",
       "      <td>NaN</td>\n",
       "      <td>NaN</td>\n",
       "      <td>11.7</td>\n",
       "      <td>NaN</td>\n",
       "    </tr>\n",
       "    <tr>\n",
       "      <th>1</th>\n",
       "      <td>1963-06-30</td>\n",
       "      <td>NaN</td>\n",
       "      <td>NaN</td>\n",
       "      <td>11.6</td>\n",
       "      <td>NaN</td>\n",
       "    </tr>\n",
       "    <tr>\n",
       "      <th>2</th>\n",
       "      <td>1963-09-30</td>\n",
       "      <td>NaN</td>\n",
       "      <td>NaN</td>\n",
       "      <td>11.5</td>\n",
       "      <td>NaN</td>\n",
       "    </tr>\n",
       "    <tr>\n",
       "      <th>3</th>\n",
       "      <td>1963-12-31</td>\n",
       "      <td>NaN</td>\n",
       "      <td>NaN</td>\n",
       "      <td>11.7</td>\n",
       "      <td>NaN</td>\n",
       "    </tr>\n",
       "    <tr>\n",
       "      <th>4</th>\n",
       "      <td>1964-03-31</td>\n",
       "      <td>NaN</td>\n",
       "      <td>NaN</td>\n",
       "      <td>11.5</td>\n",
       "      <td>NaN</td>\n",
       "    </tr>\n",
       "  </tbody>\n",
       "</table>\n",
       "</div>"
      ],
      "text/plain": [
       "      Period  EXISTNG_DWELLINGS  EXIST.1-FAMILY_HOUSES  NEW 1-FAMILY_HOUSES  \\\n",
       "0 1963-03-31                NaN                    NaN                 11.7   \n",
       "1 1963-06-30                NaN                    NaN                 11.6   \n",
       "2 1963-09-30                NaN                    NaN                 11.5   \n",
       "3 1963-12-31                NaN                    NaN                 11.7   \n",
       "4 1964-03-31                NaN                    NaN                 11.5   \n",
       "\n",
       "   Euro  \n",
       "0   NaN  \n",
       "1   NaN  \n",
       "2   NaN  \n",
       "3   NaN  \n",
       "4   NaN  "
      ]
     },
     "execution_count": 53,
     "metadata": {},
     "output_type": "execute_result"
    }
   ],
   "source": [
    "df_pp.head()"
   ]
  },
  {
   "cell_type": "code",
   "execution_count": 54,
   "metadata": {},
   "outputs": [
    {
     "data": {
      "text/html": [
       "<div>\n",
       "<style scoped>\n",
       "    .dataframe tbody tr th:only-of-type {\n",
       "        vertical-align: middle;\n",
       "    }\n",
       "\n",
       "    .dataframe tbody tr th {\n",
       "        vertical-align: top;\n",
       "    }\n",
       "\n",
       "    .dataframe thead th {\n",
       "        text-align: right;\n",
       "    }\n",
       "</style>\n",
       "<table border=\"1\" class=\"dataframe\">\n",
       "  <thead>\n",
       "    <tr style=\"text-align: right;\">\n",
       "      <th></th>\n",
       "      <th>EXISTNG_DWELLINGS</th>\n",
       "      <th>EXIST.1-FAMILY_HOUSES</th>\n",
       "      <th>NEW 1-FAMILY_HOUSES</th>\n",
       "      <th>date</th>\n",
       "    </tr>\n",
       "  </thead>\n",
       "  <tbody>\n",
       "    <tr>\n",
       "      <th>0</th>\n",
       "      <td>NaN</td>\n",
       "      <td>NaN</td>\n",
       "      <td>11.7</td>\n",
       "      <td>1963-03-01</td>\n",
       "    </tr>\n",
       "    <tr>\n",
       "      <th>1</th>\n",
       "      <td>NaN</td>\n",
       "      <td>NaN</td>\n",
       "      <td>11.6</td>\n",
       "      <td>1963-06-01</td>\n",
       "    </tr>\n",
       "    <tr>\n",
       "      <th>2</th>\n",
       "      <td>NaN</td>\n",
       "      <td>NaN</td>\n",
       "      <td>11.5</td>\n",
       "      <td>1963-09-01</td>\n",
       "    </tr>\n",
       "    <tr>\n",
       "      <th>3</th>\n",
       "      <td>NaN</td>\n",
       "      <td>NaN</td>\n",
       "      <td>11.7</td>\n",
       "      <td>1963-12-01</td>\n",
       "    </tr>\n",
       "    <tr>\n",
       "      <th>4</th>\n",
       "      <td>NaN</td>\n",
       "      <td>NaN</td>\n",
       "      <td>11.5</td>\n",
       "      <td>1964-03-01</td>\n",
       "    </tr>\n",
       "  </tbody>\n",
       "</table>\n",
       "</div>"
      ],
      "text/plain": [
       "   EXISTNG_DWELLINGS  EXIST.1-FAMILY_HOUSES  NEW 1-FAMILY_HOUSES       date\n",
       "0                NaN                    NaN                 11.7 1963-03-01\n",
       "1                NaN                    NaN                 11.6 1963-06-01\n",
       "2                NaN                    NaN                 11.5 1963-09-01\n",
       "3                NaN                    NaN                 11.7 1963-12-01\n",
       "4                NaN                    NaN                 11.5 1964-03-01"
      ]
     },
     "execution_count": 54,
     "metadata": {},
     "output_type": "execute_result"
    }
   ],
   "source": [
    "df_pp[\"date\"] = df_pp['Period'].apply(lambda dt: dt.replace(day=1))\n",
    "df_pp.drop(['Period', 'Euro', 'EXIST.1-FAMILY_HOUSES', 'EXISTNG_DWELLINGS'], axis=1, inplace=True)\n",
    "df_pp.head()"
   ]
  },
  {
   "cell_type": "markdown",
   "metadata": {},
   "source": [
    "##### Interest Rates"
   ]
  },
  {
   "cell_type": "code",
   "execution_count": 55,
   "metadata": {},
   "outputs": [
    {
     "data": {
      "text/html": [
       "<div>\n",
       "<style scoped>\n",
       "    .dataframe tbody tr th:only-of-type {\n",
       "        vertical-align: middle;\n",
       "    }\n",
       "\n",
       "    .dataframe tbody tr th {\n",
       "        vertical-align: top;\n",
       "    }\n",
       "\n",
       "    .dataframe thead th {\n",
       "        text-align: right;\n",
       "    }\n",
       "</style>\n",
       "<table border=\"1\" class=\"dataframe\">\n",
       "  <thead>\n",
       "    <tr style=\"text-align: right;\">\n",
       "      <th></th>\n",
       "      <th>Period</th>\n",
       "      <th>US</th>\n",
       "      <th>Euro</th>\n",
       "    </tr>\n",
       "  </thead>\n",
       "  <tbody>\n",
       "    <tr>\n",
       "      <th>0</th>\n",
       "      <td>1954-07-31</td>\n",
       "      <td>0.25</td>\n",
       "      <td>NaN</td>\n",
       "    </tr>\n",
       "    <tr>\n",
       "      <th>1</th>\n",
       "      <td>1954-08-31</td>\n",
       "      <td>1.44</td>\n",
       "      <td>NaN</td>\n",
       "    </tr>\n",
       "    <tr>\n",
       "      <th>2</th>\n",
       "      <td>1954-09-30</td>\n",
       "      <td>1.44</td>\n",
       "      <td>NaN</td>\n",
       "    </tr>\n",
       "    <tr>\n",
       "      <th>3</th>\n",
       "      <td>1954-10-31</td>\n",
       "      <td>1.13</td>\n",
       "      <td>NaN</td>\n",
       "    </tr>\n",
       "    <tr>\n",
       "      <th>4</th>\n",
       "      <td>1954-11-30</td>\n",
       "      <td>1.38</td>\n",
       "      <td>NaN</td>\n",
       "    </tr>\n",
       "  </tbody>\n",
       "</table>\n",
       "</div>"
      ],
      "text/plain": [
       "      Period    US  Euro\n",
       "0 1954-07-31  0.25   NaN\n",
       "1 1954-08-31  1.44   NaN\n",
       "2 1954-09-30  1.44   NaN\n",
       "3 1954-10-31  1.13   NaN\n",
       "4 1954-11-30  1.38   NaN"
      ]
     },
     "execution_count": 55,
     "metadata": {},
     "output_type": "execute_result"
    }
   ],
   "source": [
    "df_ir.head()"
   ]
  },
  {
   "cell_type": "code",
   "execution_count": 56,
   "metadata": {},
   "outputs": [],
   "source": [
    "df_ir = df_ir.set_index('Period')\n",
    "df_ir = df_ir.resample('Q').ohlc()"
   ]
  },
  {
   "cell_type": "code",
   "execution_count": 57,
   "metadata": {},
   "outputs": [],
   "source": [
    "df_ir = df_ir['US'].reset_index()\n",
    "df_ir = df_ir[['close', 'Period']].rename(columns={'close':'us_ir'})"
   ]
  },
  {
   "cell_type": "code",
   "execution_count": 58,
   "metadata": {},
   "outputs": [
    {
     "data": {
      "text/html": [
       "<div>\n",
       "<style scoped>\n",
       "    .dataframe tbody tr th:only-of-type {\n",
       "        vertical-align: middle;\n",
       "    }\n",
       "\n",
       "    .dataframe tbody tr th {\n",
       "        vertical-align: top;\n",
       "    }\n",
       "\n",
       "    .dataframe thead th {\n",
       "        text-align: right;\n",
       "    }\n",
       "</style>\n",
       "<table border=\"1\" class=\"dataframe\">\n",
       "  <thead>\n",
       "    <tr style=\"text-align: right;\">\n",
       "      <th></th>\n",
       "      <th>us_ir</th>\n",
       "      <th>date</th>\n",
       "    </tr>\n",
       "  </thead>\n",
       "  <tbody>\n",
       "    <tr>\n",
       "      <th>0</th>\n",
       "      <td>1.44</td>\n",
       "      <td>1954-09-01</td>\n",
       "    </tr>\n",
       "    <tr>\n",
       "      <th>1</th>\n",
       "      <td>1.44</td>\n",
       "      <td>1954-12-01</td>\n",
       "    </tr>\n",
       "    <tr>\n",
       "      <th>2</th>\n",
       "      <td>1.44</td>\n",
       "      <td>1955-03-01</td>\n",
       "    </tr>\n",
       "    <tr>\n",
       "      <th>3</th>\n",
       "      <td>1.69</td>\n",
       "      <td>1955-06-01</td>\n",
       "    </tr>\n",
       "    <tr>\n",
       "      <th>4</th>\n",
       "      <td>2.19</td>\n",
       "      <td>1955-09-01</td>\n",
       "    </tr>\n",
       "  </tbody>\n",
       "</table>\n",
       "</div>"
      ],
      "text/plain": [
       "   us_ir       date\n",
       "0   1.44 1954-09-01\n",
       "1   1.44 1954-12-01\n",
       "2   1.44 1955-03-01\n",
       "3   1.69 1955-06-01\n",
       "4   2.19 1955-09-01"
      ]
     },
     "execution_count": 58,
     "metadata": {},
     "output_type": "execute_result"
    }
   ],
   "source": [
    "df_ir[\"date\"] = df_ir['Period'].apply(lambda dt: dt.replace(day=1))\n",
    "df_ir.drop(['Period'], axis=1, inplace=True)\n",
    "df_ir.head()"
   ]
  },
  {
   "cell_type": "markdown",
   "metadata": {},
   "source": [
    "##### SPY data"
   ]
  },
  {
   "cell_type": "code",
   "execution_count": 59,
   "metadata": {},
   "outputs": [
    {
     "data": {
      "text/html": [
       "<div>\n",
       "<style scoped>\n",
       "    .dataframe tbody tr th:only-of-type {\n",
       "        vertical-align: middle;\n",
       "    }\n",
       "\n",
       "    .dataframe tbody tr th {\n",
       "        vertical-align: top;\n",
       "    }\n",
       "\n",
       "    .dataframe thead th {\n",
       "        text-align: right;\n",
       "    }\n",
       "</style>\n",
       "<table border=\"1\" class=\"dataframe\">\n",
       "  <thead>\n",
       "    <tr style=\"text-align: right;\">\n",
       "      <th></th>\n",
       "      <th>Date</th>\n",
       "      <th>Open</th>\n",
       "      <th>High</th>\n",
       "      <th>Low</th>\n",
       "      <th>Close</th>\n",
       "      <th>Adj Close</th>\n",
       "      <th>Volume</th>\n",
       "    </tr>\n",
       "  </thead>\n",
       "  <tbody>\n",
       "    <tr>\n",
       "      <th>0</th>\n",
       "      <td>1993-02-01</td>\n",
       "      <td>43.96875</td>\n",
       "      <td>45.12500</td>\n",
       "      <td>42.81250</td>\n",
       "      <td>44.40625</td>\n",
       "      <td>25.709480</td>\n",
       "      <td>5417600</td>\n",
       "    </tr>\n",
       "    <tr>\n",
       "      <th>1</th>\n",
       "      <td>1993-03-01</td>\n",
       "      <td>44.56250</td>\n",
       "      <td>45.84375</td>\n",
       "      <td>44.21875</td>\n",
       "      <td>45.18750</td>\n",
       "      <td>26.161797</td>\n",
       "      <td>3019200</td>\n",
       "    </tr>\n",
       "    <tr>\n",
       "      <th>2</th>\n",
       "      <td>1993-04-01</td>\n",
       "      <td>45.25000</td>\n",
       "      <td>45.25000</td>\n",
       "      <td>43.28125</td>\n",
       "      <td>44.03125</td>\n",
       "      <td>25.612766</td>\n",
       "      <td>2697200</td>\n",
       "    </tr>\n",
       "    <tr>\n",
       "      <th>3</th>\n",
       "      <td>1993-05-01</td>\n",
       "      <td>44.09375</td>\n",
       "      <td>45.65625</td>\n",
       "      <td>43.84375</td>\n",
       "      <td>45.21875</td>\n",
       "      <td>26.303528</td>\n",
       "      <td>1808000</td>\n",
       "    </tr>\n",
       "    <tr>\n",
       "      <th>4</th>\n",
       "      <td>1993-06-01</td>\n",
       "      <td>45.37500</td>\n",
       "      <td>45.81250</td>\n",
       "      <td>44.21875</td>\n",
       "      <td>45.06250</td>\n",
       "      <td>26.212654</td>\n",
       "      <td>3438000</td>\n",
       "    </tr>\n",
       "  </tbody>\n",
       "</table>\n",
       "</div>"
      ],
      "text/plain": [
       "         Date      Open      High       Low     Close  Adj Close   Volume\n",
       "0  1993-02-01  43.96875  45.12500  42.81250  44.40625  25.709480  5417600\n",
       "1  1993-03-01  44.56250  45.84375  44.21875  45.18750  26.161797  3019200\n",
       "2  1993-04-01  45.25000  45.25000  43.28125  44.03125  25.612766  2697200\n",
       "3  1993-05-01  44.09375  45.65625  43.84375  45.21875  26.303528  1808000\n",
       "4  1993-06-01  45.37500  45.81250  44.21875  45.06250  26.212654  3438000"
      ]
     },
     "execution_count": 59,
     "metadata": {},
     "output_type": "execute_result"
    }
   ],
   "source": [
    "df_spy.head()"
   ]
  },
  {
   "cell_type": "code",
   "execution_count": 60,
   "metadata": {},
   "outputs": [],
   "source": [
    "df_spy['Date'] = pd.to_datetime(df_spy['Date'])"
   ]
  },
  {
   "cell_type": "code",
   "execution_count": 61,
   "metadata": {},
   "outputs": [],
   "source": [
    "df_spy_price = df_spy[['Date', 'Adj Close']]\n",
    "df_spy_vol = df_spy[['Date', 'Volume']]"
   ]
  },
  {
   "cell_type": "code",
   "execution_count": 62,
   "metadata": {},
   "outputs": [],
   "source": [
    "df_spy_price = df_spy_price.set_index('Date')\n",
    "df_spy_price = df_spy_price.resample('Q').ohlc()"
   ]
  },
  {
   "cell_type": "code",
   "execution_count": 63,
   "metadata": {},
   "outputs": [
    {
     "data": {
      "text/html": [
       "<div>\n",
       "<style scoped>\n",
       "    .dataframe tbody tr th:only-of-type {\n",
       "        vertical-align: middle;\n",
       "    }\n",
       "\n",
       "    .dataframe tbody tr th {\n",
       "        vertical-align: top;\n",
       "    }\n",
       "\n",
       "    .dataframe thead tr th {\n",
       "        text-align: left;\n",
       "    }\n",
       "\n",
       "    .dataframe thead tr:last-of-type th {\n",
       "        text-align: right;\n",
       "    }\n",
       "</style>\n",
       "<table border=\"1\" class=\"dataframe\">\n",
       "  <thead>\n",
       "    <tr>\n",
       "      <th></th>\n",
       "      <th colspan=\"4\" halign=\"left\">Adj Close</th>\n",
       "    </tr>\n",
       "    <tr>\n",
       "      <th></th>\n",
       "      <th>open</th>\n",
       "      <th>high</th>\n",
       "      <th>low</th>\n",
       "      <th>close</th>\n",
       "    </tr>\n",
       "    <tr>\n",
       "      <th>Date</th>\n",
       "      <th></th>\n",
       "      <th></th>\n",
       "      <th></th>\n",
       "      <th></th>\n",
       "    </tr>\n",
       "  </thead>\n",
       "  <tbody>\n",
       "    <tr>\n",
       "      <th>1993-03-31</th>\n",
       "      <td>25.709480</td>\n",
       "      <td>26.161797</td>\n",
       "      <td>25.709480</td>\n",
       "      <td>26.161797</td>\n",
       "    </tr>\n",
       "    <tr>\n",
       "      <th>1993-06-30</th>\n",
       "      <td>25.612766</td>\n",
       "      <td>26.303528</td>\n",
       "      <td>25.612766</td>\n",
       "      <td>26.212654</td>\n",
       "    </tr>\n",
       "    <tr>\n",
       "      <th>1993-09-30</th>\n",
       "      <td>26.270269</td>\n",
       "      <td>27.277155</td>\n",
       "      <td>26.270269</td>\n",
       "      <td>26.911003</td>\n",
       "    </tr>\n",
       "    <tr>\n",
       "      <th>1993-12-31</th>\n",
       "      <td>27.612890</td>\n",
       "      <td>27.612890</td>\n",
       "      <td>27.318153</td>\n",
       "      <td>27.465502</td>\n",
       "    </tr>\n",
       "    <tr>\n",
       "      <th>1994-03-31</th>\n",
       "      <td>28.617989</td>\n",
       "      <td>28.617989</td>\n",
       "      <td>26.466524</td>\n",
       "      <td>26.466524</td>\n",
       "    </tr>\n",
       "  </tbody>\n",
       "</table>\n",
       "</div>"
      ],
      "text/plain": [
       "            Adj Close                                 \n",
       "                 open       high        low      close\n",
       "Date                                                  \n",
       "1993-03-31  25.709480  26.161797  25.709480  26.161797\n",
       "1993-06-30  25.612766  26.303528  25.612766  26.212654\n",
       "1993-09-30  26.270269  27.277155  26.270269  26.911003\n",
       "1993-12-31  27.612890  27.612890  27.318153  27.465502\n",
       "1994-03-31  28.617989  28.617989  26.466524  26.466524"
      ]
     },
     "execution_count": 63,
     "metadata": {},
     "output_type": "execute_result"
    }
   ],
   "source": [
    "df_spy_price.head()"
   ]
  },
  {
   "cell_type": "code",
   "execution_count": 64,
   "metadata": {},
   "outputs": [],
   "source": [
    "df_spy_vol = df_spy_vol.set_index('Date')\n",
    "df_spy_vol = df_spy_vol.resample('Q').sum()"
   ]
  },
  {
   "cell_type": "code",
   "execution_count": 65,
   "metadata": {},
   "outputs": [
    {
     "data": {
      "text/html": [
       "<div>\n",
       "<style scoped>\n",
       "    .dataframe tbody tr th:only-of-type {\n",
       "        vertical-align: middle;\n",
       "    }\n",
       "\n",
       "    .dataframe tbody tr th {\n",
       "        vertical-align: top;\n",
       "    }\n",
       "\n",
       "    .dataframe thead th {\n",
       "        text-align: right;\n",
       "    }\n",
       "</style>\n",
       "<table border=\"1\" class=\"dataframe\">\n",
       "  <thead>\n",
       "    <tr style=\"text-align: right;\">\n",
       "      <th></th>\n",
       "      <th>Volume</th>\n",
       "    </tr>\n",
       "    <tr>\n",
       "      <th>Date</th>\n",
       "      <th></th>\n",
       "    </tr>\n",
       "  </thead>\n",
       "  <tbody>\n",
       "    <tr>\n",
       "      <th>1993-03-31</th>\n",
       "      <td>8436800</td>\n",
       "    </tr>\n",
       "    <tr>\n",
       "      <th>1993-06-30</th>\n",
       "      <td>7943200</td>\n",
       "    </tr>\n",
       "    <tr>\n",
       "      <th>1993-09-30</th>\n",
       "      <td>15927600</td>\n",
       "    </tr>\n",
       "    <tr>\n",
       "      <th>1993-12-31</th>\n",
       "      <td>18452000</td>\n",
       "    </tr>\n",
       "    <tr>\n",
       "      <th>1994-03-31</th>\n",
       "      <td>32517000</td>\n",
       "    </tr>\n",
       "  </tbody>\n",
       "</table>\n",
       "</div>"
      ],
      "text/plain": [
       "              Volume\n",
       "Date                \n",
       "1993-03-31   8436800\n",
       "1993-06-30   7943200\n",
       "1993-09-30  15927600\n",
       "1993-12-31  18452000\n",
       "1994-03-31  32517000"
      ]
     },
     "execution_count": 65,
     "metadata": {},
     "output_type": "execute_result"
    }
   ],
   "source": [
    "df_spy_vol.head()"
   ]
  },
  {
   "cell_type": "code",
   "execution_count": 66,
   "metadata": {},
   "outputs": [],
   "source": [
    "df_spy_price = df_spy_price['Adj Close'].reset_index()\n",
    "df_spy_price = df_spy_price[['close', 'Date']].rename(columns={'close':'spy_close'})\n"
   ]
  },
  {
   "cell_type": "code",
   "execution_count": 67,
   "metadata": {},
   "outputs": [],
   "source": [
    "df_spy_vol = df_spy_vol['Volume'].reset_index()\n",
    "df_spy_vol = df_spy_vol[['Volume', 'Date']].rename(columns={'Volume':'spy_vol'})"
   ]
  },
  {
   "cell_type": "code",
   "execution_count": 68,
   "metadata": {},
   "outputs": [
    {
     "data": {
      "text/html": [
       "<div>\n",
       "<style scoped>\n",
       "    .dataframe tbody tr th:only-of-type {\n",
       "        vertical-align: middle;\n",
       "    }\n",
       "\n",
       "    .dataframe tbody tr th {\n",
       "        vertical-align: top;\n",
       "    }\n",
       "\n",
       "    .dataframe thead th {\n",
       "        text-align: right;\n",
       "    }\n",
       "</style>\n",
       "<table border=\"1\" class=\"dataframe\">\n",
       "  <thead>\n",
       "    <tr style=\"text-align: right;\">\n",
       "      <th></th>\n",
       "      <th>spy_close</th>\n",
       "      <th>date</th>\n",
       "    </tr>\n",
       "  </thead>\n",
       "  <tbody>\n",
       "    <tr>\n",
       "      <th>0</th>\n",
       "      <td>26.161797</td>\n",
       "      <td>1993-03-01</td>\n",
       "    </tr>\n",
       "    <tr>\n",
       "      <th>1</th>\n",
       "      <td>26.212654</td>\n",
       "      <td>1993-06-01</td>\n",
       "    </tr>\n",
       "    <tr>\n",
       "      <th>2</th>\n",
       "      <td>26.911003</td>\n",
       "      <td>1993-09-01</td>\n",
       "    </tr>\n",
       "    <tr>\n",
       "      <th>3</th>\n",
       "      <td>27.465502</td>\n",
       "      <td>1993-12-01</td>\n",
       "    </tr>\n",
       "    <tr>\n",
       "      <th>4</th>\n",
       "      <td>26.466524</td>\n",
       "      <td>1994-03-01</td>\n",
       "    </tr>\n",
       "  </tbody>\n",
       "</table>\n",
       "</div>"
      ],
      "text/plain": [
       "   spy_close       date\n",
       "0  26.161797 1993-03-01\n",
       "1  26.212654 1993-06-01\n",
       "2  26.911003 1993-09-01\n",
       "3  27.465502 1993-12-01\n",
       "4  26.466524 1994-03-01"
      ]
     },
     "execution_count": 68,
     "metadata": {},
     "output_type": "execute_result"
    }
   ],
   "source": [
    "df_spy_price[\"date\"] = df_spy_price['Date'].apply(lambda dt: dt.replace(day=1))\n",
    "df_spy_price.drop(['Date'], axis=1, inplace=True)\n",
    "df_spy_price.head()"
   ]
  },
  {
   "cell_type": "code",
   "execution_count": 69,
   "metadata": {},
   "outputs": [
    {
     "data": {
      "text/html": [
       "<div>\n",
       "<style scoped>\n",
       "    .dataframe tbody tr th:only-of-type {\n",
       "        vertical-align: middle;\n",
       "    }\n",
       "\n",
       "    .dataframe tbody tr th {\n",
       "        vertical-align: top;\n",
       "    }\n",
       "\n",
       "    .dataframe thead th {\n",
       "        text-align: right;\n",
       "    }\n",
       "</style>\n",
       "<table border=\"1\" class=\"dataframe\">\n",
       "  <thead>\n",
       "    <tr style=\"text-align: right;\">\n",
       "      <th></th>\n",
       "      <th>spy_vol</th>\n",
       "      <th>date</th>\n",
       "    </tr>\n",
       "  </thead>\n",
       "  <tbody>\n",
       "    <tr>\n",
       "      <th>0</th>\n",
       "      <td>8436800</td>\n",
       "      <td>1993-03-01</td>\n",
       "    </tr>\n",
       "    <tr>\n",
       "      <th>1</th>\n",
       "      <td>7943200</td>\n",
       "      <td>1993-06-01</td>\n",
       "    </tr>\n",
       "    <tr>\n",
       "      <th>2</th>\n",
       "      <td>15927600</td>\n",
       "      <td>1993-09-01</td>\n",
       "    </tr>\n",
       "    <tr>\n",
       "      <th>3</th>\n",
       "      <td>18452000</td>\n",
       "      <td>1993-12-01</td>\n",
       "    </tr>\n",
       "    <tr>\n",
       "      <th>4</th>\n",
       "      <td>32517000</td>\n",
       "      <td>1994-03-01</td>\n",
       "    </tr>\n",
       "  </tbody>\n",
       "</table>\n",
       "</div>"
      ],
      "text/plain": [
       "    spy_vol       date\n",
       "0   8436800 1993-03-01\n",
       "1   7943200 1993-06-01\n",
       "2  15927600 1993-09-01\n",
       "3  18452000 1993-12-01\n",
       "4  32517000 1994-03-01"
      ]
     },
     "execution_count": 69,
     "metadata": {},
     "output_type": "execute_result"
    }
   ],
   "source": [
    "df_spy_vol[\"date\"] = df_spy_vol['Date'].apply(lambda dt: dt.replace(day=1))\n",
    "df_spy_vol.drop(['Date'], axis=1, inplace=True)\n",
    "df_spy_vol.head()"
   ]
  },
  {
   "cell_type": "code",
   "execution_count": 70,
   "metadata": {},
   "outputs": [],
   "source": [
    "df_spy_total = pd.merge(df_spy_price, df_spy_vol, on='date')"
   ]
  },
  {
   "cell_type": "markdown",
   "metadata": {},
   "source": [
    "### Join all data into a master dataframe"
   ]
  },
  {
   "cell_type": "code",
   "execution_count": 77,
   "metadata": {},
   "outputs": [],
   "source": [
    "dfs = [df_spy_total, df_ir, df_nfp_melt, df_cp, df_pp, df_tc]\n",
    "X = ft.reduce(lambda left, right: pd.merge(left, right, how='left' ,on='date'), dfs)"
   ]
  },
  {
   "cell_type": "code",
   "execution_count": 78,
   "metadata": {},
   "outputs": [
    {
     "data": {
      "text/html": [
       "<div>\n",
       "<style scoped>\n",
       "    .dataframe tbody tr th:only-of-type {\n",
       "        vertical-align: middle;\n",
       "    }\n",
       "\n",
       "    .dataframe tbody tr th {\n",
       "        vertical-align: top;\n",
       "    }\n",
       "\n",
       "    .dataframe thead th {\n",
       "        text-align: right;\n",
       "    }\n",
       "</style>\n",
       "<table border=\"1\" class=\"dataframe\">\n",
       "  <thead>\n",
       "    <tr style=\"text-align: right;\">\n",
       "      <th></th>\n",
       "      <th>spy_close</th>\n",
       "      <th>date</th>\n",
       "      <th>spy_vol</th>\n",
       "      <th>us_ir</th>\n",
       "      <th>nfp</th>\n",
       "      <th>us_cp</th>\n",
       "      <th>EXISTNG_DWELLINGS</th>\n",
       "      <th>EXIST.1-FAMILY_HOUSES</th>\n",
       "      <th>NEW 1-FAMILY_HOUSES</th>\n",
       "      <th>us_tc</th>\n",
       "    </tr>\n",
       "  </thead>\n",
       "  <tbody>\n",
       "    <tr>\n",
       "      <th>0</th>\n",
       "      <td>26.161797</td>\n",
       "      <td>1993-03-01</td>\n",
       "      <td>8436800</td>\n",
       "      <td>3.0</td>\n",
       "      <td>109994.0</td>\n",
       "      <td>3.086863</td>\n",
       "      <td>75.401</td>\n",
       "      <td>175.70</td>\n",
       "      <td>57.9</td>\n",
       "      <td>12307.791</td>\n",
       "    </tr>\n",
       "    <tr>\n",
       "      <th>1</th>\n",
       "      <td>26.212654</td>\n",
       "      <td>1993-06-01</td>\n",
       "      <td>7943200</td>\n",
       "      <td>3.0</td>\n",
       "      <td>110749.0</td>\n",
       "      <td>2.995720</td>\n",
       "      <td>75.718</td>\n",
       "      <td>177.39</td>\n",
       "      <td>59.9</td>\n",
       "      <td>12540.492</td>\n",
       "    </tr>\n",
       "    <tr>\n",
       "      <th>2</th>\n",
       "      <td>26.911003</td>\n",
       "      <td>1993-09-01</td>\n",
       "      <td>15927600</td>\n",
       "      <td>3.0</td>\n",
       "      <td>111448.0</td>\n",
       "      <td>2.689314</td>\n",
       "      <td>76.259</td>\n",
       "      <td>178.82</td>\n",
       "      <td>59.7</td>\n",
       "      <td>12784.982</td>\n",
       "    </tr>\n",
       "    <tr>\n",
       "      <th>3</th>\n",
       "      <td>27.465502</td>\n",
       "      <td>1993-12-01</td>\n",
       "      <td>18452000</td>\n",
       "      <td>3.0</td>\n",
       "      <td>112314.0</td>\n",
       "      <td>2.748414</td>\n",
       "      <td>76.922</td>\n",
       "      <td>180.29</td>\n",
       "      <td>59.6</td>\n",
       "      <td>12947.953</td>\n",
       "    </tr>\n",
       "    <tr>\n",
       "      <th>4</th>\n",
       "      <td>26.466524</td>\n",
       "      <td>1994-03-01</td>\n",
       "      <td>32517000</td>\n",
       "      <td>3.5</td>\n",
       "      <td>113242.0</td>\n",
       "      <td>2.506964</td>\n",
       "      <td>77.250</td>\n",
       "      <td>181.42</td>\n",
       "      <td>62.4</td>\n",
       "      <td>12941.752</td>\n",
       "    </tr>\n",
       "  </tbody>\n",
       "</table>\n",
       "</div>"
      ],
      "text/plain": [
       "   spy_close       date   spy_vol  us_ir       nfp     us_cp  \\\n",
       "0  26.161797 1993-03-01   8436800    3.0  109994.0  3.086863   \n",
       "1  26.212654 1993-06-01   7943200    3.0  110749.0  2.995720   \n",
       "2  26.911003 1993-09-01  15927600    3.0  111448.0  2.689314   \n",
       "3  27.465502 1993-12-01  18452000    3.0  112314.0  2.748414   \n",
       "4  26.466524 1994-03-01  32517000    3.5  113242.0  2.506964   \n",
       "\n",
       "   EXISTNG_DWELLINGS  EXIST.1-FAMILY_HOUSES  NEW 1-FAMILY_HOUSES      us_tc  \n",
       "0             75.401                 175.70                 57.9  12307.791  \n",
       "1             75.718                 177.39                 59.9  12540.492  \n",
       "2             76.259                 178.82                 59.7  12784.982  \n",
       "3             76.922                 180.29                 59.6  12947.953  \n",
       "4             77.250                 181.42                 62.4  12941.752  "
      ]
     },
     "execution_count": 78,
     "metadata": {},
     "output_type": "execute_result"
    }
   ],
   "source": [
    "X.head()"
   ]
  },
  {
   "cell_type": "code",
   "execution_count": 79,
   "metadata": {},
   "outputs": [],
   "source": [
    "# prepareing spy close data:\n",
    "X['spy_close'] = np.log1p(X.spy_close.pct_change())\n"
   ]
  },
  {
   "cell_type": "code",
   "execution_count": 80,
   "metadata": {},
   "outputs": [
    {
     "data": {
      "text/html": [
       "<div>\n",
       "<style scoped>\n",
       "    .dataframe tbody tr th:only-of-type {\n",
       "        vertical-align: middle;\n",
       "    }\n",
       "\n",
       "    .dataframe tbody tr th {\n",
       "        vertical-align: top;\n",
       "    }\n",
       "\n",
       "    .dataframe thead th {\n",
       "        text-align: right;\n",
       "    }\n",
       "</style>\n",
       "<table border=\"1\" class=\"dataframe\">\n",
       "  <thead>\n",
       "    <tr style=\"text-align: right;\">\n",
       "      <th></th>\n",
       "      <th>spy_close</th>\n",
       "      <th>date</th>\n",
       "      <th>spy_vol</th>\n",
       "      <th>us_ir</th>\n",
       "      <th>nfp</th>\n",
       "      <th>us_cp</th>\n",
       "      <th>EXISTNG_DWELLINGS</th>\n",
       "      <th>EXIST.1-FAMILY_HOUSES</th>\n",
       "      <th>NEW 1-FAMILY_HOUSES</th>\n",
       "      <th>us_tc</th>\n",
       "    </tr>\n",
       "  </thead>\n",
       "  <tbody>\n",
       "    <tr>\n",
       "      <th>0</th>\n",
       "      <td>NaN</td>\n",
       "      <td>1993-03-01</td>\n",
       "      <td>8436800</td>\n",
       "      <td>3.0</td>\n",
       "      <td>109994.0</td>\n",
       "      <td>3.086863</td>\n",
       "      <td>75.401</td>\n",
       "      <td>175.70</td>\n",
       "      <td>57.9</td>\n",
       "      <td>12307.791</td>\n",
       "    </tr>\n",
       "    <tr>\n",
       "      <th>1</th>\n",
       "      <td>0.001942</td>\n",
       "      <td>1993-06-01</td>\n",
       "      <td>7943200</td>\n",
       "      <td>3.0</td>\n",
       "      <td>110749.0</td>\n",
       "      <td>2.995720</td>\n",
       "      <td>75.718</td>\n",
       "      <td>177.39</td>\n",
       "      <td>59.9</td>\n",
       "      <td>12540.492</td>\n",
       "    </tr>\n",
       "    <tr>\n",
       "      <th>2</th>\n",
       "      <td>0.026293</td>\n",
       "      <td>1993-09-01</td>\n",
       "      <td>15927600</td>\n",
       "      <td>3.0</td>\n",
       "      <td>111448.0</td>\n",
       "      <td>2.689314</td>\n",
       "      <td>76.259</td>\n",
       "      <td>178.82</td>\n",
       "      <td>59.7</td>\n",
       "      <td>12784.982</td>\n",
       "    </tr>\n",
       "    <tr>\n",
       "      <th>3</th>\n",
       "      <td>0.020396</td>\n",
       "      <td>1993-12-01</td>\n",
       "      <td>18452000</td>\n",
       "      <td>3.0</td>\n",
       "      <td>112314.0</td>\n",
       "      <td>2.748414</td>\n",
       "      <td>76.922</td>\n",
       "      <td>180.29</td>\n",
       "      <td>59.6</td>\n",
       "      <td>12947.953</td>\n",
       "    </tr>\n",
       "    <tr>\n",
       "      <th>4</th>\n",
       "      <td>-0.037050</td>\n",
       "      <td>1994-03-01</td>\n",
       "      <td>32517000</td>\n",
       "      <td>3.5</td>\n",
       "      <td>113242.0</td>\n",
       "      <td>2.506964</td>\n",
       "      <td>77.250</td>\n",
       "      <td>181.42</td>\n",
       "      <td>62.4</td>\n",
       "      <td>12941.752</td>\n",
       "    </tr>\n",
       "  </tbody>\n",
       "</table>\n",
       "</div>"
      ],
      "text/plain": [
       "   spy_close       date   spy_vol  us_ir       nfp     us_cp  \\\n",
       "0        NaN 1993-03-01   8436800    3.0  109994.0  3.086863   \n",
       "1   0.001942 1993-06-01   7943200    3.0  110749.0  2.995720   \n",
       "2   0.026293 1993-09-01  15927600    3.0  111448.0  2.689314   \n",
       "3   0.020396 1993-12-01  18452000    3.0  112314.0  2.748414   \n",
       "4  -0.037050 1994-03-01  32517000    3.5  113242.0  2.506964   \n",
       "\n",
       "   EXISTNG_DWELLINGS  EXIST.1-FAMILY_HOUSES  NEW 1-FAMILY_HOUSES      us_tc  \n",
       "0             75.401                 175.70                 57.9  12307.791  \n",
       "1             75.718                 177.39                 59.9  12540.492  \n",
       "2             76.259                 178.82                 59.7  12784.982  \n",
       "3             76.922                 180.29                 59.6  12947.953  \n",
       "4             77.250                 181.42                 62.4  12941.752  "
      ]
     },
     "execution_count": 80,
     "metadata": {},
     "output_type": "execute_result"
    }
   ],
   "source": [
    "X.head()"
   ]
  },
  {
   "cell_type": "code",
   "execution_count": null,
   "metadata": {},
   "outputs": [],
   "source": []
  },
  {
   "cell_type": "code",
   "execution_count": null,
   "metadata": {},
   "outputs": [],
   "source": []
  },
  {
   "cell_type": "markdown",
   "metadata": {},
   "source": [
    "### Data Validation"
   ]
  },
  {
   "cell_type": "code",
   "execution_count": 81,
   "metadata": {},
   "outputs": [
    {
     "data": {
      "image/png": "[encoded data removed]",
      "text/plain": [
       "<Figure size 1080x1080 with 2 Axes>"
      ]
     },
     "metadata": {
      "needs_background": "light"
     },
     "output_type": "display_data"
    }
   ],
   "source": [
    "ax = plt.subplots(figsize=(15, 15))\n",
    "ax = sns.heatmap(X.corr())\n",
    "plt.show()"
   ]
  },
  {
   "cell_type": "code",
   "execution_count": 82,
   "metadata": {},
   "outputs": [
    {
     "name": "stdout",
     "output_type": "stream",
     "text": [
      "                       spy_close   spy_vol     us_ir       nfp     us_cp  \\\n",
      "spy_close                    NaN  0.290626  0.026633  0.083990  0.164466   \n",
      "spy_vol                      NaN       NaN  0.585885  0.348987  0.167846   \n",
      "us_ir                        NaN       NaN       NaN  0.500664  0.228667   \n",
      "nfp                          NaN       NaN       NaN       NaN  0.073194   \n",
      "us_cp                        NaN       NaN       NaN       NaN       NaN   \n",
      "EXISTNG_DWELLINGS            NaN       NaN       NaN       NaN       NaN   \n",
      "EXIST.1-FAMILY_HOUSES        NaN       NaN       NaN       NaN       NaN   \n",
      "NEW 1-FAMILY_HOUSES          NaN       NaN       NaN       NaN       NaN   \n",
      "us_tc                        NaN       NaN       NaN       NaN       NaN   \n",
      "\n",
      "                       EXISTNG_DWELLINGS  EXIST.1-FAMILY_HOUSES  \\\n",
      "spy_close                       0.003373               0.011597   \n",
      "spy_vol                         0.344782               0.452288   \n",
      "us_ir                           0.536369               0.589864   \n",
      "nfp                             0.891073               0.896806   \n",
      "us_cp                           0.173117               0.136749   \n",
      "EXISTNG_DWELLINGS                    NaN               0.987509   \n",
      "EXIST.1-FAMILY_HOUSES                NaN                    NaN   \n",
      "NEW 1-FAMILY_HOUSES                  NaN                    NaN   \n",
      "us_tc                                NaN                    NaN   \n",
      "\n",
      "                       NEW 1-FAMILY_HOUSES     us_tc  \n",
      "spy_close                         0.041342  0.060871  \n",
      "spy_vol                           0.341022  0.485862  \n",
      "us_ir                             0.579680  0.720395  \n",
      "nfp                               0.898545  0.868460  \n",
      "us_cp                             0.242753  0.121494  \n",
      "EXISTNG_DWELLINGS                 0.973776  0.895262  \n",
      "EXIST.1-FAMILY_HOUSES             0.979066  0.930162  \n",
      "NEW 1-FAMILY_HOUSES                    NaN  0.960722  \n",
      "us_tc                                  NaN       NaN  \n"
     ]
    },
    {
     "name": "stderr",
     "output_type": "stream",
     "text": [
      "C:\\Users\\hernam3l\\AppData\\Local\\Temp\\1\\ipykernel_1528\\1948483432.py:2: DeprecationWarning: `np.bool` is a deprecated alias for the builtin `bool`. To silence this warning, use `bool` by itself. Doing this will not modify any behavior and is safe. If you specifically wanted the numpy scalar type, use `np.bool_` here.\n",
      "Deprecated in NumPy 1.20; for more details and guidance: https://numpy.org/devdocs/release/1.20.0-notes.html#deprecations\n",
      "  upper_tri = cor_matrix.where(np.triu(np.ones(cor_matrix.shape),k=1).astype(np.bool))\n"
     ]
    }
   ],
   "source": [
    "cor_matrix = X.corr().abs()\n",
    "upper_tri = cor_matrix.where(np.triu(np.ones(cor_matrix.shape),k=1).astype(np.bool))\n",
    "print(upper_tri)"
   ]
  },
  {
   "cell_type": "code",
   "execution_count": 83,
   "metadata": {},
   "outputs": [
    {
     "data": {
      "text/plain": [
       "(array([ 2.,  3.,  6.,  4.,  9., 23., 37., 20., 10.,  4.]),\n",
       " array([-0.24526007, -0.20116119, -0.15706231, -0.11296342, -0.06886454,\n",
       "        -0.02476566,  0.01933322,  0.0634321 ,  0.10753098,  0.15162987,\n",
       "         0.19572875]),\n",
       " <BarContainer object of 10 artists>)"
      ]
     },
     "execution_count": 83,
     "metadata": {},
     "output_type": "execute_result"
    },
    {
     "data": {
      "image/png": "[encoded data removed]",
      "text/plain": [
       "<Figure size 432x288 with 1 Axes>"
      ]
     },
     "metadata": {
      "needs_background": "light"
     },
     "output_type": "display_data"
    }
   ],
   "source": [
    "plt.hist(X['spy_close'])"
   ]
  }
 ],
 "metadata": {
  "kernelspec": {
   "display_name": "Python 3.9.5 64-bit",
   "language": "python",
   "name": "python3"
  },
  "language_info": {
   "codemirror_mode": {
    "name": "ipython",
    "version": 3
   },
   "file_extension": ".py",
   "mimetype": "text/x-python",
   "name": "python",
   "nbconvert_exporter": "python",
   "pygments_lexer": "ipython3",
   "version": "3.9.5"
  },
  "orig_nbformat": 4,
  "vscode": {
   "interpreter": {
    "hash": "11938c6bc6919ae2720b4d5011047913343b08a43b18698fd82dedb0d4417594"
   }
  }
 },
 "nbformat": 4,
 "nbformat_minor": 2
}
