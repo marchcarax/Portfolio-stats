{
 "cells": [
  {
   "cell_type": "markdown",
   "metadata": {},
   "source": [
    "### Modelling stock price data\n",
    "\n",
    "We will model stock price data (log price or percentage change) using quarterly net earnings, US policy rates, property prices and employment data.\n",
    "\n",
    "Before modelling, we will do some data validation to understand the distribution of each feature and their relationship with the dependent variables.\n",
    "\n",
    "We will use the following models:\n",
    "\n",
    "1. Basic multivariate regression model\n",
    "2. GAM to model the non-linear relationships between independent and dependent variables\n",
    "3. Bayesian model \n",
    "\n",
    "Stocks to model: MSFT, BAC"
   ]
  },
  {
   "cell_type": "code",
   "execution_count": null,
   "metadata": {},
   "outputs": [],
   "source": []
  }
 ],
 "metadata": {
  "language_info": {
   "name": "python"
  },
  "orig_nbformat": 4
 },
 "nbformat": 4,
 "nbformat_minor": 2
}
