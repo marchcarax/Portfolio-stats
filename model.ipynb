{
 "cells": [
  {
   "cell_type": "markdown",
   "metadata": {},
   "source": [
    "### **Modelling stock price data**\n",
    "\n",
    "##### **Model SPY yearly data**\n",
    "\n",
    "Model SPY yearly price change data with macroeconomic features: emplyment, interest rates, house prices, consumer prices, credit etc.\n",
    "\n",
    "While correlation does not necessarly mean causation, modelling price change and finding the feature weights can give us an idea of how the stock market moves.\n",
    "\n",
    "Data:\n",
    "1. Yahoo finance SPY price change\n",
    "1. Bank if international settlements webpage [BIS](www.bis.org)\n",
    "\n",
    "##### **Model Quarterly stock data**\n",
    "\n",
    "We will model stock price data (log price or percentage change) using quarterly net earnings, US policy rates, property prices and employment data.\n",
    "\n",
    "Before modelling, we will do some data validation to understand the distribution of each feature and their relationship with the dependent variable.\n",
    "\n",
    "We will use the following models:\n",
    "\n",
    "1. Basic multivariate regression model\n",
    "2. GAM to model the non-linear relationships between independent and dependent variables\n",
    "3. Bayesian model \n",
    "\n",
    "Stocks to model: MSFT, BAC"
   ]
  },
  {
   "cell_type": "code",
   "execution_count": 228,
   "metadata": {},
   "outputs": [],
   "source": [
    "# Data manipulation\n",
    "import numpy as np\n",
    "import pandas as pd\n",
    "\n",
    "import functools as ft\n",
    "\n",
    "import matplotlib.pyplot as plt\n",
    "import seaborn as sns\n",
    "import plotly.express as px\n",
    "from plotly import graph_objects as go"
   ]
  },
  {
   "cell_type": "code",
   "execution_count": 229,
   "metadata": {},
   "outputs": [],
   "source": [
    "# load data \n",
    "df_spy = pd.read_csv('./data/SPY.csv') # monthly SPY data\n",
    "df_cp = pd.read_excel('./data/consumer_prices.xlsx', sheet_name='data') # consumer prices, monthly\n",
    "df_pp = pd.read_excel('./data/properties_prices.xlsx', sheet_name='data') # properity prices, quarterly\n",
    "df_ir = pd.read_excel('./data/interest_rates.xlsx', sheet_name='monthly') # interest rates, monthly\n",
    "df_tc = pd.read_excel('./data/totcredit.xlsx', sheet_name='quarterly_data') # total credit, quarterly\n",
    "df_nfp = pd.read_excel('./data/nfp_total.xlsx') # nfp employment data, monthly"
   ]
  },
  {
   "cell_type": "markdown",
   "metadata": {},
   "source": [
    "### Preparing data"
   ]
  },
  {
   "cell_type": "markdown",
   "metadata": {},
   "source": [
    "##### Consumer Price data"
   ]
  },
  {
   "cell_type": "code",
   "execution_count": 230,
   "metadata": {},
   "outputs": [],
   "source": [
    "df_cp = df_cp.set_index('Period')\n",
    "df_cp = df_cp.resample('Q').ohlc()"
   ]
  },
  {
   "cell_type": "code",
   "execution_count": 231,
   "metadata": {},
   "outputs": [
    {
     "data": {
      "text/html": [
       "<div>\n",
       "<style scoped>\n",
       "    .dataframe tbody tr th:only-of-type {\n",
       "        vertical-align: middle;\n",
       "    }\n",
       "\n",
       "    .dataframe tbody tr th {\n",
       "        vertical-align: top;\n",
       "    }\n",
       "\n",
       "    .dataframe thead tr th {\n",
       "        text-align: left;\n",
       "    }\n",
       "\n",
       "    .dataframe thead tr:last-of-type th {\n",
       "        text-align: right;\n",
       "    }\n",
       "</style>\n",
       "<table border=\"1\" class=\"dataframe\">\n",
       "  <thead>\n",
       "    <tr>\n",
       "      <th></th>\n",
       "      <th colspan=\"4\" halign=\"left\">US</th>\n",
       "      <th colspan=\"4\" halign=\"left\">Euro</th>\n",
       "    </tr>\n",
       "    <tr>\n",
       "      <th></th>\n",
       "      <th>open</th>\n",
       "      <th>high</th>\n",
       "      <th>low</th>\n",
       "      <th>close</th>\n",
       "      <th>open</th>\n",
       "      <th>high</th>\n",
       "      <th>low</th>\n",
       "      <th>close</th>\n",
       "    </tr>\n",
       "    <tr>\n",
       "      <th>Period</th>\n",
       "      <th></th>\n",
       "      <th></th>\n",
       "      <th></th>\n",
       "      <th></th>\n",
       "      <th></th>\n",
       "      <th></th>\n",
       "      <th></th>\n",
       "      <th></th>\n",
       "    </tr>\n",
       "  </thead>\n",
       "  <tbody>\n",
       "    <tr>\n",
       "      <th>1914-03-31</th>\n",
       "      <td>2.040816</td>\n",
       "      <td>2.040816</td>\n",
       "      <td>1.020408</td>\n",
       "      <td>1.020408</td>\n",
       "      <td>NaN</td>\n",
       "      <td>NaN</td>\n",
       "      <td>NaN</td>\n",
       "      <td>NaN</td>\n",
       "    </tr>\n",
       "    <tr>\n",
       "      <th>1914-06-30</th>\n",
       "      <td>0.000000</td>\n",
       "      <td>2.061856</td>\n",
       "      <td>0.000000</td>\n",
       "      <td>1.020408</td>\n",
       "      <td>NaN</td>\n",
       "      <td>NaN</td>\n",
       "      <td>NaN</td>\n",
       "      <td>NaN</td>\n",
       "    </tr>\n",
       "    <tr>\n",
       "      <th>1914-09-30</th>\n",
       "      <td>1.010101</td>\n",
       "      <td>3.030303</td>\n",
       "      <td>1.010101</td>\n",
       "      <td>2.000000</td>\n",
       "      <td>NaN</td>\n",
       "      <td>NaN</td>\n",
       "      <td>NaN</td>\n",
       "      <td>NaN</td>\n",
       "    </tr>\n",
       "    <tr>\n",
       "      <th>1914-12-31</th>\n",
       "      <td>1.000000</td>\n",
       "      <td>1.000000</td>\n",
       "      <td>0.990099</td>\n",
       "      <td>1.000000</td>\n",
       "      <td>NaN</td>\n",
       "      <td>NaN</td>\n",
       "      <td>NaN</td>\n",
       "      <td>NaN</td>\n",
       "    </tr>\n",
       "    <tr>\n",
       "      <th>1915-03-31</th>\n",
       "      <td>1.000000</td>\n",
       "      <td>1.010101</td>\n",
       "      <td>0.000000</td>\n",
       "      <td>0.000000</td>\n",
       "      <td>NaN</td>\n",
       "      <td>NaN</td>\n",
       "      <td>NaN</td>\n",
       "      <td>NaN</td>\n",
       "    </tr>\n",
       "  </tbody>\n",
       "</table>\n",
       "</div>"
      ],
      "text/plain": [
       "                  US                               Euro               \n",
       "                open      high       low     close open high low close\n",
       "Period                                                                \n",
       "1914-03-31  2.040816  2.040816  1.020408  1.020408  NaN  NaN NaN   NaN\n",
       "1914-06-30  0.000000  2.061856  0.000000  1.020408  NaN  NaN NaN   NaN\n",
       "1914-09-30  1.010101  3.030303  1.010101  2.000000  NaN  NaN NaN   NaN\n",
       "1914-12-31  1.000000  1.000000  0.990099  1.000000  NaN  NaN NaN   NaN\n",
       "1915-03-31  1.000000  1.010101  0.000000  0.000000  NaN  NaN NaN   NaN"
      ]
     },
     "execution_count": 231,
     "metadata": {},
     "output_type": "execute_result"
    }
   ],
   "source": [
    "df_cp.head()"
   ]
  },
  {
   "cell_type": "code",
   "execution_count": 232,
   "metadata": {},
   "outputs": [],
   "source": [
    "df_cp = df_cp['US'].reset_index()\n",
    "df_cp = df_cp[['close', 'Period']].rename(columns={'close':'us_cp'})"
   ]
  },
  {
   "cell_type": "code",
   "execution_count": 233,
   "metadata": {},
   "outputs": [
    {
     "data": {
      "text/html": [
       "<div>\n",
       "<style scoped>\n",
       "    .dataframe tbody tr th:only-of-type {\n",
       "        vertical-align: middle;\n",
       "    }\n",
       "\n",
       "    .dataframe tbody tr th {\n",
       "        vertical-align: top;\n",
       "    }\n",
       "\n",
       "    .dataframe thead th {\n",
       "        text-align: right;\n",
       "    }\n",
       "</style>\n",
       "<table border=\"1\" class=\"dataframe\">\n",
       "  <thead>\n",
       "    <tr style=\"text-align: right;\">\n",
       "      <th></th>\n",
       "      <th>us_cp</th>\n",
       "      <th>date</th>\n",
       "    </tr>\n",
       "  </thead>\n",
       "  <tbody>\n",
       "    <tr>\n",
       "      <th>0</th>\n",
       "      <td>1.020408</td>\n",
       "      <td>1914-03-01</td>\n",
       "    </tr>\n",
       "    <tr>\n",
       "      <th>1</th>\n",
       "      <td>1.020408</td>\n",
       "      <td>1914-06-01</td>\n",
       "    </tr>\n",
       "    <tr>\n",
       "      <th>2</th>\n",
       "      <td>2.000000</td>\n",
       "      <td>1914-09-01</td>\n",
       "    </tr>\n",
       "    <tr>\n",
       "      <th>3</th>\n",
       "      <td>1.000000</td>\n",
       "      <td>1914-12-01</td>\n",
       "    </tr>\n",
       "    <tr>\n",
       "      <th>4</th>\n",
       "      <td>0.000000</td>\n",
       "      <td>1915-03-01</td>\n",
       "    </tr>\n",
       "  </tbody>\n",
       "</table>\n",
       "</div>"
      ],
      "text/plain": [
       "      us_cp       date\n",
       "0  1.020408 1914-03-01\n",
       "1  1.020408 1914-06-01\n",
       "2  2.000000 1914-09-01\n",
       "3  1.000000 1914-12-01\n",
       "4  0.000000 1915-03-01"
      ]
     },
     "execution_count": 233,
     "metadata": {},
     "output_type": "execute_result"
    }
   ],
   "source": [
    "df_cp[\"date\"] = df_cp['Period'].apply(lambda dt: dt.replace(day=1))\n",
    "df_cp.drop(['Period'], axis=1, inplace=True)\n",
    "df_cp.head()"
   ]
  },
  {
   "cell_type": "markdown",
   "metadata": {},
   "source": [
    "##### Total credit"
   ]
  },
  {
   "cell_type": "code",
   "execution_count": 234,
   "metadata": {},
   "outputs": [
    {
     "data": {
      "text/html": [
       "<div>\n",
       "<style scoped>\n",
       "    .dataframe tbody tr th:only-of-type {\n",
       "        vertical-align: middle;\n",
       "    }\n",
       "\n",
       "    .dataframe tbody tr th {\n",
       "        vertical-align: top;\n",
       "    }\n",
       "\n",
       "    .dataframe thead th {\n",
       "        text-align: right;\n",
       "    }\n",
       "</style>\n",
       "<table border=\"1\" class=\"dataframe\">\n",
       "  <thead>\n",
       "    <tr style=\"text-align: right;\">\n",
       "      <th></th>\n",
       "      <th>us_tc</th>\n",
       "      <th>date</th>\n",
       "    </tr>\n",
       "  </thead>\n",
       "  <tbody>\n",
       "    <tr>\n",
       "      <th>0</th>\n",
       "      <td>353.722</td>\n",
       "      <td>1945-12-01</td>\n",
       "    </tr>\n",
       "    <tr>\n",
       "      <th>1</th>\n",
       "      <td>354.332</td>\n",
       "      <td>1946-03-01</td>\n",
       "    </tr>\n",
       "    <tr>\n",
       "      <th>2</th>\n",
       "      <td>350.867</td>\n",
       "      <td>1946-06-01</td>\n",
       "    </tr>\n",
       "    <tr>\n",
       "      <th>3</th>\n",
       "      <td>346.826</td>\n",
       "      <td>1946-09-01</td>\n",
       "    </tr>\n",
       "    <tr>\n",
       "      <th>4</th>\n",
       "      <td>345.682</td>\n",
       "      <td>1946-12-01</td>\n",
       "    </tr>\n",
       "  </tbody>\n",
       "</table>\n",
       "</div>"
      ],
      "text/plain": [
       "     us_tc       date\n",
       "0  353.722 1945-12-01\n",
       "1  354.332 1946-03-01\n",
       "2  350.867 1946-06-01\n",
       "3  346.826 1946-09-01\n",
       "4  345.682 1946-12-01"
      ]
     },
     "execution_count": 234,
     "metadata": {},
     "output_type": "execute_result"
    }
   ],
   "source": [
    "df_tc[\"date\"] = df_tc['Period'].apply(lambda dt: dt.replace(day=1))\n",
    "df_tc.drop(['Period'], axis=1, inplace=True)\n",
    "df_tc = df_tc[['US', 'date']]\n",
    "df_tc.rename(columns={'US':'us_tc'}, inplace=True)\n",
    "df_tc.head()"
   ]
  },
  {
   "cell_type": "markdown",
   "metadata": {},
   "source": [
    "##### NFP"
   ]
  },
  {
   "cell_type": "code",
   "execution_count": 235,
   "metadata": {},
   "outputs": [
    {
     "data": {
      "text/html": [
       "<div>\n",
       "<style scoped>\n",
       "    .dataframe tbody tr th:only-of-type {\n",
       "        vertical-align: middle;\n",
       "    }\n",
       "\n",
       "    .dataframe tbody tr th {\n",
       "        vertical-align: top;\n",
       "    }\n",
       "\n",
       "    .dataframe thead th {\n",
       "        text-align: right;\n",
       "    }\n",
       "</style>\n",
       "<table border=\"1\" class=\"dataframe\">\n",
       "  <thead>\n",
       "    <tr style=\"text-align: right;\">\n",
       "      <th></th>\n",
       "      <th>Year</th>\n",
       "      <th>month</th>\n",
       "      <th>nfp</th>\n",
       "    </tr>\n",
       "  </thead>\n",
       "  <tbody>\n",
       "    <tr>\n",
       "      <th>0</th>\n",
       "      <td>1980</td>\n",
       "      <td>Jan</td>\n",
       "      <td>90800.0</td>\n",
       "    </tr>\n",
       "    <tr>\n",
       "      <th>1</th>\n",
       "      <td>1981</td>\n",
       "      <td>Jan</td>\n",
       "      <td>91033.0</td>\n",
       "    </tr>\n",
       "    <tr>\n",
       "      <th>2</th>\n",
       "      <td>1982</td>\n",
       "      <td>Jan</td>\n",
       "      <td>90565.0</td>\n",
       "    </tr>\n",
       "    <tr>\n",
       "      <th>3</th>\n",
       "      <td>1983</td>\n",
       "      <td>Jan</td>\n",
       "      <td>88990.0</td>\n",
       "    </tr>\n",
       "    <tr>\n",
       "      <th>4</th>\n",
       "      <td>1984</td>\n",
       "      <td>Jan</td>\n",
       "      <td>92673.0</td>\n",
       "    </tr>\n",
       "  </tbody>\n",
       "</table>\n",
       "</div>"
      ],
      "text/plain": [
       "   Year month      nfp\n",
       "0  1980   Jan  90800.0\n",
       "1  1981   Jan  91033.0\n",
       "2  1982   Jan  90565.0\n",
       "3  1983   Jan  88990.0\n",
       "4  1984   Jan  92673.0"
      ]
     },
     "execution_count": 235,
     "metadata": {},
     "output_type": "execute_result"
    }
   ],
   "source": [
    "df_nfp_melt = pd.melt(df_nfp, id_vars=['Year'], value_vars=df_nfp.columns, var_name='month', value_name='nfp')\n",
    "df_nfp_melt.head()"
   ]
  },
  {
   "cell_type": "code",
   "execution_count": 236,
   "metadata": {},
   "outputs": [],
   "source": [
    "df_nfp_melt['date_month'] = df_nfp_melt.Year.astype('str') + \"-\" + df_nfp_melt.month.astype('str') "
   ]
  },
  {
   "cell_type": "code",
   "execution_count": 237,
   "metadata": {},
   "outputs": [
    {
     "data": {
      "text/html": [
       "<div>\n",
       "<style scoped>\n",
       "    .dataframe tbody tr th:only-of-type {\n",
       "        vertical-align: middle;\n",
       "    }\n",
       "\n",
       "    .dataframe tbody tr th {\n",
       "        vertical-align: top;\n",
       "    }\n",
       "\n",
       "    .dataframe thead th {\n",
       "        text-align: right;\n",
       "    }\n",
       "</style>\n",
       "<table border=\"1\" class=\"dataframe\">\n",
       "  <thead>\n",
       "    <tr style=\"text-align: right;\">\n",
       "      <th></th>\n",
       "      <th>nfp</th>\n",
       "      <th>date_month</th>\n",
       "    </tr>\n",
       "  </thead>\n",
       "  <tbody>\n",
       "    <tr>\n",
       "      <th>0</th>\n",
       "      <td>90800.0</td>\n",
       "      <td>1980-01-01</td>\n",
       "    </tr>\n",
       "    <tr>\n",
       "      <th>1</th>\n",
       "      <td>91033.0</td>\n",
       "      <td>1981-01-01</td>\n",
       "    </tr>\n",
       "    <tr>\n",
       "      <th>2</th>\n",
       "      <td>90565.0</td>\n",
       "      <td>1982-01-01</td>\n",
       "    </tr>\n",
       "    <tr>\n",
       "      <th>3</th>\n",
       "      <td>88990.0</td>\n",
       "      <td>1983-01-01</td>\n",
       "    </tr>\n",
       "    <tr>\n",
       "      <th>4</th>\n",
       "      <td>92673.0</td>\n",
       "      <td>1984-01-01</td>\n",
       "    </tr>\n",
       "  </tbody>\n",
       "</table>\n",
       "</div>"
      ],
      "text/plain": [
       "       nfp date_month\n",
       "0  90800.0 1980-01-01\n",
       "1  91033.0 1981-01-01\n",
       "2  90565.0 1982-01-01\n",
       "3  88990.0 1983-01-01\n",
       "4  92673.0 1984-01-01"
      ]
     },
     "execution_count": 237,
     "metadata": {},
     "output_type": "execute_result"
    }
   ],
   "source": [
    "df_nfp_melt['date_month'] = pd.to_datetime(df_nfp_melt['date_month'])\n",
    "df_nfp_melt.drop(['Year', 'month'], axis=1, inplace=True)\n",
    "df_nfp_melt.head()"
   ]
  },
  {
   "cell_type": "code",
   "execution_count": 238,
   "metadata": {},
   "outputs": [],
   "source": [
    "df_nfp_melt = df_nfp_melt.set_index('date_month')\n",
    "df_nfp_melt = df_nfp_melt.resample('Q').ohlc()"
   ]
  },
  {
   "cell_type": "code",
   "execution_count": 239,
   "metadata": {},
   "outputs": [],
   "source": [
    "df_nfp_melt = df_nfp_melt['nfp'].reset_index()\n",
    "df_nfp_melt = df_nfp_melt[['close', 'date_month']].rename(columns={'close':'nfp'})"
   ]
  },
  {
   "cell_type": "code",
   "execution_count": 240,
   "metadata": {},
   "outputs": [
    {
     "data": {
      "text/html": [
       "<div>\n",
       "<style scoped>\n",
       "    .dataframe tbody tr th:only-of-type {\n",
       "        vertical-align: middle;\n",
       "    }\n",
       "\n",
       "    .dataframe tbody tr th {\n",
       "        vertical-align: top;\n",
       "    }\n",
       "\n",
       "    .dataframe thead th {\n",
       "        text-align: right;\n",
       "    }\n",
       "</style>\n",
       "<table border=\"1\" class=\"dataframe\">\n",
       "  <thead>\n",
       "    <tr style=\"text-align: right;\">\n",
       "      <th></th>\n",
       "      <th>nfp</th>\n",
       "      <th>date</th>\n",
       "    </tr>\n",
       "  </thead>\n",
       "  <tbody>\n",
       "    <tr>\n",
       "      <th>0</th>\n",
       "      <td>90994.0</td>\n",
       "      <td>1980-03-01</td>\n",
       "    </tr>\n",
       "    <tr>\n",
       "      <th>1</th>\n",
       "      <td>90101.0</td>\n",
       "      <td>1980-06-01</td>\n",
       "    </tr>\n",
       "    <tr>\n",
       "      <th>2</th>\n",
       "      <td>90213.0</td>\n",
       "      <td>1980-09-01</td>\n",
       "    </tr>\n",
       "    <tr>\n",
       "      <th>3</th>\n",
       "      <td>90943.0</td>\n",
       "      <td>1980-12-01</td>\n",
       "    </tr>\n",
       "    <tr>\n",
       "      <th>4</th>\n",
       "      <td>91210.0</td>\n",
       "      <td>1981-03-01</td>\n",
       "    </tr>\n",
       "  </tbody>\n",
       "</table>\n",
       "</div>"
      ],
      "text/plain": [
       "       nfp       date\n",
       "0  90994.0 1980-03-01\n",
       "1  90101.0 1980-06-01\n",
       "2  90213.0 1980-09-01\n",
       "3  90943.0 1980-12-01\n",
       "4  91210.0 1981-03-01"
      ]
     },
     "execution_count": 240,
     "metadata": {},
     "output_type": "execute_result"
    }
   ],
   "source": [
    "df_nfp_melt[\"date\"] = df_nfp_melt['date_month'].apply(lambda dt: dt.replace(day=1))\n",
    "df_nfp_melt.drop(['date_month'], axis=1, inplace=True)\n",
    "df_nfp_melt.head()"
   ]
  },
  {
   "cell_type": "markdown",
   "metadata": {},
   "source": [
    "##### Property Prices"
   ]
  },
  {
   "cell_type": "code",
   "execution_count": 241,
   "metadata": {},
   "outputs": [
    {
     "data": {
      "text/html": [
       "<div>\n",
       "<style scoped>\n",
       "    .dataframe tbody tr th:only-of-type {\n",
       "        vertical-align: middle;\n",
       "    }\n",
       "\n",
       "    .dataframe tbody tr th {\n",
       "        vertical-align: top;\n",
       "    }\n",
       "\n",
       "    .dataframe thead th {\n",
       "        text-align: right;\n",
       "    }\n",
       "</style>\n",
       "<table border=\"1\" class=\"dataframe\">\n",
       "  <thead>\n",
       "    <tr style=\"text-align: right;\">\n",
       "      <th></th>\n",
       "      <th>Period</th>\n",
       "      <th>EXISTNG_DWELLINGS</th>\n",
       "      <th>EXIST.1-FAMILY_HOUSES</th>\n",
       "      <th>NEW 1-FAMILY_HOUSES</th>\n",
       "      <th>Euro</th>\n",
       "    </tr>\n",
       "  </thead>\n",
       "  <tbody>\n",
       "    <tr>\n",
       "      <th>0</th>\n",
       "      <td>1963-03-31</td>\n",
       "      <td>NaN</td>\n",
       "      <td>NaN</td>\n",
       "      <td>11.7</td>\n",
       "      <td>NaN</td>\n",
       "    </tr>\n",
       "    <tr>\n",
       "      <th>1</th>\n",
       "      <td>1963-06-30</td>\n",
       "      <td>NaN</td>\n",
       "      <td>NaN</td>\n",
       "      <td>11.6</td>\n",
       "      <td>NaN</td>\n",
       "    </tr>\n",
       "    <tr>\n",
       "      <th>2</th>\n",
       "      <td>1963-09-30</td>\n",
       "      <td>NaN</td>\n",
       "      <td>NaN</td>\n",
       "      <td>11.5</td>\n",
       "      <td>NaN</td>\n",
       "    </tr>\n",
       "    <tr>\n",
       "      <th>3</th>\n",
       "      <td>1963-12-31</td>\n",
       "      <td>NaN</td>\n",
       "      <td>NaN</td>\n",
       "      <td>11.7</td>\n",
       "      <td>NaN</td>\n",
       "    </tr>\n",
       "    <tr>\n",
       "      <th>4</th>\n",
       "      <td>1964-03-31</td>\n",
       "      <td>NaN</td>\n",
       "      <td>NaN</td>\n",
       "      <td>11.5</td>\n",
       "      <td>NaN</td>\n",
       "    </tr>\n",
       "  </tbody>\n",
       "</table>\n",
       "</div>"
      ],
      "text/plain": [
       "      Period  EXISTNG_DWELLINGS  EXIST.1-FAMILY_HOUSES  NEW 1-FAMILY_HOUSES  \\\n",
       "0 1963-03-31                NaN                    NaN                 11.7   \n",
       "1 1963-06-30                NaN                    NaN                 11.6   \n",
       "2 1963-09-30                NaN                    NaN                 11.5   \n",
       "3 1963-12-31                NaN                    NaN                 11.7   \n",
       "4 1964-03-31                NaN                    NaN                 11.5   \n",
       "\n",
       "   Euro  \n",
       "0   NaN  \n",
       "1   NaN  \n",
       "2   NaN  \n",
       "3   NaN  \n",
       "4   NaN  "
      ]
     },
     "execution_count": 241,
     "metadata": {},
     "output_type": "execute_result"
    }
   ],
   "source": [
    "df_pp.head()"
   ]
  },
  {
   "cell_type": "code",
   "execution_count": 242,
   "metadata": {},
   "outputs": [
    {
     "data": {
      "text/html": [
       "<div>\n",
       "<style scoped>\n",
       "    .dataframe tbody tr th:only-of-type {\n",
       "        vertical-align: middle;\n",
       "    }\n",
       "\n",
       "    .dataframe tbody tr th {\n",
       "        vertical-align: top;\n",
       "    }\n",
       "\n",
       "    .dataframe thead th {\n",
       "        text-align: right;\n",
       "    }\n",
       "</style>\n",
       "<table border=\"1\" class=\"dataframe\">\n",
       "  <thead>\n",
       "    <tr style=\"text-align: right;\">\n",
       "      <th></th>\n",
       "      <th>date</th>\n",
       "      <th>pp</th>\n",
       "    </tr>\n",
       "  </thead>\n",
       "  <tbody>\n",
       "    <tr>\n",
       "      <th>0</th>\n",
       "      <td>1963-03-01</td>\n",
       "      <td>11.7</td>\n",
       "    </tr>\n",
       "    <tr>\n",
       "      <th>1</th>\n",
       "      <td>1963-06-01</td>\n",
       "      <td>11.6</td>\n",
       "    </tr>\n",
       "    <tr>\n",
       "      <th>2</th>\n",
       "      <td>1963-09-01</td>\n",
       "      <td>11.5</td>\n",
       "    </tr>\n",
       "    <tr>\n",
       "      <th>3</th>\n",
       "      <td>1963-12-01</td>\n",
       "      <td>11.7</td>\n",
       "    </tr>\n",
       "    <tr>\n",
       "      <th>4</th>\n",
       "      <td>1964-03-01</td>\n",
       "      <td>11.5</td>\n",
       "    </tr>\n",
       "  </tbody>\n",
       "</table>\n",
       "</div>"
      ],
      "text/plain": [
       "        date    pp\n",
       "0 1963-03-01  11.7\n",
       "1 1963-06-01  11.6\n",
       "2 1963-09-01  11.5\n",
       "3 1963-12-01  11.7\n",
       "4 1964-03-01  11.5"
      ]
     },
     "execution_count": 242,
     "metadata": {},
     "output_type": "execute_result"
    }
   ],
   "source": [
    "df_pp[\"date\"] = df_pp['Period'].apply(lambda dt: dt.replace(day=1))\n",
    "df_pp = df_pp[['date', 'NEW 1-FAMILY_HOUSES']]\n",
    "df_pp.rename(columns={'NEW 1-FAMILY_HOUSES':'pp'}, inplace=True)\n",
    "df_pp.head()"
   ]
  },
  {
   "cell_type": "markdown",
   "metadata": {},
   "source": [
    "##### Interest Rates"
   ]
  },
  {
   "cell_type": "code",
   "execution_count": 243,
   "metadata": {},
   "outputs": [
    {
     "data": {
      "text/html": [
       "<div>\n",
       "<style scoped>\n",
       "    .dataframe tbody tr th:only-of-type {\n",
       "        vertical-align: middle;\n",
       "    }\n",
       "\n",
       "    .dataframe tbody tr th {\n",
       "        vertical-align: top;\n",
       "    }\n",
       "\n",
       "    .dataframe thead th {\n",
       "        text-align: right;\n",
       "    }\n",
       "</style>\n",
       "<table border=\"1\" class=\"dataframe\">\n",
       "  <thead>\n",
       "    <tr style=\"text-align: right;\">\n",
       "      <th></th>\n",
       "      <th>Period</th>\n",
       "      <th>US</th>\n",
       "      <th>Euro</th>\n",
       "    </tr>\n",
       "  </thead>\n",
       "  <tbody>\n",
       "    <tr>\n",
       "      <th>0</th>\n",
       "      <td>1954-07-31</td>\n",
       "      <td>0.25</td>\n",
       "      <td>NaN</td>\n",
       "    </tr>\n",
       "    <tr>\n",
       "      <th>1</th>\n",
       "      <td>1954-08-31</td>\n",
       "      <td>1.44</td>\n",
       "      <td>NaN</td>\n",
       "    </tr>\n",
       "    <tr>\n",
       "      <th>2</th>\n",
       "      <td>1954-09-30</td>\n",
       "      <td>1.44</td>\n",
       "      <td>NaN</td>\n",
       "    </tr>\n",
       "    <tr>\n",
       "      <th>3</th>\n",
       "      <td>1954-10-31</td>\n",
       "      <td>1.13</td>\n",
       "      <td>NaN</td>\n",
       "    </tr>\n",
       "    <tr>\n",
       "      <th>4</th>\n",
       "      <td>1954-11-30</td>\n",
       "      <td>1.38</td>\n",
       "      <td>NaN</td>\n",
       "    </tr>\n",
       "  </tbody>\n",
       "</table>\n",
       "</div>"
      ],
      "text/plain": [
       "      Period    US  Euro\n",
       "0 1954-07-31  0.25   NaN\n",
       "1 1954-08-31  1.44   NaN\n",
       "2 1954-09-30  1.44   NaN\n",
       "3 1954-10-31  1.13   NaN\n",
       "4 1954-11-30  1.38   NaN"
      ]
     },
     "execution_count": 243,
     "metadata": {},
     "output_type": "execute_result"
    }
   ],
   "source": [
    "df_ir.head()"
   ]
  },
  {
   "cell_type": "code",
   "execution_count": 244,
   "metadata": {},
   "outputs": [],
   "source": [
    "df_ir = df_ir.set_index('Period')\n",
    "df_ir = df_ir.resample('Q').ohlc()"
   ]
  },
  {
   "cell_type": "code",
   "execution_count": 245,
   "metadata": {},
   "outputs": [],
   "source": [
    "df_ir = df_ir['US'].reset_index()\n",
    "df_ir = df_ir[['close', 'Period']].rename(columns={'close':'us_ir'})"
   ]
  },
  {
   "cell_type": "code",
   "execution_count": 246,
   "metadata": {},
   "outputs": [
    {
     "data": {
      "text/html": [
       "<div>\n",
       "<style scoped>\n",
       "    .dataframe tbody tr th:only-of-type {\n",
       "        vertical-align: middle;\n",
       "    }\n",
       "\n",
       "    .dataframe tbody tr th {\n",
       "        vertical-align: top;\n",
       "    }\n",
       "\n",
       "    .dataframe thead th {\n",
       "        text-align: right;\n",
       "    }\n",
       "</style>\n",
       "<table border=\"1\" class=\"dataframe\">\n",
       "  <thead>\n",
       "    <tr style=\"text-align: right;\">\n",
       "      <th></th>\n",
       "      <th>us_ir</th>\n",
       "      <th>date</th>\n",
       "    </tr>\n",
       "  </thead>\n",
       "  <tbody>\n",
       "    <tr>\n",
       "      <th>0</th>\n",
       "      <td>1.44</td>\n",
       "      <td>1954-09-01</td>\n",
       "    </tr>\n",
       "    <tr>\n",
       "      <th>1</th>\n",
       "      <td>1.44</td>\n",
       "      <td>1954-12-01</td>\n",
       "    </tr>\n",
       "    <tr>\n",
       "      <th>2</th>\n",
       "      <td>1.44</td>\n",
       "      <td>1955-03-01</td>\n",
       "    </tr>\n",
       "    <tr>\n",
       "      <th>3</th>\n",
       "      <td>1.69</td>\n",
       "      <td>1955-06-01</td>\n",
       "    </tr>\n",
       "    <tr>\n",
       "      <th>4</th>\n",
       "      <td>2.19</td>\n",
       "      <td>1955-09-01</td>\n",
       "    </tr>\n",
       "  </tbody>\n",
       "</table>\n",
       "</div>"
      ],
      "text/plain": [
       "   us_ir       date\n",
       "0   1.44 1954-09-01\n",
       "1   1.44 1954-12-01\n",
       "2   1.44 1955-03-01\n",
       "3   1.69 1955-06-01\n",
       "4   2.19 1955-09-01"
      ]
     },
     "execution_count": 246,
     "metadata": {},
     "output_type": "execute_result"
    }
   ],
   "source": [
    "df_ir[\"date\"] = df_ir['Period'].apply(lambda dt: dt.replace(day=1))\n",
    "df_ir.drop(['Period'], axis=1, inplace=True)\n",
    "df_ir.head()"
   ]
  },
  {
   "cell_type": "markdown",
   "metadata": {},
   "source": [
    "##### SPY data"
   ]
  },
  {
   "cell_type": "code",
   "execution_count": 247,
   "metadata": {},
   "outputs": [
    {
     "data": {
      "text/html": [
       "<div>\n",
       "<style scoped>\n",
       "    .dataframe tbody tr th:only-of-type {\n",
       "        vertical-align: middle;\n",
       "    }\n",
       "\n",
       "    .dataframe tbody tr th {\n",
       "        vertical-align: top;\n",
       "    }\n",
       "\n",
       "    .dataframe thead th {\n",
       "        text-align: right;\n",
       "    }\n",
       "</style>\n",
       "<table border=\"1\" class=\"dataframe\">\n",
       "  <thead>\n",
       "    <tr style=\"text-align: right;\">\n",
       "      <th></th>\n",
       "      <th>Date</th>\n",
       "      <th>Open</th>\n",
       "      <th>High</th>\n",
       "      <th>Low</th>\n",
       "      <th>Close</th>\n",
       "      <th>Adj Close</th>\n",
       "      <th>Volume</th>\n",
       "    </tr>\n",
       "  </thead>\n",
       "  <tbody>\n",
       "    <tr>\n",
       "      <th>0</th>\n",
       "      <td>1993-02-01</td>\n",
       "      <td>43.96875</td>\n",
       "      <td>45.12500</td>\n",
       "      <td>42.81250</td>\n",
       "      <td>44.40625</td>\n",
       "      <td>25.709480</td>\n",
       "      <td>5417600</td>\n",
       "    </tr>\n",
       "    <tr>\n",
       "      <th>1</th>\n",
       "      <td>1993-03-01</td>\n",
       "      <td>44.56250</td>\n",
       "      <td>45.84375</td>\n",
       "      <td>44.21875</td>\n",
       "      <td>45.18750</td>\n",
       "      <td>26.161797</td>\n",
       "      <td>3019200</td>\n",
       "    </tr>\n",
       "    <tr>\n",
       "      <th>2</th>\n",
       "      <td>1993-04-01</td>\n",
       "      <td>45.25000</td>\n",
       "      <td>45.25000</td>\n",
       "      <td>43.28125</td>\n",
       "      <td>44.03125</td>\n",
       "      <td>25.612766</td>\n",
       "      <td>2697200</td>\n",
       "    </tr>\n",
       "    <tr>\n",
       "      <th>3</th>\n",
       "      <td>1993-05-01</td>\n",
       "      <td>44.09375</td>\n",
       "      <td>45.65625</td>\n",
       "      <td>43.84375</td>\n",
       "      <td>45.21875</td>\n",
       "      <td>26.303528</td>\n",
       "      <td>1808000</td>\n",
       "    </tr>\n",
       "    <tr>\n",
       "      <th>4</th>\n",
       "      <td>1993-06-01</td>\n",
       "      <td>45.37500</td>\n",
       "      <td>45.81250</td>\n",
       "      <td>44.21875</td>\n",
       "      <td>45.06250</td>\n",
       "      <td>26.212654</td>\n",
       "      <td>3438000</td>\n",
       "    </tr>\n",
       "  </tbody>\n",
       "</table>\n",
       "</div>"
      ],
      "text/plain": [
       "         Date      Open      High       Low     Close  Adj Close   Volume\n",
       "0  1993-02-01  43.96875  45.12500  42.81250  44.40625  25.709480  5417600\n",
       "1  1993-03-01  44.56250  45.84375  44.21875  45.18750  26.161797  3019200\n",
       "2  1993-04-01  45.25000  45.25000  43.28125  44.03125  25.612766  2697200\n",
       "3  1993-05-01  44.09375  45.65625  43.84375  45.21875  26.303528  1808000\n",
       "4  1993-06-01  45.37500  45.81250  44.21875  45.06250  26.212654  3438000"
      ]
     },
     "execution_count": 247,
     "metadata": {},
     "output_type": "execute_result"
    }
   ],
   "source": [
    "df_spy.head()"
   ]
  },
  {
   "cell_type": "code",
   "execution_count": 248,
   "metadata": {},
   "outputs": [],
   "source": [
    "df_spy['Date'] = pd.to_datetime(df_spy['Date'])"
   ]
  },
  {
   "cell_type": "code",
   "execution_count": 249,
   "metadata": {},
   "outputs": [],
   "source": [
    "df_spy_price = df_spy[['Date', 'Adj Close']]\n",
    "df_spy_vol = df_spy[['Date', 'Volume']]"
   ]
  },
  {
   "cell_type": "code",
   "execution_count": 250,
   "metadata": {},
   "outputs": [],
   "source": [
    "df_spy_price = df_spy_price.set_index('Date')\n",
    "df_spy_price = df_spy_price.resample('Q').ohlc()"
   ]
  },
  {
   "cell_type": "code",
   "execution_count": 251,
   "metadata": {},
   "outputs": [
    {
     "data": {
      "text/html": [
       "<div>\n",
       "<style scoped>\n",
       "    .dataframe tbody tr th:only-of-type {\n",
       "        vertical-align: middle;\n",
       "    }\n",
       "\n",
       "    .dataframe tbody tr th {\n",
       "        vertical-align: top;\n",
       "    }\n",
       "\n",
       "    .dataframe thead tr th {\n",
       "        text-align: left;\n",
       "    }\n",
       "\n",
       "    .dataframe thead tr:last-of-type th {\n",
       "        text-align: right;\n",
       "    }\n",
       "</style>\n",
       "<table border=\"1\" class=\"dataframe\">\n",
       "  <thead>\n",
       "    <tr>\n",
       "      <th></th>\n",
       "      <th colspan=\"4\" halign=\"left\">Adj Close</th>\n",
       "    </tr>\n",
       "    <tr>\n",
       "      <th></th>\n",
       "      <th>open</th>\n",
       "      <th>high</th>\n",
       "      <th>low</th>\n",
       "      <th>close</th>\n",
       "    </tr>\n",
       "    <tr>\n",
       "      <th>Date</th>\n",
       "      <th></th>\n",
       "      <th></th>\n",
       "      <th></th>\n",
       "      <th></th>\n",
       "    </tr>\n",
       "  </thead>\n",
       "  <tbody>\n",
       "    <tr>\n",
       "      <th>1993-03-31</th>\n",
       "      <td>25.709480</td>\n",
       "      <td>26.161797</td>\n",
       "      <td>25.709480</td>\n",
       "      <td>26.161797</td>\n",
       "    </tr>\n",
       "    <tr>\n",
       "      <th>1993-06-30</th>\n",
       "      <td>25.612766</td>\n",
       "      <td>26.303528</td>\n",
       "      <td>25.612766</td>\n",
       "      <td>26.212654</td>\n",
       "    </tr>\n",
       "    <tr>\n",
       "      <th>1993-09-30</th>\n",
       "      <td>26.270269</td>\n",
       "      <td>27.277155</td>\n",
       "      <td>26.270269</td>\n",
       "      <td>26.911003</td>\n",
       "    </tr>\n",
       "    <tr>\n",
       "      <th>1993-12-31</th>\n",
       "      <td>27.612890</td>\n",
       "      <td>27.612890</td>\n",
       "      <td>27.318153</td>\n",
       "      <td>27.465502</td>\n",
       "    </tr>\n",
       "    <tr>\n",
       "      <th>1994-03-31</th>\n",
       "      <td>28.617989</td>\n",
       "      <td>28.617989</td>\n",
       "      <td>26.466524</td>\n",
       "      <td>26.466524</td>\n",
       "    </tr>\n",
       "  </tbody>\n",
       "</table>\n",
       "</div>"
      ],
      "text/plain": [
       "            Adj Close                                 \n",
       "                 open       high        low      close\n",
       "Date                                                  \n",
       "1993-03-31  25.709480  26.161797  25.709480  26.161797\n",
       "1993-06-30  25.612766  26.303528  25.612766  26.212654\n",
       "1993-09-30  26.270269  27.277155  26.270269  26.911003\n",
       "1993-12-31  27.612890  27.612890  27.318153  27.465502\n",
       "1994-03-31  28.617989  28.617989  26.466524  26.466524"
      ]
     },
     "execution_count": 251,
     "metadata": {},
     "output_type": "execute_result"
    }
   ],
   "source": [
    "df_spy_price.head()"
   ]
  },
  {
   "cell_type": "code",
   "execution_count": 252,
   "metadata": {},
   "outputs": [],
   "source": [
    "df_spy_vol = df_spy_vol.set_index('Date')\n",
    "df_spy_vol = df_spy_vol.resample('Q').sum()"
   ]
  },
  {
   "cell_type": "code",
   "execution_count": 253,
   "metadata": {},
   "outputs": [
    {
     "data": {
      "text/html": [
       "<div>\n",
       "<style scoped>\n",
       "    .dataframe tbody tr th:only-of-type {\n",
       "        vertical-align: middle;\n",
       "    }\n",
       "\n",
       "    .dataframe tbody tr th {\n",
       "        vertical-align: top;\n",
       "    }\n",
       "\n",
       "    .dataframe thead th {\n",
       "        text-align: right;\n",
       "    }\n",
       "</style>\n",
       "<table border=\"1\" class=\"dataframe\">\n",
       "  <thead>\n",
       "    <tr style=\"text-align: right;\">\n",
       "      <th></th>\n",
       "      <th>Volume</th>\n",
       "    </tr>\n",
       "    <tr>\n",
       "      <th>Date</th>\n",
       "      <th></th>\n",
       "    </tr>\n",
       "  </thead>\n",
       "  <tbody>\n",
       "    <tr>\n",
       "      <th>1993-03-31</th>\n",
       "      <td>8436800</td>\n",
       "    </tr>\n",
       "    <tr>\n",
       "      <th>1993-06-30</th>\n",
       "      <td>7943200</td>\n",
       "    </tr>\n",
       "    <tr>\n",
       "      <th>1993-09-30</th>\n",
       "      <td>15927600</td>\n",
       "    </tr>\n",
       "    <tr>\n",
       "      <th>1993-12-31</th>\n",
       "      <td>18452000</td>\n",
       "    </tr>\n",
       "    <tr>\n",
       "      <th>1994-03-31</th>\n",
       "      <td>32517000</td>\n",
       "    </tr>\n",
       "  </tbody>\n",
       "</table>\n",
       "</div>"
      ],
      "text/plain": [
       "              Volume\n",
       "Date                \n",
       "1993-03-31   8436800\n",
       "1993-06-30   7943200\n",
       "1993-09-30  15927600\n",
       "1993-12-31  18452000\n",
       "1994-03-31  32517000"
      ]
     },
     "execution_count": 253,
     "metadata": {},
     "output_type": "execute_result"
    }
   ],
   "source": [
    "df_spy_vol.head()"
   ]
  },
  {
   "cell_type": "code",
   "execution_count": 254,
   "metadata": {},
   "outputs": [],
   "source": [
    "df_spy_price = df_spy_price['Adj Close'].reset_index()\n",
    "df_spy_price = df_spy_price[['close', 'Date']].rename(columns={'close':'spy_close'})\n"
   ]
  },
  {
   "cell_type": "code",
   "execution_count": 255,
   "metadata": {},
   "outputs": [],
   "source": [
    "df_spy_vol = df_spy_vol['Volume'].reset_index()\n",
    "df_spy_vol = df_spy_vol[['Volume', 'Date']].rename(columns={'Volume':'spy_vol'})"
   ]
  },
  {
   "cell_type": "code",
   "execution_count": 256,
   "metadata": {},
   "outputs": [
    {
     "data": {
      "text/html": [
       "<div>\n",
       "<style scoped>\n",
       "    .dataframe tbody tr th:only-of-type {\n",
       "        vertical-align: middle;\n",
       "    }\n",
       "\n",
       "    .dataframe tbody tr th {\n",
       "        vertical-align: top;\n",
       "    }\n",
       "\n",
       "    .dataframe thead th {\n",
       "        text-align: right;\n",
       "    }\n",
       "</style>\n",
       "<table border=\"1\" class=\"dataframe\">\n",
       "  <thead>\n",
       "    <tr style=\"text-align: right;\">\n",
       "      <th></th>\n",
       "      <th>spy_close</th>\n",
       "      <th>date</th>\n",
       "    </tr>\n",
       "  </thead>\n",
       "  <tbody>\n",
       "    <tr>\n",
       "      <th>0</th>\n",
       "      <td>26.161797</td>\n",
       "      <td>1993-03-01</td>\n",
       "    </tr>\n",
       "    <tr>\n",
       "      <th>1</th>\n",
       "      <td>26.212654</td>\n",
       "      <td>1993-06-01</td>\n",
       "    </tr>\n",
       "    <tr>\n",
       "      <th>2</th>\n",
       "      <td>26.911003</td>\n",
       "      <td>1993-09-01</td>\n",
       "    </tr>\n",
       "    <tr>\n",
       "      <th>3</th>\n",
       "      <td>27.465502</td>\n",
       "      <td>1993-12-01</td>\n",
       "    </tr>\n",
       "    <tr>\n",
       "      <th>4</th>\n",
       "      <td>26.466524</td>\n",
       "      <td>1994-03-01</td>\n",
       "    </tr>\n",
       "  </tbody>\n",
       "</table>\n",
       "</div>"
      ],
      "text/plain": [
       "   spy_close       date\n",
       "0  26.161797 1993-03-01\n",
       "1  26.212654 1993-06-01\n",
       "2  26.911003 1993-09-01\n",
       "3  27.465502 1993-12-01\n",
       "4  26.466524 1994-03-01"
      ]
     },
     "execution_count": 256,
     "metadata": {},
     "output_type": "execute_result"
    }
   ],
   "source": [
    "df_spy_price[\"date\"] = df_spy_price['Date'].apply(lambda dt: dt.replace(day=1))\n",
    "df_spy_price.drop(['Date'], axis=1, inplace=True)\n",
    "df_spy_price.head()"
   ]
  },
  {
   "cell_type": "code",
   "execution_count": 257,
   "metadata": {},
   "outputs": [
    {
     "data": {
      "text/html": [
       "<div>\n",
       "<style scoped>\n",
       "    .dataframe tbody tr th:only-of-type {\n",
       "        vertical-align: middle;\n",
       "    }\n",
       "\n",
       "    .dataframe tbody tr th {\n",
       "        vertical-align: top;\n",
       "    }\n",
       "\n",
       "    .dataframe thead th {\n",
       "        text-align: right;\n",
       "    }\n",
       "</style>\n",
       "<table border=\"1\" class=\"dataframe\">\n",
       "  <thead>\n",
       "    <tr style=\"text-align: right;\">\n",
       "      <th></th>\n",
       "      <th>spy_vol</th>\n",
       "      <th>date</th>\n",
       "    </tr>\n",
       "  </thead>\n",
       "  <tbody>\n",
       "    <tr>\n",
       "      <th>0</th>\n",
       "      <td>8436800</td>\n",
       "      <td>1993-03-01</td>\n",
       "    </tr>\n",
       "    <tr>\n",
       "      <th>1</th>\n",
       "      <td>7943200</td>\n",
       "      <td>1993-06-01</td>\n",
       "    </tr>\n",
       "    <tr>\n",
       "      <th>2</th>\n",
       "      <td>15927600</td>\n",
       "      <td>1993-09-01</td>\n",
       "    </tr>\n",
       "    <tr>\n",
       "      <th>3</th>\n",
       "      <td>18452000</td>\n",
       "      <td>1993-12-01</td>\n",
       "    </tr>\n",
       "    <tr>\n",
       "      <th>4</th>\n",
       "      <td>32517000</td>\n",
       "      <td>1994-03-01</td>\n",
       "    </tr>\n",
       "  </tbody>\n",
       "</table>\n",
       "</div>"
      ],
      "text/plain": [
       "    spy_vol       date\n",
       "0   8436800 1993-03-01\n",
       "1   7943200 1993-06-01\n",
       "2  15927600 1993-09-01\n",
       "3  18452000 1993-12-01\n",
       "4  32517000 1994-03-01"
      ]
     },
     "execution_count": 257,
     "metadata": {},
     "output_type": "execute_result"
    }
   ],
   "source": [
    "df_spy_vol[\"date\"] = df_spy_vol['Date'].apply(lambda dt: dt.replace(day=1))\n",
    "df_spy_vol.drop(['Date'], axis=1, inplace=True)\n",
    "df_spy_vol.head()"
   ]
  },
  {
   "cell_type": "code",
   "execution_count": 258,
   "metadata": {},
   "outputs": [],
   "source": [
    "df_spy_total = pd.merge(df_spy_price, df_spy_vol, on='date')"
   ]
  },
  {
   "cell_type": "markdown",
   "metadata": {},
   "source": [
    "### Join all data into a master dataframe"
   ]
  },
  {
   "cell_type": "code",
   "execution_count": 259,
   "metadata": {},
   "outputs": [],
   "source": [
    "dfs = [df_spy_total, df_ir, df_nfp_melt, df_cp, df_pp, df_tc]\n",
    "X = ft.reduce(lambda left, right: pd.merge(left, right, how='left' ,on='date'), dfs)"
   ]
  },
  {
   "cell_type": "code",
   "execution_count": 260,
   "metadata": {},
   "outputs": [
    {
     "data": {
      "text/html": [
       "<div>\n",
       "<style scoped>\n",
       "    .dataframe tbody tr th:only-of-type {\n",
       "        vertical-align: middle;\n",
       "    }\n",
       "\n",
       "    .dataframe tbody tr th {\n",
       "        vertical-align: top;\n",
       "    }\n",
       "\n",
       "    .dataframe thead th {\n",
       "        text-align: right;\n",
       "    }\n",
       "</style>\n",
       "<table border=\"1\" class=\"dataframe\">\n",
       "  <thead>\n",
       "    <tr style=\"text-align: right;\">\n",
       "      <th></th>\n",
       "      <th>spy_close</th>\n",
       "      <th>date</th>\n",
       "      <th>spy_vol</th>\n",
       "      <th>us_ir</th>\n",
       "      <th>nfp</th>\n",
       "      <th>us_cp</th>\n",
       "      <th>pp</th>\n",
       "      <th>us_tc</th>\n",
       "    </tr>\n",
       "  </thead>\n",
       "  <tbody>\n",
       "    <tr>\n",
       "      <th>0</th>\n",
       "      <td>26.161797</td>\n",
       "      <td>1993-03-01</td>\n",
       "      <td>8436800</td>\n",
       "      <td>3.0</td>\n",
       "      <td>109994.0</td>\n",
       "      <td>3.086863</td>\n",
       "      <td>57.9</td>\n",
       "      <td>12307.791</td>\n",
       "    </tr>\n",
       "    <tr>\n",
       "      <th>1</th>\n",
       "      <td>26.212654</td>\n",
       "      <td>1993-06-01</td>\n",
       "      <td>7943200</td>\n",
       "      <td>3.0</td>\n",
       "      <td>110749.0</td>\n",
       "      <td>2.995720</td>\n",
       "      <td>59.9</td>\n",
       "      <td>12540.492</td>\n",
       "    </tr>\n",
       "    <tr>\n",
       "      <th>2</th>\n",
       "      <td>26.911003</td>\n",
       "      <td>1993-09-01</td>\n",
       "      <td>15927600</td>\n",
       "      <td>3.0</td>\n",
       "      <td>111448.0</td>\n",
       "      <td>2.689314</td>\n",
       "      <td>59.7</td>\n",
       "      <td>12784.982</td>\n",
       "    </tr>\n",
       "    <tr>\n",
       "      <th>3</th>\n",
       "      <td>27.465502</td>\n",
       "      <td>1993-12-01</td>\n",
       "      <td>18452000</td>\n",
       "      <td>3.0</td>\n",
       "      <td>112314.0</td>\n",
       "      <td>2.748414</td>\n",
       "      <td>59.6</td>\n",
       "      <td>12947.953</td>\n",
       "    </tr>\n",
       "    <tr>\n",
       "      <th>4</th>\n",
       "      <td>26.466524</td>\n",
       "      <td>1994-03-01</td>\n",
       "      <td>32517000</td>\n",
       "      <td>3.5</td>\n",
       "      <td>113242.0</td>\n",
       "      <td>2.506964</td>\n",
       "      <td>62.4</td>\n",
       "      <td>12941.752</td>\n",
       "    </tr>\n",
       "  </tbody>\n",
       "</table>\n",
       "</div>"
      ],
      "text/plain": [
       "   spy_close       date   spy_vol  us_ir       nfp     us_cp    pp      us_tc\n",
       "0  26.161797 1993-03-01   8436800    3.0  109994.0  3.086863  57.9  12307.791\n",
       "1  26.212654 1993-06-01   7943200    3.0  110749.0  2.995720  59.9  12540.492\n",
       "2  26.911003 1993-09-01  15927600    3.0  111448.0  2.689314  59.7  12784.982\n",
       "3  27.465502 1993-12-01  18452000    3.0  112314.0  2.748414  59.6  12947.953\n",
       "4  26.466524 1994-03-01  32517000    3.5  113242.0  2.506964  62.4  12941.752"
      ]
     },
     "execution_count": 260,
     "metadata": {},
     "output_type": "execute_result"
    }
   ],
   "source": [
    "X.head()"
   ]
  },
  {
   "cell_type": "code",
   "execution_count": 261,
   "metadata": {},
   "outputs": [],
   "source": [
    "# prepareing spy close data:\n",
    "#X['spy_close'] = np.log1p(X.spy_close.pct_change())\n"
   ]
  },
  {
   "cell_type": "code",
   "execution_count": 262,
   "metadata": {},
   "outputs": [
    {
     "data": {
      "text/html": [
       "<div>\n",
       "<style scoped>\n",
       "    .dataframe tbody tr th:only-of-type {\n",
       "        vertical-align: middle;\n",
       "    }\n",
       "\n",
       "    .dataframe tbody tr th {\n",
       "        vertical-align: top;\n",
       "    }\n",
       "\n",
       "    .dataframe thead th {\n",
       "        text-align: right;\n",
       "    }\n",
       "</style>\n",
       "<table border=\"1\" class=\"dataframe\">\n",
       "  <thead>\n",
       "    <tr style=\"text-align: right;\">\n",
       "      <th></th>\n",
       "      <th>spy_close</th>\n",
       "      <th>date</th>\n",
       "      <th>spy_vol</th>\n",
       "      <th>us_ir</th>\n",
       "      <th>nfp</th>\n",
       "      <th>us_cp</th>\n",
       "      <th>pp</th>\n",
       "      <th>us_tc</th>\n",
       "    </tr>\n",
       "  </thead>\n",
       "  <tbody>\n",
       "    <tr>\n",
       "      <th>114</th>\n",
       "      <td>423.124054</td>\n",
       "      <td>2021-09-01</td>\n",
       "      <td>4421665700</td>\n",
       "      <td>0.125</td>\n",
       "      <td>147328.0</td>\n",
       "      <td>5.390349</td>\n",
       "      <td>165.0</td>\n",
       "      <td>62933.826</td>\n",
       "    </tr>\n",
       "    <tr>\n",
       "      <th>115</th>\n",
       "      <td>469.801971</td>\n",
       "      <td>2021-12-01</td>\n",
       "      <td>4771450600</td>\n",
       "      <td>0.125</td>\n",
       "      <td>149240.0</td>\n",
       "      <td>7.036403</td>\n",
       "      <td>175.8</td>\n",
       "      <td>64583.712</td>\n",
       "    </tr>\n",
       "    <tr>\n",
       "      <th>116</th>\n",
       "      <td>448.304749</td>\n",
       "      <td>2022-03-01</td>\n",
       "      <td>7164072400</td>\n",
       "      <td>0.375</td>\n",
       "      <td>150856.0</td>\n",
       "      <td>8.542456</td>\n",
       "      <td>182.4</td>\n",
       "      <td>NaN</td>\n",
       "    </tr>\n",
       "    <tr>\n",
       "      <th>117</th>\n",
       "      <td>375.627411</td>\n",
       "      <td>2022-06-01</td>\n",
       "      <td>6233847400</td>\n",
       "      <td>1.625</td>\n",
       "      <td>152008.0</td>\n",
       "      <td>9.059758</td>\n",
       "      <td>191.3</td>\n",
       "      <td>NaN</td>\n",
       "    </tr>\n",
       "    <tr>\n",
       "      <th>118</th>\n",
       "      <td>427.100006</td>\n",
       "      <td>2022-09-01</td>\n",
       "      <td>2091644042</td>\n",
       "      <td>NaN</td>\n",
       "      <td>152536.0</td>\n",
       "      <td>NaN</td>\n",
       "      <td>NaN</td>\n",
       "      <td>NaN</td>\n",
       "    </tr>\n",
       "  </tbody>\n",
       "</table>\n",
       "</div>"
      ],
      "text/plain": [
       "      spy_close       date     spy_vol  us_ir       nfp     us_cp     pp  \\\n",
       "114  423.124054 2021-09-01  4421665700  0.125  147328.0  5.390349  165.0   \n",
       "115  469.801971 2021-12-01  4771450600  0.125  149240.0  7.036403  175.8   \n",
       "116  448.304749 2022-03-01  7164072400  0.375  150856.0  8.542456  182.4   \n",
       "117  375.627411 2022-06-01  6233847400  1.625  152008.0  9.059758  191.3   \n",
       "118  427.100006 2022-09-01  2091644042    NaN  152536.0       NaN    NaN   \n",
       "\n",
       "         us_tc  \n",
       "114  62933.826  \n",
       "115  64583.712  \n",
       "116        NaN  \n",
       "117        NaN  \n",
       "118        NaN  "
      ]
     },
     "execution_count": 262,
     "metadata": {},
     "output_type": "execute_result"
    }
   ],
   "source": [
    "X.tail()"
   ]
  },
  {
   "cell_type": "code",
   "execution_count": null,
   "metadata": {},
   "outputs": [],
   "source": []
  },
  {
   "cell_type": "code",
   "execution_count": null,
   "metadata": {},
   "outputs": [],
   "source": []
  },
  {
   "cell_type": "markdown",
   "metadata": {},
   "source": [
    "### Data Validation"
   ]
  },
  {
   "cell_type": "code",
   "execution_count": 263,
   "metadata": {},
   "outputs": [
    {
     "data": {
      "image/png": "[encoded data removed]",
      "text/plain": [
       "<Figure size 1080x1080 with 2 Axes>"
      ]
     },
     "metadata": {
      "needs_background": "light"
     },
     "output_type": "display_data"
    }
   ],
   "source": [
    "ax = plt.subplots(figsize=(15, 15))\n",
    "ax = sns.heatmap(X.corr())\n",
    "plt.show()"
   ]
  },
  {
   "cell_type": "code",
   "execution_count": 264,
   "metadata": {},
   "outputs": [
    {
     "name": "stdout",
     "output_type": "stream",
     "text": [
      "           spy_close   spy_vol     us_ir       nfp     us_cp        pp  \\\n",
      "spy_close        NaN  0.119004  0.474588  0.821240  0.261315  0.937943   \n",
      "spy_vol          NaN       NaN  0.585885  0.348987  0.167846  0.341022   \n",
      "us_ir            NaN       NaN       NaN  0.500664  0.228667  0.579680   \n",
      "nfp              NaN       NaN       NaN       NaN  0.073194  0.898545   \n",
      "us_cp            NaN       NaN       NaN       NaN       NaN  0.242753   \n",
      "pp               NaN       NaN       NaN       NaN       NaN       NaN   \n",
      "us_tc            NaN       NaN       NaN       NaN       NaN       NaN   \n",
      "\n",
      "              us_tc  \n",
      "spy_close  0.896461  \n",
      "spy_vol    0.485862  \n",
      "us_ir      0.720395  \n",
      "nfp        0.868460  \n",
      "us_cp      0.121494  \n",
      "pp         0.960722  \n",
      "us_tc           NaN  \n"
     ]
    },
    {
     "name": "stderr",
     "output_type": "stream",
     "text": [
      "C:\\Users\\hernam3l\\AppData\\Local\\Temp\\1\\ipykernel_6948\\1948483432.py:2: DeprecationWarning:\n",
      "\n",
      "`np.bool` is a deprecated alias for the builtin `bool`. To silence this warning, use `bool` by itself. Doing this will not modify any behavior and is safe. If you specifically wanted the numpy scalar type, use `np.bool_` here.\n",
      "Deprecated in NumPy 1.20; for more details and guidance: https://numpy.org/devdocs/release/1.20.0-notes.html#deprecations\n",
      "\n"
     ]
    }
   ],
   "source": [
    "cor_matrix = X.corr().abs()\n",
    "upper_tri = cor_matrix.where(np.triu(np.ones(cor_matrix.shape),k=1).astype(np.bool))\n",
    "print(upper_tri)"
   ]
  },
  {
   "cell_type": "code",
   "execution_count": 265,
   "metadata": {},
   "outputs": [
    {
     "data": {
      "text/plain": [
       "(array([30., 47.,  7., 12.,  7.,  5.,  3.,  2.,  3.,  3.]),\n",
       " array([ 26.161797 ,  70.5258144, 114.8898318, 159.2538492, 203.6178666,\n",
       "        247.981884 , 292.3459014, 336.7099188, 381.0739362, 425.4379536,\n",
       "        469.801971 ]),\n",
       " <BarContainer object of 10 artists>)"
      ]
     },
     "execution_count": 265,
     "metadata": {},
     "output_type": "execute_result"
    },
    {
     "data": {
      "image/png": "[encoded data removed]",
      "text/plain": [
       "<Figure size 432x288 with 1 Axes>"
      ]
     },
     "metadata": {
      "needs_background": "light"
     },
     "output_type": "display_data"
    }
   ],
   "source": [
    "plt.hist(X['spy_close'])"
   ]
  },
  {
   "cell_type": "code",
   "execution_count": 303,
   "metadata": {},
   "outputs": [],
   "source": [
    "def plotly_scatter(df: pd.DataFrame, config: dict):\n",
    "    '''\n",
    "    x for the name of the dataframe column you want in x axis\n",
    "    y the name of the dataframe column you want in y axis\n",
    "    title for plot title\n",
    "    '''\n",
    "\n",
    "    fig = px.scatter(df, x=config.get('x'), y=config.get('y'), color=config.get('color'), size=config.get('size'),\n",
    "                 title=config.get('title'), trendline='ols', color_continuous_scale='Magenta')\n",
    "\n",
    "    #fig = go.Scatter(x=df[config.get('x')], y=df[config.get('y')], mode='markers', line=go.scatter.Line(color=\"yellowgreen\"), name=config.get('title'))\n",
    "\n",
    "    return fig"
   ]
  },
  {
   "cell_type": "code",
   "execution_count": 304,
   "metadata": {},
   "outputs": [],
   "source": [
    "config = {\n",
    "            'x':'us_ir',\n",
    "            'y':'spy_close',\n",
    "            'size':'spy_vol',\n",
    "            'color':'us_ir',\n",
    "            'title':'Interest rates vs SPY'\n",
    "}\n",
    "fig1 = plotly_scatter(X, config)"
   ]
  },
  {
   "cell_type": "code",
   "execution_count": 305,
   "metadata": {},
   "outputs": [],
   "source": [
    "config = {\n",
    "            'x':'nfp',\n",
    "            'y':'spy_close',\n",
    "            'size':'spy_vol',\n",
    "            'color':'us_ir',\n",
    "            'title':'Employment vs SPY'\n",
    "}\n",
    "fig2 = plotly_scatter(X, config)"
   ]
  },
  {
   "cell_type": "code",
   "execution_count": 306,
   "metadata": {},
   "outputs": [],
   "source": [
    "config = {\n",
    "            'x':'pp',\n",
    "            'y':'spy_close',\n",
    "            'size':'spy_vol',\n",
    "            'color':'us_ir',\n",
    "            'title':'Property prices vs SPY'\n",
    "}\n",
    "fig3 = plotly_scatter(X, config)"
   ]
  },
  {
   "cell_type": "code",
   "execution_count": 307,
   "metadata": {},
   "outputs": [],
   "source": [
    "config = {\n",
    "            'x':'us_cp',\n",
    "            'y':'spy_close',\n",
    "            'size':'spy_vol',\n",
    "            'color':'us_ir',\n",
    "            'title':'Consumer prices vs SPY'\n",
    "}\n",
    "fig4 = plotly_scatter(X, config)"
   ]
  },
  {
   "cell_type": "code",
   "execution_count": 308,
   "metadata": {},
   "outputs": [],
   "source": [
    "config = {\n",
    "            'x':'us_tc',\n",
    "            'y':'spy_close',\n",
    "            'size':'spy_vol',\n",
    "            'color':'us_ir',\n",
    "            'title':'Credit vs SPY'\n",
    "}\n",
    "fig5 = plotly_scatter(X, config)"
   ]
  },
  {
   "cell_type": "code",
   "execution_count": 312,
   "metadata": {},
   "outputs": [
    {
     "data": {
      "application/vnd.plotly.v1+json": {
       "config": {
        "plotlyServerURL": "https://plot.ly"
       },
       "data": [
        {
         "hovertemplate": "us_ir=%{marker.color}<br>spy_close=%{y}<br>spy_vol=%{marker.size}<extra></extra>",
         "legendgroup": "",
         "marker": {
          "color": [
           3,
           3,
           3,
           3,
           3.5,
           4.25,
           4.75,
           5.5,
           6,
           6,
           5.75,
           5.5,
           5.25,
           5.25,
           5.25,
           5.25,
           5.5,
           5.5,
           5.5,
           5.5,
           5.5,
           5.5,
           5.25,
           4.75,
           4.75,
           5,
           5.25,
           5.5,
           6,
           6.5,
           6.5,
           6.5,
           5,
           3.75,
           3,
           1.75,
           1.75,
           1.75,
           1.75,
           1.25,
           1.25,
           1,
           1,
           1,
           1,
           1.25,
           1.75,
           2.25,
           2.75,
           3.25,
           3.75,
           4.25,
           4.75,
           5.25,
           5.25,
           5.25,
           5.25,
           5.25,
           4.75,
           4.25,
           2.25,
           2,
           2,
           0.125,
           0.125,
           0.125,
           0.125,
           0.125,
           0.125,
           0.125,
           0.125,
           0.125,
           0.125,
           0.125,
           0.125,
           0.125,
           0.125,
           0.125,
           0.125,
           0.125,
           0.125,
           0.125,
           0.125,
           0.125,
           0.125,
           0.125,
           0.125,
           0.125,
           0.125,
           0.125,
           0.125,
           0.375,
           0.375,
           0.375,
           0.375,
           0.625,
           0.875,
           1.125,
           1.125,
           1.375,
           1.625,
           1.875,
           2.125,
           2.375,
           2.375,
           2.375,
           1.875,
           1.625,
           0.125,
           0.125,
           0.125,
           0.125,
           0.125,
           0.125,
           0.125,
           0.125,
           0.375,
           1.625,
           null
          ],
          "coloraxis": "coloraxis",
          "size": [
           8436800,
           7943200,
           15927600,
           18452000,
           32517000,
           30326800,
           19707200,
           18813400,
           13260800,
           17172300,
           21039900,
           27603300,
           44534900,
           49324300,
           61620700,
           73834300,
           111166800,
           142485200,
           243048700,
           309760200,
           261632900,
           376887800,
           693193500,
           541548400,
           454235000,
           500014800,
           426567700,
           443400900,
           591304000,
           517416200,
           322348600,
           500509000,
           678090600,
           663457900,
           885648600,
           1193530900,
           1159450700,
           1391971000,
           3074268600,
           2890777400,
           2930438400,
           2745594300,
           2486475900,
           2140705500,
           2539654800,
           2671585200,
           2668403100,
           2914843200,
           3540368700,
           4057288700,
           3769876200,
           4041446000,
           3729932300,
           5216904300,
           4475334700,
           4158160800,
           5743183200,
           7802353300,
           13151604000,
           12616567000,
           15719984700,
           13070579600,
           19605751200,
           27564516900,
           22961091600,
           16273597200,
           12031376100,
           10796452800,
           12058443200,
           17007028100,
           13303016100,
           10473949600,
           10467847600,
           10860759200,
           19079503000,
           14583324100,
           8835919600,
           10684686400,
           7669567700,
           8642560500,
           7499571800,
           9221952800,
           6840785800,
           7065467800,
           7478919800,
           5802043100,
           5830057900,
           8559330800,
           7835067100,
           6464447700,
           9467197800,
           7385579500,
           8956988200,
           6351573400,
           5460549900,
           5621422000,
           4769019200,
           4614913700,
           3899345400,
           4401468400,
           7232790500,
           5203864700,
           3803439500,
           8148187500,
           5098489300,
           4395233500,
           4447937100,
           3709047600,
           9428236300,
           7088447300,
           4365421300,
           4508801900,
           5111787400,
           4291494900,
           4421665700,
           4771450600,
           7164072400,
           6233847400,
           2091644042
          ],
          "sizemode": "area",
          "sizeref": 68911292.25,
          "symbol": "circle"
         },
         "mode": "markers",
         "name": "",
         "orientation": "v",
         "showlegend": false,
         "type": "scatter",
         "x": [
          3,
          3,
          3,
          3,
          3.5,
          4.25,
          4.75,
          5.5,
          6,
          6,
          5.75,
          5.5,
          5.25,
          5.25,
          5.25,
          5.25,
          5.5,
          5.5,
          5.5,
          5.5,
          5.5,
          5.5,
          5.25,
          4.75,
          4.75,
          5,
          5.25,
          5.5,
          6,
          6.5,
          6.5,
          6.5,
          5,
          3.75,
          3,
          1.75,
          1.75,
          1.75,
          1.75,
          1.25,
          1.25,
          1,
          1,
          1,
          1,
          1.25,
          1.75,
          2.25,
          2.75,
          3.25,
          3.75,
          4.25,
          4.75,
          5.25,
          5.25,
          5.25,
          5.25,
          5.25,
          4.75,
          4.25,
          2.25,
          2,
          2,
          0.125,
          0.125,
          0.125,
          0.125,
          0.125,
          0.125,
          0.125,
          0.125,
          0.125,
          0.125,
          0.125,
          0.125,
          0.125,
          0.125,
          0.125,
          0.125,
          0.125,
          0.125,
          0.125,
          0.125,
          0.125,
          0.125,
          0.125,
          0.125,
          0.125,
          0.125,
          0.125,
          0.125,
          0.375,
          0.375,
          0.375,
          0.375,
          0.625,
          0.875,
          1.125,
          1.125,
          1.375,
          1.625,
          1.875,
          2.125,
          2.375,
          2.375,
          2.375,
          1.875,
          1.625,
          0.125,
          0.125,
          0.125,
          0.125,
          0.125,
          0.125,
          0.125,
          0.125,
          0.375,
          1.625,
          null
         ],
         "xaxis": "x",
         "y": [
          26.161797,
          26.212654,
          26.911003,
          27.465502,
          26.466524,
          26.544582,
          27.743454,
          27.543797,
          30.534035,
          33.331772,
          36.040649,
          38.091599,
          40.323799,
          42.019318,
          43.195976,
          46.720127,
          47.923275,
          56.363941,
          60.467785,
          62.41787,
          70.978668,
          73.367844,
          66.090965,
          80.379631,
          83.957565,
          89.815681,
          84.66188,
          96.852272,
          99.403679,
          96.280594,
          95.407059,
          87.364044,
          77.947838,
          82.116127,
          70.151703,
          77.062698,
          77.476593,
          67.141495,
          55.686378,
          60.340317,
          58.238285,
          67.367592,
          69.217636,
          77.359711,
          78.996475,
          80.275711,
          78.620125,
          85.635742,
          83.968796,
          85.170448,
          88.283867,
          89.718925,
          94.048309,
          92.567734,
          97.579002,
          103.907127,
          104.766449,
          111.426201,
          113.505875,
          109.283157,
          99.163101,
          96.641068,
          88.025208,
          68.879814,
          61.190063,
          71.261253,
          82.29451,
          87.267555,
          92.114815,
          81.60041,
          90.654533,
          100.419136,
          106.438171,
          106.400658,
          91.679367,
          102.211952,
          115.408318,
          112.036812,
          119.129486,
          118.467674,
          131.254623,
          134.994003,
          142.129181,
          157.001282,
          159.836533,
          168.019196,
          169.945679,
          178.123627,
          179.882248,
          180.177551,
          168.546906,
          180.24469,
          182.784882,
          187.267731,
          194.370117,
          201.881729,
          214.164185,
          220.625183,
          230.34729,
          245.892288,
          243.713242,
          252.248947,
          271.539093,
          234.487656,
          266.584839,
          277.730896,
          282.672516,
          307.986389,
          247.852448,
          298.262604,
          325.349426,
          364.682617,
          388.228149,
          420.682831,
          423.124054,
          469.801971,
          448.304749,
          375.627411,
          427.100006
         ],
         "yaxis": "y"
        },
        {
         "hovertemplate": "<b>OLS trendline</b><br>spy_close = -21.529 * us_ir + 183.333<br>R<sup>2</sup>=0.225234<br><br>us_ir=%{x}<br>spy_close=%{y} <b>(trend)</b><extra></extra>",
         "legendgroup": "",
         "marker": {
          "symbol": "circle"
         },
         "mode": "lines",
         "name": "",
         "showlegend": false,
         "type": "scatter",
         "x": [
          0.125,
          0.125,
          0.125,
          0.125,
          0.125,
          0.125,
          0.125,
          0.125,
          0.125,
          0.125,
          0.125,
          0.125,
          0.125,
          0.125,
          0.125,
          0.125,
          0.125,
          0.125,
          0.125,
          0.125,
          0.125,
          0.125,
          0.125,
          0.125,
          0.125,
          0.125,
          0.125,
          0.125,
          0.125,
          0.125,
          0.125,
          0.125,
          0.125,
          0.125,
          0.125,
          0.125,
          0.375,
          0.375,
          0.375,
          0.375,
          0.375,
          0.625,
          0.875,
          1,
          1,
          1,
          1,
          1.125,
          1.125,
          1.25,
          1.25,
          1.25,
          1.375,
          1.625,
          1.625,
          1.625,
          1.75,
          1.75,
          1.75,
          1.75,
          1.75,
          1.875,
          1.875,
          2,
          2,
          2.125,
          2.25,
          2.25,
          2.375,
          2.375,
          2.375,
          2.75,
          3,
          3,
          3,
          3,
          3,
          3.25,
          3.5,
          3.75,
          3.75,
          4.25,
          4.25,
          4.25,
          4.75,
          4.75,
          4.75,
          4.75,
          4.75,
          5,
          5,
          5.25,
          5.25,
          5.25,
          5.25,
          5.25,
          5.25,
          5.25,
          5.25,
          5.25,
          5.25,
          5.25,
          5.5,
          5.5,
          5.5,
          5.5,
          5.5,
          5.5,
          5.5,
          5.5,
          5.5,
          5.75,
          6,
          6,
          6,
          6.5,
          6.5,
          6.5
         ],
         "xaxis": "x",
         "y": [
          180.64211898908522,
          180.64211898908522,
          180.64211898908522,
          180.64211898908522,
          180.64211898908522,
          180.64211898908522,
          180.64211898908522,
          180.64211898908522,
          180.64211898908522,
          180.64211898908522,
          180.64211898908522,
          180.64211898908522,
          180.64211898908522,
          180.64211898908522,
          180.64211898908522,
          180.64211898908522,
          180.64211898908522,
          180.64211898908522,
          180.64211898908522,
          180.64211898908522,
          180.64211898908522,
          180.64211898908522,
          180.64211898908522,
          180.64211898908522,
          180.64211898908522,
          180.64211898908522,
          180.64211898908522,
          180.64211898908522,
          180.64211898908522,
          180.64211898908522,
          180.64211898908522,
          180.64211898908522,
          180.64211898908522,
          180.64211898908522,
          180.64211898908522,
          180.64211898908522,
          175.25987820945556,
          175.25987820945556,
          175.25987820945556,
          175.25987820945556,
          175.25987820945556,
          169.8776374298259,
          164.49539665019628,
          161.80427626038144,
          161.80427626038144,
          161.80427626038144,
          161.80427626038144,
          159.11315587056663,
          159.11315587056663,
          156.4220354807518,
          156.4220354807518,
          156.4220354807518,
          153.73091509093697,
          148.34867431130732,
          148.34867431130732,
          148.34867431130732,
          145.6575539214925,
          145.6575539214925,
          145.6575539214925,
          145.6575539214925,
          145.6575539214925,
          142.9664335316777,
          142.9664335316777,
          140.27531314186285,
          140.27531314186285,
          137.58419275204804,
          134.89307236223323,
          134.89307236223323,
          132.20195197241839,
          132.20195197241839,
          132.20195197241839,
          124.12859080297393,
          118.74635002334429,
          118.74635002334429,
          118.74635002334429,
          118.74635002334429,
          118.74635002334429,
          113.36410924371464,
          107.981868464085,
          102.59962768445534,
          102.59962768445534,
          91.83514612519606,
          91.83514612519606,
          91.83514612519606,
          81.07066456593677,
          81.07066456593677,
          81.07066456593677,
          81.07066456593677,
          81.07066456593677,
          75.68842378630711,
          75.68842378630711,
          70.30618300667747,
          70.30618300667747,
          70.30618300667747,
          70.30618300667747,
          70.30618300667747,
          70.30618300667747,
          70.30618300667747,
          70.30618300667747,
          70.30618300667747,
          70.30618300667747,
          70.30618300667747,
          64.92394222704783,
          64.92394222704783,
          64.92394222704783,
          64.92394222704783,
          64.92394222704783,
          64.92394222704783,
          64.92394222704783,
          64.92394222704783,
          64.92394222704783,
          59.54170144741818,
          54.15946066778855,
          54.15946066778855,
          54.15946066778855,
          43.39497910852924,
          43.39497910852924,
          43.39497910852924
         ],
         "yaxis": "y"
        },
        {
         "hovertemplate": "nfp=%{x}<br>spy_close=%{y}<br>spy_vol=%{marker.size}<br>us_ir=%{marker.color}<extra></extra>",
         "legendgroup": "",
         "marker": {
          "color": [
           3,
           3,
           3,
           3,
           3.5,
           4.25,
           4.75,
           5.5,
           6,
           6,
           5.75,
           5.5,
           5.25,
           5.25,
           5.25,
           5.25,
           5.5,
           5.5,
           5.5,
           5.5,
           5.5,
           5.5,
           5.25,
           4.75,
           4.75,
           5,
           5.25,
           5.5,
           6,
           6.5,
           6.5,
           6.5,
           5,
           3.75,
           3,
           1.75,
           1.75,
           1.75,
           1.75,
           1.25,
           1.25,
           1,
           1,
           1,
           1,
           1.25,
           1.75,
           2.25,
           2.75,
           3.25,
           3.75,
           4.25,
           4.75,
           5.25,
           5.25,
           5.25,
           5.25,
           5.25,
           4.75,
           4.25,
           2.25,
           2,
           2,
           0.125,
           0.125,
           0.125,
           0.125,
           0.125,
           0.125,
           0.125,
           0.125,
           0.125,
           0.125,
           0.125,
           0.125,
           0.125,
           0.125,
           0.125,
           0.125,
           0.125,
           0.125,
           0.125,
           0.125,
           0.125,
           0.125,
           0.125,
           0.125,
           0.125,
           0.125,
           0.125,
           0.125,
           0.375,
           0.375,
           0.375,
           0.375,
           0.625,
           0.875,
           1.125,
           1.125,
           1.375,
           1.625,
           1.875,
           2.125,
           2.375,
           2.375,
           2.375,
           1.875,
           1.625,
           0.125,
           0.125,
           0.125,
           0.125,
           0.125,
           0.125,
           0.125,
           0.125,
           0.375,
           1.625,
           null
          ],
          "coloraxis": "coloraxis",
          "size": [
           8436800,
           7943200,
           15927600,
           18452000,
           32517000,
           30326800,
           19707200,
           18813400,
           13260800,
           17172300,
           21039900,
           27603300,
           44534900,
           49324300,
           61620700,
           73834300,
           111166800,
           142485200,
           243048700,
           309760200,
           261632900,
           376887800,
           693193500,
           541548400,
           454235000,
           500014800,
           426567700,
           443400900,
           591304000,
           517416200,
           322348600,
           500509000,
           678090600,
           663457900,
           885648600,
           1193530900,
           1159450700,
           1391971000,
           3074268600,
           2890777400,
           2930438400,
           2745594300,
           2486475900,
           2140705500,
           2539654800,
           2671585200,
           2668403100,
           2914843200,
           3540368700,
           4057288700,
           3769876200,
           4041446000,
           3729932300,
           5216904300,
           4475334700,
           4158160800,
           5743183200,
           7802353300,
           13151604000,
           12616567000,
           15719984700,
           13070579600,
           19605751200,
           27564516900,
           22961091600,
           16273597200,
           12031376100,
           10796452800,
           12058443200,
           17007028100,
           13303016100,
           10473949600,
           10467847600,
           10860759200,
           19079503000,
           14583324100,
           8835919600,
           10684686400,
           7669567700,
           8642560500,
           7499571800,
           9221952800,
           6840785800,
           7065467800,
           7478919800,
           5802043100,
           5830057900,
           8559330800,
           7835067100,
           6464447700,
           9467197800,
           7385579500,
           8956988200,
           6351573400,
           5460549900,
           5621422000,
           4769019200,
           4614913700,
           3899345400,
           4401468400,
           7232790500,
           5203864700,
           3803439500,
           8148187500,
           5098489300,
           4395233500,
           4447937100,
           3709047600,
           9428236300,
           7088447300,
           4365421300,
           4508801900,
           5111787400,
           4291494900,
           4421665700,
           4771450600,
           7164072400,
           6233847400,
           2091644042
          ],
          "sizemode": "area",
          "sizeref": 68911292.25,
          "symbol": "circle"
         },
         "mode": "markers",
         "name": "",
         "orientation": "v",
         "showlegend": false,
         "type": "scatter",
         "x": [
          109994,
          110749,
          111448,
          112314,
          113242,
          114238,
          115247,
          116165,
          116907,
          117286,
          117875,
          118320,
          118993,
          119769,
          120410,
          121143,
          121990,
          122814,
          123585,
          124549,
          125164,
          126076,
          126752,
          127596,
          128227,
          129089,
          129772,
          130772,
          131596,
          132061,
          132353,
          132709,
          132747,
          132299,
          131771,
          130982,
          130717,
          130684,
          130501,
          130472,
          130232,
          130194,
          130254,
          130588,
          131142,
          131793,
          132093,
          132624,
          133156,
          133942,
          134566,
          135149,
          136047,
          136325,
          136843,
          137249,
          137793,
          138069,
          138095,
          138392,
          138275,
          137687,
          136753,
          134839,
          132512,
          131008,
          130244,
          129788,
          129879,
          130511,
          130357,
          130822,
          131288,
          131939,
          132358,
          132896,
          133752,
          134007,
          134518,
          135072,
          135680,
          136274,
          136815,
          137373,
          137968,
          138837,
          139566,
          140377,
          140910,
          141699,
          142281,
          143097,
          143654,
          144150,
          144953,
          145415,
          145960,
          146585,
          147012,
          147529,
          148289,
          148984,
          149326,
          149821,
          150348,
          150843,
          151244,
          151789,
          151006,
          137660,
          141632,
          142497,
          144431,
          145698,
          147328,
          149240,
          150856,
          152008,
          152536
         ],
         "xaxis": "x2",
         "y": [
          26.161797,
          26.212654,
          26.911003,
          27.465502,
          26.466524,
          26.544582,
          27.743454,
          27.543797,
          30.534035,
          33.331772,
          36.040649,
          38.091599,
          40.323799,
          42.019318,
          43.195976,
          46.720127,
          47.923275,
          56.363941,
          60.467785,
          62.41787,
          70.978668,
          73.367844,
          66.090965,
          80.379631,
          83.957565,
          89.815681,
          84.66188,
          96.852272,
          99.403679,
          96.280594,
          95.407059,
          87.364044,
          77.947838,
          82.116127,
          70.151703,
          77.062698,
          77.476593,
          67.141495,
          55.686378,
          60.340317,
          58.238285,
          67.367592,
          69.217636,
          77.359711,
          78.996475,
          80.275711,
          78.620125,
          85.635742,
          83.968796,
          85.170448,
          88.283867,
          89.718925,
          94.048309,
          92.567734,
          97.579002,
          103.907127,
          104.766449,
          111.426201,
          113.505875,
          109.283157,
          99.163101,
          96.641068,
          88.025208,
          68.879814,
          61.190063,
          71.261253,
          82.29451,
          87.267555,
          92.114815,
          81.60041,
          90.654533,
          100.419136,
          106.438171,
          106.400658,
          91.679367,
          102.211952,
          115.408318,
          112.036812,
          119.129486,
          118.467674,
          131.254623,
          134.994003,
          142.129181,
          157.001282,
          159.836533,
          168.019196,
          169.945679,
          178.123627,
          179.882248,
          180.177551,
          168.546906,
          180.24469,
          182.784882,
          187.267731,
          194.370117,
          201.881729,
          214.164185,
          220.625183,
          230.34729,
          245.892288,
          243.713242,
          252.248947,
          271.539093,
          234.487656,
          266.584839,
          277.730896,
          282.672516,
          307.986389,
          247.852448,
          298.262604,
          325.349426,
          364.682617,
          388.228149,
          420.682831,
          423.124054,
          469.801971,
          448.304749,
          375.627411,
          427.100006
         ],
         "yaxis": "y2"
        },
        {
         "hovertemplate": "<b>OLS trendline</b><br>spy_close = 0.00831864 * nfp + -980.45<br>R<sup>2</sup>=0.674435<br><br>nfp=%{x}<br>spy_close=%{y} <b>(trend)</b><extra></extra>",
         "legendgroup": "",
         "marker": {
          "symbol": "circle"
         },
         "mode": "lines",
         "name": "",
         "showlegend": false,
         "type": "scatter",
         "x": [
          109994,
          110749,
          111448,
          112314,
          113242,
          114238,
          115247,
          116165,
          116907,
          117286,
          117875,
          118320,
          118993,
          119769,
          120410,
          121143,
          121990,
          122814,
          123585,
          124549,
          125164,
          126076,
          126752,
          127596,
          128227,
          129089,
          129772,
          129788,
          129879,
          130194,
          130232,
          130244,
          130254,
          130357,
          130472,
          130501,
          130511,
          130588,
          130684,
          130717,
          130772,
          130822,
          130982,
          131008,
          131142,
          131288,
          131596,
          131771,
          131793,
          131939,
          132061,
          132093,
          132299,
          132353,
          132358,
          132512,
          132624,
          132709,
          132747,
          132896,
          133156,
          133752,
          133942,
          134007,
          134518,
          134566,
          134839,
          135072,
          135149,
          135680,
          136047,
          136274,
          136325,
          136753,
          136815,
          136843,
          137249,
          137373,
          137660,
          137687,
          137793,
          137968,
          138069,
          138095,
          138275,
          138392,
          138837,
          139566,
          140377,
          140910,
          141632,
          141699,
          142281,
          142497,
          143097,
          143654,
          144150,
          144431,
          144953,
          145415,
          145698,
          145960,
          146585,
          147012,
          147328,
          147529,
          148289,
          148984,
          149240,
          149326,
          149821,
          150348,
          150843,
          150856,
          151006,
          151244,
          151789,
          152008,
          152536
         ],
         "xaxis": "x2",
         "y": [
          -65.44974076745007,
          -59.16916715822492,
          -53.35443741935285,
          -46.15049470996348,
          -38.43079628696887,
          -30.14543030711684,
          -21.751922000218542,
          -14.11540998264411,
          -7.942978700465233,
          -4.79021393503956,
          0.10946534421020715,
          3.8112603854091276,
          9.409705470188669,
          15.864970530796313,
          21.197219118231146,
          27.294782635531874,
          34.34067117462291,
          41.195230981247505,
          47.60890283914489,
          55.62807232165244,
          60.74403625499474,
          68.330636429317,
          73.95403743572263,
          80.97497005318758,
          86.22403223520212,
          93.3947003824236,
          99.0763318726232,
          99.20943012129567,
          99.96642641061942,
          102.58679818135568,
          102.90290652195256,
          103.00273020845668,
          103.08591661387698,
          103.94273658970508,
          104.8993802520373,
          105.14062082775592,
          105.22380723317622,
          105.86434255491156,
          106.66293204694568,
          106.9374471848322,
          107.39497241464335,
          107.81090444174436,
          109.14188692846767,
          109.3581715825602,
          110.47286941519076,
          111.68739093432566,
          114.24953222126794,
          115.70529431612147,
          115.88830440804588,
          117.10282592718079,
          118.11770007330722,
          118.38389657065193,
          120.09753652230813,
          120.54674311157703,
          120.58833631428718,
          121.86940695775832,
          122.80109469846468,
          123.50817914453626,
          123.82428748513314,
          125.06376492589413,
          127.22661146681924,
          132.1845212298632,
          133.76506293284694,
          134.3057745680784,
          138.55659988505056,
          138.9558946310675,
          141.226883499039,
          143.16512674532976,
          143.80566206706533,
          148.22286019487808,
          151.2758012737994,
          153.164132676838,
          153.58838334448103,
          157.14876149646545,
          157.6645172100708,
          157.8974391452474,
          161.2748072053074,
          162.3063186325179,
          164.6937684680778,
          164.91837176271235,
          165.80014766016654,
          167.25590975501984,
          168.0960924497639,
          168.31237710385642,
          169.8097324014201,
          170.78301334483638,
          174.4848083860353,
          180.54909734116802,
          187.29551482074646,
          191.72935022964305,
          197.73540870098157,
          198.29275761729684,
          203.13420641275263,
          204.9310327698289,
          209.922217095041,
          214.55569987694628,
          218.68174558578824,
          221.01928357809572,
          225.3616139410302,
          229.20482587144363,
          231.55900114483518,
          233.73848496684457,
          238.93763530560716,
          242.48969481704955,
          245.11838522832807,
          246.79043197727412,
          253.1125987892093,
          258.89405396591326,
          261.02362594467047,
          261.7390290312841,
          265.856756099584,
          270.24067966522864,
          274.35840673352857,
          274.46654906057495,
          275.71434514187797,
          277.69418159087866,
          282.2278406862796,
          284.04962296498195,
          288.4418651711686
         ],
         "yaxis": "y2"
        },
        {
         "hovertemplate": "pp=%{x}<br>spy_close=%{y}<br>spy_vol=%{marker.size}<br>us_ir=%{marker.color}<extra></extra>",
         "legendgroup": "",
         "marker": {
          "color": [
           3,
           3,
           3,
           3,
           3.5,
           4.25,
           4.75,
           5.5,
           6,
           6,
           5.75,
           5.5,
           5.25,
           5.25,
           5.25,
           5.25,
           5.5,
           5.5,
           5.5,
           5.5,
           5.5,
           5.5,
           5.25,
           4.75,
           4.75,
           5,
           5.25,
           5.5,
           6,
           6.5,
           6.5,
           6.5,
           5,
           3.75,
           3,
           1.75,
           1.75,
           1.75,
           1.75,
           1.25,
           1.25,
           1,
           1,
           1,
           1,
           1.25,
           1.75,
           2.25,
           2.75,
           3.25,
           3.75,
           4.25,
           4.75,
           5.25,
           5.25,
           5.25,
           5.25,
           5.25,
           4.75,
           4.25,
           2.25,
           2,
           2,
           0.125,
           0.125,
           0.125,
           0.125,
           0.125,
           0.125,
           0.125,
           0.125,
           0.125,
           0.125,
           0.125,
           0.125,
           0.125,
           0.125,
           0.125,
           0.125,
           0.125,
           0.125,
           0.125,
           0.125,
           0.125,
           0.125,
           0.125,
           0.125,
           0.125,
           0.125,
           0.125,
           0.125,
           0.375,
           0.375,
           0.375,
           0.375,
           0.625,
           0.875,
           1.125,
           1.125,
           1.375,
           1.625,
           1.875,
           2.125,
           2.375,
           2.375,
           2.375,
           1.875,
           1.625,
           0.125,
           0.125,
           0.125,
           0.125,
           0.125,
           0.125,
           0.125,
           0.125,
           0.375,
           1.625,
           null
          ],
          "coloraxis": "coloraxis",
          "size": [
           8436800,
           7943200,
           15927600,
           18452000,
           32517000,
           30326800,
           19707200,
           18813400,
           13260800,
           17172300,
           21039900,
           27603300,
           44534900,
           49324300,
           61620700,
           73834300,
           111166800,
           142485200,
           243048700,
           309760200,
           261632900,
           376887800,
           693193500,
           541548400,
           454235000,
           500014800,
           426567700,
           443400900,
           591304000,
           517416200,
           322348600,
           500509000,
           678090600,
           663457900,
           885648600,
           1193530900,
           1159450700,
           1391971000,
           3074268600,
           2890777400,
           2930438400,
           2745594300,
           2486475900,
           2140705500,
           2539654800,
           2671585200,
           2668403100,
           2914843200,
           3540368700,
           4057288700,
           3769876200,
           4041446000,
           3729932300,
           5216904300,
           4475334700,
           4158160800,
           5743183200,
           7802353300,
           13151604000,
           12616567000,
           15719984700,
           13070579600,
           19605751200,
           27564516900,
           22961091600,
           16273597200,
           12031376100,
           10796452800,
           12058443200,
           17007028100,
           13303016100,
           10473949600,
           10467847600,
           10860759200,
           19079503000,
           14583324100,
           8835919600,
           10684686400,
           7669567700,
           8642560500,
           7499571800,
           9221952800,
           6840785800,
           7065467800,
           7478919800,
           5802043100,
           5830057900,
           8559330800,
           7835067100,
           6464447700,
           9467197800,
           7385579500,
           8956988200,
           6351573400,
           5460549900,
           5621422000,
           4769019200,
           4614913700,
           3899345400,
           4401468400,
           7232790500,
           5203864700,
           3803439500,
           8148187500,
           5098489300,
           4395233500,
           4447937100,
           3709047600,
           9428236300,
           7088447300,
           4365421300,
           4508801900,
           5111787400,
           4291494900,
           4421665700,
           4771450600,
           7164072400,
           6233847400,
           2091644042
          ],
          "sizemode": "area",
          "sizeref": 68911292.25,
          "symbol": "circle"
         },
         "mode": "markers",
         "name": "",
         "orientation": "v",
         "showlegend": false,
         "type": "scatter",
         "x": [
          57.9,
          59.9,
          59.7,
          59.6,
          62.4,
          62.9,
          63.1,
          63.4,
          63.7,
          64.2,
          64.7,
          63.6,
          65.9,
          65.7,
          67.1,
          65.6,
          66.6,
          67.8,
          67.5,
          67.1,
          68.8,
          68.2,
          69.4,
          70.1,
          71.1,
          72.7,
          73,
          73,
          74.3,
          74.5,
          75.8,
          76.2,
          76.9,
          77.3,
          78.1,
          79.1,
          80.9,
          81.3,
          80.6,
          83.8,
          84.3,
          84.6,
          87.1,
          88.5,
          91.3,
          91.8,
          94.8,
          95,
          96.5,
          99.2,
          101.4,
          103.9,
          104.1,
          105.7,
          104.8,
          103.8,
          107.2,
          105.9,
          103,
          102.1,
          98.8,
          102.2,
          100.2,
          95.7,
          92.7,
          96.2,
          94.3,
          96.2,
          94.8,
          95.2,
          94.2,
          96.3,
          93.7,
          94.5,
          93,
          94,
          94,
          95.2,
          98.9,
          100,
          101.3,
          104.7,
          104.8,
          105.8,
          106.8,
          112.7,
          112.1,
          114.4,
          111,
          110.7,
          112.8,
          116.9,
          119,
          119,
          122.4,
          123.7,
          124.7,
          126.4,
          128.4,
          127.8,
          129.8,
          131,
          132.5,
          135.1,
          129.9,
          133.9,
          137.7,
          137.1,
          135.7,
          137.5,
          142.4,
          144.6,
          152.5,
          156.5,
          165,
          175.8,
          182.4,
          191.3,
          null
         ],
         "xaxis": "x3",
         "y": [
          26.161797,
          26.212654,
          26.911003,
          27.465502,
          26.466524,
          26.544582,
          27.743454,
          27.543797,
          30.534035,
          33.331772,
          36.040649,
          38.091599,
          40.323799,
          42.019318,
          43.195976,
          46.720127,
          47.923275,
          56.363941,
          60.467785,
          62.41787,
          70.978668,
          73.367844,
          66.090965,
          80.379631,
          83.957565,
          89.815681,
          84.66188,
          96.852272,
          99.403679,
          96.280594,
          95.407059,
          87.364044,
          77.947838,
          82.116127,
          70.151703,
          77.062698,
          77.476593,
          67.141495,
          55.686378,
          60.340317,
          58.238285,
          67.367592,
          69.217636,
          77.359711,
          78.996475,
          80.275711,
          78.620125,
          85.635742,
          83.968796,
          85.170448,
          88.283867,
          89.718925,
          94.048309,
          92.567734,
          97.579002,
          103.907127,
          104.766449,
          111.426201,
          113.505875,
          109.283157,
          99.163101,
          96.641068,
          88.025208,
          68.879814,
          61.190063,
          71.261253,
          82.29451,
          87.267555,
          92.114815,
          81.60041,
          90.654533,
          100.419136,
          106.438171,
          106.400658,
          91.679367,
          102.211952,
          115.408318,
          112.036812,
          119.129486,
          118.467674,
          131.254623,
          134.994003,
          142.129181,
          157.001282,
          159.836533,
          168.019196,
          169.945679,
          178.123627,
          179.882248,
          180.177551,
          168.546906,
          180.24469,
          182.784882,
          187.267731,
          194.370117,
          201.881729,
          214.164185,
          220.625183,
          230.34729,
          245.892288,
          243.713242,
          252.248947,
          271.539093,
          234.487656,
          266.584839,
          277.730896,
          282.672516,
          307.986389,
          247.852448,
          298.262604,
          325.349426,
          364.682617,
          388.228149,
          420.682831,
          423.124054,
          469.801971,
          448.304749,
          375.627411,
          427.100006
         ],
         "yaxis": "y3"
        },
        {
         "hovertemplate": "<b>OLS trendline</b><br>spy_close = 3.33275 * pp + -196.41<br>R<sup>2</sup>=0.879736<br><br>pp=%{x}<br>spy_close=%{y} <b>(trend)</b><extra></extra>",
         "legendgroup": "",
         "marker": {
          "symbol": "circle"
         },
         "mode": "lines",
         "name": "",
         "showlegend": false,
         "type": "scatter",
         "x": [
          57.9,
          59.6,
          59.7,
          59.9,
          62.4,
          62.9,
          63.1,
          63.4,
          63.6,
          63.7,
          64.2,
          64.7,
          65.6,
          65.7,
          65.9,
          66.6,
          67.1,
          67.1,
          67.5,
          67.8,
          68.2,
          68.8,
          69.4,
          70.1,
          71.1,
          72.7,
          73,
          73,
          74.3,
          74.5,
          75.8,
          76.2,
          76.9,
          77.3,
          78.1,
          79.1,
          80.6,
          80.9,
          81.3,
          83.8,
          84.3,
          84.6,
          87.1,
          88.5,
          91.3,
          91.8,
          92.7,
          93,
          93.7,
          94,
          94,
          94.2,
          94.3,
          94.5,
          94.8,
          94.8,
          95,
          95.2,
          95.2,
          95.7,
          96.2,
          96.2,
          96.3,
          96.5,
          98.8,
          98.9,
          99.2,
          100,
          100.2,
          101.3,
          101.4,
          102.1,
          102.2,
          103,
          103.8,
          103.9,
          104.1,
          104.7,
          104.8,
          104.8,
          105.7,
          105.8,
          105.9,
          106.8,
          107.2,
          110.7,
          111,
          112.1,
          112.7,
          112.8,
          114.4,
          116.9,
          119,
          119,
          122.4,
          123.7,
          124.7,
          126.4,
          127.8,
          128.4,
          129.8,
          129.9,
          131,
          132.5,
          133.9,
          135.1,
          135.7,
          137.1,
          137.5,
          137.7,
          142.4,
          144.6,
          152.5,
          156.5,
          165,
          175.8,
          182.4,
          191.3
         ],
         "xaxis": "x3",
         "y": [
          -3.4435222167502957,
          2.222156718070437,
          2.5554319495304583,
          3.2219824124505294,
          11.553863198951603,
          13.220239356251824,
          13.886789819171923,
          14.886615513552016,
          15.553165976472116,
          15.886441207932165,
          17.552817365232386,
          19.219193522532606,
          22.21867060567294,
          22.55194583713302,
          23.21849630005312,
          25.55142292027338,
          27.217799077573574,
          27.217799077573574,
          28.550900003413773,
          29.550725697793894,
          30.883826623634064,
          32.883478012394306,
          34.883129401154605,
          37.21605602137487,
          40.54880833597528,
          45.88121203933599,
          46.88103773371611,
          46.88103773371611,
          51.213615742696646,
          51.880166205616746,
          56.21274421459728,
          57.54584514043748,
          59.8787717606578,
          61.21187268649794,
          63.878074538178225,
          67.21082685277867,
          72.2099553246793,
          73.20978101905945,
          74.54288194489959,
          82.87476273140066,
          84.54113888870091,
          85.540964583081,
          93.87284536958208,
          98.53869861002266,
          107.87040509090383,
          109.53678124820408,
          112.53625833134447,
          113.53608402572456,
          115.86901064594491,
          116.868836340325,
          116.868836340325,
          117.5353868032451,
          117.86866203470515,
          118.5352124976252,
          119.53503819200535,
          119.53503819200535,
          120.20158865492544,
          120.86813911784554,
          120.86813911784554,
          122.53451527514574,
          124.20089143244593,
          124.20089143244593,
          124.53416666390598,
          125.20071712682608,
          132.86604745040705,
          133.1993226818671,
          134.19914837624725,
          136.86535022792754,
          137.53190069084764,
          141.19792823690807,
          141.53120346836818,
          143.8641300885884,
          144.19740532004852,
          146.8636071717288,
          149.52980902340914,
          149.86308425486925,
          150.5296347177893,
          152.52928610654953,
          152.86256133800958,
          152.86256133800958,
          155.86203842114998,
          156.19531365261003,
          156.52858888407007,
          159.5280659672104,
          160.8611668930506,
          172.52579999415212,
          173.52562568853222,
          177.19165323459265,
          179.19130462335295,
          179.524579854813,
          184.85698355817368,
          193.18886434467476,
          200.18764420533563,
          200.18764420533563,
          211.5190020749771,
          215.85158008395763,
          219.184332398558,
          224.85001133337875,
          229.51586457381933,
          231.51551596257963,
          236.1813692030202,
          236.51464443448026,
          240.1806719805407,
          245.17980045244133,
          249.84565369288197,
          253.8449564704024,
          255.84460785916264,
          260.5104610996033,
          261.8435620254435,
          262.5101124883635,
          278.1740483669856,
          285.50610345910644,
          311.8348467444498,
          325.1658560028515,
          353.4942506769551,
          389.4879756746397,
          411.48414095100253,
          441.14563655094634
         ],
         "yaxis": "y3"
        },
        {
         "hovertemplate": "us_cp=%{x}<br>spy_close=%{y}<br>spy_vol=%{marker.size}<br>us_ir=%{marker.color}<extra></extra>",
         "legendgroup": "",
         "marker": {
          "color": [
           3,
           3,
           3,
           3,
           3.5,
           4.25,
           4.75,
           5.5,
           6,
           6,
           5.75,
           5.5,
           5.25,
           5.25,
           5.25,
           5.25,
           5.5,
           5.5,
           5.5,
           5.5,
           5.5,
           5.5,
           5.25,
           4.75,
           4.75,
           5,
           5.25,
           5.5,
           6,
           6.5,
           6.5,
           6.5,
           5,
           3.75,
           3,
           1.75,
           1.75,
           1.75,
           1.75,
           1.25,
           1.25,
           1,
           1,
           1,
           1,
           1.25,
           1.75,
           2.25,
           2.75,
           3.25,
           3.75,
           4.25,
           4.75,
           5.25,
           5.25,
           5.25,
           5.25,
           5.25,
           4.75,
           4.25,
           2.25,
           2,
           2,
           0.125,
           0.125,
           0.125,
           0.125,
           0.125,
           0.125,
           0.125,
           0.125,
           0.125,
           0.125,
           0.125,
           0.125,
           0.125,
           0.125,
           0.125,
           0.125,
           0.125,
           0.125,
           0.125,
           0.125,
           0.125,
           0.125,
           0.125,
           0.125,
           0.125,
           0.125,
           0.125,
           0.125,
           0.375,
           0.375,
           0.375,
           0.375,
           0.625,
           0.875,
           1.125,
           1.125,
           1.375,
           1.625,
           1.875,
           2.125,
           2.375,
           2.375,
           2.375,
           1.875,
           1.625,
           0.125,
           0.125,
           0.125,
           0.125,
           0.125,
           0.125,
           0.125,
           0.125,
           0.375,
           1.625,
           null
          ],
          "coloraxis": "coloraxis",
          "size": [
           8436800,
           7943200,
           15927600,
           18452000,
           32517000,
           30326800,
           19707200,
           18813400,
           13260800,
           17172300,
           21039900,
           27603300,
           44534900,
           49324300,
           61620700,
           73834300,
           111166800,
           142485200,
           243048700,
           309760200,
           261632900,
           376887800,
           693193500,
           541548400,
           454235000,
           500014800,
           426567700,
           443400900,
           591304000,
           517416200,
           322348600,
           500509000,
           678090600,
           663457900,
           885648600,
           1193530900,
           1159450700,
           1391971000,
           3074268600,
           2890777400,
           2930438400,
           2745594300,
           2486475900,
           2140705500,
           2539654800,
           2671585200,
           2668403100,
           2914843200,
           3540368700,
           4057288700,
           3769876200,
           4041446000,
           3729932300,
           5216904300,
           4475334700,
           4158160800,
           5743183200,
           7802353300,
           13151604000,
           12616567000,
           15719984700,
           13070579600,
           19605751200,
           27564516900,
           22961091600,
           16273597200,
           12031376100,
           10796452800,
           12058443200,
           17007028100,
           13303016100,
           10473949600,
           10467847600,
           10860759200,
           19079503000,
           14583324100,
           8835919600,
           10684686400,
           7669567700,
           8642560500,
           7499571800,
           9221952800,
           6840785800,
           7065467800,
           7478919800,
           5802043100,
           5830057900,
           8559330800,
           7835067100,
           6464447700,
           9467197800,
           7385579500,
           8956988200,
           6351573400,
           5460549900,
           5621422000,
           4769019200,
           4614913700,
           3899345400,
           4401468400,
           7232790500,
           5203864700,
           3803439500,
           8148187500,
           5098489300,
           4395233500,
           4447937100,
           3709047600,
           9428236300,
           7088447300,
           4365421300,
           4508801900,
           5111787400,
           4291494900,
           4421665700,
           4771450600,
           7164072400,
           6233847400,
           2091644042
          ],
          "sizemode": "area",
          "sizeref": 68911292.25,
          "symbol": "circle"
         },
         "mode": "markers",
         "name": "",
         "orientation": "v",
         "showlegend": false,
         "type": "scatter",
         "x": [
          3.086863,
          2.99572,
          2.689314,
          2.748414,
          2.506964,
          2.493075,
          2.963473,
          2.674897,
          2.853261,
          3.040541,
          2.543507,
          2.53841,
          2.840159,
          2.754098,
          3.002611,
          3.322476,
          2.761721,
          2.297384,
          2.154626,
          1.702396,
          1.375,
          1.684342,
          1.488834,
          1.611903,
          1.726264,
          1.96319,
          2.628362,
          2.684564,
          3.757576,
          3.730445,
          3.454437,
          3.386809,
          2.920561,
          3.24826,
          2.648244,
          1.551724,
          1.475596,
          1.067416,
          1.514302,
          2.37691,
          3.020134,
          2.112285,
          2.320442,
          1.879491,
          1.737242,
          3.266195,
          2.537797,
          3.255562,
          3.148346,
          2.530311,
          4.686677,
          3.415659,
          3.362649,
          4.318766,
          2.062374,
          2.54065,
          2.778779,
          2.687038,
          2.755052,
          4.081269,
          3.981456,
          5.02179,
          4.936927,
          0.091413,
          -0.383556,
          -1.426776,
          -1.286206,
          2.721331,
          2.313959,
          1.053349,
          1.143683,
          1.495724,
          2.681603,
          3.558828,
          3.868357,
          2.962419,
          2.651398,
          1.663994,
          1.991282,
          1.741022,
          1.473896,
          1.754417,
          1.184925,
          1.501736,
          1.512203,
          2.072341,
          1.657919,
          0.756493,
          -0.073637,
          0.123771,
          -0.03613,
          0.72952,
          0.852536,
          0.997326,
          1.463784,
          2.074622,
          2.380612,
          1.633488,
          2.232964,
          2.109082,
          2.359711,
          2.871548,
          2.276972,
          1.910159,
          1.862523,
          1.648485,
          1.711305,
          2.28513,
          1.539327,
          0.645733,
          1.371325,
          1.362005,
          2.619763,
          5.391451,
          5.390349,
          7.036403,
          8.542456,
          9.059758,
          null
         ],
         "xaxis": "x4",
         "y": [
          26.161797,
          26.212654,
          26.911003,
          27.465502,
          26.466524,
          26.544582,
          27.743454,
          27.543797,
          30.534035,
          33.331772,
          36.040649,
          38.091599,
          40.323799,
          42.019318,
          43.195976,
          46.720127,
          47.923275,
          56.363941,
          60.467785,
          62.41787,
          70.978668,
          73.367844,
          66.090965,
          80.379631,
          83.957565,
          89.815681,
          84.66188,
          96.852272,
          99.403679,
          96.280594,
          95.407059,
          87.364044,
          77.947838,
          82.116127,
          70.151703,
          77.062698,
          77.476593,
          67.141495,
          55.686378,
          60.340317,
          58.238285,
          67.367592,
          69.217636,
          77.359711,
          78.996475,
          80.275711,
          78.620125,
          85.635742,
          83.968796,
          85.170448,
          88.283867,
          89.718925,
          94.048309,
          92.567734,
          97.579002,
          103.907127,
          104.766449,
          111.426201,
          113.505875,
          109.283157,
          99.163101,
          96.641068,
          88.025208,
          68.879814,
          61.190063,
          71.261253,
          82.29451,
          87.267555,
          92.114815,
          81.60041,
          90.654533,
          100.419136,
          106.438171,
          106.400658,
          91.679367,
          102.211952,
          115.408318,
          112.036812,
          119.129486,
          118.467674,
          131.254623,
          134.994003,
          142.129181,
          157.001282,
          159.836533,
          168.019196,
          169.945679,
          178.123627,
          179.882248,
          180.177551,
          168.546906,
          180.24469,
          182.784882,
          187.267731,
          194.370117,
          201.881729,
          214.164185,
          220.625183,
          230.34729,
          245.892288,
          243.713242,
          252.248947,
          271.539093,
          234.487656,
          266.584839,
          277.730896,
          282.672516,
          307.986389,
          247.852448,
          298.262604,
          325.349426,
          364.682617,
          388.228149,
          420.682831,
          423.124054,
          469.801971,
          448.304749,
          375.627411,
          427.100006
         ],
         "yaxis": "y4"
        },
        {
         "hovertemplate": "<b>OLS trendline</b><br>spy_close = 17.3314 * us_cp + 89.6501<br>R<sup>2</sup>=0.068286<br><br>us_cp=%{x}<br>spy_close=%{y} <b>(trend)</b><extra></extra>",
         "legendgroup": "",
         "marker": {
          "symbol": "circle"
         },
         "mode": "lines",
         "name": "",
         "showlegend": false,
         "type": "scatter",
         "x": [
          -1.426776,
          -1.286206,
          -0.383556,
          -0.073637,
          -0.03613,
          0.091413,
          0.123771,
          0.645733,
          0.72952,
          0.756493,
          0.852536,
          0.997326,
          1.053349,
          1.067416,
          1.143683,
          1.184925,
          1.362005,
          1.371325,
          1.375,
          1.463784,
          1.473896,
          1.475596,
          1.488834,
          1.495724,
          1.501736,
          1.512203,
          1.514302,
          1.539327,
          1.551724,
          1.611903,
          1.633488,
          1.648485,
          1.657919,
          1.663994,
          1.684342,
          1.702396,
          1.711305,
          1.726264,
          1.737242,
          1.741022,
          1.754417,
          1.862523,
          1.879491,
          1.910159,
          1.96319,
          1.991282,
          2.062374,
          2.072341,
          2.074622,
          2.109082,
          2.112285,
          2.154626,
          2.232964,
          2.276972,
          2.28513,
          2.297384,
          2.313959,
          2.320442,
          2.359711,
          2.37691,
          2.380612,
          2.493075,
          2.506964,
          2.530311,
          2.537797,
          2.53841,
          2.54065,
          2.543507,
          2.619763,
          2.628362,
          2.648244,
          2.651398,
          2.674897,
          2.681603,
          2.684564,
          2.687038,
          2.689314,
          2.721331,
          2.748414,
          2.754098,
          2.755052,
          2.761721,
          2.778779,
          2.840159,
          2.853261,
          2.871548,
          2.920561,
          2.962419,
          2.963473,
          2.99572,
          3.002611,
          3.020134,
          3.040541,
          3.086863,
          3.148346,
          3.24826,
          3.255562,
          3.266195,
          3.322476,
          3.362649,
          3.386809,
          3.415659,
          3.454437,
          3.558828,
          3.730445,
          3.757576,
          3.868357,
          3.981456,
          4.081269,
          4.318766,
          4.686677,
          4.936927,
          5.02179,
          5.390349,
          5.391451,
          7.036403,
          8.542456,
          9.059758
         ],
         "xaxis": "x4",
         "y": [
          64.92204337109028,
          67.35832336103219,
          83.0025442682034,
          88.37388565116423,
          89.02393582960025,
          91.2344391998582,
          91.79524981317925,
          100.84160092728649,
          102.29374997414757,
          102.7612308034049,
          104.42579393262159,
          106.93521258342679,
          107.90617163497774,
          108.14997294833415,
          109.47178959479427,
          110.18657268752519,
          113.25562341398825,
          113.41715239959156,
          113.48084542771304,
          115.01959966138311,
          115.19485514447547,
          115.22431858605547,
          115.45375213878259,
          115.57316573436273,
          115.6773623289386,
          115.85877047189031,
          115.8951491565235,
          116.3288683480174,
          116.54372616288052,
          117.58671466337645,
          117.9608137142614,
          118.2207332633057,
          118.3842380326385,
          118.48952650769647,
          118.84218657197289,
          119.15508832155254,
          119.309494086868,
          119.5687550413358,
          119.75901954819774,
          119.8245323771227,
          120.0566869653369,
          121.93031920971805,
          122.22439901955894,
          122.75591950566223,
          123.67502290003236,
          124.16189760642382,
          125.39402407042718,
          125.56676649526712,
          125.606299501293,
          126.2035407935559,
          126.25905338377987,
          126.99288372492045,
          128.3505937757995,
          129.1133156211247,
          129.25470547783627,
          129.46708489731944,
          129.75435345272447,
          129.86671315376162,
          130.5473013228235,
          130.84538469443206,
          130.90954567133156,
          132.85869098333865,
          133.09940730104728,
          133.50404434255807,
          133.63378747412744,
          133.64441164453245,
          133.68323406167318,
          133.7327499749638,
          135.05437597562548,
          135.20340899571164,
          135.5479926107079,
          135.60265596055692,
          136.0099273803737,
          136.1261519916887,
          136.17747037434657,
          136.2203483475636,
          136.25979469640836,
          136.81469528997718,
          137.2840825772191,
          137.38259446071365,
          137.39912865087092,
          137.51471199904563,
          137.81035163814664,
          138.87415519354704,
          139.10123167094775,
          139.4181716451675,
          140.26763732879147,
          140.99309658623608,
          141.0113639200157,
          141.57025074391592,
          141.6896816709323,
          141.99338042787724,
          142.34706304689087,
          143.1498898356373,
          144.21547852896873,
          145.9471316478067,
          146.07368579511092,
          146.25797095647576,
          147.23340151857235,
          147.92965730598033,
          148.34838480514085,
          148.84839674018974,
          149.52047517406587,
          151.3297211328766,
          154.3040902232505,
          154.77430941943118,
          156.69430325571028,
          158.65447136115552,
          160.3843740049349,
          164.50053811371512,
          170.876964146151,
          175.2141560610899,
          176.68495373332752,
          183.07261053643626,
          183.0917097791546,
          211.6010904579261,
          237.70315197668523,
          246.66873859799082
         ],
         "yaxis": "y4"
        },
        {
         "hovertemplate": "us_tc=%{x}<br>spy_close=%{y}<br>spy_vol=%{marker.size}<br>us_ir=%{marker.color}<extra></extra>",
         "legendgroup": "",
         "marker": {
          "color": [
           3,
           3,
           3,
           3,
           3.5,
           4.25,
           4.75,
           5.5,
           6,
           6,
           5.75,
           5.5,
           5.25,
           5.25,
           5.25,
           5.25,
           5.5,
           5.5,
           5.5,
           5.5,
           5.5,
           5.5,
           5.25,
           4.75,
           4.75,
           5,
           5.25,
           5.5,
           6,
           6.5,
           6.5,
           6.5,
           5,
           3.75,
           3,
           1.75,
           1.75,
           1.75,
           1.75,
           1.25,
           1.25,
           1,
           1,
           1,
           1,
           1.25,
           1.75,
           2.25,
           2.75,
           3.25,
           3.75,
           4.25,
           4.75,
           5.25,
           5.25,
           5.25,
           5.25,
           5.25,
           4.75,
           4.25,
           2.25,
           2,
           2,
           0.125,
           0.125,
           0.125,
           0.125,
           0.125,
           0.125,
           0.125,
           0.125,
           0.125,
           0.125,
           0.125,
           0.125,
           0.125,
           0.125,
           0.125,
           0.125,
           0.125,
           0.125,
           0.125,
           0.125,
           0.125,
           0.125,
           0.125,
           0.125,
           0.125,
           0.125,
           0.125,
           0.125,
           0.375,
           0.375,
           0.375,
           0.375,
           0.625,
           0.875,
           1.125,
           1.125,
           1.375,
           1.625,
           1.875,
           2.125,
           2.375,
           2.375,
           2.375,
           1.875,
           1.625,
           0.125,
           0.125,
           0.125,
           0.125,
           0.125,
           0.125,
           0.125,
           0.125,
           0.375,
           1.625,
           null
          ],
          "coloraxis": "coloraxis",
          "size": [
           8436800,
           7943200,
           15927600,
           18452000,
           32517000,
           30326800,
           19707200,
           18813400,
           13260800,
           17172300,
           21039900,
           27603300,
           44534900,
           49324300,
           61620700,
           73834300,
           111166800,
           142485200,
           243048700,
           309760200,
           261632900,
           376887800,
           693193500,
           541548400,
           454235000,
           500014800,
           426567700,
           443400900,
           591304000,
           517416200,
           322348600,
           500509000,
           678090600,
           663457900,
           885648600,
           1193530900,
           1159450700,
           1391971000,
           3074268600,
           2890777400,
           2930438400,
           2745594300,
           2486475900,
           2140705500,
           2539654800,
           2671585200,
           2668403100,
           2914843200,
           3540368700,
           4057288700,
           3769876200,
           4041446000,
           3729932300,
           5216904300,
           4475334700,
           4158160800,
           5743183200,
           7802353300,
           13151604000,
           12616567000,
           15719984700,
           13070579600,
           19605751200,
           27564516900,
           22961091600,
           16273597200,
           12031376100,
           10796452800,
           12058443200,
           17007028100,
           13303016100,
           10473949600,
           10467847600,
           10860759200,
           19079503000,
           14583324100,
           8835919600,
           10684686400,
           7669567700,
           8642560500,
           7499571800,
           9221952800,
           6840785800,
           7065467800,
           7478919800,
           5802043100,
           5830057900,
           8559330800,
           7835067100,
           6464447700,
           9467197800,
           7385579500,
           8956988200,
           6351573400,
           5460549900,
           5621422000,
           4769019200,
           4614913700,
           3899345400,
           4401468400,
           7232790500,
           5203864700,
           3803439500,
           8148187500,
           5098489300,
           4395233500,
           4447937100,
           3709047600,
           9428236300,
           7088447300,
           4365421300,
           4508801900,
           5111787400,
           4291494900,
           4421665700,
           4771450600,
           7164072400,
           6233847400,
           2091644042
          ],
          "sizemode": "area",
          "sizeref": 68911292.25,
          "symbol": "circle"
         },
         "mode": "markers",
         "name": "",
         "orientation": "v",
         "showlegend": false,
         "type": "scatter",
         "x": [
          12307.791,
          12540.492,
          12784.982,
          12947.953,
          12941.752,
          12994.456,
          13129.102,
          13341.601,
          13603.549,
          13981.184,
          14147.808,
          14440.983,
          14520.627,
          14642.113,
          14840.12,
          15101.356,
          15192.515,
          15396.752,
          15727.845,
          16054.649,
          16301.996,
          16583.631,
          16947.665,
          17224.883,
          17378.489,
          17473.08,
          17785.025,
          18055.818,
          18390.282,
          18545.134,
          18804.851,
          19147.933,
          19345.455,
          19497.493,
          20023.024,
          20236.027,
          20392.895,
          20787.189,
          21344.084,
          21755.656,
          22007.954,
          22667.826,
          22990.294,
          23358.485,
          24692.225,
          25002.893,
          25574.861,
          26229.901,
          26665.217,
          27241.513,
          27667.165,
          28276.27,
          28843.178,
          29301.32,
          29972.02,
          30582.89,
          31152.205,
          31596.202,
          32418.72,
          33268.599,
          33991.303,
          33918.261,
          34726.266,
          35483.276,
          35674.174,
          35649.542,
          35990.647,
          36010.647,
          36351.005,
          36910.595,
          37475.782,
          37574.297,
          37696.157,
          37870.633,
          38998.328,
          39527.123,
          39724.302,
          40268.229,
          40713.09,
          41123.34,
          41393.245,
          40972.913,
          41208.116,
          41808.295,
          42361.622,
          42703.93,
          43057.191,
          43811.198,
          44187.331,
          44171.693,
          44568.184,
          45271.189,
          46179.436,
          46699.066,
          47178.845,
          47002.436,
          47208.801,
          47581.858,
          48296.927,
          48940.406,
          49507.27,
          50037.863,
          50476.982,
          51483.654,
          52037.441,
          52631.217,
          54026.626,
          54531.412,
          57073.872,
          60397.938,
          61130.194,
          61905.955,
          61830.019,
          62594.676,
          62933.826,
          64583.712,
          null,
          null,
          null
         ],
         "xaxis": "x5",
         "y": [
          26.161797,
          26.212654,
          26.911003,
          27.465502,
          26.466524,
          26.544582,
          27.743454,
          27.543797,
          30.534035,
          33.331772,
          36.040649,
          38.091599,
          40.323799,
          42.019318,
          43.195976,
          46.720127,
          47.923275,
          56.363941,
          60.467785,
          62.41787,
          70.978668,
          73.367844,
          66.090965,
          80.379631,
          83.957565,
          89.815681,
          84.66188,
          96.852272,
          99.403679,
          96.280594,
          95.407059,
          87.364044,
          77.947838,
          82.116127,
          70.151703,
          77.062698,
          77.476593,
          67.141495,
          55.686378,
          60.340317,
          58.238285,
          67.367592,
          69.217636,
          77.359711,
          78.996475,
          80.275711,
          78.620125,
          85.635742,
          83.968796,
          85.170448,
          88.283867,
          89.718925,
          94.048309,
          92.567734,
          97.579002,
          103.907127,
          104.766449,
          111.426201,
          113.505875,
          109.283157,
          99.163101,
          96.641068,
          88.025208,
          68.879814,
          61.190063,
          71.261253,
          82.29451,
          87.267555,
          92.114815,
          81.60041,
          90.654533,
          100.419136,
          106.438171,
          106.400658,
          91.679367,
          102.211952,
          115.408318,
          112.036812,
          119.129486,
          118.467674,
          131.254623,
          134.994003,
          142.129181,
          157.001282,
          159.836533,
          168.019196,
          169.945679,
          178.123627,
          179.882248,
          180.177551,
          168.546906,
          180.24469,
          182.784882,
          187.267731,
          194.370117,
          201.881729,
          214.164185,
          220.625183,
          230.34729,
          245.892288,
          243.713242,
          252.248947,
          271.539093,
          234.487656,
          266.584839,
          277.730896,
          282.672516,
          307.986389,
          247.852448,
          298.262604,
          325.349426,
          364.682617,
          388.228149,
          420.682831,
          423.124054,
          469.801971,
          448.304749,
          375.627411,
          427.100006
         ],
         "yaxis": "y5"
        },
        {
         "hovertemplate": "<b>OLS trendline</b><br>spy_close = 0.0057096 * us_tc + -57.9578<br>R<sup>2</sup>=0.803642<br><br>us_tc=%{x}<br>spy_close=%{y} <b>(trend)</b><extra></extra>",
         "legendgroup": "",
         "marker": {
          "symbol": "circle"
         },
         "mode": "lines",
         "name": "",
         "showlegend": false,
         "type": "scatter",
         "x": [
          12307.791,
          12540.492,
          12784.982,
          12941.752,
          12947.953,
          12994.456,
          13129.102,
          13341.601,
          13603.549,
          13981.184,
          14147.808,
          14440.983,
          14520.627,
          14642.113,
          14840.12,
          15101.356,
          15192.515,
          15396.752,
          15727.845,
          16054.649,
          16301.996,
          16583.631,
          16947.665,
          17224.883,
          17378.489,
          17473.08,
          17785.025,
          18055.818,
          18390.282,
          18545.134,
          18804.851,
          19147.933,
          19345.455,
          19497.493,
          20023.024,
          20236.027,
          20392.895,
          20787.189,
          21344.084,
          21755.656,
          22007.954,
          22667.826,
          22990.294,
          23358.485,
          24692.225,
          25002.893,
          25574.861,
          26229.901,
          26665.217,
          27241.513,
          27667.165,
          28276.27,
          28843.178,
          29301.32,
          29972.02,
          30582.89,
          31152.205,
          31596.202,
          32418.72,
          33268.599,
          33918.261,
          33991.303,
          34726.266,
          35483.276,
          35649.542,
          35674.174,
          35990.647,
          36010.647,
          36351.005,
          36910.595,
          37475.782,
          37574.297,
          37696.157,
          37870.633,
          38998.328,
          39527.123,
          39724.302,
          40268.229,
          40713.09,
          40972.913,
          41123.34,
          41208.116,
          41393.245,
          41808.295,
          42361.622,
          42703.93,
          43057.191,
          43811.198,
          44171.693,
          44187.331,
          44568.184,
          45271.189,
          46179.436,
          46699.066,
          47002.436,
          47178.845,
          47208.801,
          47581.858,
          48296.927,
          48940.406,
          49507.27,
          50037.863,
          50476.982,
          51483.654,
          52037.441,
          52631.217,
          54026.626,
          54531.412,
          57073.872,
          60397.938,
          61130.194,
          61830.019,
          61905.955,
          62594.676,
          62933.826,
          64583.712
         ],
         "xaxis": "x5",
         "y": [
          12.314777664259076,
          13.643406861496679,
          15.039346511230129,
          15.934440211948818,
          15.969845430027256,
          16.235358872423895,
          17.00413342384936,
          18.21741731942263,
          19.713035133518822,
          21.86917922786659,
          22.82053530867639,
          24.494446743952288,
          24.949181978372387,
          25.64281821824934,
          26.773358617549,
          28.264911197768093,
          28.785392454793133,
          29.95150365051733,
          31.84191162814094,
          33.707831139333585,
          35.12008311095868,
          36.72810578367611,
          38.80659363369477,
          40.38939701141904,
          41.2664255436165,
          41.806502141464826,
          43.58758273386575,
          45.13370194352776,
          47.04335697648799,
          47.92749966797036,
          49.41037936861179,
          51.369239718359644,
          52.49701096256043,
          53.36508684487125,
          56.365657666025776,
          57.581819199062586,
          58.477472440399204,
          60.72873273019429,
          63.908379387473964,
          66.25829011396624,
          67.69881030599231,
          71.46641425113896,
          73.30757694478797,
          75.40979959428287,
          83.02491902017138,
          84.79870845574501,
          88.06441588581879,
          91.80443105274341,
          94.28991047751893,
          97.58032904835122,
          100.0106309166826,
          103.48837569295523,
          106.72519255643059,
          109.340999268395,
          113.17042674222307,
          116.65824895921628,
          119.90880882541941,
          122.44385327166546,
          127.14010051621312,
          131.9925680755236,
          135.70187702364058,
          136.11891749112732,
          140.31526087035368,
          144.63748375981626,
          145.58679580449126,
          145.72743462592456,
          147.53436827871238,
          147.64856024155202,
          149.59186764596112,
          152.78690167023348,
          156.01389231530646,
          156.57637337626392,
          157.27214500584597,
          158.26833285126665,
          164.70701812799027,
          167.72622507748022,
          168.85203792951833,
          171.95764251809274,
          174.49762005713347,
          175.98110497517797,
          176.83998269488202,
          177.3240195869668,
          178.38103178139403,
          180.75080049022407,
          183.9100753013332,
          185.86451642211912,
          187.8814947713542,
          192.18657173759644,
          194.24485331979065,
          194.33414001553498,
          196.5086575967037,
          200.52253363850852,
          205.70825902217027,
          208.67513750468893,
          210.40725829302235,
          211.4144827916514,
          211.5855195135927,
          213.71552506764644,
          217.7982817014362,
          221.47228820424132,
          224.7088538453984,
          227.73832665234764,
          230.24551967885716,
          235.99321225964357,
          239.15511348589794,
          242.5453358322521,
          250.51256046595856,
          253.39468567365768,
          267.9111105657241,
          286.89019162315327,
          291.0710791202093,
          295.0667986399226,
          295.5003626844322,
          299.43268282637695,
          301.3690930362305,
          310.7892790763144
         ],
         "yaxis": "y5"
        }
       ],
       "layout": {
        "font": {
         "color": "White",
         "family": "Courier New, monospace",
         "size": 16
        },
        "height": 1000,
        "legend": {
         "title": {
          "text": "Figures"
         }
        },
        "margin": {
         "b": 40,
         "l": 60,
         "r": 10,
         "t": 40
        },
        "template": {
         "data": {
          "bar": [
           {
            "error_x": {
             "color": "#f2f5fa"
            },
            "error_y": {
             "color": "#f2f5fa"
            },
            "marker": {
             "line": {
              "color": "rgb(17,17,17)",
              "width": 0.5
             },
             "pattern": {
              "fillmode": "overlay",
              "size": 10,
              "solidity": 0.2
             }
            },
            "type": "bar"
           }
          ],
          "barpolar": [
           {
            "marker": {
             "line": {
              "color": "rgb(17,17,17)",
              "width": 0.5
             },
             "pattern": {
              "fillmode": "overlay",
              "size": 10,
              "solidity": 0.2
             }
            },
            "type": "barpolar"
           }
          ],
          "carpet": [
           {
            "aaxis": {
             "endlinecolor": "#A2B1C6",
             "gridcolor": "#506784",
             "linecolor": "#506784",
             "minorgridcolor": "#506784",
             "startlinecolor": "#A2B1C6"
            },
            "baxis": {
             "endlinecolor": "#A2B1C6",
             "gridcolor": "#506784",
             "linecolor": "#506784",
             "minorgridcolor": "#506784",
             "startlinecolor": "#A2B1C6"
            },
            "type": "carpet"
           }
          ],
          "choropleth": [
           {
            "colorbar": {
             "outlinewidth": 0,
             "ticks": ""
            },
            "type": "choropleth"
           }
          ],
          "contour": [
           {
            "colorbar": {
             "outlinewidth": 0,
             "ticks": ""
            },
            "colorscale": [
             [
              0,
              "#0d0887"
             ],
             [
              0.1111111111111111,
              "#46039f"
             ],
             [
              0.2222222222222222,
              "#7201a8"
             ],
             [
              0.3333333333333333,
              "#9c179e"
             ],
             [
              0.4444444444444444,
              "#bd3786"
             ],
             [
              0.5555555555555556,
              "#d8576b"
             ],
             [
              0.6666666666666666,
              "#ed7953"
             ],
             [
              0.7777777777777778,
              "#fb9f3a"
             ],
             [
              0.8888888888888888,
              "#fdca26"
             ],
             [
              1,
              "#f0f921"
             ]
            ],
            "type": "contour"
           }
          ],
          "contourcarpet": [
           {
            "colorbar": {
             "outlinewidth": 0,
             "ticks": ""
            },
            "type": "contourcarpet"
           }
          ],
          "heatmap": [
           {
            "colorbar": {
             "outlinewidth": 0,
             "ticks": ""
            },
            "colorscale": [
             [
              0,
              "#0d0887"
             ],
             [
              0.1111111111111111,
              "#46039f"
             ],
             [
              0.2222222222222222,
              "#7201a8"
             ],
             [
              0.3333333333333333,
              "#9c179e"
             ],
             [
              0.4444444444444444,
              "#bd3786"
             ],
             [
              0.5555555555555556,
              "#d8576b"
             ],
             [
              0.6666666666666666,
              "#ed7953"
             ],
             [
              0.7777777777777778,
              "#fb9f3a"
             ],
             [
              0.8888888888888888,
              "#fdca26"
             ],
             [
              1,
              "#f0f921"
             ]
            ],
            "type": "heatmap"
           }
          ],
          "heatmapgl": [
           {
            "colorbar": {
             "outlinewidth": 0,
             "ticks": ""
            },
            "colorscale": [
             [
              0,
              "#0d0887"
             ],
             [
              0.1111111111111111,
              "#46039f"
             ],
             [
              0.2222222222222222,
              "#7201a8"
             ],
             [
              0.3333333333333333,
              "#9c179e"
             ],
             [
              0.4444444444444444,
              "#bd3786"
             ],
             [
              0.5555555555555556,
              "#d8576b"
             ],
             [
              0.6666666666666666,
              "#ed7953"
             ],
             [
              0.7777777777777778,
              "#fb9f3a"
             ],
             [
              0.8888888888888888,
              "#fdca26"
             ],
             [
              1,
              "#f0f921"
             ]
            ],
            "type": "heatmapgl"
           }
          ],
          "histogram": [
           {
            "marker": {
             "pattern": {
              "fillmode": "overlay",
              "size": 10,
              "solidity": 0.2
             }
            },
            "type": "histogram"
           }
          ],
          "histogram2d": [
           {
            "colorbar": {
             "outlinewidth": 0,
             "ticks": ""
            },
            "colorscale": [
             [
              0,
              "#0d0887"
             ],
             [
              0.1111111111111111,
              "#46039f"
             ],
             [
              0.2222222222222222,
              "#7201a8"
             ],
             [
              0.3333333333333333,
              "#9c179e"
             ],
             [
              0.4444444444444444,
              "#bd3786"
             ],
             [
              0.5555555555555556,
              "#d8576b"
             ],
             [
              0.6666666666666666,
              "#ed7953"
             ],
             [
              0.7777777777777778,
              "#fb9f3a"
             ],
             [
              0.8888888888888888,
              "#fdca26"
             ],
             [
              1,
              "#f0f921"
             ]
            ],
            "type": "histogram2d"
           }
          ],
          "histogram2dcontour": [
           {
            "colorbar": {
             "outlinewidth": 0,
             "ticks": ""
            },
            "colorscale": [
             [
              0,
              "#0d0887"
             ],
             [
              0.1111111111111111,
              "#46039f"
             ],
             [
              0.2222222222222222,
              "#7201a8"
             ],
             [
              0.3333333333333333,
              "#9c179e"
             ],
             [
              0.4444444444444444,
              "#bd3786"
             ],
             [
              0.5555555555555556,
              "#d8576b"
             ],
             [
              0.6666666666666666,
              "#ed7953"
             ],
             [
              0.7777777777777778,
              "#fb9f3a"
             ],
             [
              0.8888888888888888,
              "#fdca26"
             ],
             [
              1,
              "#f0f921"
             ]
            ],
            "type": "histogram2dcontour"
           }
          ],
          "mesh3d": [
           {
            "colorbar": {
             "outlinewidth": 0,
             "ticks": ""
            },
            "type": "mesh3d"
           }
          ],
          "parcoords": [
           {
            "line": {
             "colorbar": {
              "outlinewidth": 0,
              "ticks": ""
             }
            },
            "type": "parcoords"
           }
          ],
          "pie": [
           {
            "automargin": true,
            "type": "pie"
           }
          ],
          "scatter": [
           {
            "marker": {
             "line": {
              "color": "#283442"
             }
            },
            "type": "scatter"
           }
          ],
          "scatter3d": [
           {
            "line": {
             "colorbar": {
              "outlinewidth": 0,
              "ticks": ""
             }
            },
            "marker": {
             "colorbar": {
              "outlinewidth": 0,
              "ticks": ""
             }
            },
            "type": "scatter3d"
           }
          ],
          "scattercarpet": [
           {
            "marker": {
             "colorbar": {
              "outlinewidth": 0,
              "ticks": ""
             }
            },
            "type": "scattercarpet"
           }
          ],
          "scattergeo": [
           {
            "marker": {
             "colorbar": {
              "outlinewidth": 0,
              "ticks": ""
             }
            },
            "type": "scattergeo"
           }
          ],
          "scattergl": [
           {
            "marker": {
             "line": {
              "color": "#283442"
             }
            },
            "type": "scattergl"
           }
          ],
          "scattermapbox": [
           {
            "marker": {
             "colorbar": {
              "outlinewidth": 0,
              "ticks": ""
             }
            },
            "type": "scattermapbox"
           }
          ],
          "scatterpolar": [
           {
            "marker": {
             "colorbar": {
              "outlinewidth": 0,
              "ticks": ""
             }
            },
            "type": "scatterpolar"
           }
          ],
          "scatterpolargl": [
           {
            "marker": {
             "colorbar": {
              "outlinewidth": 0,
              "ticks": ""
             }
            },
            "type": "scatterpolargl"
           }
          ],
          "scatterternary": [
           {
            "marker": {
             "colorbar": {
              "outlinewidth": 0,
              "ticks": ""
             }
            },
            "type": "scatterternary"
           }
          ],
          "surface": [
           {
            "colorbar": {
             "outlinewidth": 0,
             "ticks": ""
            },
            "colorscale": [
             [
              0,
              "#0d0887"
             ],
             [
              0.1111111111111111,
              "#46039f"
             ],
             [
              0.2222222222222222,
              "#7201a8"
             ],
             [
              0.3333333333333333,
              "#9c179e"
             ],
             [
              0.4444444444444444,
              "#bd3786"
             ],
             [
              0.5555555555555556,
              "#d8576b"
             ],
             [
              0.6666666666666666,
              "#ed7953"
             ],
             [
              0.7777777777777778,
              "#fb9f3a"
             ],
             [
              0.8888888888888888,
              "#fdca26"
             ],
             [
              1,
              "#f0f921"
             ]
            ],
            "type": "surface"
           }
          ],
          "table": [
           {
            "cells": {
             "fill": {
              "color": "#506784"
             },
             "line": {
              "color": "rgb(17,17,17)"
             }
            },
            "header": {
             "fill": {
              "color": "#2a3f5f"
             },
             "line": {
              "color": "rgb(17,17,17)"
             }
            },
            "type": "table"
           }
          ]
         },
         "layout": {
          "annotationdefaults": {
           "arrowcolor": "#f2f5fa",
           "arrowhead": 0,
           "arrowwidth": 1
          },
          "autotypenumbers": "strict",
          "coloraxis": {
           "colorbar": {
            "outlinewidth": 0,
            "ticks": ""
           }
          },
          "colorscale": {
           "diverging": [
            [
             0,
             "#8e0152"
            ],
            [
             0.1,
             "#c51b7d"
            ],
            [
             0.2,
             "#de77ae"
            ],
            [
             0.3,
             "#f1b6da"
            ],
            [
             0.4,
             "#fde0ef"
            ],
            [
             0.5,
             "#f7f7f7"
            ],
            [
             0.6,
             "#e6f5d0"
            ],
            [
             0.7,
             "#b8e186"
            ],
            [
             0.8,
             "#7fbc41"
            ],
            [
             0.9,
             "#4d9221"
            ],
            [
             1,
             "#276419"
            ]
           ],
           "sequential": [
            [
             0,
             "#0d0887"
            ],
            [
             0.1111111111111111,
             "#46039f"
            ],
            [
             0.2222222222222222,
             "#7201a8"
            ],
            [
             0.3333333333333333,
             "#9c179e"
            ],
            [
             0.4444444444444444,
             "#bd3786"
            ],
            [
             0.5555555555555556,
             "#d8576b"
            ],
            [
             0.6666666666666666,
             "#ed7953"
            ],
            [
             0.7777777777777778,
             "#fb9f3a"
            ],
            [
             0.8888888888888888,
             "#fdca26"
            ],
            [
             1,
             "#f0f921"
            ]
           ],
           "sequentialminus": [
            [
             0,
             "#0d0887"
            ],
            [
             0.1111111111111111,
             "#46039f"
            ],
            [
             0.2222222222222222,
             "#7201a8"
            ],
            [
             0.3333333333333333,
             "#9c179e"
            ],
            [
             0.4444444444444444,
             "#bd3786"
            ],
            [
             0.5555555555555556,
             "#d8576b"
            ],
            [
             0.6666666666666666,
             "#ed7953"
            ],
            [
             0.7777777777777778,
             "#fb9f3a"
            ],
            [
             0.8888888888888888,
             "#fdca26"
            ],
            [
             1,
             "#f0f921"
            ]
           ]
          },
          "colorway": [
           "#636efa",
           "#EF553B",
           "#00cc96",
           "#ab63fa",
           "#FFA15A",
           "#19d3f3",
           "#FF6692",
           "#B6E880",
           "#FF97FF",
           "#FECB52"
          ],
          "font": {
           "color": "#f2f5fa"
          },
          "geo": {
           "bgcolor": "rgb(17,17,17)",
           "lakecolor": "rgb(17,17,17)",
           "landcolor": "rgb(17,17,17)",
           "showlakes": true,
           "showland": true,
           "subunitcolor": "#506784"
          },
          "hoverlabel": {
           "align": "left"
          },
          "hovermode": "closest",
          "mapbox": {
           "style": "dark"
          },
          "paper_bgcolor": "rgb(17,17,17)",
          "plot_bgcolor": "rgb(17,17,17)",
          "polar": {
           "angularaxis": {
            "gridcolor": "#506784",
            "linecolor": "#506784",
            "ticks": ""
           },
           "bgcolor": "rgb(17,17,17)",
           "radialaxis": {
            "gridcolor": "#506784",
            "linecolor": "#506784",
            "ticks": ""
           }
          },
          "scene": {
           "xaxis": {
            "backgroundcolor": "rgb(17,17,17)",
            "gridcolor": "#506784",
            "gridwidth": 2,
            "linecolor": "#506784",
            "showbackground": true,
            "ticks": "",
            "zerolinecolor": "#C8D4E3"
           },
           "yaxis": {
            "backgroundcolor": "rgb(17,17,17)",
            "gridcolor": "#506784",
            "gridwidth": 2,
            "linecolor": "#506784",
            "showbackground": true,
            "ticks": "",
            "zerolinecolor": "#C8D4E3"
           },
           "zaxis": {
            "backgroundcolor": "rgb(17,17,17)",
            "gridcolor": "#506784",
            "gridwidth": 2,
            "linecolor": "#506784",
            "showbackground": true,
            "ticks": "",
            "zerolinecolor": "#C8D4E3"
           }
          },
          "shapedefaults": {
           "line": {
            "color": "#f2f5fa"
           }
          },
          "sliderdefaults": {
           "bgcolor": "#C8D4E3",
           "bordercolor": "rgb(17,17,17)",
           "borderwidth": 1,
           "tickwidth": 0
          },
          "ternary": {
           "aaxis": {
            "gridcolor": "#506784",
            "linecolor": "#506784",
            "ticks": ""
           },
           "baxis": {
            "gridcolor": "#506784",
            "linecolor": "#506784",
            "ticks": ""
           },
           "bgcolor": "rgb(17,17,17)",
           "caxis": {
            "gridcolor": "#506784",
            "linecolor": "#506784",
            "ticks": ""
           }
          },
          "title": {
           "x": 0.05
          },
          "updatemenudefaults": {
           "bgcolor": "#506784",
           "borderwidth": 0
          },
          "xaxis": {
           "automargin": true,
           "gridcolor": "#283442",
           "linecolor": "#506784",
           "ticks": "",
           "title": {
            "standoff": 15
           },
           "zerolinecolor": "#283442",
           "zerolinewidth": 2
          },
          "yaxis": {
           "automargin": true,
           "gridcolor": "#283442",
           "linecolor": "#506784",
           "ticks": "",
           "title": {
            "standoff": 15
           },
           "zerolinecolor": "#283442",
           "zerolinewidth": 2
          }
         }
        },
        "title": {
         "text": "Scatter plots vs SPY"
        },
        "width": 1400,
        "xaxis": {
         "anchor": "y",
         "domain": [
          0,
          0.45
         ],
         "title": {
          "text": "Interest rates"
         }
        },
        "xaxis2": {
         "anchor": "y2",
         "domain": [
          0.55,
          1
         ],
         "title": {
          "text": "NFP"
         }
        },
        "xaxis3": {
         "anchor": "y3",
         "domain": [
          0,
          0.45
         ],
         "title": {
          "text": "Property prices"
         }
        },
        "xaxis4": {
         "anchor": "y4",
         "domain": [
          0.55,
          1
         ],
         "title": {
          "text": "Consumer prices"
         }
        },
        "xaxis5": {
         "anchor": "y5",
         "domain": [
          0,
          0.45
         ],
         "title": {
          "text": "Total credit"
         }
        },
        "xaxis6": {
         "anchor": "y6",
         "domain": [
          0.55,
          1
         ]
        },
        "yaxis": {
         "anchor": "x",
         "domain": [
          0.7333333333333333,
          1
         ],
         "title": {
          "text": "spy_close"
         }
        },
        "yaxis2": {
         "anchor": "x2",
         "domain": [
          0.7333333333333333,
          1
         ],
         "title": {
          "text": "spy_close"
         }
        },
        "yaxis3": {
         "anchor": "x3",
         "domain": [
          0.36666666666666664,
          0.6333333333333333
         ],
         "title": {
          "text": "spy_close"
         }
        },
        "yaxis4": {
         "anchor": "x4",
         "domain": [
          0.36666666666666664,
          0.6333333333333333
         ],
         "title": {
          "text": "spy_closee"
         }
        },
        "yaxis5": {
         "anchor": "x5",
         "domain": [
          0,
          0.26666666666666666
         ],
         "title": {
          "text": "spy_close"
         }
        },
        "yaxis6": {
         "anchor": "x6",
         "domain": [
          0,
          0.26666666666666666
         ]
        }
       }
      }
     },
     "metadata": {},
     "output_type": "display_data"
    }
   ],
   "source": [
    "from plotly.subplots import make_subplots\n",
    "fig = make_subplots(rows=3, cols=2)\n",
    "\n",
    "fig.append_trace(fig1['data'][0], row=1, col=1)\n",
    "fig.append_trace(fig1['data'][1], row=1, col=1)\n",
    "\n",
    "fig.append_trace(fig2['data'][0], row=1, col=2)\n",
    "fig.append_trace(fig2['data'][1], row=1, col=2)\n",
    "\n",
    "fig.append_trace(fig3['data'][0], row=2, col=1)\n",
    "fig.append_trace(fig3['data'][1], row=2, col=1)\n",
    "\n",
    "fig.append_trace(fig4['data'][0], row=2, col=2)\n",
    "fig.append_trace(fig4['data'][1], row=2, col=2)\n",
    "\n",
    "fig.append_trace(fig5['data'][0], row=3, col=1)\n",
    "fig.append_trace(fig5['data'][1], row=3, col=1)\n",
    "\n",
    "\n",
    "fig.update_layout(\n",
    "    template=\"plotly_dark\",\n",
    "    width = 1400,\n",
    "    height = 1000,\n",
    "    margin=dict(r=10, t=40, b=40, l=60),\n",
    "\n",
    ")\n",
    "fig.update_layout(\n",
    "    title=\"Scatter plots vs SPY\",\n",
    "    xaxis_title=\"Interest rates\",\n",
    "    yaxis_title=\"spy_close\",\n",
    "    xaxis2_title=\"NFP\",\n",
    "    yaxis2_title=\"spy_close\",\n",
    "    xaxis3_title=\"Property prices\",\n",
    "    yaxis3_title=\"spy_close\",\n",
    "    xaxis4_title=\"Consumer prices\",\n",
    "    yaxis4_title=\"spy_closee\",\n",
    "    xaxis5_title=\"Total credit\",\n",
    "    yaxis5_title=\"spy_close\",\n",
    "    legend_title=\"Figures\",\n",
    "    font=dict(\n",
    "        family=\"Courier New, monospace\",\n",
    "        size=16,\n",
    "        color=\"White\"\n",
    "    )\n",
    ")\n",
    "\n",
    "fig.show()"
   ]
  },
  {
   "cell_type": "code",
   "execution_count": 273,
   "metadata": {},
   "outputs": [
    {
     "data": {
      "application/vnd.plotly.v1+json": {
       "config": {
        "plotlyServerURL": "https://plot.ly"
       },
       "data": [
        {
         "hovertemplate": "<b>OLS trendline</b><br>spy_close = -21.529 * us_ir + 183.333<br>R<sup>2</sup>=0.225234<br><br>us_ir=%{x}<br>spy_close=%{y} <b>(trend)</b><extra></extra>",
         "legendgroup": "",
         "marker": {
          "color": "#636efa",
          "symbol": "circle"
         },
         "mode": "lines",
         "name": "",
         "showlegend": false,
         "type": "scatter",
         "x": [
          0.125,
          0.125,
          0.125,
          0.125,
          0.125,
          0.125,
          0.125,
          0.125,
          0.125,
          0.125,
          0.125,
          0.125,
          0.125,
          0.125,
          0.125,
          0.125,
          0.125,
          0.125,
          0.125,
          0.125,
          0.125,
          0.125,
          0.125,
          0.125,
          0.125,
          0.125,
          0.125,
          0.125,
          0.125,
          0.125,
          0.125,
          0.125,
          0.125,
          0.125,
          0.125,
          0.125,
          0.375,
          0.375,
          0.375,
          0.375,
          0.375,
          0.625,
          0.875,
          1,
          1,
          1,
          1,
          1.125,
          1.125,
          1.25,
          1.25,
          1.25,
          1.375,
          1.625,
          1.625,
          1.625,
          1.75,
          1.75,
          1.75,
          1.75,
          1.75,
          1.875,
          1.875,
          2,
          2,
          2.125,
          2.25,
          2.25,
          2.375,
          2.375,
          2.375,
          2.75,
          3,
          3,
          3,
          3,
          3,
          3.25,
          3.5,
          3.75,
          3.75,
          4.25,
          4.25,
          4.25,
          4.75,
          4.75,
          4.75,
          4.75,
          4.75,
          5,
          5,
          5.25,
          5.25,
          5.25,
          5.25,
          5.25,
          5.25,
          5.25,
          5.25,
          5.25,
          5.25,
          5.25,
          5.5,
          5.5,
          5.5,
          5.5,
          5.5,
          5.5,
          5.5,
          5.5,
          5.5,
          5.75,
          6,
          6,
          6,
          6.5,
          6.5,
          6.5
         ],
         "xaxis": "x",
         "y": [
          180.64211898908522,
          180.64211898908522,
          180.64211898908522,
          180.64211898908522,
          180.64211898908522,
          180.64211898908522,
          180.64211898908522,
          180.64211898908522,
          180.64211898908522,
          180.64211898908522,
          180.64211898908522,
          180.64211898908522,
          180.64211898908522,
          180.64211898908522,
          180.64211898908522,
          180.64211898908522,
          180.64211898908522,
          180.64211898908522,
          180.64211898908522,
          180.64211898908522,
          180.64211898908522,
          180.64211898908522,
          180.64211898908522,
          180.64211898908522,
          180.64211898908522,
          180.64211898908522,
          180.64211898908522,
          180.64211898908522,
          180.64211898908522,
          180.64211898908522,
          180.64211898908522,
          180.64211898908522,
          180.64211898908522,
          180.64211898908522,
          180.64211898908522,
          180.64211898908522,
          175.25987820945556,
          175.25987820945556,
          175.25987820945556,
          175.25987820945556,
          175.25987820945556,
          169.8776374298259,
          164.49539665019628,
          161.80427626038144,
          161.80427626038144,
          161.80427626038144,
          161.80427626038144,
          159.11315587056663,
          159.11315587056663,
          156.4220354807518,
          156.4220354807518,
          156.4220354807518,
          153.73091509093697,
          148.34867431130732,
          148.34867431130732,
          148.34867431130732,
          145.6575539214925,
          145.6575539214925,
          145.6575539214925,
          145.6575539214925,
          145.6575539214925,
          142.9664335316777,
          142.9664335316777,
          140.27531314186285,
          140.27531314186285,
          137.58419275204804,
          134.89307236223323,
          134.89307236223323,
          132.20195197241839,
          132.20195197241839,
          132.20195197241839,
          124.12859080297393,
          118.74635002334429,
          118.74635002334429,
          118.74635002334429,
          118.74635002334429,
          118.74635002334429,
          113.36410924371464,
          107.981868464085,
          102.59962768445534,
          102.59962768445534,
          91.83514612519606,
          91.83514612519606,
          91.83514612519606,
          81.07066456593677,
          81.07066456593677,
          81.07066456593677,
          81.07066456593677,
          81.07066456593677,
          75.68842378630711,
          75.68842378630711,
          70.30618300667747,
          70.30618300667747,
          70.30618300667747,
          70.30618300667747,
          70.30618300667747,
          70.30618300667747,
          70.30618300667747,
          70.30618300667747,
          70.30618300667747,
          70.30618300667747,
          70.30618300667747,
          64.92394222704783,
          64.92394222704783,
          64.92394222704783,
          64.92394222704783,
          64.92394222704783,
          64.92394222704783,
          64.92394222704783,
          64.92394222704783,
          64.92394222704783,
          59.54170144741818,
          54.15946066778855,
          54.15946066778855,
          54.15946066778855,
          43.39497910852924,
          43.39497910852924,
          43.39497910852924
         ],
         "yaxis": "y"
        },
        {
         "hovertemplate": "<b>OLS trendline</b><br>spy_close = 0.00831864 * nfp + -980.45<br>R<sup>2</sup>=0.674435<br><br>nfp=%{x}<br>spy_close=%{y} <b>(trend)</b><extra></extra>",
         "legendgroup": "",
         "marker": {
          "color": "#636efa",
          "symbol": "circle"
         },
         "mode": "lines",
         "name": "",
         "showlegend": false,
         "type": "scatter",
         "x": [
          109994,
          110749,
          111448,
          112314,
          113242,
          114238,
          115247,
          116165,
          116907,
          117286,
          117875,
          118320,
          118993,
          119769,
          120410,
          121143,
          121990,
          122814,
          123585,
          124549,
          125164,
          126076,
          126752,
          127596,
          128227,
          129089,
          129772,
          129788,
          129879,
          130194,
          130232,
          130244,
          130254,
          130357,
          130472,
          130501,
          130511,
          130588,
          130684,
          130717,
          130772,
          130822,
          130982,
          131008,
          131142,
          131288,
          131596,
          131771,
          131793,
          131939,
          132061,
          132093,
          132299,
          132353,
          132358,
          132512,
          132624,
          132709,
          132747,
          132896,
          133156,
          133752,
          133942,
          134007,
          134518,
          134566,
          134839,
          135072,
          135149,
          135680,
          136047,
          136274,
          136325,
          136753,
          136815,
          136843,
          137249,
          137373,
          137660,
          137687,
          137793,
          137968,
          138069,
          138095,
          138275,
          138392,
          138837,
          139566,
          140377,
          140910,
          141632,
          141699,
          142281,
          142497,
          143097,
          143654,
          144150,
          144431,
          144953,
          145415,
          145698,
          145960,
          146585,
          147012,
          147328,
          147529,
          148289,
          148984,
          149240,
          149326,
          149821,
          150348,
          150843,
          150856,
          151006,
          151244,
          151789,
          152008,
          152536
         ],
         "xaxis": "x2",
         "y": [
          -65.44974076745007,
          -59.16916715822492,
          -53.35443741935285,
          -46.15049470996348,
          -38.43079628696887,
          -30.14543030711684,
          -21.751922000218542,
          -14.11540998264411,
          -7.942978700465233,
          -4.79021393503956,
          0.10946534421020715,
          3.8112603854091276,
          9.409705470188669,
          15.864970530796313,
          21.197219118231146,
          27.294782635531874,
          34.34067117462291,
          41.195230981247505,
          47.60890283914489,
          55.62807232165244,
          60.74403625499474,
          68.330636429317,
          73.95403743572263,
          80.97497005318758,
          86.22403223520212,
          93.3947003824236,
          99.0763318726232,
          99.20943012129567,
          99.96642641061942,
          102.58679818135568,
          102.90290652195256,
          103.00273020845668,
          103.08591661387698,
          103.94273658970508,
          104.8993802520373,
          105.14062082775592,
          105.22380723317622,
          105.86434255491156,
          106.66293204694568,
          106.9374471848322,
          107.39497241464335,
          107.81090444174436,
          109.14188692846767,
          109.3581715825602,
          110.47286941519076,
          111.68739093432566,
          114.24953222126794,
          115.70529431612147,
          115.88830440804588,
          117.10282592718079,
          118.11770007330722,
          118.38389657065193,
          120.09753652230813,
          120.54674311157703,
          120.58833631428718,
          121.86940695775832,
          122.80109469846468,
          123.50817914453626,
          123.82428748513314,
          125.06376492589413,
          127.22661146681924,
          132.1845212298632,
          133.76506293284694,
          134.3057745680784,
          138.55659988505056,
          138.9558946310675,
          141.226883499039,
          143.16512674532976,
          143.80566206706533,
          148.22286019487808,
          151.2758012737994,
          153.164132676838,
          153.58838334448103,
          157.14876149646545,
          157.6645172100708,
          157.8974391452474,
          161.2748072053074,
          162.3063186325179,
          164.6937684680778,
          164.91837176271235,
          165.80014766016654,
          167.25590975501984,
          168.0960924497639,
          168.31237710385642,
          169.8097324014201,
          170.78301334483638,
          174.4848083860353,
          180.54909734116802,
          187.29551482074646,
          191.72935022964305,
          197.73540870098157,
          198.29275761729684,
          203.13420641275263,
          204.9310327698289,
          209.922217095041,
          214.55569987694628,
          218.68174558578824,
          221.01928357809572,
          225.3616139410302,
          229.20482587144363,
          231.55900114483518,
          233.73848496684457,
          238.93763530560716,
          242.48969481704955,
          245.11838522832807,
          246.79043197727412,
          253.1125987892093,
          258.89405396591326,
          261.02362594467047,
          261.7390290312841,
          265.856756099584,
          270.24067966522864,
          274.35840673352857,
          274.46654906057495,
          275.71434514187797,
          277.69418159087866,
          282.2278406862796,
          284.04962296498195,
          288.4418651711686
         ],
         "yaxis": "y2"
        },
        {
         "hovertemplate": "<b>OLS trendline</b><br>spy_close = 3.33275 * pp + -196.41<br>R<sup>2</sup>=0.879736<br><br>pp=%{x}<br>spy_close=%{y} <b>(trend)</b><extra></extra>",
         "legendgroup": "",
         "marker": {
          "color": "#636efa",
          "symbol": "circle"
         },
         "mode": "lines",
         "name": "",
         "showlegend": false,
         "type": "scatter",
         "x": [
          57.9,
          59.6,
          59.7,
          59.9,
          62.4,
          62.9,
          63.1,
          63.4,
          63.6,
          63.7,
          64.2,
          64.7,
          65.6,
          65.7,
          65.9,
          66.6,
          67.1,
          67.1,
          67.5,
          67.8,
          68.2,
          68.8,
          69.4,
          70.1,
          71.1,
          72.7,
          73,
          73,
          74.3,
          74.5,
          75.8,
          76.2,
          76.9,
          77.3,
          78.1,
          79.1,
          80.6,
          80.9,
          81.3,
          83.8,
          84.3,
          84.6,
          87.1,
          88.5,
          91.3,
          91.8,
          92.7,
          93,
          93.7,
          94,
          94,
          94.2,
          94.3,
          94.5,
          94.8,
          94.8,
          95,
          95.2,
          95.2,
          95.7,
          96.2,
          96.2,
          96.3,
          96.5,
          98.8,
          98.9,
          99.2,
          100,
          100.2,
          101.3,
          101.4,
          102.1,
          102.2,
          103,
          103.8,
          103.9,
          104.1,
          104.7,
          104.8,
          104.8,
          105.7,
          105.8,
          105.9,
          106.8,
          107.2,
          110.7,
          111,
          112.1,
          112.7,
          112.8,
          114.4,
          116.9,
          119,
          119,
          122.4,
          123.7,
          124.7,
          126.4,
          127.8,
          128.4,
          129.8,
          129.9,
          131,
          132.5,
          133.9,
          135.1,
          135.7,
          137.1,
          137.5,
          137.7,
          142.4,
          144.6,
          152.5,
          156.5,
          165,
          175.8,
          182.4,
          191.3
         ],
         "xaxis": "x3",
         "y": [
          -3.4435222167502957,
          2.222156718070437,
          2.5554319495304583,
          3.2219824124505294,
          11.553863198951603,
          13.220239356251824,
          13.886789819171923,
          14.886615513552016,
          15.553165976472116,
          15.886441207932165,
          17.552817365232386,
          19.219193522532606,
          22.21867060567294,
          22.55194583713302,
          23.21849630005312,
          25.55142292027338,
          27.217799077573574,
          27.217799077573574,
          28.550900003413773,
          29.550725697793894,
          30.883826623634064,
          32.883478012394306,
          34.883129401154605,
          37.21605602137487,
          40.54880833597528,
          45.88121203933599,
          46.88103773371611,
          46.88103773371611,
          51.213615742696646,
          51.880166205616746,
          56.21274421459728,
          57.54584514043748,
          59.8787717606578,
          61.21187268649794,
          63.878074538178225,
          67.21082685277867,
          72.2099553246793,
          73.20978101905945,
          74.54288194489959,
          82.87476273140066,
          84.54113888870091,
          85.540964583081,
          93.87284536958208,
          98.53869861002266,
          107.87040509090383,
          109.53678124820408,
          112.53625833134447,
          113.53608402572456,
          115.86901064594491,
          116.868836340325,
          116.868836340325,
          117.5353868032451,
          117.86866203470515,
          118.5352124976252,
          119.53503819200535,
          119.53503819200535,
          120.20158865492544,
          120.86813911784554,
          120.86813911784554,
          122.53451527514574,
          124.20089143244593,
          124.20089143244593,
          124.53416666390598,
          125.20071712682608,
          132.86604745040705,
          133.1993226818671,
          134.19914837624725,
          136.86535022792754,
          137.53190069084764,
          141.19792823690807,
          141.53120346836818,
          143.8641300885884,
          144.19740532004852,
          146.8636071717288,
          149.52980902340914,
          149.86308425486925,
          150.5296347177893,
          152.52928610654953,
          152.86256133800958,
          152.86256133800958,
          155.86203842114998,
          156.19531365261003,
          156.52858888407007,
          159.5280659672104,
          160.8611668930506,
          172.52579999415212,
          173.52562568853222,
          177.19165323459265,
          179.19130462335295,
          179.524579854813,
          184.85698355817368,
          193.18886434467476,
          200.18764420533563,
          200.18764420533563,
          211.5190020749771,
          215.85158008395763,
          219.184332398558,
          224.85001133337875,
          229.51586457381933,
          231.51551596257963,
          236.1813692030202,
          236.51464443448026,
          240.1806719805407,
          245.17980045244133,
          249.84565369288197,
          253.8449564704024,
          255.84460785916264,
          260.5104610996033,
          261.8435620254435,
          262.5101124883635,
          278.1740483669856,
          285.50610345910644,
          311.8348467444498,
          325.1658560028515,
          353.4942506769551,
          389.4879756746397,
          411.48414095100253,
          441.14563655094634
         ],
         "yaxis": "y3"
        },
        {
         "hovertemplate": "<b>OLS trendline</b><br>spy_close = 17.3314 * us_cp + 89.6501<br>R<sup>2</sup>=0.068286<br><br>us_cp=%{x}<br>spy_close=%{y} <b>(trend)</b><extra></extra>",
         "legendgroup": "",
         "marker": {
          "color": "#636efa",
          "symbol": "circle"
         },
         "mode": "lines",
         "name": "",
         "showlegend": false,
         "type": "scatter",
         "x": [
          -1.426776,
          -1.286206,
          -0.383556,
          -0.073637,
          -0.03613,
          0.091413,
          0.123771,
          0.645733,
          0.72952,
          0.756493,
          0.852536,
          0.997326,
          1.053349,
          1.067416,
          1.143683,
          1.184925,
          1.362005,
          1.371325,
          1.375,
          1.463784,
          1.473896,
          1.475596,
          1.488834,
          1.495724,
          1.501736,
          1.512203,
          1.514302,
          1.539327,
          1.551724,
          1.611903,
          1.633488,
          1.648485,
          1.657919,
          1.663994,
          1.684342,
          1.702396,
          1.711305,
          1.726264,
          1.737242,
          1.741022,
          1.754417,
          1.862523,
          1.879491,
          1.910159,
          1.96319,
          1.991282,
          2.062374,
          2.072341,
          2.074622,
          2.109082,
          2.112285,
          2.154626,
          2.232964,
          2.276972,
          2.28513,
          2.297384,
          2.313959,
          2.320442,
          2.359711,
          2.37691,
          2.380612,
          2.493075,
          2.506964,
          2.530311,
          2.537797,
          2.53841,
          2.54065,
          2.543507,
          2.619763,
          2.628362,
          2.648244,
          2.651398,
          2.674897,
          2.681603,
          2.684564,
          2.687038,
          2.689314,
          2.721331,
          2.748414,
          2.754098,
          2.755052,
          2.761721,
          2.778779,
          2.840159,
          2.853261,
          2.871548,
          2.920561,
          2.962419,
          2.963473,
          2.99572,
          3.002611,
          3.020134,
          3.040541,
          3.086863,
          3.148346,
          3.24826,
          3.255562,
          3.266195,
          3.322476,
          3.362649,
          3.386809,
          3.415659,
          3.454437,
          3.558828,
          3.730445,
          3.757576,
          3.868357,
          3.981456,
          4.081269,
          4.318766,
          4.686677,
          4.936927,
          5.02179,
          5.390349,
          5.391451,
          7.036403,
          8.542456,
          9.059758
         ],
         "xaxis": "x4",
         "y": [
          64.92204337109028,
          67.35832336103219,
          83.0025442682034,
          88.37388565116423,
          89.02393582960025,
          91.2344391998582,
          91.79524981317925,
          100.84160092728649,
          102.29374997414757,
          102.7612308034049,
          104.42579393262159,
          106.93521258342679,
          107.90617163497774,
          108.14997294833415,
          109.47178959479427,
          110.18657268752519,
          113.25562341398825,
          113.41715239959156,
          113.48084542771304,
          115.01959966138311,
          115.19485514447547,
          115.22431858605547,
          115.45375213878259,
          115.57316573436273,
          115.6773623289386,
          115.85877047189031,
          115.8951491565235,
          116.3288683480174,
          116.54372616288052,
          117.58671466337645,
          117.9608137142614,
          118.2207332633057,
          118.3842380326385,
          118.48952650769647,
          118.84218657197289,
          119.15508832155254,
          119.309494086868,
          119.5687550413358,
          119.75901954819774,
          119.8245323771227,
          120.0566869653369,
          121.93031920971805,
          122.22439901955894,
          122.75591950566223,
          123.67502290003236,
          124.16189760642382,
          125.39402407042718,
          125.56676649526712,
          125.606299501293,
          126.2035407935559,
          126.25905338377987,
          126.99288372492045,
          128.3505937757995,
          129.1133156211247,
          129.25470547783627,
          129.46708489731944,
          129.75435345272447,
          129.86671315376162,
          130.5473013228235,
          130.84538469443206,
          130.90954567133156,
          132.85869098333865,
          133.09940730104728,
          133.50404434255807,
          133.63378747412744,
          133.64441164453245,
          133.68323406167318,
          133.7327499749638,
          135.05437597562548,
          135.20340899571164,
          135.5479926107079,
          135.60265596055692,
          136.0099273803737,
          136.1261519916887,
          136.17747037434657,
          136.2203483475636,
          136.25979469640836,
          136.81469528997718,
          137.2840825772191,
          137.38259446071365,
          137.39912865087092,
          137.51471199904563,
          137.81035163814664,
          138.87415519354704,
          139.10123167094775,
          139.4181716451675,
          140.26763732879147,
          140.99309658623608,
          141.0113639200157,
          141.57025074391592,
          141.6896816709323,
          141.99338042787724,
          142.34706304689087,
          143.1498898356373,
          144.21547852896873,
          145.9471316478067,
          146.07368579511092,
          146.25797095647576,
          147.23340151857235,
          147.92965730598033,
          148.34838480514085,
          148.84839674018974,
          149.52047517406587,
          151.3297211328766,
          154.3040902232505,
          154.77430941943118,
          156.69430325571028,
          158.65447136115552,
          160.3843740049349,
          164.50053811371512,
          170.876964146151,
          175.2141560610899,
          176.68495373332752,
          183.07261053643626,
          183.0917097791546,
          211.6010904579261,
          237.70315197668523,
          246.66873859799082
         ],
         "yaxis": "y4"
        },
        {
         "hovertemplate": "<b>OLS trendline</b><br>spy_close = 0.0057096 * us_tc + -57.9578<br>R<sup>2</sup>=0.803642<br><br>us_tc=%{x}<br>spy_close=%{y} <b>(trend)</b><extra></extra>",
         "legendgroup": "",
         "marker": {
          "color": "#636efa",
          "symbol": "circle"
         },
         "mode": "lines",
         "name": "",
         "showlegend": false,
         "type": "scatter",
         "x": [
          12307.791,
          12540.492,
          12784.982,
          12941.752,
          12947.953,
          12994.456,
          13129.102,
          13341.601,
          13603.549,
          13981.184,
          14147.808,
          14440.983,
          14520.627,
          14642.113,
          14840.12,
          15101.356,
          15192.515,
          15396.752,
          15727.845,
          16054.649,
          16301.996,
          16583.631,
          16947.665,
          17224.883,
          17378.489,
          17473.08,
          17785.025,
          18055.818,
          18390.282,
          18545.134,
          18804.851,
          19147.933,
          19345.455,
          19497.493,
          20023.024,
          20236.027,
          20392.895,
          20787.189,
          21344.084,
          21755.656,
          22007.954,
          22667.826,
          22990.294,
          23358.485,
          24692.225,
          25002.893,
          25574.861,
          26229.901,
          26665.217,
          27241.513,
          27667.165,
          28276.27,
          28843.178,
          29301.32,
          29972.02,
          30582.89,
          31152.205,
          31596.202,
          32418.72,
          33268.599,
          33918.261,
          33991.303,
          34726.266,
          35483.276,
          35649.542,
          35674.174,
          35990.647,
          36010.647,
          36351.005,
          36910.595,
          37475.782,
          37574.297,
          37696.157,
          37870.633,
          38998.328,
          39527.123,
          39724.302,
          40268.229,
          40713.09,
          40972.913,
          41123.34,
          41208.116,
          41393.245,
          41808.295,
          42361.622,
          42703.93,
          43057.191,
          43811.198,
          44171.693,
          44187.331,
          44568.184,
          45271.189,
          46179.436,
          46699.066,
          47002.436,
          47178.845,
          47208.801,
          47581.858,
          48296.927,
          48940.406,
          49507.27,
          50037.863,
          50476.982,
          51483.654,
          52037.441,
          52631.217,
          54026.626,
          54531.412,
          57073.872,
          60397.938,
          61130.194,
          61830.019,
          61905.955,
          62594.676,
          62933.826,
          64583.712
         ],
         "xaxis": "x5",
         "y": [
          12.314777664259076,
          13.643406861496679,
          15.039346511230129,
          15.934440211948818,
          15.969845430027256,
          16.235358872423895,
          17.00413342384936,
          18.21741731942263,
          19.713035133518822,
          21.86917922786659,
          22.82053530867639,
          24.494446743952288,
          24.949181978372387,
          25.64281821824934,
          26.773358617549,
          28.264911197768093,
          28.785392454793133,
          29.95150365051733,
          31.84191162814094,
          33.707831139333585,
          35.12008311095868,
          36.72810578367611,
          38.80659363369477,
          40.38939701141904,
          41.2664255436165,
          41.806502141464826,
          43.58758273386575,
          45.13370194352776,
          47.04335697648799,
          47.92749966797036,
          49.41037936861179,
          51.369239718359644,
          52.49701096256043,
          53.36508684487125,
          56.365657666025776,
          57.581819199062586,
          58.477472440399204,
          60.72873273019429,
          63.908379387473964,
          66.25829011396624,
          67.69881030599231,
          71.46641425113896,
          73.30757694478797,
          75.40979959428287,
          83.02491902017138,
          84.79870845574501,
          88.06441588581879,
          91.80443105274341,
          94.28991047751893,
          97.58032904835122,
          100.0106309166826,
          103.48837569295523,
          106.72519255643059,
          109.340999268395,
          113.17042674222307,
          116.65824895921628,
          119.90880882541941,
          122.44385327166546,
          127.14010051621312,
          131.9925680755236,
          135.70187702364058,
          136.11891749112732,
          140.31526087035368,
          144.63748375981626,
          145.58679580449126,
          145.72743462592456,
          147.53436827871238,
          147.64856024155202,
          149.59186764596112,
          152.78690167023348,
          156.01389231530646,
          156.57637337626392,
          157.27214500584597,
          158.26833285126665,
          164.70701812799027,
          167.72622507748022,
          168.85203792951833,
          171.95764251809274,
          174.49762005713347,
          175.98110497517797,
          176.83998269488202,
          177.3240195869668,
          178.38103178139403,
          180.75080049022407,
          183.9100753013332,
          185.86451642211912,
          187.8814947713542,
          192.18657173759644,
          194.24485331979065,
          194.33414001553498,
          196.5086575967037,
          200.52253363850852,
          205.70825902217027,
          208.67513750468893,
          210.40725829302235,
          211.4144827916514,
          211.5855195135927,
          213.71552506764644,
          217.7982817014362,
          221.47228820424132,
          224.7088538453984,
          227.73832665234764,
          230.24551967885716,
          235.99321225964357,
          239.15511348589794,
          242.5453358322521,
          250.51256046595856,
          253.39468567365768,
          267.9111105657241,
          286.89019162315327,
          291.0710791202093,
          295.0667986399226,
          295.5003626844322,
          299.43268282637695,
          301.3690930362305,
          310.7892790763144
         ],
         "yaxis": "y5"
        }
       ],
       "layout": {
        "height": 1000,
        "template": {
         "data": {
          "bar": [
           {
            "error_x": {
             "color": "#2a3f5f"
            },
            "error_y": {
             "color": "#2a3f5f"
            },
            "marker": {
             "line": {
              "color": "#E5ECF6",
              "width": 0.5
             },
             "pattern": {
              "fillmode": "overlay",
              "size": 10,
              "solidity": 0.2
             }
            },
            "type": "bar"
           }
          ],
          "barpolar": [
           {
            "marker": {
             "line": {
              "color": "#E5ECF6",
              "width": 0.5
             },
             "pattern": {
              "fillmode": "overlay",
              "size": 10,
              "solidity": 0.2
             }
            },
            "type": "barpolar"
           }
          ],
          "carpet": [
           {
            "aaxis": {
             "endlinecolor": "#2a3f5f",
             "gridcolor": "white",
             "linecolor": "white",
             "minorgridcolor": "white",
             "startlinecolor": "#2a3f5f"
            },
            "baxis": {
             "endlinecolor": "#2a3f5f",
             "gridcolor": "white",
             "linecolor": "white",
             "minorgridcolor": "white",
             "startlinecolor": "#2a3f5f"
            },
            "type": "carpet"
           }
          ],
          "choropleth": [
           {
            "colorbar": {
             "outlinewidth": 0,
             "ticks": ""
            },
            "type": "choropleth"
           }
          ],
          "contour": [
           {
            "colorbar": {
             "outlinewidth": 0,
             "ticks": ""
            },
            "colorscale": [
             [
              0,
              "#0d0887"
             ],
             [
              0.1111111111111111,
              "#46039f"
             ],
             [
              0.2222222222222222,
              "#7201a8"
             ],
             [
              0.3333333333333333,
              "#9c179e"
             ],
             [
              0.4444444444444444,
              "#bd3786"
             ],
             [
              0.5555555555555556,
              "#d8576b"
             ],
             [
              0.6666666666666666,
              "#ed7953"
             ],
             [
              0.7777777777777778,
              "#fb9f3a"
             ],
             [
              0.8888888888888888,
              "#fdca26"
             ],
             [
              1,
              "#f0f921"
             ]
            ],
            "type": "contour"
           }
          ],
          "contourcarpet": [
           {
            "colorbar": {
             "outlinewidth": 0,
             "ticks": ""
            },
            "type": "contourcarpet"
           }
          ],
          "heatmap": [
           {
            "colorbar": {
             "outlinewidth": 0,
             "ticks": ""
            },
            "colorscale": [
             [
              0,
              "#0d0887"
             ],
             [
              0.1111111111111111,
              "#46039f"
             ],
             [
              0.2222222222222222,
              "#7201a8"
             ],
             [
              0.3333333333333333,
              "#9c179e"
             ],
             [
              0.4444444444444444,
              "#bd3786"
             ],
             [
              0.5555555555555556,
              "#d8576b"
             ],
             [
              0.6666666666666666,
              "#ed7953"
             ],
             [
              0.7777777777777778,
              "#fb9f3a"
             ],
             [
              0.8888888888888888,
              "#fdca26"
             ],
             [
              1,
              "#f0f921"
             ]
            ],
            "type": "heatmap"
           }
          ],
          "heatmapgl": [
           {
            "colorbar": {
             "outlinewidth": 0,
             "ticks": ""
            },
            "colorscale": [
             [
              0,
              "#0d0887"
             ],
             [
              0.1111111111111111,
              "#46039f"
             ],
             [
              0.2222222222222222,
              "#7201a8"
             ],
             [
              0.3333333333333333,
              "#9c179e"
             ],
             [
              0.4444444444444444,
              "#bd3786"
             ],
             [
              0.5555555555555556,
              "#d8576b"
             ],
             [
              0.6666666666666666,
              "#ed7953"
             ],
             [
              0.7777777777777778,
              "#fb9f3a"
             ],
             [
              0.8888888888888888,
              "#fdca26"
             ],
             [
              1,
              "#f0f921"
             ]
            ],
            "type": "heatmapgl"
           }
          ],
          "histogram": [
           {
            "marker": {
             "pattern": {
              "fillmode": "overlay",
              "size": 10,
              "solidity": 0.2
             }
            },
            "type": "histogram"
           }
          ],
          "histogram2d": [
           {
            "colorbar": {
             "outlinewidth": 0,
             "ticks": ""
            },
            "colorscale": [
             [
              0,
              "#0d0887"
             ],
             [
              0.1111111111111111,
              "#46039f"
             ],
             [
              0.2222222222222222,
              "#7201a8"
             ],
             [
              0.3333333333333333,
              "#9c179e"
             ],
             [
              0.4444444444444444,
              "#bd3786"
             ],
             [
              0.5555555555555556,
              "#d8576b"
             ],
             [
              0.6666666666666666,
              "#ed7953"
             ],
             [
              0.7777777777777778,
              "#fb9f3a"
             ],
             [
              0.8888888888888888,
              "#fdca26"
             ],
             [
              1,
              "#f0f921"
             ]
            ],
            "type": "histogram2d"
           }
          ],
          "histogram2dcontour": [
           {
            "colorbar": {
             "outlinewidth": 0,
             "ticks": ""
            },
            "colorscale": [
             [
              0,
              "#0d0887"
             ],
             [
              0.1111111111111111,
              "#46039f"
             ],
             [
              0.2222222222222222,
              "#7201a8"
             ],
             [
              0.3333333333333333,
              "#9c179e"
             ],
             [
              0.4444444444444444,
              "#bd3786"
             ],
             [
              0.5555555555555556,
              "#d8576b"
             ],
             [
              0.6666666666666666,
              "#ed7953"
             ],
             [
              0.7777777777777778,
              "#fb9f3a"
             ],
             [
              0.8888888888888888,
              "#fdca26"
             ],
             [
              1,
              "#f0f921"
             ]
            ],
            "type": "histogram2dcontour"
           }
          ],
          "mesh3d": [
           {
            "colorbar": {
             "outlinewidth": 0,
             "ticks": ""
            },
            "type": "mesh3d"
           }
          ],
          "parcoords": [
           {
            "line": {
             "colorbar": {
              "outlinewidth": 0,
              "ticks": ""
             }
            },
            "type": "parcoords"
           }
          ],
          "pie": [
           {
            "automargin": true,
            "type": "pie"
           }
          ],
          "scatter": [
           {
            "marker": {
             "colorbar": {
              "outlinewidth": 0,
              "ticks": ""
             }
            },
            "type": "scatter"
           }
          ],
          "scatter3d": [
           {
            "line": {
             "colorbar": {
              "outlinewidth": 0,
              "ticks": ""
             }
            },
            "marker": {
             "colorbar": {
              "outlinewidth": 0,
              "ticks": ""
             }
            },
            "type": "scatter3d"
           }
          ],
          "scattercarpet": [
           {
            "marker": {
             "colorbar": {
              "outlinewidth": 0,
              "ticks": ""
             }
            },
            "type": "scattercarpet"
           }
          ],
          "scattergeo": [
           {
            "marker": {
             "colorbar": {
              "outlinewidth": 0,
              "ticks": ""
             }
            },
            "type": "scattergeo"
           }
          ],
          "scattergl": [
           {
            "marker": {
             "colorbar": {
              "outlinewidth": 0,
              "ticks": ""
             }
            },
            "type": "scattergl"
           }
          ],
          "scattermapbox": [
           {
            "marker": {
             "colorbar": {
              "outlinewidth": 0,
              "ticks": ""
             }
            },
            "type": "scattermapbox"
           }
          ],
          "scatterpolar": [
           {
            "marker": {
             "colorbar": {
              "outlinewidth": 0,
              "ticks": ""
             }
            },
            "type": "scatterpolar"
           }
          ],
          "scatterpolargl": [
           {
            "marker": {
             "colorbar": {
              "outlinewidth": 0,
              "ticks": ""
             }
            },
            "type": "scatterpolargl"
           }
          ],
          "scatterternary": [
           {
            "marker": {
             "colorbar": {
              "outlinewidth": 0,
              "ticks": ""
             }
            },
            "type": "scatterternary"
           }
          ],
          "surface": [
           {
            "colorbar": {
             "outlinewidth": 0,
             "ticks": ""
            },
            "colorscale": [
             [
              0,
              "#0d0887"
             ],
             [
              0.1111111111111111,
              "#46039f"
             ],
             [
              0.2222222222222222,
              "#7201a8"
             ],
             [
              0.3333333333333333,
              "#9c179e"
             ],
             [
              0.4444444444444444,
              "#bd3786"
             ],
             [
              0.5555555555555556,
              "#d8576b"
             ],
             [
              0.6666666666666666,
              "#ed7953"
             ],
             [
              0.7777777777777778,
              "#fb9f3a"
             ],
             [
              0.8888888888888888,
              "#fdca26"
             ],
             [
              1,
              "#f0f921"
             ]
            ],
            "type": "surface"
           }
          ],
          "table": [
           {
            "cells": {
             "fill": {
              "color": "#EBF0F8"
             },
             "line": {
              "color": "white"
             }
            },
            "header": {
             "fill": {
              "color": "#C8D4E3"
             },
             "line": {
              "color": "white"
             }
            },
            "type": "table"
           }
          ]
         },
         "layout": {
          "annotationdefaults": {
           "arrowcolor": "#2a3f5f",
           "arrowhead": 0,
           "arrowwidth": 1
          },
          "autotypenumbers": "strict",
          "coloraxis": {
           "colorbar": {
            "outlinewidth": 0,
            "ticks": ""
           }
          },
          "colorscale": {
           "diverging": [
            [
             0,
             "#8e0152"
            ],
            [
             0.1,
             "#c51b7d"
            ],
            [
             0.2,
             "#de77ae"
            ],
            [
             0.3,
             "#f1b6da"
            ],
            [
             0.4,
             "#fde0ef"
            ],
            [
             0.5,
             "#f7f7f7"
            ],
            [
             0.6,
             "#e6f5d0"
            ],
            [
             0.7,
             "#b8e186"
            ],
            [
             0.8,
             "#7fbc41"
            ],
            [
             0.9,
             "#4d9221"
            ],
            [
             1,
             "#276419"
            ]
           ],
           "sequential": [
            [
             0,
             "#0d0887"
            ],
            [
             0.1111111111111111,
             "#46039f"
            ],
            [
             0.2222222222222222,
             "#7201a8"
            ],
            [
             0.3333333333333333,
             "#9c179e"
            ],
            [
             0.4444444444444444,
             "#bd3786"
            ],
            [
             0.5555555555555556,
             "#d8576b"
            ],
            [
             0.6666666666666666,
             "#ed7953"
            ],
            [
             0.7777777777777778,
             "#fb9f3a"
            ],
            [
             0.8888888888888888,
             "#fdca26"
            ],
            [
             1,
             "#f0f921"
            ]
           ],
           "sequentialminus": [
            [
             0,
             "#0d0887"
            ],
            [
             0.1111111111111111,
             "#46039f"
            ],
            [
             0.2222222222222222,
             "#7201a8"
            ],
            [
             0.3333333333333333,
             "#9c179e"
            ],
            [
             0.4444444444444444,
             "#bd3786"
            ],
            [
             0.5555555555555556,
             "#d8576b"
            ],
            [
             0.6666666666666666,
             "#ed7953"
            ],
            [
             0.7777777777777778,
             "#fb9f3a"
            ],
            [
             0.8888888888888888,
             "#fdca26"
            ],
            [
             1,
             "#f0f921"
            ]
           ]
          },
          "colorway": [
           "#636efa",
           "#EF553B",
           "#00cc96",
           "#ab63fa",
           "#FFA15A",
           "#19d3f3",
           "#FF6692",
           "#B6E880",
           "#FF97FF",
           "#FECB52"
          ],
          "font": {
           "color": "#2a3f5f"
          },
          "geo": {
           "bgcolor": "white",
           "lakecolor": "white",
           "landcolor": "#E5ECF6",
           "showlakes": true,
           "showland": true,
           "subunitcolor": "white"
          },
          "hoverlabel": {
           "align": "left"
          },
          "hovermode": "closest",
          "mapbox": {
           "style": "light"
          },
          "paper_bgcolor": "white",
          "plot_bgcolor": "#E5ECF6",
          "polar": {
           "angularaxis": {
            "gridcolor": "white",
            "linecolor": "white",
            "ticks": ""
           },
           "bgcolor": "#E5ECF6",
           "radialaxis": {
            "gridcolor": "white",
            "linecolor": "white",
            "ticks": ""
           }
          },
          "scene": {
           "xaxis": {
            "backgroundcolor": "#E5ECF6",
            "gridcolor": "white",
            "gridwidth": 2,
            "linecolor": "white",
            "showbackground": true,
            "ticks": "",
            "zerolinecolor": "white"
           },
           "yaxis": {
            "backgroundcolor": "#E5ECF6",
            "gridcolor": "white",
            "gridwidth": 2,
            "linecolor": "white",
            "showbackground": true,
            "ticks": "",
            "zerolinecolor": "white"
           },
           "zaxis": {
            "backgroundcolor": "#E5ECF6",
            "gridcolor": "white",
            "gridwidth": 2,
            "linecolor": "white",
            "showbackground": true,
            "ticks": "",
            "zerolinecolor": "white"
           }
          },
          "shapedefaults": {
           "line": {
            "color": "#2a3f5f"
           }
          },
          "ternary": {
           "aaxis": {
            "gridcolor": "white",
            "linecolor": "white",
            "ticks": ""
           },
           "baxis": {
            "gridcolor": "white",
            "linecolor": "white",
            "ticks": ""
           },
           "bgcolor": "#E5ECF6",
           "caxis": {
            "gridcolor": "white",
            "linecolor": "white",
            "ticks": ""
           }
          },
          "title": {
           "x": 0.05
          },
          "xaxis": {
           "automargin": true,
           "gridcolor": "white",
           "linecolor": "white",
           "ticks": "",
           "title": {
            "standoff": 15
           },
           "zerolinecolor": "white",
           "zerolinewidth": 2
          },
          "yaxis": {
           "automargin": true,
           "gridcolor": "white",
           "linecolor": "white",
           "ticks": "",
           "title": {
            "standoff": 15
           },
           "zerolinecolor": "white",
           "zerolinewidth": 2
          }
         }
        },
        "title": {
         "text": "Stacked Subplots with Non-Shared X-Axes"
        },
        "width": 1000,
        "xaxis": {
         "anchor": "y",
         "domain": [
          0,
          0.45
         ]
        },
        "xaxis2": {
         "anchor": "y2",
         "domain": [
          0.55,
          1
         ]
        },
        "xaxis3": {
         "anchor": "y3",
         "domain": [
          0,
          0.45
         ]
        },
        "xaxis4": {
         "anchor": "y4",
         "domain": [
          0.55,
          1
         ]
        },
        "xaxis5": {
         "anchor": "y5",
         "domain": [
          0,
          0.45
         ]
        },
        "xaxis6": {
         "anchor": "y6",
         "domain": [
          0.55,
          1
         ]
        },
        "yaxis": {
         "anchor": "x",
         "domain": [
          0.7,
          1
         ]
        },
        "yaxis2": {
         "anchor": "x2",
         "domain": [
          0.7,
          1
         ]
        },
        "yaxis3": {
         "anchor": "x3",
         "domain": [
          0.35,
          0.6499999999999999
         ]
        },
        "yaxis4": {
         "anchor": "x4",
         "domain": [
          0.35,
          0.6499999999999999
         ]
        },
        "yaxis5": {
         "anchor": "x5",
         "domain": [
          0,
          0.3
         ]
        },
        "yaxis6": {
         "anchor": "x6",
         "domain": [
          0,
          0.3
         ]
        }
       }
      }
     },
     "metadata": {},
     "output_type": "display_data"
    }
   ],
   "source": [
    "fig1 = px.scatter(X, x=\"us_ir\", y=\"spy_close\", trendline=\"ols\", title=\"positive_pct_change\")\n",
    "fig1.update_layout(\n",
    "    height=400)\n",
    "\n",
    "fig2 = px.scatter(X, x=\"nfp\", y=\"spy_close\", trendline=\"ols\", title=\"negative_pct_change\")\n",
    "fig2.update_layout(\n",
    "    height=400)\n",
    "\n",
    "fig3 = px.scatter(X, x=\"pp\", y=\"spy_close\", trendline=\"ols\", title=\"death_pct_change\")\n",
    "fig3.update_layout(\n",
    "    height=400)\n",
    "\n",
    "fig4 = px.scatter(X, x=\"us_cp\", y=\"spy_close\", trendline=\"ols\", title=\"hospitalized_pct_change\")\n",
    "fig4.update_layout(\n",
    "    height=400)\n",
    "\n",
    "fig5 = px.scatter(X, x=\"us_tc\", y=\"spy_close\", trendline=\"ols\", title=\"total_cases_pct_change\")\n",
    "fig5.update_layout(\n",
    "    height=400)\n",
    "\n",
    "#add traces\n",
    "trace1 = fig1['data'][1]\n",
    "trace2 = fig2['data'][1]\n",
    "trace3 = fig3['data'][1]\n",
    "trace4 = fig4['data'][1]\n",
    "trace5 = fig5['data'][1]\n",
    "\n",
    "fig = make_subplots(rows=3\n",
    "                    ,cols=2\n",
    "                    ,shared_xaxes=False\n",
    "                    ,row_heights=[9., 9., 9.]\n",
    "                    ,column_widths=[.1, .1]\n",
    "                    ,shared_yaxes=False\n",
    "                    ,vertical_spacing=0.05\n",
    "                   )\n",
    "\n",
    "fig.add_trace(trace1, row=1, col=1)\n",
    "fig.add_trace(trace2, row=1, col=2)\n",
    "fig.add_trace(trace3, row=2, col=1)\n",
    "fig.add_trace(trace4, row=2, col=2)\n",
    "fig.add_trace(trace5, row=3, col=1)\n",
    "\n",
    "fig['layout'].update(height=1000, width=1000, title='Stacked Subplots with Non-Shared X-Axes')\n",
    "\n",
    "fig.show()"
   ]
  },
  {
   "cell_type": "code",
   "execution_count": 274,
   "metadata": {},
   "outputs": [
    {
     "data": {
      "application/vnd.plotly.v1+json": {
       "config": {
        "plotlyServerURL": "https://plot.ly"
       },
       "data": [
        {
         "hovertemplate": "variable=us_tc<br>date=%{x}<br>value=%{y}<extra></extra>",
         "legendgroup": "us_tc",
         "line": {
          "color": "#636efa",
          "dash": "solid"
         },
         "marker": {
          "symbol": "circle"
         },
         "mode": "lines",
         "name": "us_tc",
         "orientation": "v",
         "showlegend": true,
         "type": "scatter",
         "x": [
          "1993-03-01T00:00:00",
          "1993-06-01T00:00:00",
          "1993-09-01T00:00:00",
          "1993-12-01T00:00:00",
          "1994-03-01T00:00:00",
          "1994-06-01T00:00:00",
          "1994-09-01T00:00:00",
          "1994-12-01T00:00:00",
          "1995-03-01T00:00:00",
          "1995-06-01T00:00:00",
          "1995-09-01T00:00:00",
          "1995-12-01T00:00:00",
          "1996-03-01T00:00:00",
          "1996-06-01T00:00:00",
          "1996-09-01T00:00:00",
          "1996-12-01T00:00:00",
          "1997-03-01T00:00:00",
          "1997-06-01T00:00:00",
          "1997-09-01T00:00:00",
          "1997-12-01T00:00:00",
          "1998-03-01T00:00:00",
          "1998-06-01T00:00:00",
          "1998-09-01T00:00:00",
          "1998-12-01T00:00:00",
          "1999-03-01T00:00:00",
          "1999-06-01T00:00:00",
          "1999-09-01T00:00:00",
          "1999-12-01T00:00:00",
          "2000-03-01T00:00:00",
          "2000-06-01T00:00:00",
          "2000-09-01T00:00:00",
          "2000-12-01T00:00:00",
          "2001-03-01T00:00:00",
          "2001-06-01T00:00:00",
          "2001-09-01T00:00:00",
          "2001-12-01T00:00:00",
          "2002-03-01T00:00:00",
          "2002-06-01T00:00:00",
          "2002-09-01T00:00:00",
          "2002-12-01T00:00:00",
          "2003-03-01T00:00:00",
          "2003-06-01T00:00:00",
          "2003-09-01T00:00:00",
          "2003-12-01T00:00:00",
          "2004-03-01T00:00:00",
          "2004-06-01T00:00:00",
          "2004-09-01T00:00:00",
          "2004-12-01T00:00:00",
          "2005-03-01T00:00:00",
          "2005-06-01T00:00:00",
          "2005-09-01T00:00:00",
          "2005-12-01T00:00:00",
          "2006-03-01T00:00:00",
          "2006-06-01T00:00:00",
          "2006-09-01T00:00:00",
          "2006-12-01T00:00:00",
          "2007-03-01T00:00:00",
          "2007-06-01T00:00:00",
          "2007-09-01T00:00:00",
          "2007-12-01T00:00:00",
          "2008-03-01T00:00:00",
          "2008-06-01T00:00:00",
          "2008-09-01T00:00:00",
          "2008-12-01T00:00:00",
          "2009-03-01T00:00:00",
          "2009-06-01T00:00:00",
          "2009-09-01T00:00:00",
          "2009-12-01T00:00:00",
          "2010-03-01T00:00:00",
          "2010-06-01T00:00:00",
          "2010-09-01T00:00:00",
          "2010-12-01T00:00:00",
          "2011-03-01T00:00:00",
          "2011-06-01T00:00:00",
          "2011-09-01T00:00:00",
          "2011-12-01T00:00:00",
          "2012-03-01T00:00:00",
          "2012-06-01T00:00:00",
          "2012-09-01T00:00:00",
          "2012-12-01T00:00:00",
          "2013-03-01T00:00:00",
          "2013-06-01T00:00:00",
          "2013-09-01T00:00:00",
          "2013-12-01T00:00:00",
          "2014-03-01T00:00:00",
          "2014-06-01T00:00:00",
          "2014-09-01T00:00:00",
          "2014-12-01T00:00:00",
          "2015-03-01T00:00:00",
          "2015-06-01T00:00:00",
          "2015-09-01T00:00:00",
          "2015-12-01T00:00:00",
          "2016-03-01T00:00:00",
          "2016-06-01T00:00:00",
          "2016-09-01T00:00:00",
          "2016-12-01T00:00:00",
          "2017-03-01T00:00:00",
          "2017-06-01T00:00:00",
          "2017-09-01T00:00:00",
          "2017-12-01T00:00:00",
          "2018-03-01T00:00:00",
          "2018-06-01T00:00:00",
          "2018-09-01T00:00:00",
          "2018-12-01T00:00:00",
          "2019-03-01T00:00:00",
          "2019-06-01T00:00:00",
          "2019-09-01T00:00:00",
          "2019-12-01T00:00:00",
          "2020-03-01T00:00:00",
          "2020-06-01T00:00:00",
          "2020-09-01T00:00:00",
          "2020-12-01T00:00:00",
          "2021-03-01T00:00:00",
          "2021-06-01T00:00:00",
          "2021-09-01T00:00:00",
          "2021-12-01T00:00:00",
          "2022-03-01T00:00:00",
          "2022-06-01T00:00:00",
          "2022-09-01T00:00:00"
         ],
         "xaxis": "x",
         "y": [
          12307.791,
          12540.492,
          12784.982,
          12947.953,
          12941.752,
          12994.456,
          13129.102,
          13341.601,
          13603.549,
          13981.184,
          14147.808,
          14440.983,
          14520.627,
          14642.113,
          14840.12,
          15101.356,
          15192.515,
          15396.752,
          15727.845,
          16054.649,
          16301.996,
          16583.631,
          16947.665,
          17224.883,
          17378.489,
          17473.08,
          17785.025,
          18055.818,
          18390.282,
          18545.134,
          18804.851,
          19147.933,
          19345.455,
          19497.493,
          20023.024,
          20236.027,
          20392.895,
          20787.189,
          21344.084,
          21755.656,
          22007.954,
          22667.826,
          22990.294,
          23358.485,
          24692.225,
          25002.893,
          25574.861,
          26229.901,
          26665.217,
          27241.513,
          27667.165,
          28276.27,
          28843.178,
          29301.32,
          29972.02,
          30582.89,
          31152.205,
          31596.202,
          32418.72,
          33268.599,
          33991.303,
          33918.261,
          34726.266,
          35483.276,
          35674.174,
          35649.542,
          35990.647,
          36010.647,
          36351.005,
          36910.595,
          37475.782,
          37574.297,
          37696.157,
          37870.633,
          38998.328,
          39527.123,
          39724.302,
          40268.229,
          40713.09,
          41123.34,
          41393.245,
          40972.913,
          41208.116,
          41808.295,
          42361.622,
          42703.93,
          43057.191,
          43811.198,
          44187.331,
          44171.693,
          44568.184,
          45271.189,
          46179.436,
          46699.066,
          47178.845,
          47002.436,
          47208.801,
          47581.858,
          48296.927,
          48940.406,
          49507.27,
          50037.863,
          50476.982,
          51483.654,
          52037.441,
          52631.217,
          54026.626,
          54531.412,
          57073.872,
          60397.938,
          61130.194,
          61905.955,
          61830.019,
          62594.676,
          62933.826,
          64583.712,
          null,
          null,
          null
         ],
         "yaxis": "y"
        },
        {
         "hovertemplate": "variable=nfp<br>date=%{x}<br>value=%{y}<extra></extra>",
         "legendgroup": "nfp",
         "line": {
          "color": "#EF553B",
          "dash": "solid"
         },
         "marker": {
          "symbol": "circle"
         },
         "mode": "lines",
         "name": "nfp",
         "orientation": "v",
         "showlegend": true,
         "type": "scatter",
         "x": [
          "1993-03-01T00:00:00",
          "1993-06-01T00:00:00",
          "1993-09-01T00:00:00",
          "1993-12-01T00:00:00",
          "1994-03-01T00:00:00",
          "1994-06-01T00:00:00",
          "1994-09-01T00:00:00",
          "1994-12-01T00:00:00",
          "1995-03-01T00:00:00",
          "1995-06-01T00:00:00",
          "1995-09-01T00:00:00",
          "1995-12-01T00:00:00",
          "1996-03-01T00:00:00",
          "1996-06-01T00:00:00",
          "1996-09-01T00:00:00",
          "1996-12-01T00:00:00",
          "1997-03-01T00:00:00",
          "1997-06-01T00:00:00",
          "1997-09-01T00:00:00",
          "1997-12-01T00:00:00",
          "1998-03-01T00:00:00",
          "1998-06-01T00:00:00",
          "1998-09-01T00:00:00",
          "1998-12-01T00:00:00",
          "1999-03-01T00:00:00",
          "1999-06-01T00:00:00",
          "1999-09-01T00:00:00",
          "1999-12-01T00:00:00",
          "2000-03-01T00:00:00",
          "2000-06-01T00:00:00",
          "2000-09-01T00:00:00",
          "2000-12-01T00:00:00",
          "2001-03-01T00:00:00",
          "2001-06-01T00:00:00",
          "2001-09-01T00:00:00",
          "2001-12-01T00:00:00",
          "2002-03-01T00:00:00",
          "2002-06-01T00:00:00",
          "2002-09-01T00:00:00",
          "2002-12-01T00:00:00",
          "2003-03-01T00:00:00",
          "2003-06-01T00:00:00",
          "2003-09-01T00:00:00",
          "2003-12-01T00:00:00",
          "2004-03-01T00:00:00",
          "2004-06-01T00:00:00",
          "2004-09-01T00:00:00",
          "2004-12-01T00:00:00",
          "2005-03-01T00:00:00",
          "2005-06-01T00:00:00",
          "2005-09-01T00:00:00",
          "2005-12-01T00:00:00",
          "2006-03-01T00:00:00",
          "2006-06-01T00:00:00",
          "2006-09-01T00:00:00",
          "2006-12-01T00:00:00",
          "2007-03-01T00:00:00",
          "2007-06-01T00:00:00",
          "2007-09-01T00:00:00",
          "2007-12-01T00:00:00",
          "2008-03-01T00:00:00",
          "2008-06-01T00:00:00",
          "2008-09-01T00:00:00",
          "2008-12-01T00:00:00",
          "2009-03-01T00:00:00",
          "2009-06-01T00:00:00",
          "2009-09-01T00:00:00",
          "2009-12-01T00:00:00",
          "2010-03-01T00:00:00",
          "2010-06-01T00:00:00",
          "2010-09-01T00:00:00",
          "2010-12-01T00:00:00",
          "2011-03-01T00:00:00",
          "2011-06-01T00:00:00",
          "2011-09-01T00:00:00",
          "2011-12-01T00:00:00",
          "2012-03-01T00:00:00",
          "2012-06-01T00:00:00",
          "2012-09-01T00:00:00",
          "2012-12-01T00:00:00",
          "2013-03-01T00:00:00",
          "2013-06-01T00:00:00",
          "2013-09-01T00:00:00",
          "2013-12-01T00:00:00",
          "2014-03-01T00:00:00",
          "2014-06-01T00:00:00",
          "2014-09-01T00:00:00",
          "2014-12-01T00:00:00",
          "2015-03-01T00:00:00",
          "2015-06-01T00:00:00",
          "2015-09-01T00:00:00",
          "2015-12-01T00:00:00",
          "2016-03-01T00:00:00",
          "2016-06-01T00:00:00",
          "2016-09-01T00:00:00",
          "2016-12-01T00:00:00",
          "2017-03-01T00:00:00",
          "2017-06-01T00:00:00",
          "2017-09-01T00:00:00",
          "2017-12-01T00:00:00",
          "2018-03-01T00:00:00",
          "2018-06-01T00:00:00",
          "2018-09-01T00:00:00",
          "2018-12-01T00:00:00",
          "2019-03-01T00:00:00",
          "2019-06-01T00:00:00",
          "2019-09-01T00:00:00",
          "2019-12-01T00:00:00",
          "2020-03-01T00:00:00",
          "2020-06-01T00:00:00",
          "2020-09-01T00:00:00",
          "2020-12-01T00:00:00",
          "2021-03-01T00:00:00",
          "2021-06-01T00:00:00",
          "2021-09-01T00:00:00",
          "2021-12-01T00:00:00",
          "2022-03-01T00:00:00",
          "2022-06-01T00:00:00",
          "2022-09-01T00:00:00"
         ],
         "xaxis": "x",
         "y": [
          109994,
          110749,
          111448,
          112314,
          113242,
          114238,
          115247,
          116165,
          116907,
          117286,
          117875,
          118320,
          118993,
          119769,
          120410,
          121143,
          121990,
          122814,
          123585,
          124549,
          125164,
          126076,
          126752,
          127596,
          128227,
          129089,
          129772,
          130772,
          131596,
          132061,
          132353,
          132709,
          132747,
          132299,
          131771,
          130982,
          130717,
          130684,
          130501,
          130472,
          130232,
          130194,
          130254,
          130588,
          131142,
          131793,
          132093,
          132624,
          133156,
          133942,
          134566,
          135149,
          136047,
          136325,
          136843,
          137249,
          137793,
          138069,
          138095,
          138392,
          138275,
          137687,
          136753,
          134839,
          132512,
          131008,
          130244,
          129788,
          129879,
          130511,
          130357,
          130822,
          131288,
          131939,
          132358,
          132896,
          133752,
          134007,
          134518,
          135072,
          135680,
          136274,
          136815,
          137373,
          137968,
          138837,
          139566,
          140377,
          140910,
          141699,
          142281,
          143097,
          143654,
          144150,
          144953,
          145415,
          145960,
          146585,
          147012,
          147529,
          148289,
          148984,
          149326,
          149821,
          150348,
          150843,
          151244,
          151789,
          151006,
          137660,
          141632,
          142497,
          144431,
          145698,
          147328,
          149240,
          150856,
          152008,
          152536
         ],
         "yaxis": "y"
        }
       ],
       "layout": {
        "legend": {
         "title": {
          "text": "variable"
         },
         "tracegroupgap": 0
        },
        "margin": {
         "t": 60
        },
        "template": {
         "data": {
          "bar": [
           {
            "error_x": {
             "color": "#2a3f5f"
            },
            "error_y": {
             "color": "#2a3f5f"
            },
            "marker": {
             "line": {
              "color": "#E5ECF6",
              "width": 0.5
             },
             "pattern": {
              "fillmode": "overlay",
              "size": 10,
              "solidity": 0.2
             }
            },
            "type": "bar"
           }
          ],
          "barpolar": [
           {
            "marker": {
             "line": {
              "color": "#E5ECF6",
              "width": 0.5
             },
             "pattern": {
              "fillmode": "overlay",
              "size": 10,
              "solidity": 0.2
             }
            },
            "type": "barpolar"
           }
          ],
          "carpet": [
           {
            "aaxis": {
             "endlinecolor": "#2a3f5f",
             "gridcolor": "white",
             "linecolor": "white",
             "minorgridcolor": "white",
             "startlinecolor": "#2a3f5f"
            },
            "baxis": {
             "endlinecolor": "#2a3f5f",
             "gridcolor": "white",
             "linecolor": "white",
             "minorgridcolor": "white",
             "startlinecolor": "#2a3f5f"
            },
            "type": "carpet"
           }
          ],
          "choropleth": [
           {
            "colorbar": {
             "outlinewidth": 0,
             "ticks": ""
            },
            "type": "choropleth"
           }
          ],
          "contour": [
           {
            "colorbar": {
             "outlinewidth": 0,
             "ticks": ""
            },
            "colorscale": [
             [
              0,
              "#0d0887"
             ],
             [
              0.1111111111111111,
              "#46039f"
             ],
             [
              0.2222222222222222,
              "#7201a8"
             ],
             [
              0.3333333333333333,
              "#9c179e"
             ],
             [
              0.4444444444444444,
              "#bd3786"
             ],
             [
              0.5555555555555556,
              "#d8576b"
             ],
             [
              0.6666666666666666,
              "#ed7953"
             ],
             [
              0.7777777777777778,
              "#fb9f3a"
             ],
             [
              0.8888888888888888,
              "#fdca26"
             ],
             [
              1,
              "#f0f921"
             ]
            ],
            "type": "contour"
           }
          ],
          "contourcarpet": [
           {
            "colorbar": {
             "outlinewidth": 0,
             "ticks": ""
            },
            "type": "contourcarpet"
           }
          ],
          "heatmap": [
           {
            "colorbar": {
             "outlinewidth": 0,
             "ticks": ""
            },
            "colorscale": [
             [
              0,
              "#0d0887"
             ],
             [
              0.1111111111111111,
              "#46039f"
             ],
             [
              0.2222222222222222,
              "#7201a8"
             ],
             [
              0.3333333333333333,
              "#9c179e"
             ],
             [
              0.4444444444444444,
              "#bd3786"
             ],
             [
              0.5555555555555556,
              "#d8576b"
             ],
             [
              0.6666666666666666,
              "#ed7953"
             ],
             [
              0.7777777777777778,
              "#fb9f3a"
             ],
             [
              0.8888888888888888,
              "#fdca26"
             ],
             [
              1,
              "#f0f921"
             ]
            ],
            "type": "heatmap"
           }
          ],
          "heatmapgl": [
           {
            "colorbar": {
             "outlinewidth": 0,
             "ticks": ""
            },
            "colorscale": [
             [
              0,
              "#0d0887"
             ],
             [
              0.1111111111111111,
              "#46039f"
             ],
             [
              0.2222222222222222,
              "#7201a8"
             ],
             [
              0.3333333333333333,
              "#9c179e"
             ],
             [
              0.4444444444444444,
              "#bd3786"
             ],
             [
              0.5555555555555556,
              "#d8576b"
             ],
             [
              0.6666666666666666,
              "#ed7953"
             ],
             [
              0.7777777777777778,
              "#fb9f3a"
             ],
             [
              0.8888888888888888,
              "#fdca26"
             ],
             [
              1,
              "#f0f921"
             ]
            ],
            "type": "heatmapgl"
           }
          ],
          "histogram": [
           {
            "marker": {
             "pattern": {
              "fillmode": "overlay",
              "size": 10,
              "solidity": 0.2
             }
            },
            "type": "histogram"
           }
          ],
          "histogram2d": [
           {
            "colorbar": {
             "outlinewidth": 0,
             "ticks": ""
            },
            "colorscale": [
             [
              0,
              "#0d0887"
             ],
             [
              0.1111111111111111,
              "#46039f"
             ],
             [
              0.2222222222222222,
              "#7201a8"
             ],
             [
              0.3333333333333333,
              "#9c179e"
             ],
             [
              0.4444444444444444,
              "#bd3786"
             ],
             [
              0.5555555555555556,
              "#d8576b"
             ],
             [
              0.6666666666666666,
              "#ed7953"
             ],
             [
              0.7777777777777778,
              "#fb9f3a"
             ],
             [
              0.8888888888888888,
              "#fdca26"
             ],
             [
              1,
              "#f0f921"
             ]
            ],
            "type": "histogram2d"
           }
          ],
          "histogram2dcontour": [
           {
            "colorbar": {
             "outlinewidth": 0,
             "ticks": ""
            },
            "colorscale": [
             [
              0,
              "#0d0887"
             ],
             [
              0.1111111111111111,
              "#46039f"
             ],
             [
              0.2222222222222222,
              "#7201a8"
             ],
             [
              0.3333333333333333,
              "#9c179e"
             ],
             [
              0.4444444444444444,
              "#bd3786"
             ],
             [
              0.5555555555555556,
              "#d8576b"
             ],
             [
              0.6666666666666666,
              "#ed7953"
             ],
             [
              0.7777777777777778,
              "#fb9f3a"
             ],
             [
              0.8888888888888888,
              "#fdca26"
             ],
             [
              1,
              "#f0f921"
             ]
            ],
            "type": "histogram2dcontour"
           }
          ],
          "mesh3d": [
           {
            "colorbar": {
             "outlinewidth": 0,
             "ticks": ""
            },
            "type": "mesh3d"
           }
          ],
          "parcoords": [
           {
            "line": {
             "colorbar": {
              "outlinewidth": 0,
              "ticks": ""
             }
            },
            "type": "parcoords"
           }
          ],
          "pie": [
           {
            "automargin": true,
            "type": "pie"
           }
          ],
          "scatter": [
           {
            "marker": {
             "colorbar": {
              "outlinewidth": 0,
              "ticks": ""
             }
            },
            "type": "scatter"
           }
          ],
          "scatter3d": [
           {
            "line": {
             "colorbar": {
              "outlinewidth": 0,
              "ticks": ""
             }
            },
            "marker": {
             "colorbar": {
              "outlinewidth": 0,
              "ticks": ""
             }
            },
            "type": "scatter3d"
           }
          ],
          "scattercarpet": [
           {
            "marker": {
             "colorbar": {
              "outlinewidth": 0,
              "ticks": ""
             }
            },
            "type": "scattercarpet"
           }
          ],
          "scattergeo": [
           {
            "marker": {
             "colorbar": {
              "outlinewidth": 0,
              "ticks": ""
             }
            },
            "type": "scattergeo"
           }
          ],
          "scattergl": [
           {
            "marker": {
             "colorbar": {
              "outlinewidth": 0,
              "ticks": ""
             }
            },
            "type": "scattergl"
           }
          ],
          "scattermapbox": [
           {
            "marker": {
             "colorbar": {
              "outlinewidth": 0,
              "ticks": ""
             }
            },
            "type": "scattermapbox"
           }
          ],
          "scatterpolar": [
           {
            "marker": {
             "colorbar": {
              "outlinewidth": 0,
              "ticks": ""
             }
            },
            "type": "scatterpolar"
           }
          ],
          "scatterpolargl": [
           {
            "marker": {
             "colorbar": {
              "outlinewidth": 0,
              "ticks": ""
             }
            },
            "type": "scatterpolargl"
           }
          ],
          "scatterternary": [
           {
            "marker": {
             "colorbar": {
              "outlinewidth": 0,
              "ticks": ""
             }
            },
            "type": "scatterternary"
           }
          ],
          "surface": [
           {
            "colorbar": {
             "outlinewidth": 0,
             "ticks": ""
            },
            "colorscale": [
             [
              0,
              "#0d0887"
             ],
             [
              0.1111111111111111,
              "#46039f"
             ],
             [
              0.2222222222222222,
              "#7201a8"
             ],
             [
              0.3333333333333333,
              "#9c179e"
             ],
             [
              0.4444444444444444,
              "#bd3786"
             ],
             [
              0.5555555555555556,
              "#d8576b"
             ],
             [
              0.6666666666666666,
              "#ed7953"
             ],
             [
              0.7777777777777778,
              "#fb9f3a"
             ],
             [
              0.8888888888888888,
              "#fdca26"
             ],
             [
              1,
              "#f0f921"
             ]
            ],
            "type": "surface"
           }
          ],
          "table": [
           {
            "cells": {
             "fill": {
              "color": "#EBF0F8"
             },
             "line": {
              "color": "white"
             }
            },
            "header": {
             "fill": {
              "color": "#C8D4E3"
             },
             "line": {
              "color": "white"
             }
            },
            "type": "table"
           }
          ]
         },
         "layout": {
          "annotationdefaults": {
           "arrowcolor": "#2a3f5f",
           "arrowhead": 0,
           "arrowwidth": 1
          },
          "autotypenumbers": "strict",
          "coloraxis": {
           "colorbar": {
            "outlinewidth": 0,
            "ticks": ""
           }
          },
          "colorscale": {
           "diverging": [
            [
             0,
             "#8e0152"
            ],
            [
             0.1,
             "#c51b7d"
            ],
            [
             0.2,
             "#de77ae"
            ],
            [
             0.3,
             "#f1b6da"
            ],
            [
             0.4,
             "#fde0ef"
            ],
            [
             0.5,
             "#f7f7f7"
            ],
            [
             0.6,
             "#e6f5d0"
            ],
            [
             0.7,
             "#b8e186"
            ],
            [
             0.8,
             "#7fbc41"
            ],
            [
             0.9,
             "#4d9221"
            ],
            [
             1,
             "#276419"
            ]
           ],
           "sequential": [
            [
             0,
             "#0d0887"
            ],
            [
             0.1111111111111111,
             "#46039f"
            ],
            [
             0.2222222222222222,
             "#7201a8"
            ],
            [
             0.3333333333333333,
             "#9c179e"
            ],
            [
             0.4444444444444444,
             "#bd3786"
            ],
            [
             0.5555555555555556,
             "#d8576b"
            ],
            [
             0.6666666666666666,
             "#ed7953"
            ],
            [
             0.7777777777777778,
             "#fb9f3a"
            ],
            [
             0.8888888888888888,
             "#fdca26"
            ],
            [
             1,
             "#f0f921"
            ]
           ],
           "sequentialminus": [
            [
             0,
             "#0d0887"
            ],
            [
             0.1111111111111111,
             "#46039f"
            ],
            [
             0.2222222222222222,
             "#7201a8"
            ],
            [
             0.3333333333333333,
             "#9c179e"
            ],
            [
             0.4444444444444444,
             "#bd3786"
            ],
            [
             0.5555555555555556,
             "#d8576b"
            ],
            [
             0.6666666666666666,
             "#ed7953"
            ],
            [
             0.7777777777777778,
             "#fb9f3a"
            ],
            [
             0.8888888888888888,
             "#fdca26"
            ],
            [
             1,
             "#f0f921"
            ]
           ]
          },
          "colorway": [
           "#636efa",
           "#EF553B",
           "#00cc96",
           "#ab63fa",
           "#FFA15A",
           "#19d3f3",
           "#FF6692",
           "#B6E880",
           "#FF97FF",
           "#FECB52"
          ],
          "font": {
           "color": "#2a3f5f"
          },
          "geo": {
           "bgcolor": "white",
           "lakecolor": "white",
           "landcolor": "#E5ECF6",
           "showlakes": true,
           "showland": true,
           "subunitcolor": "white"
          },
          "hoverlabel": {
           "align": "left"
          },
          "hovermode": "closest",
          "mapbox": {
           "style": "light"
          },
          "paper_bgcolor": "white",
          "plot_bgcolor": "#E5ECF6",
          "polar": {
           "angularaxis": {
            "gridcolor": "white",
            "linecolor": "white",
            "ticks": ""
           },
           "bgcolor": "#E5ECF6",
           "radialaxis": {
            "gridcolor": "white",
            "linecolor": "white",
            "ticks": ""
           }
          },
          "scene": {
           "xaxis": {
            "backgroundcolor": "#E5ECF6",
            "gridcolor": "white",
            "gridwidth": 2,
            "linecolor": "white",
            "showbackground": true,
            "ticks": "",
            "zerolinecolor": "white"
           },
           "yaxis": {
            "backgroundcolor": "#E5ECF6",
            "gridcolor": "white",
            "gridwidth": 2,
            "linecolor": "white",
            "showbackground": true,
            "ticks": "",
            "zerolinecolor": "white"
           },
           "zaxis": {
            "backgroundcolor": "#E5ECF6",
            "gridcolor": "white",
            "gridwidth": 2,
            "linecolor": "white",
            "showbackground": true,
            "ticks": "",
            "zerolinecolor": "white"
           }
          },
          "shapedefaults": {
           "line": {
            "color": "#2a3f5f"
           }
          },
          "ternary": {
           "aaxis": {
            "gridcolor": "white",
            "linecolor": "white",
            "ticks": ""
           },
           "baxis": {
            "gridcolor": "white",
            "linecolor": "white",
            "ticks": ""
           },
           "bgcolor": "#E5ECF6",
           "caxis": {
            "gridcolor": "white",
            "linecolor": "white",
            "ticks": ""
           }
          },
          "title": {
           "x": 0.05
          },
          "xaxis": {
           "automargin": true,
           "gridcolor": "white",
           "linecolor": "white",
           "ticks": "",
           "title": {
            "standoff": 15
           },
           "zerolinecolor": "white",
           "zerolinewidth": 2
          },
          "yaxis": {
           "automargin": true,
           "gridcolor": "white",
           "linecolor": "white",
           "ticks": "",
           "title": {
            "standoff": 15
           },
           "zerolinecolor": "white",
           "zerolinewidth": 2
          }
         }
        },
        "xaxis": {
         "anchor": "y",
         "domain": [
          0,
          1
         ],
         "title": {
          "text": "date"
         }
        },
        "yaxis": {
         "anchor": "x",
         "domain": [
          0,
          1
         ],
         "title": {
          "text": "value"
         }
        }
       }
      }
     },
     "metadata": {},
     "output_type": "display_data"
    }
   ],
   "source": [
    "px.line(X, x=\"date\", y=['us_tc', 'nfp'])"
   ]
  },
  {
   "cell_type": "code",
   "execution_count": 275,
   "metadata": {},
   "outputs": [
    {
     "data": {
      "application/vnd.plotly.v1+json": {
       "config": {
        "plotlyServerURL": "https://plot.ly"
       },
       "data": [
        {
         "hovertemplate": "variable=us_ir<br>date=%{x}<br>value=%{y}<extra></extra>",
         "legendgroup": "us_ir",
         "line": {
          "color": "#636efa",
          "dash": "solid"
         },
         "marker": {
          "symbol": "circle"
         },
         "mode": "lines",
         "name": "us_ir",
         "orientation": "v",
         "showlegend": true,
         "type": "scatter",
         "x": [
          "1993-03-01T00:00:00",
          "1993-06-01T00:00:00",
          "1993-09-01T00:00:00",
          "1993-12-01T00:00:00",
          "1994-03-01T00:00:00",
          "1994-06-01T00:00:00",
          "1994-09-01T00:00:00",
          "1994-12-01T00:00:00",
          "1995-03-01T00:00:00",
          "1995-06-01T00:00:00",
          "1995-09-01T00:00:00",
          "1995-12-01T00:00:00",
          "1996-03-01T00:00:00",
          "1996-06-01T00:00:00",
          "1996-09-01T00:00:00",
          "1996-12-01T00:00:00",
          "1997-03-01T00:00:00",
          "1997-06-01T00:00:00",
          "1997-09-01T00:00:00",
          "1997-12-01T00:00:00",
          "1998-03-01T00:00:00",
          "1998-06-01T00:00:00",
          "1998-09-01T00:00:00",
          "1998-12-01T00:00:00",
          "1999-03-01T00:00:00",
          "1999-06-01T00:00:00",
          "1999-09-01T00:00:00",
          "1999-12-01T00:00:00",
          "2000-03-01T00:00:00",
          "2000-06-01T00:00:00",
          "2000-09-01T00:00:00",
          "2000-12-01T00:00:00",
          "2001-03-01T00:00:00",
          "2001-06-01T00:00:00",
          "2001-09-01T00:00:00",
          "2001-12-01T00:00:00",
          "2002-03-01T00:00:00",
          "2002-06-01T00:00:00",
          "2002-09-01T00:00:00",
          "2002-12-01T00:00:00",
          "2003-03-01T00:00:00",
          "2003-06-01T00:00:00",
          "2003-09-01T00:00:00",
          "2003-12-01T00:00:00",
          "2004-03-01T00:00:00",
          "2004-06-01T00:00:00",
          "2004-09-01T00:00:00",
          "2004-12-01T00:00:00",
          "2005-03-01T00:00:00",
          "2005-06-01T00:00:00",
          "2005-09-01T00:00:00",
          "2005-12-01T00:00:00",
          "2006-03-01T00:00:00",
          "2006-06-01T00:00:00",
          "2006-09-01T00:00:00",
          "2006-12-01T00:00:00",
          "2007-03-01T00:00:00",
          "2007-06-01T00:00:00",
          "2007-09-01T00:00:00",
          "2007-12-01T00:00:00",
          "2008-03-01T00:00:00",
          "2008-06-01T00:00:00",
          "2008-09-01T00:00:00",
          "2008-12-01T00:00:00",
          "2009-03-01T00:00:00",
          "2009-06-01T00:00:00",
          "2009-09-01T00:00:00",
          "2009-12-01T00:00:00",
          "2010-03-01T00:00:00",
          "2010-06-01T00:00:00",
          "2010-09-01T00:00:00",
          "2010-12-01T00:00:00",
          "2011-03-01T00:00:00",
          "2011-06-01T00:00:00",
          "2011-09-01T00:00:00",
          "2011-12-01T00:00:00",
          "2012-03-01T00:00:00",
          "2012-06-01T00:00:00",
          "2012-09-01T00:00:00",
          "2012-12-01T00:00:00",
          "2013-03-01T00:00:00",
          "2013-06-01T00:00:00",
          "2013-09-01T00:00:00",
          "2013-12-01T00:00:00",
          "2014-03-01T00:00:00",
          "2014-06-01T00:00:00",
          "2014-09-01T00:00:00",
          "2014-12-01T00:00:00",
          "2015-03-01T00:00:00",
          "2015-06-01T00:00:00",
          "2015-09-01T00:00:00",
          "2015-12-01T00:00:00",
          "2016-03-01T00:00:00",
          "2016-06-01T00:00:00",
          "2016-09-01T00:00:00",
          "2016-12-01T00:00:00",
          "2017-03-01T00:00:00",
          "2017-06-01T00:00:00",
          "2017-09-01T00:00:00",
          "2017-12-01T00:00:00",
          "2018-03-01T00:00:00",
          "2018-06-01T00:00:00",
          "2018-09-01T00:00:00",
          "2018-12-01T00:00:00",
          "2019-03-01T00:00:00",
          "2019-06-01T00:00:00",
          "2019-09-01T00:00:00",
          "2019-12-01T00:00:00",
          "2020-03-01T00:00:00",
          "2020-06-01T00:00:00",
          "2020-09-01T00:00:00",
          "2020-12-01T00:00:00",
          "2021-03-01T00:00:00",
          "2021-06-01T00:00:00",
          "2021-09-01T00:00:00",
          "2021-12-01T00:00:00",
          "2022-03-01T00:00:00",
          "2022-06-01T00:00:00",
          "2022-09-01T00:00:00"
         ],
         "xaxis": "x",
         "y": [
          3,
          3,
          3,
          3,
          3.5,
          4.25,
          4.75,
          5.5,
          6,
          6,
          5.75,
          5.5,
          5.25,
          5.25,
          5.25,
          5.25,
          5.5,
          5.5,
          5.5,
          5.5,
          5.5,
          5.5,
          5.25,
          4.75,
          4.75,
          5,
          5.25,
          5.5,
          6,
          6.5,
          6.5,
          6.5,
          5,
          3.75,
          3,
          1.75,
          1.75,
          1.75,
          1.75,
          1.25,
          1.25,
          1,
          1,
          1,
          1,
          1.25,
          1.75,
          2.25,
          2.75,
          3.25,
          3.75,
          4.25,
          4.75,
          5.25,
          5.25,
          5.25,
          5.25,
          5.25,
          4.75,
          4.25,
          2.25,
          2,
          2,
          0.125,
          0.125,
          0.125,
          0.125,
          0.125,
          0.125,
          0.125,
          0.125,
          0.125,
          0.125,
          0.125,
          0.125,
          0.125,
          0.125,
          0.125,
          0.125,
          0.125,
          0.125,
          0.125,
          0.125,
          0.125,
          0.125,
          0.125,
          0.125,
          0.125,
          0.125,
          0.125,
          0.125,
          0.375,
          0.375,
          0.375,
          0.375,
          0.625,
          0.875,
          1.125,
          1.125,
          1.375,
          1.625,
          1.875,
          2.125,
          2.375,
          2.375,
          2.375,
          1.875,
          1.625,
          0.125,
          0.125,
          0.125,
          0.125,
          0.125,
          0.125,
          0.125,
          0.125,
          0.375,
          1.625,
          null
         ],
         "yaxis": "y"
        },
        {
         "hovertemplate": "variable=us_cp<br>date=%{x}<br>value=%{y}<extra></extra>",
         "legendgroup": "us_cp",
         "line": {
          "color": "#EF553B",
          "dash": "solid"
         },
         "marker": {
          "symbol": "circle"
         },
         "mode": "lines",
         "name": "us_cp",
         "orientation": "v",
         "showlegend": true,
         "type": "scatter",
         "x": [
          "1993-03-01T00:00:00",
          "1993-06-01T00:00:00",
          "1993-09-01T00:00:00",
          "1993-12-01T00:00:00",
          "1994-03-01T00:00:00",
          "1994-06-01T00:00:00",
          "1994-09-01T00:00:00",
          "1994-12-01T00:00:00",
          "1995-03-01T00:00:00",
          "1995-06-01T00:00:00",
          "1995-09-01T00:00:00",
          "1995-12-01T00:00:00",
          "1996-03-01T00:00:00",
          "1996-06-01T00:00:00",
          "1996-09-01T00:00:00",
          "1996-12-01T00:00:00",
          "1997-03-01T00:00:00",
          "1997-06-01T00:00:00",
          "1997-09-01T00:00:00",
          "1997-12-01T00:00:00",
          "1998-03-01T00:00:00",
          "1998-06-01T00:00:00",
          "1998-09-01T00:00:00",
          "1998-12-01T00:00:00",
          "1999-03-01T00:00:00",
          "1999-06-01T00:00:00",
          "1999-09-01T00:00:00",
          "1999-12-01T00:00:00",
          "2000-03-01T00:00:00",
          "2000-06-01T00:00:00",
          "2000-09-01T00:00:00",
          "2000-12-01T00:00:00",
          "2001-03-01T00:00:00",
          "2001-06-01T00:00:00",
          "2001-09-01T00:00:00",
          "2001-12-01T00:00:00",
          "2002-03-01T00:00:00",
          "2002-06-01T00:00:00",
          "2002-09-01T00:00:00",
          "2002-12-01T00:00:00",
          "2003-03-01T00:00:00",
          "2003-06-01T00:00:00",
          "2003-09-01T00:00:00",
          "2003-12-01T00:00:00",
          "2004-03-01T00:00:00",
          "2004-06-01T00:00:00",
          "2004-09-01T00:00:00",
          "2004-12-01T00:00:00",
          "2005-03-01T00:00:00",
          "2005-06-01T00:00:00",
          "2005-09-01T00:00:00",
          "2005-12-01T00:00:00",
          "2006-03-01T00:00:00",
          "2006-06-01T00:00:00",
          "2006-09-01T00:00:00",
          "2006-12-01T00:00:00",
          "2007-03-01T00:00:00",
          "2007-06-01T00:00:00",
          "2007-09-01T00:00:00",
          "2007-12-01T00:00:00",
          "2008-03-01T00:00:00",
          "2008-06-01T00:00:00",
          "2008-09-01T00:00:00",
          "2008-12-01T00:00:00",
          "2009-03-01T00:00:00",
          "2009-06-01T00:00:00",
          "2009-09-01T00:00:00",
          "2009-12-01T00:00:00",
          "2010-03-01T00:00:00",
          "2010-06-01T00:00:00",
          "2010-09-01T00:00:00",
          "2010-12-01T00:00:00",
          "2011-03-01T00:00:00",
          "2011-06-01T00:00:00",
          "2011-09-01T00:00:00",
          "2011-12-01T00:00:00",
          "2012-03-01T00:00:00",
          "2012-06-01T00:00:00",
          "2012-09-01T00:00:00",
          "2012-12-01T00:00:00",
          "2013-03-01T00:00:00",
          "2013-06-01T00:00:00",
          "2013-09-01T00:00:00",
          "2013-12-01T00:00:00",
          "2014-03-01T00:00:00",
          "2014-06-01T00:00:00",
          "2014-09-01T00:00:00",
          "2014-12-01T00:00:00",
          "2015-03-01T00:00:00",
          "2015-06-01T00:00:00",
          "2015-09-01T00:00:00",
          "2015-12-01T00:00:00",
          "2016-03-01T00:00:00",
          "2016-06-01T00:00:00",
          "2016-09-01T00:00:00",
          "2016-12-01T00:00:00",
          "2017-03-01T00:00:00",
          "2017-06-01T00:00:00",
          "2017-09-01T00:00:00",
          "2017-12-01T00:00:00",
          "2018-03-01T00:00:00",
          "2018-06-01T00:00:00",
          "2018-09-01T00:00:00",
          "2018-12-01T00:00:00",
          "2019-03-01T00:00:00",
          "2019-06-01T00:00:00",
          "2019-09-01T00:00:00",
          "2019-12-01T00:00:00",
          "2020-03-01T00:00:00",
          "2020-06-01T00:00:00",
          "2020-09-01T00:00:00",
          "2020-12-01T00:00:00",
          "2021-03-01T00:00:00",
          "2021-06-01T00:00:00",
          "2021-09-01T00:00:00",
          "2021-12-01T00:00:00",
          "2022-03-01T00:00:00",
          "2022-06-01T00:00:00",
          "2022-09-01T00:00:00"
         ],
         "xaxis": "x",
         "y": [
          3.086863,
          2.99572,
          2.689314,
          2.748414,
          2.506964,
          2.493075,
          2.963473,
          2.674897,
          2.853261,
          3.040541,
          2.543507,
          2.53841,
          2.840159,
          2.754098,
          3.002611,
          3.322476,
          2.761721,
          2.297384,
          2.154626,
          1.702396,
          1.375,
          1.684342,
          1.488834,
          1.611903,
          1.726264,
          1.96319,
          2.628362,
          2.684564,
          3.757576,
          3.730445,
          3.454437,
          3.386809,
          2.920561,
          3.24826,
          2.648244,
          1.551724,
          1.475596,
          1.067416,
          1.514302,
          2.37691,
          3.020134,
          2.112285,
          2.320442,
          1.879491,
          1.737242,
          3.266195,
          2.537797,
          3.255562,
          3.148346,
          2.530311,
          4.686677,
          3.415659,
          3.362649,
          4.318766,
          2.062374,
          2.54065,
          2.778779,
          2.687038,
          2.755052,
          4.081269,
          3.981456,
          5.02179,
          4.936927,
          0.091413,
          -0.383556,
          -1.426776,
          -1.286206,
          2.721331,
          2.313959,
          1.053349,
          1.143683,
          1.495724,
          2.681603,
          3.558828,
          3.868357,
          2.962419,
          2.651398,
          1.663994,
          1.991282,
          1.741022,
          1.473896,
          1.754417,
          1.184925,
          1.501736,
          1.512203,
          2.072341,
          1.657919,
          0.756493,
          -0.073637,
          0.123771,
          -0.03613,
          0.72952,
          0.852536,
          0.997326,
          1.463784,
          2.074622,
          2.380612,
          1.633488,
          2.232964,
          2.109082,
          2.359711,
          2.871548,
          2.276972,
          1.910159,
          1.862523,
          1.648485,
          1.711305,
          2.28513,
          1.539327,
          0.645733,
          1.371325,
          1.362005,
          2.619763,
          5.391451,
          5.390349,
          7.036403,
          8.542456,
          9.059758,
          null
         ],
         "yaxis": "y"
        }
       ],
       "layout": {
        "legend": {
         "title": {
          "text": "variable"
         },
         "tracegroupgap": 0
        },
        "margin": {
         "t": 60
        },
        "template": {
         "data": {
          "bar": [
           {
            "error_x": {
             "color": "#2a3f5f"
            },
            "error_y": {
             "color": "#2a3f5f"
            },
            "marker": {
             "line": {
              "color": "#E5ECF6",
              "width": 0.5
             },
             "pattern": {
              "fillmode": "overlay",
              "size": 10,
              "solidity": 0.2
             }
            },
            "type": "bar"
           }
          ],
          "barpolar": [
           {
            "marker": {
             "line": {
              "color": "#E5ECF6",
              "width": 0.5
             },
             "pattern": {
              "fillmode": "overlay",
              "size": 10,
              "solidity": 0.2
             }
            },
            "type": "barpolar"
           }
          ],
          "carpet": [
           {
            "aaxis": {
             "endlinecolor": "#2a3f5f",
             "gridcolor": "white",
             "linecolor": "white",
             "minorgridcolor": "white",
             "startlinecolor": "#2a3f5f"
            },
            "baxis": {
             "endlinecolor": "#2a3f5f",
             "gridcolor": "white",
             "linecolor": "white",
             "minorgridcolor": "white",
             "startlinecolor": "#2a3f5f"
            },
            "type": "carpet"
           }
          ],
          "choropleth": [
           {
            "colorbar": {
             "outlinewidth": 0,
             "ticks": ""
            },
            "type": "choropleth"
           }
          ],
          "contour": [
           {
            "colorbar": {
             "outlinewidth": 0,
             "ticks": ""
            },
            "colorscale": [
             [
              0,
              "#0d0887"
             ],
             [
              0.1111111111111111,
              "#46039f"
             ],
             [
              0.2222222222222222,
              "#7201a8"
             ],
             [
              0.3333333333333333,
              "#9c179e"
             ],
             [
              0.4444444444444444,
              "#bd3786"
             ],
             [
              0.5555555555555556,
              "#d8576b"
             ],
             [
              0.6666666666666666,
              "#ed7953"
             ],
             [
              0.7777777777777778,
              "#fb9f3a"
             ],
             [
              0.8888888888888888,
              "#fdca26"
             ],
             [
              1,
              "#f0f921"
             ]
            ],
            "type": "contour"
           }
          ],
          "contourcarpet": [
           {
            "colorbar": {
             "outlinewidth": 0,
             "ticks": ""
            },
            "type": "contourcarpet"
           }
          ],
          "heatmap": [
           {
            "colorbar": {
             "outlinewidth": 0,
             "ticks": ""
            },
            "colorscale": [
             [
              0,
              "#0d0887"
             ],
             [
              0.1111111111111111,
              "#46039f"
             ],
             [
              0.2222222222222222,
              "#7201a8"
             ],
             [
              0.3333333333333333,
              "#9c179e"
             ],
             [
              0.4444444444444444,
              "#bd3786"
             ],
             [
              0.5555555555555556,
              "#d8576b"
             ],
             [
              0.6666666666666666,
              "#ed7953"
             ],
             [
              0.7777777777777778,
              "#fb9f3a"
             ],
             [
              0.8888888888888888,
              "#fdca26"
             ],
             [
              1,
              "#f0f921"
             ]
            ],
            "type": "heatmap"
           }
          ],
          "heatmapgl": [
           {
            "colorbar": {
             "outlinewidth": 0,
             "ticks": ""
            },
            "colorscale": [
             [
              0,
              "#0d0887"
             ],
             [
              0.1111111111111111,
              "#46039f"
             ],
             [
              0.2222222222222222,
              "#7201a8"
             ],
             [
              0.3333333333333333,
              "#9c179e"
             ],
             [
              0.4444444444444444,
              "#bd3786"
             ],
             [
              0.5555555555555556,
              "#d8576b"
             ],
             [
              0.6666666666666666,
              "#ed7953"
             ],
             [
              0.7777777777777778,
              "#fb9f3a"
             ],
             [
              0.8888888888888888,
              "#fdca26"
             ],
             [
              1,
              "#f0f921"
             ]
            ],
            "type": "heatmapgl"
           }
          ],
          "histogram": [
           {
            "marker": {
             "pattern": {
              "fillmode": "overlay",
              "size": 10,
              "solidity": 0.2
             }
            },
            "type": "histogram"
           }
          ],
          "histogram2d": [
           {
            "colorbar": {
             "outlinewidth": 0,
             "ticks": ""
            },
            "colorscale": [
             [
              0,
              "#0d0887"
             ],
             [
              0.1111111111111111,
              "#46039f"
             ],
             [
              0.2222222222222222,
              "#7201a8"
             ],
             [
              0.3333333333333333,
              "#9c179e"
             ],
             [
              0.4444444444444444,
              "#bd3786"
             ],
             [
              0.5555555555555556,
              "#d8576b"
             ],
             [
              0.6666666666666666,
              "#ed7953"
             ],
             [
              0.7777777777777778,
              "#fb9f3a"
             ],
             [
              0.8888888888888888,
              "#fdca26"
             ],
             [
              1,
              "#f0f921"
             ]
            ],
            "type": "histogram2d"
           }
          ],
          "histogram2dcontour": [
           {
            "colorbar": {
             "outlinewidth": 0,
             "ticks": ""
            },
            "colorscale": [
             [
              0,
              "#0d0887"
             ],
             [
              0.1111111111111111,
              "#46039f"
             ],
             [
              0.2222222222222222,
              "#7201a8"
             ],
             [
              0.3333333333333333,
              "#9c179e"
             ],
             [
              0.4444444444444444,
              "#bd3786"
             ],
             [
              0.5555555555555556,
              "#d8576b"
             ],
             [
              0.6666666666666666,
              "#ed7953"
             ],
             [
              0.7777777777777778,
              "#fb9f3a"
             ],
             [
              0.8888888888888888,
              "#fdca26"
             ],
             [
              1,
              "#f0f921"
             ]
            ],
            "type": "histogram2dcontour"
           }
          ],
          "mesh3d": [
           {
            "colorbar": {
             "outlinewidth": 0,
             "ticks": ""
            },
            "type": "mesh3d"
           }
          ],
          "parcoords": [
           {
            "line": {
             "colorbar": {
              "outlinewidth": 0,
              "ticks": ""
             }
            },
            "type": "parcoords"
           }
          ],
          "pie": [
           {
            "automargin": true,
            "type": "pie"
           }
          ],
          "scatter": [
           {
            "marker": {
             "colorbar": {
              "outlinewidth": 0,
              "ticks": ""
             }
            },
            "type": "scatter"
           }
          ],
          "scatter3d": [
           {
            "line": {
             "colorbar": {
              "outlinewidth": 0,
              "ticks": ""
             }
            },
            "marker": {
             "colorbar": {
              "outlinewidth": 0,
              "ticks": ""
             }
            },
            "type": "scatter3d"
           }
          ],
          "scattercarpet": [
           {
            "marker": {
             "colorbar": {
              "outlinewidth": 0,
              "ticks": ""
             }
            },
            "type": "scattercarpet"
           }
          ],
          "scattergeo": [
           {
            "marker": {
             "colorbar": {
              "outlinewidth": 0,
              "ticks": ""
             }
            },
            "type": "scattergeo"
           }
          ],
          "scattergl": [
           {
            "marker": {
             "colorbar": {
              "outlinewidth": 0,
              "ticks": ""
             }
            },
            "type": "scattergl"
           }
          ],
          "scattermapbox": [
           {
            "marker": {
             "colorbar": {
              "outlinewidth": 0,
              "ticks": ""
             }
            },
            "type": "scattermapbox"
           }
          ],
          "scatterpolar": [
           {
            "marker": {
             "colorbar": {
              "outlinewidth": 0,
              "ticks": ""
             }
            },
            "type": "scatterpolar"
           }
          ],
          "scatterpolargl": [
           {
            "marker": {
             "colorbar": {
              "outlinewidth": 0,
              "ticks": ""
             }
            },
            "type": "scatterpolargl"
           }
          ],
          "scatterternary": [
           {
            "marker": {
             "colorbar": {
              "outlinewidth": 0,
              "ticks": ""
             }
            },
            "type": "scatterternary"
           }
          ],
          "surface": [
           {
            "colorbar": {
             "outlinewidth": 0,
             "ticks": ""
            },
            "colorscale": [
             [
              0,
              "#0d0887"
             ],
             [
              0.1111111111111111,
              "#46039f"
             ],
             [
              0.2222222222222222,
              "#7201a8"
             ],
             [
              0.3333333333333333,
              "#9c179e"
             ],
             [
              0.4444444444444444,
              "#bd3786"
             ],
             [
              0.5555555555555556,
              "#d8576b"
             ],
             [
              0.6666666666666666,
              "#ed7953"
             ],
             [
              0.7777777777777778,
              "#fb9f3a"
             ],
             [
              0.8888888888888888,
              "#fdca26"
             ],
             [
              1,
              "#f0f921"
             ]
            ],
            "type": "surface"
           }
          ],
          "table": [
           {
            "cells": {
             "fill": {
              "color": "#EBF0F8"
             },
             "line": {
              "color": "white"
             }
            },
            "header": {
             "fill": {
              "color": "#C8D4E3"
             },
             "line": {
              "color": "white"
             }
            },
            "type": "table"
           }
          ]
         },
         "layout": {
          "annotationdefaults": {
           "arrowcolor": "#2a3f5f",
           "arrowhead": 0,
           "arrowwidth": 1
          },
          "autotypenumbers": "strict",
          "coloraxis": {
           "colorbar": {
            "outlinewidth": 0,
            "ticks": ""
           }
          },
          "colorscale": {
           "diverging": [
            [
             0,
             "#8e0152"
            ],
            [
             0.1,
             "#c51b7d"
            ],
            [
             0.2,
             "#de77ae"
            ],
            [
             0.3,
             "#f1b6da"
            ],
            [
             0.4,
             "#fde0ef"
            ],
            [
             0.5,
             "#f7f7f7"
            ],
            [
             0.6,
             "#e6f5d0"
            ],
            [
             0.7,
             "#b8e186"
            ],
            [
             0.8,
             "#7fbc41"
            ],
            [
             0.9,
             "#4d9221"
            ],
            [
             1,
             "#276419"
            ]
           ],
           "sequential": [
            [
             0,
             "#0d0887"
            ],
            [
             0.1111111111111111,
             "#46039f"
            ],
            [
             0.2222222222222222,
             "#7201a8"
            ],
            [
             0.3333333333333333,
             "#9c179e"
            ],
            [
             0.4444444444444444,
             "#bd3786"
            ],
            [
             0.5555555555555556,
             "#d8576b"
            ],
            [
             0.6666666666666666,
             "#ed7953"
            ],
            [
             0.7777777777777778,
             "#fb9f3a"
            ],
            [
             0.8888888888888888,
             "#fdca26"
            ],
            [
             1,
             "#f0f921"
            ]
           ],
           "sequentialminus": [
            [
             0,
             "#0d0887"
            ],
            [
             0.1111111111111111,
             "#46039f"
            ],
            [
             0.2222222222222222,
             "#7201a8"
            ],
            [
             0.3333333333333333,
             "#9c179e"
            ],
            [
             0.4444444444444444,
             "#bd3786"
            ],
            [
             0.5555555555555556,
             "#d8576b"
            ],
            [
             0.6666666666666666,
             "#ed7953"
            ],
            [
             0.7777777777777778,
             "#fb9f3a"
            ],
            [
             0.8888888888888888,
             "#fdca26"
            ],
            [
             1,
             "#f0f921"
            ]
           ]
          },
          "colorway": [
           "#636efa",
           "#EF553B",
           "#00cc96",
           "#ab63fa",
           "#FFA15A",
           "#19d3f3",
           "#FF6692",
           "#B6E880",
           "#FF97FF",
           "#FECB52"
          ],
          "font": {
           "color": "#2a3f5f"
          },
          "geo": {
           "bgcolor": "white",
           "lakecolor": "white",
           "landcolor": "#E5ECF6",
           "showlakes": true,
           "showland": true,
           "subunitcolor": "white"
          },
          "hoverlabel": {
           "align": "left"
          },
          "hovermode": "closest",
          "mapbox": {
           "style": "light"
          },
          "paper_bgcolor": "white",
          "plot_bgcolor": "#E5ECF6",
          "polar": {
           "angularaxis": {
            "gridcolor": "white",
            "linecolor": "white",
            "ticks": ""
           },
           "bgcolor": "#E5ECF6",
           "radialaxis": {
            "gridcolor": "white",
            "linecolor": "white",
            "ticks": ""
           }
          },
          "scene": {
           "xaxis": {
            "backgroundcolor": "#E5ECF6",
            "gridcolor": "white",
            "gridwidth": 2,
            "linecolor": "white",
            "showbackground": true,
            "ticks": "",
            "zerolinecolor": "white"
           },
           "yaxis": {
            "backgroundcolor": "#E5ECF6",
            "gridcolor": "white",
            "gridwidth": 2,
            "linecolor": "white",
            "showbackground": true,
            "ticks": "",
            "zerolinecolor": "white"
           },
           "zaxis": {
            "backgroundcolor": "#E5ECF6",
            "gridcolor": "white",
            "gridwidth": 2,
            "linecolor": "white",
            "showbackground": true,
            "ticks": "",
            "zerolinecolor": "white"
           }
          },
          "shapedefaults": {
           "line": {
            "color": "#2a3f5f"
           }
          },
          "ternary": {
           "aaxis": {
            "gridcolor": "white",
            "linecolor": "white",
            "ticks": ""
           },
           "baxis": {
            "gridcolor": "white",
            "linecolor": "white",
            "ticks": ""
           },
           "bgcolor": "#E5ECF6",
           "caxis": {
            "gridcolor": "white",
            "linecolor": "white",
            "ticks": ""
           }
          },
          "title": {
           "x": 0.05
          },
          "xaxis": {
           "automargin": true,
           "gridcolor": "white",
           "linecolor": "white",
           "ticks": "",
           "title": {
            "standoff": 15
           },
           "zerolinecolor": "white",
           "zerolinewidth": 2
          },
          "yaxis": {
           "automargin": true,
           "gridcolor": "white",
           "linecolor": "white",
           "ticks": "",
           "title": {
            "standoff": 15
           },
           "zerolinecolor": "white",
           "zerolinewidth": 2
          }
         }
        },
        "xaxis": {
         "anchor": "y",
         "domain": [
          0,
          1
         ],
         "title": {
          "text": "date"
         }
        },
        "yaxis": {
         "anchor": "x",
         "domain": [
          0,
          1
         ],
         "title": {
          "text": "value"
         }
        }
       }
      }
     },
     "metadata": {},
     "output_type": "display_data"
    }
   ],
   "source": [
    "px.line(X, x=\"date\", y=['us_ir', 'us_cp'])"
   ]
  },
  {
   "cell_type": "code",
   "execution_count": 276,
   "metadata": {},
   "outputs": [
    {
     "data": {
      "application/vnd.plotly.v1+json": {
       "config": {
        "plotlyServerURL": "https://plot.ly"
       },
       "data": [
        {
         "hovertemplate": "date=%{x}<br>pp=%{y}<extra></extra>",
         "legendgroup": "",
         "line": {
          "color": "#636efa",
          "dash": "solid"
         },
         "marker": {
          "symbol": "circle"
         },
         "mode": "lines",
         "name": "",
         "orientation": "v",
         "showlegend": false,
         "type": "scatter",
         "x": [
          "1993-03-01T00:00:00",
          "1993-06-01T00:00:00",
          "1993-09-01T00:00:00",
          "1993-12-01T00:00:00",
          "1994-03-01T00:00:00",
          "1994-06-01T00:00:00",
          "1994-09-01T00:00:00",
          "1994-12-01T00:00:00",
          "1995-03-01T00:00:00",
          "1995-06-01T00:00:00",
          "1995-09-01T00:00:00",
          "1995-12-01T00:00:00",
          "1996-03-01T00:00:00",
          "1996-06-01T00:00:00",
          "1996-09-01T00:00:00",
          "1996-12-01T00:00:00",
          "1997-03-01T00:00:00",
          "1997-06-01T00:00:00",
          "1997-09-01T00:00:00",
          "1997-12-01T00:00:00",
          "1998-03-01T00:00:00",
          "1998-06-01T00:00:00",
          "1998-09-01T00:00:00",
          "1998-12-01T00:00:00",
          "1999-03-01T00:00:00",
          "1999-06-01T00:00:00",
          "1999-09-01T00:00:00",
          "1999-12-01T00:00:00",
          "2000-03-01T00:00:00",
          "2000-06-01T00:00:00",
          "2000-09-01T00:00:00",
          "2000-12-01T00:00:00",
          "2001-03-01T00:00:00",
          "2001-06-01T00:00:00",
          "2001-09-01T00:00:00",
          "2001-12-01T00:00:00",
          "2002-03-01T00:00:00",
          "2002-06-01T00:00:00",
          "2002-09-01T00:00:00",
          "2002-12-01T00:00:00",
          "2003-03-01T00:00:00",
          "2003-06-01T00:00:00",
          "2003-09-01T00:00:00",
          "2003-12-01T00:00:00",
          "2004-03-01T00:00:00",
          "2004-06-01T00:00:00",
          "2004-09-01T00:00:00",
          "2004-12-01T00:00:00",
          "2005-03-01T00:00:00",
          "2005-06-01T00:00:00",
          "2005-09-01T00:00:00",
          "2005-12-01T00:00:00",
          "2006-03-01T00:00:00",
          "2006-06-01T00:00:00",
          "2006-09-01T00:00:00",
          "2006-12-01T00:00:00",
          "2007-03-01T00:00:00",
          "2007-06-01T00:00:00",
          "2007-09-01T00:00:00",
          "2007-12-01T00:00:00",
          "2008-03-01T00:00:00",
          "2008-06-01T00:00:00",
          "2008-09-01T00:00:00",
          "2008-12-01T00:00:00",
          "2009-03-01T00:00:00",
          "2009-06-01T00:00:00",
          "2009-09-01T00:00:00",
          "2009-12-01T00:00:00",
          "2010-03-01T00:00:00",
          "2010-06-01T00:00:00",
          "2010-09-01T00:00:00",
          "2010-12-01T00:00:00",
          "2011-03-01T00:00:00",
          "2011-06-01T00:00:00",
          "2011-09-01T00:00:00",
          "2011-12-01T00:00:00",
          "2012-03-01T00:00:00",
          "2012-06-01T00:00:00",
          "2012-09-01T00:00:00",
          "2012-12-01T00:00:00",
          "2013-03-01T00:00:00",
          "2013-06-01T00:00:00",
          "2013-09-01T00:00:00",
          "2013-12-01T00:00:00",
          "2014-03-01T00:00:00",
          "2014-06-01T00:00:00",
          "2014-09-01T00:00:00",
          "2014-12-01T00:00:00",
          "2015-03-01T00:00:00",
          "2015-06-01T00:00:00",
          "2015-09-01T00:00:00",
          "2015-12-01T00:00:00",
          "2016-03-01T00:00:00",
          "2016-06-01T00:00:00",
          "2016-09-01T00:00:00",
          "2016-12-01T00:00:00",
          "2017-03-01T00:00:00",
          "2017-06-01T00:00:00",
          "2017-09-01T00:00:00",
          "2017-12-01T00:00:00",
          "2018-03-01T00:00:00",
          "2018-06-01T00:00:00",
          "2018-09-01T00:00:00",
          "2018-12-01T00:00:00",
          "2019-03-01T00:00:00",
          "2019-06-01T00:00:00",
          "2019-09-01T00:00:00",
          "2019-12-01T00:00:00",
          "2020-03-01T00:00:00",
          "2020-06-01T00:00:00",
          "2020-09-01T00:00:00",
          "2020-12-01T00:00:00",
          "2021-03-01T00:00:00",
          "2021-06-01T00:00:00",
          "2021-09-01T00:00:00",
          "2021-12-01T00:00:00",
          "2022-03-01T00:00:00",
          "2022-06-01T00:00:00",
          "2022-09-01T00:00:00"
         ],
         "xaxis": "x",
         "y": [
          57.9,
          59.9,
          59.7,
          59.6,
          62.4,
          62.9,
          63.1,
          63.4,
          63.7,
          64.2,
          64.7,
          63.6,
          65.9,
          65.7,
          67.1,
          65.6,
          66.6,
          67.8,
          67.5,
          67.1,
          68.8,
          68.2,
          69.4,
          70.1,
          71.1,
          72.7,
          73,
          73,
          74.3,
          74.5,
          75.8,
          76.2,
          76.9,
          77.3,
          78.1,
          79.1,
          80.9,
          81.3,
          80.6,
          83.8,
          84.3,
          84.6,
          87.1,
          88.5,
          91.3,
          91.8,
          94.8,
          95,
          96.5,
          99.2,
          101.4,
          103.9,
          104.1,
          105.7,
          104.8,
          103.8,
          107.2,
          105.9,
          103,
          102.1,
          98.8,
          102.2,
          100.2,
          95.7,
          92.7,
          96.2,
          94.3,
          96.2,
          94.8,
          95.2,
          94.2,
          96.3,
          93.7,
          94.5,
          93,
          94,
          94,
          95.2,
          98.9,
          100,
          101.3,
          104.7,
          104.8,
          105.8,
          106.8,
          112.7,
          112.1,
          114.4,
          111,
          110.7,
          112.8,
          116.9,
          119,
          119,
          122.4,
          123.7,
          124.7,
          126.4,
          128.4,
          127.8,
          129.8,
          131,
          132.5,
          135.1,
          129.9,
          133.9,
          137.7,
          137.1,
          135.7,
          137.5,
          142.4,
          144.6,
          152.5,
          156.5,
          165,
          175.8,
          182.4,
          191.3,
          null
         ],
         "yaxis": "y"
        }
       ],
       "layout": {
        "legend": {
         "tracegroupgap": 0
        },
        "margin": {
         "t": 60
        },
        "template": {
         "data": {
          "bar": [
           {
            "error_x": {
             "color": "#2a3f5f"
            },
            "error_y": {
             "color": "#2a3f5f"
            },
            "marker": {
             "line": {
              "color": "#E5ECF6",
              "width": 0.5
             },
             "pattern": {
              "fillmode": "overlay",
              "size": 10,
              "solidity": 0.2
             }
            },
            "type": "bar"
           }
          ],
          "barpolar": [
           {
            "marker": {
             "line": {
              "color": "#E5ECF6",
              "width": 0.5
             },
             "pattern": {
              "fillmode": "overlay",
              "size": 10,
              "solidity": 0.2
             }
            },
            "type": "barpolar"
           }
          ],
          "carpet": [
           {
            "aaxis": {
             "endlinecolor": "#2a3f5f",
             "gridcolor": "white",
             "linecolor": "white",
             "minorgridcolor": "white",
             "startlinecolor": "#2a3f5f"
            },
            "baxis": {
             "endlinecolor": "#2a3f5f",
             "gridcolor": "white",
             "linecolor": "white",
             "minorgridcolor": "white",
             "startlinecolor": "#2a3f5f"
            },
            "type": "carpet"
           }
          ],
          "choropleth": [
           {
            "colorbar": {
             "outlinewidth": 0,
             "ticks": ""
            },
            "type": "choropleth"
           }
          ],
          "contour": [
           {
            "colorbar": {
             "outlinewidth": 0,
             "ticks": ""
            },
            "colorscale": [
             [
              0,
              "#0d0887"
             ],
             [
              0.1111111111111111,
              "#46039f"
             ],
             [
              0.2222222222222222,
              "#7201a8"
             ],
             [
              0.3333333333333333,
              "#9c179e"
             ],
             [
              0.4444444444444444,
              "#bd3786"
             ],
             [
              0.5555555555555556,
              "#d8576b"
             ],
             [
              0.6666666666666666,
              "#ed7953"
             ],
             [
              0.7777777777777778,
              "#fb9f3a"
             ],
             [
              0.8888888888888888,
              "#fdca26"
             ],
             [
              1,
              "#f0f921"
             ]
            ],
            "type": "contour"
           }
          ],
          "contourcarpet": [
           {
            "colorbar": {
             "outlinewidth": 0,
             "ticks": ""
            },
            "type": "contourcarpet"
           }
          ],
          "heatmap": [
           {
            "colorbar": {
             "outlinewidth": 0,
             "ticks": ""
            },
            "colorscale": [
             [
              0,
              "#0d0887"
             ],
             [
              0.1111111111111111,
              "#46039f"
             ],
             [
              0.2222222222222222,
              "#7201a8"
             ],
             [
              0.3333333333333333,
              "#9c179e"
             ],
             [
              0.4444444444444444,
              "#bd3786"
             ],
             [
              0.5555555555555556,
              "#d8576b"
             ],
             [
              0.6666666666666666,
              "#ed7953"
             ],
             [
              0.7777777777777778,
              "#fb9f3a"
             ],
             [
              0.8888888888888888,
              "#fdca26"
             ],
             [
              1,
              "#f0f921"
             ]
            ],
            "type": "heatmap"
           }
          ],
          "heatmapgl": [
           {
            "colorbar": {
             "outlinewidth": 0,
             "ticks": ""
            },
            "colorscale": [
             [
              0,
              "#0d0887"
             ],
             [
              0.1111111111111111,
              "#46039f"
             ],
             [
              0.2222222222222222,
              "#7201a8"
             ],
             [
              0.3333333333333333,
              "#9c179e"
             ],
             [
              0.4444444444444444,
              "#bd3786"
             ],
             [
              0.5555555555555556,
              "#d8576b"
             ],
             [
              0.6666666666666666,
              "#ed7953"
             ],
             [
              0.7777777777777778,
              "#fb9f3a"
             ],
             [
              0.8888888888888888,
              "#fdca26"
             ],
             [
              1,
              "#f0f921"
             ]
            ],
            "type": "heatmapgl"
           }
          ],
          "histogram": [
           {
            "marker": {
             "pattern": {
              "fillmode": "overlay",
              "size": 10,
              "solidity": 0.2
             }
            },
            "type": "histogram"
           }
          ],
          "histogram2d": [
           {
            "colorbar": {
             "outlinewidth": 0,
             "ticks": ""
            },
            "colorscale": [
             [
              0,
              "#0d0887"
             ],
             [
              0.1111111111111111,
              "#46039f"
             ],
             [
              0.2222222222222222,
              "#7201a8"
             ],
             [
              0.3333333333333333,
              "#9c179e"
             ],
             [
              0.4444444444444444,
              "#bd3786"
             ],
             [
              0.5555555555555556,
              "#d8576b"
             ],
             [
              0.6666666666666666,
              "#ed7953"
             ],
             [
              0.7777777777777778,
              "#fb9f3a"
             ],
             [
              0.8888888888888888,
              "#fdca26"
             ],
             [
              1,
              "#f0f921"
             ]
            ],
            "type": "histogram2d"
           }
          ],
          "histogram2dcontour": [
           {
            "colorbar": {
             "outlinewidth": 0,
             "ticks": ""
            },
            "colorscale": [
             [
              0,
              "#0d0887"
             ],
             [
              0.1111111111111111,
              "#46039f"
             ],
             [
              0.2222222222222222,
              "#7201a8"
             ],
             [
              0.3333333333333333,
              "#9c179e"
             ],
             [
              0.4444444444444444,
              "#bd3786"
             ],
             [
              0.5555555555555556,
              "#d8576b"
             ],
             [
              0.6666666666666666,
              "#ed7953"
             ],
             [
              0.7777777777777778,
              "#fb9f3a"
             ],
             [
              0.8888888888888888,
              "#fdca26"
             ],
             [
              1,
              "#f0f921"
             ]
            ],
            "type": "histogram2dcontour"
           }
          ],
          "mesh3d": [
           {
            "colorbar": {
             "outlinewidth": 0,
             "ticks": ""
            },
            "type": "mesh3d"
           }
          ],
          "parcoords": [
           {
            "line": {
             "colorbar": {
              "outlinewidth": 0,
              "ticks": ""
             }
            },
            "type": "parcoords"
           }
          ],
          "pie": [
           {
            "automargin": true,
            "type": "pie"
           }
          ],
          "scatter": [
           {
            "marker": {
             "colorbar": {
              "outlinewidth": 0,
              "ticks": ""
             }
            },
            "type": "scatter"
           }
          ],
          "scatter3d": [
           {
            "line": {
             "colorbar": {
              "outlinewidth": 0,
              "ticks": ""
             }
            },
            "marker": {
             "colorbar": {
              "outlinewidth": 0,
              "ticks": ""
             }
            },
            "type": "scatter3d"
           }
          ],
          "scattercarpet": [
           {
            "marker": {
             "colorbar": {
              "outlinewidth": 0,
              "ticks": ""
             }
            },
            "type": "scattercarpet"
           }
          ],
          "scattergeo": [
           {
            "marker": {
             "colorbar": {
              "outlinewidth": 0,
              "ticks": ""
             }
            },
            "type": "scattergeo"
           }
          ],
          "scattergl": [
           {
            "marker": {
             "colorbar": {
              "outlinewidth": 0,
              "ticks": ""
             }
            },
            "type": "scattergl"
           }
          ],
          "scattermapbox": [
           {
            "marker": {
             "colorbar": {
              "outlinewidth": 0,
              "ticks": ""
             }
            },
            "type": "scattermapbox"
           }
          ],
          "scatterpolar": [
           {
            "marker": {
             "colorbar": {
              "outlinewidth": 0,
              "ticks": ""
             }
            },
            "type": "scatterpolar"
           }
          ],
          "scatterpolargl": [
           {
            "marker": {
             "colorbar": {
              "outlinewidth": 0,
              "ticks": ""
             }
            },
            "type": "scatterpolargl"
           }
          ],
          "scatterternary": [
           {
            "marker": {
             "colorbar": {
              "outlinewidth": 0,
              "ticks": ""
             }
            },
            "type": "scatterternary"
           }
          ],
          "surface": [
           {
            "colorbar": {
             "outlinewidth": 0,
             "ticks": ""
            },
            "colorscale": [
             [
              0,
              "#0d0887"
             ],
             [
              0.1111111111111111,
              "#46039f"
             ],
             [
              0.2222222222222222,
              "#7201a8"
             ],
             [
              0.3333333333333333,
              "#9c179e"
             ],
             [
              0.4444444444444444,
              "#bd3786"
             ],
             [
              0.5555555555555556,
              "#d8576b"
             ],
             [
              0.6666666666666666,
              "#ed7953"
             ],
             [
              0.7777777777777778,
              "#fb9f3a"
             ],
             [
              0.8888888888888888,
              "#fdca26"
             ],
             [
              1,
              "#f0f921"
             ]
            ],
            "type": "surface"
           }
          ],
          "table": [
           {
            "cells": {
             "fill": {
              "color": "#EBF0F8"
             },
             "line": {
              "color": "white"
             }
            },
            "header": {
             "fill": {
              "color": "#C8D4E3"
             },
             "line": {
              "color": "white"
             }
            },
            "type": "table"
           }
          ]
         },
         "layout": {
          "annotationdefaults": {
           "arrowcolor": "#2a3f5f",
           "arrowhead": 0,
           "arrowwidth": 1
          },
          "autotypenumbers": "strict",
          "coloraxis": {
           "colorbar": {
            "outlinewidth": 0,
            "ticks": ""
           }
          },
          "colorscale": {
           "diverging": [
            [
             0,
             "#8e0152"
            ],
            [
             0.1,
             "#c51b7d"
            ],
            [
             0.2,
             "#de77ae"
            ],
            [
             0.3,
             "#f1b6da"
            ],
            [
             0.4,
             "#fde0ef"
            ],
            [
             0.5,
             "#f7f7f7"
            ],
            [
             0.6,
             "#e6f5d0"
            ],
            [
             0.7,
             "#b8e186"
            ],
            [
             0.8,
             "#7fbc41"
            ],
            [
             0.9,
             "#4d9221"
            ],
            [
             1,
             "#276419"
            ]
           ],
           "sequential": [
            [
             0,
             "#0d0887"
            ],
            [
             0.1111111111111111,
             "#46039f"
            ],
            [
             0.2222222222222222,
             "#7201a8"
            ],
            [
             0.3333333333333333,
             "#9c179e"
            ],
            [
             0.4444444444444444,
             "#bd3786"
            ],
            [
             0.5555555555555556,
             "#d8576b"
            ],
            [
             0.6666666666666666,
             "#ed7953"
            ],
            [
             0.7777777777777778,
             "#fb9f3a"
            ],
            [
             0.8888888888888888,
             "#fdca26"
            ],
            [
             1,
             "#f0f921"
            ]
           ],
           "sequentialminus": [
            [
             0,
             "#0d0887"
            ],
            [
             0.1111111111111111,
             "#46039f"
            ],
            [
             0.2222222222222222,
             "#7201a8"
            ],
            [
             0.3333333333333333,
             "#9c179e"
            ],
            [
             0.4444444444444444,
             "#bd3786"
            ],
            [
             0.5555555555555556,
             "#d8576b"
            ],
            [
             0.6666666666666666,
             "#ed7953"
            ],
            [
             0.7777777777777778,
             "#fb9f3a"
            ],
            [
             0.8888888888888888,
             "#fdca26"
            ],
            [
             1,
             "#f0f921"
            ]
           ]
          },
          "colorway": [
           "#636efa",
           "#EF553B",
           "#00cc96",
           "#ab63fa",
           "#FFA15A",
           "#19d3f3",
           "#FF6692",
           "#B6E880",
           "#FF97FF",
           "#FECB52"
          ],
          "font": {
           "color": "#2a3f5f"
          },
          "geo": {
           "bgcolor": "white",
           "lakecolor": "white",
           "landcolor": "#E5ECF6",
           "showlakes": true,
           "showland": true,
           "subunitcolor": "white"
          },
          "hoverlabel": {
           "align": "left"
          },
          "hovermode": "closest",
          "mapbox": {
           "style": "light"
          },
          "paper_bgcolor": "white",
          "plot_bgcolor": "#E5ECF6",
          "polar": {
           "angularaxis": {
            "gridcolor": "white",
            "linecolor": "white",
            "ticks": ""
           },
           "bgcolor": "#E5ECF6",
           "radialaxis": {
            "gridcolor": "white",
            "linecolor": "white",
            "ticks": ""
           }
          },
          "scene": {
           "xaxis": {
            "backgroundcolor": "#E5ECF6",
            "gridcolor": "white",
            "gridwidth": 2,
            "linecolor": "white",
            "showbackground": true,
            "ticks": "",
            "zerolinecolor": "white"
           },
           "yaxis": {
            "backgroundcolor": "#E5ECF6",
            "gridcolor": "white",
            "gridwidth": 2,
            "linecolor": "white",
            "showbackground": true,
            "ticks": "",
            "zerolinecolor": "white"
           },
           "zaxis": {
            "backgroundcolor": "#E5ECF6",
            "gridcolor": "white",
            "gridwidth": 2,
            "linecolor": "white",
            "showbackground": true,
            "ticks": "",
            "zerolinecolor": "white"
           }
          },
          "shapedefaults": {
           "line": {
            "color": "#2a3f5f"
           }
          },
          "ternary": {
           "aaxis": {
            "gridcolor": "white",
            "linecolor": "white",
            "ticks": ""
           },
           "baxis": {
            "gridcolor": "white",
            "linecolor": "white",
            "ticks": ""
           },
           "bgcolor": "#E5ECF6",
           "caxis": {
            "gridcolor": "white",
            "linecolor": "white",
            "ticks": ""
           }
          },
          "title": {
           "x": 0.05
          },
          "xaxis": {
           "automargin": true,
           "gridcolor": "white",
           "linecolor": "white",
           "ticks": "",
           "title": {
            "standoff": 15
           },
           "zerolinecolor": "white",
           "zerolinewidth": 2
          },
          "yaxis": {
           "automargin": true,
           "gridcolor": "white",
           "linecolor": "white",
           "ticks": "",
           "title": {
            "standoff": 15
           },
           "zerolinecolor": "white",
           "zerolinewidth": 2
          }
         }
        },
        "xaxis": {
         "anchor": "y",
         "domain": [
          0,
          1
         ],
         "title": {
          "text": "date"
         }
        },
        "yaxis": {
         "anchor": "x",
         "domain": [
          0,
          1
         ],
         "title": {
          "text": "pp"
         }
        }
       }
      }
     },
     "metadata": {},
     "output_type": "display_data"
    }
   ],
   "source": [
    "px.line(X, x=\"date\", y='pp')"
   ]
  }
 ],
 "metadata": {
  "kernelspec": {
   "display_name": "Python 3.9.5 64-bit",
   "language": "python",
   "name": "python3"
  },
  "language_info": {
   "codemirror_mode": {
    "name": "ipython",
    "version": 3
   },
   "file_extension": ".py",
   "mimetype": "text/x-python",
   "name": "python",
   "nbconvert_exporter": "python",
   "pygments_lexer": "ipython3",
   "version": "3.9.5"
  },
  "orig_nbformat": 4,
  "vscode": {
   "interpreter": {
    "hash": "11938c6bc6919ae2720b4d5011047913343b08a43b18698fd82dedb0d4417594"
   }
  }
 },
 "nbformat": 4,
 "nbformat_minor": 2
}
