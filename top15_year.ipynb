{
 "cells": [
  {
   "cell_type": "code",
   "execution_count": null,
   "metadata": {},
   "outputs": [],
   "source": [
    "euro_stoxx_50_tickers = [\n",
    "    \"ADS.DE\", \"AI.PA\", \"ALV.DE\", \"ASML.AS\", \"BAS.DE\",\n",
    "    \"BAYN.DE\", \"BBVA.MC\", \"BMW.DE\", \"BNP.PA\", \"CRG.IR\",\n",
    "    \"DAI.DE\", \"DPW.DE\", \"DTE.DE\", \"EL.PA\", \"ENEL.MI\",\n",
    "    \"ENI.MI\", \"EOAN.DE\", \"FRE.DE\", \"IBE.MC\", \"IFX.DE\",\n",
    "    \"INGA.AS\", \"ISP.MI\", \"KER.PA\", \"LIN.DE\", \"MC.PA\",\n",
    "    \"MUV2.DE\", \"OR.PA\", \"ORA.PA\", \"PHIA.AS\", \"PRX.AS\",\n",
    "    \"SAF.PA\", \"SAN.MC\", \"SAN.PA\", \"SAP.DE\", \"SIE.DE\",\n",
    "    \"STLA.MI\", \"SU.PA\", \"TELIA1.HE\", \"TTE.PA\", \"UMG.AS\",\n",
    "    \"UNA.AS\", \"VIV.PA\", \"VNA.DE\", \"VOW.DE\", \"VWS.CO\"\n",
    "]"
   ]
  },
  {
   "cell_type": "code",
   "execution_count": null,
   "metadata": {},
   "outputs": [],
   "source": [
    "nasdaq_100_tickers = [\n",
    "    \"AAPL\", \"ADBE\", \"ADI\", \"ADP\", \"ADSK\",\n",
    "    \"AEP\", \"ALGN\", \"AMAT\", \"AMD\", \"AMGN\",\n",
    "    \"AMZN\", \"ANSS\", \"ASML\", \"AVGO\",\n",
    "    \"BIDU\", \"BIIB\", \"BKNG\", \"CDNS\", \"CDW\",\n",
    "    \"CERN\", \"CHKP\", \"CHTR\", \"CMCSA\", \"COST\",\n",
    "    \"CPRT\", \"CRWD\", \"CSCO\", \"CSX\", \"CTAS\",\n",
    "    \"CTSH\", \"DDOG\", \"DLTR\", \"DOCU\", \"DXCM\",\n",
    "    \"EA\", \"EBAY\", \"EXC\", \"FAST\", \"FISV\",\n",
    "    \"FTNT\", \"GILD\", \"GOOG\", \"GOOGL\", \"HON\",\n",
    "    \"IDXX\", \"ILMN\", \"INCY\", \"INTC\", \"INTU\",\n",
    "    \"ISRG\", \"JD\", \"KDP\", \"KHC\", \"KLAC\",\n",
    "    \"LRCX\", \"LULU\", \"MAR\", \"MCHP\", \"MDLZ\",\n",
    "    \"MELI\", \"META\", \"MNST\", \"MRNA\", \"MRVL\",\n",
    "    \"MSFT\", \"MTCH\", \"MU\", \"NFLX\", \"NTES\",\n",
    "    \"NVDA\", \"NXPI\", \"ODFL\", \"OKTA\", \"ORLY\",\n",
    "    \"PANW\", \"PAYX\", \"PCAR\", \"PDD\", \"PEP\",\n",
    "    \"PTON\", \"PYPL\", \"QCOM\", \"REGN\", \"ROST\",\n",
    "    \"SBUX\", \"SGEN\", \"SIRI\", \"SNPS\", \"SPLK\",\n",
    "    \"SWKS\", \"TCOM\", \"TEAM\", \"TSLA\", \"TXN\",\n",
    "    \"VRSK\", \"VRSN\", \"VRTX\", \"WBA\", \"WDAY\",\n",
    "    \"XEL\", \"XLNX\", \"ZM\", \"ZS\"\n",
    "]"
   ]
  },
  {
   "cell_type": "code",
   "execution_count": null,
   "metadata": {},
   "outputs": [],
   "source": [
    "ftse_100_tickers = [\n",
    "    \"AAL.L\", \"ABF.L\", \"ADM.L\", \"AHT.L\", \"ANTO.L\",\n",
    "    \"AUTO.L\", \"AV.L\", \"AVST.L\", \"AVV.L\", \"AZN.L\",\n",
    "    \"BA.L\", \"BARC.L\", \"BATS.L\", \"BDEV.L\", \"BHP.L\",\n",
    "    \"BP.L\", \"BRBY.L\", \"BT-A.L\", \"CCH.L\", \"CRH.L\",\n",
    "    \"DCC.L\", \"DGE.L\", \"ENT.L\", \"EVR.L\", \"EXPN.L\",\n",
    "    \"FERG.L\", \"FLTR.L\", \"GLEN.L\", \"GSK.L\", \"HL.L\",\n",
    "    \"HLMA.L\", \"HSBA.L\", \"IAG.L\", \"ICP.L\", \"IHG.L\",\n",
    "    \"IMB.L\", \"INF.L\", \"ITRK.L\", \"JD.L\", \"JET.L\",\n",
    "    \"JMAT.L\", \"KGF.L\", \"LAND.L\", \"LGEN.L\", \"LLOY.L\",\n",
    "    \"LSEG.L\", \"MGGT.L\", \"MNDI.L\", \"MRO.L\", \"NG.L\",\n",
    "    \"NXT.L\", \"OCDO.L\", \"PSON.L\", \"PSN.L\", \"RB.L\",\n",
    "    \"RDSA.L\", \"RDSB.L\", \"REL.L\", \"RIO.L\", \"RMV.L\",\n",
    "    \"RR.L\", \"RSA.L\", \"RTO.L\", \"SBRY.L\", \"SDR.L\",\n",
    "    \"SGE.L\", \"SGRO.L\", \"SHEL.L\", \"SKG.L\", \"SLA.L\",\n",
    "    \"SMDS.L\", \"SMIN.L\", \"SMT.L\", \"SN.L\", \"SPX.L\",\n",
    "    \"SSE.L\", \"STAN.L\", \"STJ.L\", \"SVT.L\", \"TSCO.L\",\n",
    "    \"TW.L\", \"ULVR.L\", \"UU.L\", \"VOD.L\", \"WG.L\",\n",
    "    \"WPP.L\"\n",
    "]"
   ]
  },
  {
   "cell_type": "code",
   "execution_count": null,
   "metadata": {},
   "outputs": [
    {
     "name": "stdout",
     "output_type": "stream",
     "text": [
      "- CERN: No data found, symbol may be delisted\n",
      "- FISV: No data found, symbol may be delisted\n",
      "- XLNX: No data found, symbol may be delisted\n",
      "- DAI.DE: No data found, symbol may be delisted\n",
      "- DPW.DE: No data found, symbol may be delisted\n",
      "- STLA.MI: No data found, symbol may be delisted\n",
      "Top US Stocks:  [('CRWD', 1.6125422669418146), ('AMD', 1.1666667263085886), ('AVGO', 0.8237702835439444), ('DDOG', 0.8083878853682867), ('ADBE', 0.6967692729855371), ('AMZN', 0.687267685916411), ('INTC', 0.6701852350569092), ('CDNS', 0.5828009577694911), ('BKNG', 0.563904963899564), ('GOOG', 0.5584164437676608)]\n",
      "Top EU Stocks:  [('TELIA1.HE', 1.131657399293819), ('BBVA.MC', 0.482900939821477), ('PHIA.AS', 0.41014705462608403), ('SAP.DE', 0.3825557291764054), ('ISP.MI', 0.3812992359249599), ('SAN.MC', 0.37087693879235417), ('SAF.PA', 0.3560827575723638), ('EOAN.DE', 0.3304880404568682), ('CRG.IR', 0.32537708428328377), ('ENEL.MI', 0.3075273907120374)]\n"
     ]
    }
   ],
   "source": [
    "import yfinance as yf\n",
    "import pandas as pd\n",
    "\n",
    "def get_annual_return(ticker):\n",
    "    stock = yf.Ticker(ticker)\n",
    "    hist = stock.history(period=\"1y\")\n",
    "    if not hist.empty:\n",
    "        return (hist['Close'].iloc[-1] - hist['Close'].iloc[0]) / hist['Close'].iloc[0]\n",
    "    return None\n",
    "\n",
    "def top_stocks(markets, n=10):\n",
    "    performances = {}\n",
    "    for market in markets:\n",
    "        for ticker in market:\n",
    "            annual_return = get_annual_return(ticker)\n",
    "            if annual_return is not None:\n",
    "                performances[ticker] = annual_return\n",
    "    \n",
    "    sorted_stocks = sorted(performances.items(), key=lambda x: x[1], reverse=True)\n",
    "    return sorted_stocks[:n]\n",
    "\n",
    "top_us = top_stocks([nasdaq_100_tickers])\n",
    "top_eu = top_stocks([euro_stoxx_50_tickers])\n",
    "top_uk = top_stocks([ftse_100_tickers])\n",
    "\n",
    "print(\"Top UK Stocks: \", top_uk)\n",
    "print(\"Top US Stocks: \", top_us)\n",
    "print(\"Top EU Stocks: \", top_eu)"
   ]
  },
  {
   "cell_type": "code",
   "execution_count": null,
   "metadata": {},
   "outputs": [],
   "source": [
    "# Function to get top 5 stocks from a list of tickers\n",
    "def get_top_5_stocks(tickers):\n",
    "    performances = {}\n",
    "    for ticker in tickers:\n",
    "        annual_return = get_annual_return(ticker)\n",
    "        if annual_return is not None:\n",
    "            performances[ticker] = annual_return\n",
    "\n",
    "    # Sort and get top 5\n",
    "    sorted_stocks = sorted(performances.items(), key=lambda x: x[1], reverse=True)\n",
    "    return [stock[0] for stock in sorted_stocks[:5]]"
   ]
  },
  {
   "cell_type": "code",
   "execution_count": null,
   "metadata": {},
   "outputs": [
    {
     "name": "stdout",
     "output_type": "stream",
     "text": [
      "- DAI.DE: No data found, symbol may be delisted\n",
      "- DPW.DE: No data found, symbol may be delisted\n",
      "- STLA.MI: No data found, symbol may be delisted\n",
      "- CERN: No data found, symbol may be delisted\n",
      "- FISV: No data found, symbol may be delisted\n",
      "- XLNX: No data found, symbol may be delisted\n",
      "- AVST.L: No data found, symbol may be delisted\n",
      "- AVV.L: No data found, symbol may be delisted\n",
      "- MGGT.L: No data found, symbol may be delisted\n",
      "- RB.L: No data found, symbol may be delisted\n",
      "- RDSA.L: No data found, symbol may be delisted\n",
      "- RDSB.L: No data found, symbol may be delisted\n",
      "- RSA.L: No data found, symbol may be delisted\n",
      "- SLA.L: No data found, symbol may be delisted\n",
      "Portfolio: ['TELIA1.HE', 'BBVA.MC', 'PHIA.AS', 'SAP.DE', 'ISP.MI', 'CRWD', 'AMD', 'AVGO', 'DDOG', 'ADBE', 'RR.L', 'MRO.L', 'CRH.L', 'SGE.L', 'IHG.L']\n"
     ]
    }
   ],
   "source": [
    "# Get top 5 stocks from each index\n",
    "top_euro_stoxx = get_top_5_stocks(euro_stoxx_50_tickers)\n",
    "top_nasdaq = get_top_5_stocks(nasdaq_100_tickers)\n",
    "top_ftse = get_top_5_stocks(ftse_100_tickers)\n",
    "\n",
    "# Combine into a single portfolio\n",
    "portfolio = top_euro_stoxx + top_nasdaq + top_ftse\n",
    "print(\"Portfolio:\", portfolio)"
   ]
  }
 ],
 "metadata": {
  "language_info": {
   "name": "python"
  }
 },
 "nbformat": 4,
 "nbformat_minor": 2
}
