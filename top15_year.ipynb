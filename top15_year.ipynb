{
 "cells": [
  {
   "cell_type": "code",
   "execution_count": 2,
   "metadata": {},
   "outputs": [],
   "source": [
    "euro_stoxx_50_tickers = [\n",
    "    \"ADS.DE\", \"AI.PA\", \"ALV.DE\", \"ASML.AS\", \"BAS.DE\",\n",
    "    \"BAYN.DE\", \"BBVA.MC\", \"BMW.DE\", \"BNP.PA\", \"CRG.IR\",\n",
    "    \"DAI.DE\", \"DPW.DE\", \"DTE.DE\", \"EL.PA\", \"ENEL.MI\",\n",
    "    \"ENI.MI\", \"EOAN.DE\", \"FRE.DE\", \"IBE.MC\", \"IFX.DE\",\n",
    "    \"INGA.AS\", \"ISP.MI\", \"KER.PA\", \"LIN.DE\", \"MC.PA\",\n",
    "    \"MUV2.DE\", \"OR.PA\", \"ORA.PA\", \"PHIA.AS\", \"PRX.AS\",\n",
    "    \"SAF.PA\", \"SAN.MC\", \"SAN.PA\", \"SAP.DE\", \"SIE.DE\",\n",
    "    \"STLA.MI\", \"SU.PA\", \"TELIA1.HE\", \"TTE.PA\", \"UMG.AS\",\n",
    "    \"UNA.AS\", \"VIV.PA\", \"VNA.DE\", \"VOW.DE\", \"VWS.CO\"\n",
    "]"
   ]
  },
  {
   "cell_type": "code",
   "execution_count": 3,
   "metadata": {},
   "outputs": [],
   "source": [
    "nasdaq_100_tickers = [\n",
    "    \"AAPL\", \"ADBE\", \"ADI\", \"ADP\", \"ADSK\",\n",
    "    \"AEP\", \"ALGN\", \"AMAT\", \"AMD\", \"AMGN\",\n",
    "    \"AMZN\", \"ANSS\", \"ASML\", \"AVGO\",\n",
    "    \"BIDU\", \"BIIB\", \"BKNG\", \"CDNS\", \"CDW\",\n",
    "    \"CERN\", \"CHKP\", \"CHTR\", \"CMCSA\", \"COST\",\n",
    "    \"CPRT\", \"CRWD\", \"CSCO\", \"CSX\", \"CTAS\",\n",
    "    \"CTSH\", \"DDOG\", \"DLTR\", \"DOCU\", \"DXCM\",\n",
    "    \"EA\", \"EBAY\", \"EXC\", \"FAST\", \"FISV\",\n",
    "    \"FTNT\", \"GILD\", \"GOOG\", \"GOOGL\", \"HON\",\n",
    "    \"IDXX\", \"ILMN\", \"INCY\", \"INTC\", \"INTU\",\n",
    "    \"ISRG\", \"JD\", \"KDP\", \"KHC\", \"KLAC\",\n",
    "    \"LRCX\", \"LULU\", \"MAR\", \"MCHP\", \"MDLZ\",\n",
    "    \"MELI\", \"META\", \"MNST\", \"MRNA\", \"MRVL\",\n",
    "    \"MSFT\", \"MTCH\", \"MU\", \"NFLX\", \"NTES\",\n",
    "    \"NVDA\", \"NXPI\", \"ODFL\", \"OKTA\", \"ORLY\",\n",
    "    \"PANW\", \"PAYX\", \"PCAR\", \"PDD\", \"PEP\",\n",
    "    \"PTON\", \"PYPL\", \"QCOM\", \"REGN\", \"ROST\",\n",
    "    \"SBUX\", \"SGEN\", \"SIRI\", \"SNPS\", \"SPLK\",\n",
    "    \"SWKS\", \"TCOM\", \"TEAM\", \"TSLA\", \"TXN\",\n",
    "    \"VRSK\", \"VRSN\", \"VRTX\", \"WBA\", \"WDAY\",\n",
    "    \"XEL\", \"XLNX\", \"ZM\", \"ZS\"\n",
    "]"
   ]
  },
  {
   "cell_type": "code",
   "execution_count": 4,
   "metadata": {},
   "outputs": [],
   "source": [
    "ftse_100_tickers = [\n",
    "    \"AAL.L\", \"ABF.L\", \"ADM.L\", \"AHT.L\", \"ANTO.L\",\n",
    "    \"AUTO.L\", \"AV.L\", \"AVST.L\", \"AVV.L\", \"AZN.L\",\n",
    "    \"BA.L\", \"BARC.L\", \"BATS.L\", \"BDEV.L\", \"BHP.L\",\n",
    "    \"BP.L\", \"BRBY.L\", \"BT-A.L\", \"CCH.L\", \"CRH.L\",\n",
    "    \"DCC.L\", \"DGE.L\", \"ENT.L\", \"EVR.L\", \"EXPN.L\",\n",
    "    \"FERG.L\", \"FLTR.L\", \"GLEN.L\", \"GSK.L\", \"HL.L\",\n",
    "    \"HLMA.L\", \"HSBA.L\", \"IAG.L\", \"ICP.L\", \"IHG.L\",\n",
    "    \"IMB.L\", \"INF.L\", \"ITRK.L\", \"JD.L\", \"JET.L\",\n",
    "    \"JMAT.L\", \"KGF.L\", \"LAND.L\", \"LGEN.L\", \"LLOY.L\",\n",
    "    \"LSEG.L\", \"MGGT.L\", \"MNDI.L\", \"MRO.L\", \"NG.L\",\n",
    "    \"NXT.L\", \"OCDO.L\", \"PSON.L\", \"PSN.L\", \"RB.L\",\n",
    "    \"RDSA.L\", \"RDSB.L\", \"REL.L\", \"RIO.L\", \"RMV.L\",\n",
    "    \"RR.L\", \"RSA.L\", \"RTO.L\", \"SBRY.L\", \"SDR.L\",\n",
    "    \"SGE.L\", \"SGRO.L\", \"SHEL.L\", \"SKG.L\", \"SLA.L\",\n",
    "    \"SMDS.L\", \"SMIN.L\", \"SMT.L\", \"SN.L\", \"SPX.L\",\n",
    "    \"SSE.L\", \"STAN.L\", \"STJ.L\", \"SVT.L\", \"TSCO.L\",\n",
    "    \"TW.L\", \"ULVR.L\", \"UU.L\", \"VOD.L\", \"WG.L\",\n",
    "    \"WPP.L\"\n",
    "]"
   ]
  },
  {
   "cell_type": "code",
   "execution_count": 5,
   "metadata": {},
   "outputs": [],
   "source": [
    "cac_40_tickers = [\n",
    "    \"AC.PA\", \"AI.PA\", \"AIR.PA\", \"ALO.PA\", \"MT.AS\",\n",
    "    \"ATO.PA\", \"CS.PA\", \"BNP.PA\", \"EN.PA\", \"CAP.PA\",\n",
    "    \"CA.PA\", \"ACA.PA\", \"BN.PA\", \"DSY.PA\", \"EL.PA\",\n",
    "    \"RMS.PA\", \"KER.PA\", \"OR.PA\", \"LR.PA\", \"MC.PA\",\n",
    "    \"ML.PA\", \"ORA.PA\", \"RI.PA\", \"PUB.PA\", \"RNO.PA\",\n",
    "    \"SAF.PA\", \"SGO.PA\", \"SAN.PA\", \"SU.PA\", \"GLE.PA\",\n",
    "    \"STLA.PA\", \"STM.PA\", \"TEP.PA\", \"HO.PA\", \"FP.PA\",\n",
    "    \"URW.AS\", \"VIE.PA\", \"DG.PA\", \"VIV.PA\", \"WLN.PA\"\n",
    "]"
   ]
  },
  {
   "cell_type": "code",
   "execution_count": 6,
   "metadata": {},
   "outputs": [],
   "source": [
    "ibex_35_tickers = [\n",
    "    \"ACS.MC\", \"ACX.MC\", \"AENA.MC\", \"ALM.MC\", \"AMS.MC\",\n",
    "    \"ANA.MC\", \"BBVA.MC\", \"BKT.MC\", \"CABK.MC\", \"CLNX.MC\",\n",
    "    \"ELE.MC\", \"ENG.MC\", \"FER.MC\", \"GRF.MC\", \"IAG.MC\",\n",
    "    \"IBE.MC\", \"ITX.MC\", \"MEL.MC\", \"MTS.MC\", \"NTGY.MC\",\n",
    "    \"PHM.MC\", \"REE.MC\", \"REP.MC\", \"ROVI.MC\", \"SAB.MC\",\n",
    "    \"SAN.MC\", \"SGRE.MC\", \"SLR.MC\", \"SOL.MC\", \"TEF.MC\",\n",
    "    \"VIS.MC\"\n",
    "]"
   ]
  },
  {
   "cell_type": "code",
   "execution_count": 7,
   "metadata": {},
   "outputs": [],
   "source": [
    "import yfinance as yf\n",
    "import pandas as pd"
   ]
  },
  {
   "cell_type": "code",
   "execution_count": 10,
   "metadata": {},
   "outputs": [],
   "source": [
    "def get_annual_return(ticker):\n",
    "    stock = yf.Ticker(ticker)\n",
    "    hist = stock.history(period=\"1y\")\n",
    "    if not hist.empty:\n",
    "        return (hist['Close'].iloc[-1] - hist['Close'].iloc[0]) / hist['Close'].iloc[0]\n",
    "    return None\n",
    "\n",
    "def top10_stocks(markets):\n",
    "    performances = {}\n",
    "    for market in markets:\n",
    "        for ticker in market:\n",
    "            annual_return = get_annual_return(ticker)\n",
    "            if annual_return is not None:\n",
    "                performances[ticker] = annual_return\n",
    "    \n",
    "    sorted_stocks = sorted(performances.items(), key=lambda x: x[1], reverse=True)\n",
    "    return sorted_stocks[:10]"
   ]
  },
  {
   "cell_type": "code",
   "execution_count": null,
   "metadata": {},
   "outputs": [],
   "source": [
    "top_us = top_stocks([nasdaq_100_tickers])\n",
    "top_eu = top_stocks([euro_stoxx_50_tickers])\n",
    "top_uk = top_stocks([ftse_100_tickers])\n",
    "\n",
    "print(\"Top UK Stocks: \", top_uk)\n",
    "print(\"Top US Stocks: \", top_us)\n",
    "print(\"Top EU Stocks: \", top_eu)"
   ]
  },
  {
   "cell_type": "code",
   "execution_count": 11,
   "metadata": {},
   "outputs": [],
   "source": [
    "# Function to get top 5 stocks from a list of tickers\n",
    "def get_top_stocks(tickers, n: int = 5):\n",
    "    performances = {}\n",
    "    for ticker in tickers:\n",
    "        annual_return = get_annual_return(ticker)\n",
    "        if annual_return is not None:\n",
    "            performances[ticker] = annual_return\n",
    "\n",
    "    # Sort and get top 5\n",
    "    sorted_stocks = sorted(performances.items(), key=lambda x: x[1], reverse=True)\n",
    "    return [stock[0] for stock in sorted_stocks[:n]]"
   ]
  },
  {
   "cell_type": "code",
   "execution_count": 12,
   "metadata": {},
   "outputs": [
    {
     "name": "stdout",
     "output_type": "stream",
     "text": [
      "- DAI.DE: No data found, symbol may be delisted\n",
      "- DPW.DE: No data found, symbol may be delisted\n",
      "- STLA.MI: No data found, symbol may be delisted\n",
      "- CERN: No data found, symbol may be delisted\n",
      "- FISV: No data found, symbol may be delisted\n",
      "- XLNX: No data found, symbol may be delisted\n",
      "- AVST.L: No data found, symbol may be delisted\n",
      "- AVV.L: No data found, symbol may be delisted\n",
      "- MGGT.L: No data found, symbol may be delisted\n",
      "- RB.L: No data found, symbol may be delisted\n",
      "- RDSA.L: No data found, symbol may be delisted\n",
      "- RDSB.L: No data found, symbol may be delisted\n",
      "- RSA.L: No data found, symbol may be delisted\n",
      "- SLA.L: No data found, symbol may be delisted\n",
      "- REE.MC: No data found, symbol may be delisted\n",
      "- SGRE.MC: No data found, symbol may be delisted\n",
      "- STLA.PA: No data found, symbol may be delisted\n",
      "- STM.PA: No data found, symbol may be delisted\n",
      "- FP.PA: No data found, symbol may be delisted\n",
      "- URW.AS: No data found, symbol may be delisted\n",
      "Portfolio: ['AC.PA', 'ACA.PA', 'ACS.MC', 'ADBE', 'AMD', 'AMZN', 'AVGO', 'BBVA.MC', 'CRH.L', 'CRWD', 'DDOG', 'ISP.MI', 'MRO.L', 'PHIA.AS', 'PUB.PA', 'ROVI.MC', 'RR.L', 'SAP.DE', 'TELIA1.HE']\n"
     ]
    }
   ],
   "source": [
    "# Get top 5 stocks from each index\n",
    "top_euro_stoxx = get_top_stocks(euro_stoxx_50_tickers)\n",
    "top_nasdaq = get_top_stocks(nasdaq_100_tickers, 6)\n",
    "top_ftse = get_top_stocks(ftse_100_tickers, 3)\n",
    "top_spain = get_top_stocks(ibex_35_tickers, 3)\n",
    "top_france = get_top_stocks(cac_40_tickers, 3)\n",
    "\n",
    "# Combine into a single portfolio\n",
    "portfolio = top_euro_stoxx + top_nasdaq + top_ftse + top_spain + top_france\n",
    "\n",
    "unique_list = list(set(portfolio))\n",
    "unique_list.sort()\n",
    "\n",
    "print(\"Portfolio:\", unique_list)"
   ]
  }
 ],
 "metadata": {
  "kernelspec": {
   "display_name": ".venv",
   "language": "python",
   "name": "python3"
  },
  "language_info": {
   "codemirror_mode": {
    "name": "ipython",
    "version": 3
   },
   "file_extension": ".py",
   "mimetype": "text/x-python",
   "name": "python",
   "nbconvert_exporter": "python",
   "pygments_lexer": "ipython3",
   "version": "3.9.6"
  }
 },
 "nbformat": 4,
 "nbformat_minor": 2
}
