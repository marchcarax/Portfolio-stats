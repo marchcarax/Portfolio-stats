{
 "cells": [
  {
   "cell_type": "code",
   "execution_count": 1,
   "metadata": {},
   "outputs": [],
   "source": [
    "# Data manipulation\n",
    "import numpy as np\n",
    "import pandas as pd\n",
    "\n",
    "# Plotting\n",
    "import plotly.express as px\n",
    "import matplotlib.pyplot as plt\n",
    "import streamlit as st\n",
    "\n",
    "import datetime\n",
    "\n",
    "#Ignore warnings\n",
    "import warnings\n",
    "warnings.filterwarnings(\"ignore\")\n",
    "\n",
    "# import quant finance libraries\n",
    "import yfinance as yf"
   ]
  },
  {
   "cell_type": "code",
   "execution_count": 2,
   "metadata": {},
   "outputs": [],
   "source": [
    "stocks = ['eng.mc','ele.mc', 'itx.mc', 'bbva.mc', 'vid.mc', 'rep.mc', 'ibe.mc', 'or.pa',\n",
    "                'san.pa', 'azn', 'regn', 'atvi', 'msft', 'team', 'googl', 'nvda', 'csx']\n",
    "start_date = datetime.date(2020, 1, 1)"
   ]
  },
  {
   "cell_type": "code",
   "execution_count": 3,
   "metadata": {},
   "outputs": [],
   "source": [
    "def get_data(stocks, start_date, end_date):\n",
    "            return yf.download(stocks, start = start_date, end = end_date)"
   ]
  },
  {
   "cell_type": "code",
   "execution_count": 4,
   "metadata": {},
   "outputs": [
    {
     "data": {
      "text/plain": [
       "['eng.mc',\n",
       " 'ele.mc',\n",
       " 'itx.mc',\n",
       " 'bbva.mc',\n",
       " 'vid.mc',\n",
       " 'rep.mc',\n",
       " 'ibe.mc',\n",
       " 'or.pa',\n",
       " 'san.pa',\n",
       " 'azn',\n",
       " 'regn',\n",
       " 'atvi',\n",
       " 'msft',\n",
       " 'team',\n",
       " 'googl',\n",
       " 'nvda',\n",
       " 'csx']"
      ]
     },
     "execution_count": 4,
     "metadata": {},
     "output_type": "execute_result"
    }
   ],
   "source": [
    "stocks"
   ]
  },
  {
   "cell_type": "code",
   "execution_count": 5,
   "metadata": {},
   "outputs": [
    {
     "data": {
      "text/plain": [
       "datetime.date(2020, 1, 1)"
      ]
     },
     "execution_count": 5,
     "metadata": {},
     "output_type": "execute_result"
    }
   ],
   "source": [
    "start_date"
   ]
  },
  {
   "cell_type": "code",
   "execution_count": 6,
   "metadata": {},
   "outputs": [
    {
     "name": "stdout",
     "output_type": "stream",
     "text": [
      "[*********************100%***********************]  17 of 17 completed\n"
     ]
    }
   ],
   "source": [
    "df = get_data(stocks, start_date = \"2019-01-01\", end_date = \"2022-11-30\")       \n",
    "df = df['Adj Close']"
   ]
  },
  {
   "cell_type": "code",
   "execution_count": 7,
   "metadata": {},
   "outputs": [],
   "source": [
    "def cum_returns(stocks, wts):\n",
    "\n",
    "  weighted_returns = (wts * stocks.pct_change()[1:])\n",
    "  weighted_returns = pd.DataFrame(weighted_returns)\n",
    "  port_ret = weighted_returns.sum(axis=1)\n",
    "  return (port_ret + 1).cumprod() "
   ]
  },
  {
   "cell_type": "code",
   "execution_count": 8,
   "metadata": {},
   "outputs": [],
   "source": [
    "total_stocks = len(stocks)\n",
    "weight = [1/total_stocks]*total_stocks\n",
    "#call cumulative returns\n",
    "returns = cum_returns(df, weight).reset_index()\n",
    "returns.rename(columns={'Date':'date', 0:'ret'}, inplace=True)"
   ]
  },
  {
   "cell_type": "code",
   "execution_count": 9,
   "metadata": {},
   "outputs": [],
   "source": [
    "# optimizitation\n",
    "from scipy.optimize import minimize \n",
    "\n",
    "def optimize_weights(returns, risk_free_return):\n",
    "    \n",
    "    n = returns.shape[1]\n",
    "    initial_weights = np.ones(n) / n\n",
    "    bounds = [(0, 1) for i in range(n)]\n",
    "    constraints = ({'type': 'eq', 'fun': lambda x: np.sum(x) - 1})\n",
    "    def neg_sharpe_ratio(weights, returns, risk_free_rate):\n",
    "        portfolio_return = np.sum(returns.mean() * weights) * 252\n",
    "        portfolio_volatility = np.sqrt(np.dot(weights.T, np.dot(returns.cov() * 252, weights)))\n",
    "        sharpe_ratio = (portfolio_return - risk_free_rate) / portfolio_volatility\n",
    "        return -sharpe_ratio\n",
    "    result = minimize(fun=neg_sharpe_ratio, x0=initial_weights, args=(returns, risk_free_return), method='SLSQP', bounds=bounds, constraints=constraints)\n",
    "    optimized_weights = result.x\n",
    "    return optimized_weights"
   ]
  },
  {
   "cell_type": "code",
   "execution_count": 10,
   "metadata": {},
   "outputs": [],
   "source": [
    "res = optimize_weights(df.pct_change(), 4)"
   ]
  },
  {
   "cell_type": "code",
   "execution_count": 11,
   "metadata": {},
   "outputs": [
    {
     "data": {
      "text/plain": [
       "['NVDA', 'SAN.PA', 'ENG.MC']"
      ]
     },
     "execution_count": 11,
     "metadata": {},
     "output_type": "execute_result"
    }
   ],
   "source": [
    "pd.DataFrame(data=res, index=df.columns, columns=['res']).sort_values(by='res', ascending=False)[:3].index.tolist()"
   ]
  },
  {
   "cell_type": "code",
   "execution_count": 15,
   "metadata": {},
   "outputs": [
    {
     "data": {
      "text/plain": [
       "0.17876103188362516"
      ]
     },
     "execution_count": 15,
     "metadata": {},
     "output_type": "execute_result"
    }
   ],
   "source": [
    "returns = df.pct_change()\n",
    "n = returns.shape[1]\n",
    "weights = np.ones(n) / n\n",
    "np.sum(returns.mean() * weights) * 252"
   ]
  },
  {
   "cell_type": "code",
   "execution_count": 12,
   "metadata": {},
   "outputs": [
    {
     "name": "stdout",
     "output_type": "stream",
     "text": [
      "[<tf.Tensor: shape=(1, 1), dtype=float32, numpy=array([[-0.00019751]], dtype=float32)>, <tf.Tensor: shape=(1,), dtype=float32, numpy=array([0.00481659], dtype=float32)>]\n"
     ]
    }
   ],
   "source": [
    "import tensorflow as tf\n",
    "\n",
    "def sharpe_ratio_loss(y_true, y_pred):\n",
    "    # Sharpe ratio formula\n",
    "    return -tf.reduce_mean((y_true - y_pred) / tf.math.reduce_std(y_true - y_pred))\n",
    "\n",
    "# Define the inputs\n",
    "x = tf.constant([1.0, 2.0, 3.0, 4.0, 5.0])\n",
    "y = tf.constant([0.5, 1.0, 1.5, 2.0, 2.5])\n",
    "\n",
    "# Define the model\n",
    "model = tf.keras.Sequential([\n",
    "    tf.keras.layers.Dense(units=1, input_shape=[1])\n",
    "])\n",
    "\n",
    "# Compile the model\n",
    "model.compile(optimizer=tf.keras.optimizers.SGD(learning_rate=0.01), loss=sharpe_ratio_loss)\n",
    "\n",
    "# Train the model\n",
    "history = model.fit(x, y, epochs=1000, verbose=0)\n",
    "\n",
    "# Get the gradients\n",
    "with tf.GradientTape() as tape:\n",
    "    y_pred = model(x)\n",
    "    loss = sharpe_ratio_loss(y, y_pred)\n",
    "grads = tape.gradient(loss, model.trainable_variables)\n",
    "\n",
    "print(grads)"
   ]
  }
 ],
 "metadata": {
  "kernelspec": {
   "display_name": "Python 3",
   "language": "python",
   "name": "python3"
  },
  "language_info": {
   "codemirror_mode": {
    "name": "ipython",
    "version": 3
   },
   "file_extension": ".py",
   "mimetype": "text/x-python",
   "name": "python",
   "nbconvert_exporter": "python",
   "pygments_lexer": "ipython3",
   "version": "3.9.5"
  },
  "orig_nbformat": 4,
  "vscode": {
   "interpreter": {
    "hash": "11938c6bc6919ae2720b4d5011047913343b08a43b18698fd82dedb0d4417594"
   }
  }
 },
 "nbformat": 4,
 "nbformat_minor": 2
}
