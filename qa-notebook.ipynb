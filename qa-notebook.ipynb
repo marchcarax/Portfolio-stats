{
 "cells": [
  {
   "cell_type": "code",
   "execution_count": 1,
   "metadata": {},
   "outputs": [],
   "source": [
    "# Data manipulation\n",
    "import numpy as np\n",
    "import pandas as pd\n",
    "\n",
    "# Plotting\n",
    "import plotly.express as px\n",
    "import matplotlib.pyplot as plt\n",
    "import streamlit as st\n",
    "\n",
    "import datetime\n",
    "\n",
    "#Ignore warnings\n",
    "import warnings\n",
    "warnings.filterwarnings(\"ignore\")\n",
    "\n",
    "# import quant finance libraries\n",
    "import yfinance as yf"
   ]
  },
  {
   "cell_type": "code",
   "execution_count": 16,
   "metadata": {},
   "outputs": [],
   "source": [
    "def compute_strat_5(df: pd.DataFrame, spy: pd.DataFrame, start_date: datetime, capital: int, add_capital: int, window: int):\n",
    "    \"\"\"Computes complex strategy for buying when volatility is low and sell when vol is high\"\"\"\n",
    "    date_to_add = pd.to_datetime(start_date) + datetime.timedelta(days=30)\n",
    "    date_to_take = pd.to_datetime(start_date) + datetime.timedelta(days=30)\n",
    "\n",
    "    spy = compute_spy_vol((spy.pct_change()), window)\n",
    "\n",
    "    spy.drop([\"SPY\"], axis=1, inplace=True)\n",
    "    spy.reset_index(inplace=True)\n",
    "    spy.rename(columns={\"Date\": \"date\"}, inplace=True)\n",
    "\n",
    "    # df['buy'] = spy['buy'].values\n",
    "    # df['std'] = spy['std'].values\n",
    "    df = pd.merge(df, spy, on=\"date\", how=\"left\")\n",
    "\n",
    "    for idx, row in df.iterrows():\n",
    "        if (row.buy == 1) and (row.date > pd.to_datetime(date_to_add)):\n",
    "            capital += add_capital\n",
    "            date_to_add = row[\"date\"] + datetime.timedelta(days=30)\n",
    "        elif (row.sell == 1) and (row.date > pd.to_datetime(date_to_take)):\n",
    "            capital *= 0.95\n",
    "            date_to_take = row[\"date\"] + datetime.timedelta(days=30)\n",
    "        df.at[idx, \"ret\"] *= capital\n",
    "    return df\n",
    "\n",
    "def compute_spy_vol(df, window):\n",
    "    df[\"std\"], std_avg = compute_rolling_std(df, window)\n",
    "    df[\"buy\"] = 0\n",
    "    df[\"sell\"] = 0\n",
    "    # print(df['std'].values)\n",
    "\n",
    "    for idx, row in df.iterrows():\n",
    "        if row[\"std\"] * 1.5 > std_avg:\n",
    "            df.at[idx, \"sell\"] = 1\n",
    "        elif row[\"std\"] * 0.8 < std_avg:\n",
    "            df.at[idx, \"buy\"] = 1\n",
    "        else:\n",
    "            df.at[idx, \"buy\"] = 0\n",
    "            df.at[idx, \"sell\"] = 0\n",
    "    return df\n",
    "\n",
    "\n",
    "def compute_rolling_std(df, window):\n",
    "    std_1 = []\n",
    "    i = 0\n",
    "    while i < len(df):\n",
    "        if i < window:\n",
    "            std_1.append(0)\n",
    "        else:\n",
    "            std_1.append(np.std(df.SPY[i - window : i]))\n",
    "        i += 1\n",
    "    return std_1, np.mean(np.array(std_1))"
   ]
  },
  {
   "cell_type": "code",
   "execution_count": 3,
   "metadata": {},
   "outputs": [],
   "source": [
    "def get_data(stocks, start_date, end_date):\n",
    "            return yf.download(stocks, start=start_date, end=end_date)"
   ]
  },
  {
   "cell_type": "code",
   "execution_count": 6,
   "metadata": {},
   "outputs": [
    {
     "name": "stdout",
     "output_type": "stream",
     "text": [
      "[*********************100%***********************]  1 of 1 completed\n"
     ]
    }
   ],
   "source": [
    "spy = get_data(\"spy\", start_date=\"2022-01-01\", end_date=\"2023-12-31\")\n",
    "spy = spy[[\"Adj Close\"]]\n",
    "spy.rename(columns={\"Adj Close\": \"SPY\"}, inplace=True)"
   ]
  },
  {
   "cell_type": "code",
   "execution_count": 7,
   "metadata": {},
   "outputs": [],
   "source": [
    "returns_spy = (1 + spy.pct_change()[1:]).cumprod().reset_index()"
   ]
  },
  {
   "cell_type": "code",
   "execution_count": null,
   "metadata": {},
   "outputs": [],
   "source": []
  },
  {
   "cell_type": "code",
   "execution_count": 8,
   "metadata": {},
   "outputs": [],
   "source": [
    "stocks = [\"meta\", \"mc.pa\", \"googl\"]"
   ]
  },
  {
   "cell_type": "code",
   "execution_count": 9,
   "metadata": {},
   "outputs": [],
   "source": [
    "stocks.sort()\n",
    "total_stocks = len(stocks)\n",
    "weight = [1 / total_stocks] * total_stocks"
   ]
  },
  {
   "cell_type": "code",
   "execution_count": 11,
   "metadata": {},
   "outputs": [
    {
     "name": "stdout",
     "output_type": "stream",
     "text": [
      "[*********************100%***********************]  3 of 3 completed\n"
     ]
    }
   ],
   "source": [
    "df = get_data(stocks, start_date=\"2022-01-01\", end_date=\"2023-12-31\")\n",
    "df = df[\"Adj Close\"]"
   ]
  },
  {
   "cell_type": "code",
   "execution_count": 12,
   "metadata": {},
   "outputs": [],
   "source": [
    "def cum_returns(stocks: pd.DataFrame, wts: list):\n",
    "    \"\"\"Returns cumulative returns of the portfolio applying the assigned weights\"\"\"\n",
    "    weighted_returns = wts * stocks.pct_change()[1:]\n",
    "    weighted_returns = pd.DataFrame(weighted_returns)\n",
    "    port_ret = weighted_returns.sum(axis=1)\n",
    "    return (port_ret + 1).cumprod()"
   ]
  },
  {
   "cell_type": "code",
   "execution_count": 13,
   "metadata": {},
   "outputs": [],
   "source": [
    "returns = cum_returns(df, weight).reset_index()\n",
    "returns.rename(columns={\"Date\": \"date\", 0: \"ret\"}, inplace=True)"
   ]
  },
  {
   "cell_type": "code",
   "execution_count": 19,
   "metadata": {},
   "outputs": [],
   "source": [
    "returns_s5 = compute_strat_5(returns,returns_spy.set_index(\"Date\"),\"2022-01-01\",10000,500,365)"
   ]
  },
  {
   "cell_type": "code",
   "execution_count": 20,
   "metadata": {},
   "outputs": [
    {
     "data": {
      "text/html": [
       "<div>\n",
       "<style scoped>\n",
       "    .dataframe tbody tr th:only-of-type {\n",
       "        vertical-align: middle;\n",
       "    }\n",
       "\n",
       "    .dataframe tbody tr th {\n",
       "        vertical-align: top;\n",
       "    }\n",
       "\n",
       "    .dataframe thead th {\n",
       "        text-align: right;\n",
       "    }\n",
       "</style>\n",
       "<table border=\"1\" class=\"dataframe\">\n",
       "  <thead>\n",
       "    <tr style=\"text-align: right;\">\n",
       "      <th></th>\n",
       "      <th>date</th>\n",
       "      <th>ret</th>\n",
       "      <th>std</th>\n",
       "      <th>buy</th>\n",
       "      <th>sell</th>\n",
       "    </tr>\n",
       "  </thead>\n",
       "  <tbody>\n",
       "    <tr>\n",
       "      <th>0</th>\n",
       "      <td>2022-01-03</td>\n",
       "      <td>10024.913684</td>\n",
       "      <td>0.000000</td>\n",
       "      <td>1.0</td>\n",
       "      <td>0.0</td>\n",
       "    </tr>\n",
       "    <tr>\n",
       "      <th>1</th>\n",
       "      <td>2022-01-04</td>\n",
       "      <td>10050.856942</td>\n",
       "      <td>0.000000</td>\n",
       "      <td>1.0</td>\n",
       "      <td>0.0</td>\n",
       "    </tr>\n",
       "    <tr>\n",
       "      <th>2</th>\n",
       "      <td>2022-01-05</td>\n",
       "      <td>9837.153170</td>\n",
       "      <td>0.000000</td>\n",
       "      <td>1.0</td>\n",
       "      <td>0.0</td>\n",
       "    </tr>\n",
       "    <tr>\n",
       "      <th>3</th>\n",
       "      <td>2022-01-06</td>\n",
       "      <td>9786.682563</td>\n",
       "      <td>0.000000</td>\n",
       "      <td>1.0</td>\n",
       "      <td>0.0</td>\n",
       "    </tr>\n",
       "    <tr>\n",
       "      <th>4</th>\n",
       "      <td>2022-01-07</td>\n",
       "      <td>9712.109364</td>\n",
       "      <td>0.000000</td>\n",
       "      <td>1.0</td>\n",
       "      <td>0.0</td>\n",
       "    </tr>\n",
       "    <tr>\n",
       "      <th>...</th>\n",
       "      <td>...</td>\n",
       "      <td>...</td>\n",
       "      <td>...</td>\n",
       "      <td>...</td>\n",
       "      <td>...</td>\n",
       "    </tr>\n",
       "    <tr>\n",
       "      <th>497</th>\n",
       "      <td>2023-12-04</td>\n",
       "      <td>13370.133258</td>\n",
       "      <td>0.011085</td>\n",
       "      <td>0.0</td>\n",
       "      <td>1.0</td>\n",
       "    </tr>\n",
       "    <tr>\n",
       "      <th>498</th>\n",
       "      <td>2023-12-05</td>\n",
       "      <td>13497.829033</td>\n",
       "      <td>0.011088</td>\n",
       "      <td>0.0</td>\n",
       "      <td>1.0</td>\n",
       "    </tr>\n",
       "    <tr>\n",
       "      <th>499</th>\n",
       "      <td>2023-12-06</td>\n",
       "      <td>13486.703275</td>\n",
       "      <td>0.011078</td>\n",
       "      <td>0.0</td>\n",
       "      <td>1.0</td>\n",
       "    </tr>\n",
       "    <tr>\n",
       "      <th>500</th>\n",
       "      <td>2023-12-07</td>\n",
       "      <td>13836.290668</td>\n",
       "      <td>0.010960</td>\n",
       "      <td>0.0</td>\n",
       "      <td>1.0</td>\n",
       "    </tr>\n",
       "    <tr>\n",
       "      <th>501</th>\n",
       "      <td>2023-12-08</td>\n",
       "      <td>13967.831471</td>\n",
       "      <td>0.010963</td>\n",
       "      <td>0.0</td>\n",
       "      <td>1.0</td>\n",
       "    </tr>\n",
       "  </tbody>\n",
       "</table>\n",
       "<p>502 rows × 5 columns</p>\n",
       "</div>"
      ],
      "text/plain": [
       "          date           ret       std  buy  sell\n",
       "0   2022-01-03  10024.913684  0.000000  1.0   0.0\n",
       "1   2022-01-04  10050.856942  0.000000  1.0   0.0\n",
       "2   2022-01-05   9837.153170  0.000000  1.0   0.0\n",
       "3   2022-01-06   9786.682563  0.000000  1.0   0.0\n",
       "4   2022-01-07   9712.109364  0.000000  1.0   0.0\n",
       "..         ...           ...       ...  ...   ...\n",
       "497 2023-12-04  13370.133258  0.011085  0.0   1.0\n",
       "498 2023-12-05  13497.829033  0.011088  0.0   1.0\n",
       "499 2023-12-06  13486.703275  0.011078  0.0   1.0\n",
       "500 2023-12-07  13836.290668  0.010960  0.0   1.0\n",
       "501 2023-12-08  13967.831471  0.010963  0.0   1.0\n",
       "\n",
       "[502 rows x 5 columns]"
      ]
     },
     "execution_count": 20,
     "metadata": {},
     "output_type": "execute_result"
    }
   ],
   "source": [
    "returns_s5"
   ]
  },
  {
   "cell_type": "code",
   "execution_count": 10,
   "metadata": {},
   "outputs": [],
   "source": [
    "stocks = ['tsla']\n",
    "start_date = datetime.date(2020, 1, 1)"
   ]
  },
  {
   "cell_type": "code",
   "execution_count": 11,
   "metadata": {},
   "outputs": [],
   "source": [
    "def get_data(stocks, start_date, end_date):\n",
    "            return yf.download(stocks, start = start_date, end = end_date)"
   ]
  },
  {
   "cell_type": "code",
   "execution_count": 12,
   "metadata": {},
   "outputs": [
    {
     "data": {
      "text/plain": [
       "['tsla']"
      ]
     },
     "execution_count": 12,
     "metadata": {},
     "output_type": "execute_result"
    }
   ],
   "source": [
    "stocks"
   ]
  },
  {
   "cell_type": "code",
   "execution_count": 13,
   "metadata": {},
   "outputs": [
    {
     "data": {
      "text/plain": [
       "datetime.date(2020, 1, 1)"
      ]
     },
     "execution_count": 13,
     "metadata": {},
     "output_type": "execute_result"
    }
   ],
   "source": [
    "start_date"
   ]
  },
  {
   "cell_type": "code",
   "execution_count": 33,
   "metadata": {},
   "outputs": [
    {
     "name": "stdout",
     "output_type": "stream",
     "text": [
      "[*********************100%***********************]  1 of 1 completed\n"
     ]
    }
   ],
   "source": [
    "df = get_data(stocks, start_date = \"2019-01-01\", end_date = \"2022-11-30\")       \n",
    "#df = df['Adj Close']"
   ]
  },
  {
   "cell_type": "code",
   "execution_count": 28,
   "metadata": {},
   "outputs": [
    {
     "data": {
      "text/html": [
       "<div>\n",
       "<style scoped>\n",
       "    .dataframe tbody tr th:only-of-type {\n",
       "        vertical-align: middle;\n",
       "    }\n",
       "\n",
       "    .dataframe tbody tr th {\n",
       "        vertical-align: top;\n",
       "    }\n",
       "\n",
       "    .dataframe thead th {\n",
       "        text-align: right;\n",
       "    }\n",
       "</style>\n",
       "<table border=\"1\" class=\"dataframe\">\n",
       "  <thead>\n",
       "    <tr style=\"text-align: right;\">\n",
       "      <th></th>\n",
       "      <th>Open</th>\n",
       "      <th>High</th>\n",
       "      <th>Low</th>\n",
       "      <th>Close</th>\n",
       "      <th>Adj Close</th>\n",
       "      <th>Volume</th>\n",
       "    </tr>\n",
       "    <tr>\n",
       "      <th>Date</th>\n",
       "      <th></th>\n",
       "      <th></th>\n",
       "      <th></th>\n",
       "      <th></th>\n",
       "      <th></th>\n",
       "      <th></th>\n",
       "    </tr>\n",
       "  </thead>\n",
       "  <tbody>\n",
       "    <tr>\n",
       "      <th>2018-12-31</th>\n",
       "      <td>22.519333</td>\n",
       "      <td>22.614000</td>\n",
       "      <td>21.684000</td>\n",
       "      <td>22.186666</td>\n",
       "      <td>22.186666</td>\n",
       "      <td>94534500</td>\n",
       "    </tr>\n",
       "    <tr>\n",
       "      <th>2019-01-02</th>\n",
       "      <td>20.406668</td>\n",
       "      <td>21.008667</td>\n",
       "      <td>19.920000</td>\n",
       "      <td>20.674667</td>\n",
       "      <td>20.674667</td>\n",
       "      <td>174879000</td>\n",
       "    </tr>\n",
       "    <tr>\n",
       "      <th>2019-01-03</th>\n",
       "      <td>20.466667</td>\n",
       "      <td>20.626667</td>\n",
       "      <td>19.825333</td>\n",
       "      <td>20.024000</td>\n",
       "      <td>20.024000</td>\n",
       "      <td>104478000</td>\n",
       "    </tr>\n",
       "    <tr>\n",
       "      <th>2019-01-04</th>\n",
       "      <td>20.400000</td>\n",
       "      <td>21.200001</td>\n",
       "      <td>20.181999</td>\n",
       "      <td>21.179333</td>\n",
       "      <td>21.179333</td>\n",
       "      <td>110911500</td>\n",
       "    </tr>\n",
       "    <tr>\n",
       "      <th>2019-01-07</th>\n",
       "      <td>21.448000</td>\n",
       "      <td>22.449333</td>\n",
       "      <td>21.183332</td>\n",
       "      <td>22.330667</td>\n",
       "      <td>22.330667</td>\n",
       "      <td>113268000</td>\n",
       "    </tr>\n",
       "  </tbody>\n",
       "</table>\n",
       "</div>"
      ],
      "text/plain": [
       "                 Open       High        Low      Close  Adj Close     Volume\n",
       "Date                                                                        \n",
       "2018-12-31  22.519333  22.614000  21.684000  22.186666  22.186666   94534500\n",
       "2019-01-02  20.406668  21.008667  19.920000  20.674667  20.674667  174879000\n",
       "2019-01-03  20.466667  20.626667  19.825333  20.024000  20.024000  104478000\n",
       "2019-01-04  20.400000  21.200001  20.181999  21.179333  21.179333  110911500\n",
       "2019-01-07  21.448000  22.449333  21.183332  22.330667  22.330667  113268000"
      ]
     },
     "execution_count": 28,
     "metadata": {},
     "output_type": "execute_result"
    }
   ],
   "source": [
    "df.head()"
   ]
  },
  {
   "cell_type": "code",
   "execution_count": 70,
   "metadata": {},
   "outputs": [],
   "source": [
    "def compute_strat_8(df, capital):\n",
    "    df[\"buy\"] = 0\n",
    "    df[\"sell\"] = 0\n",
    "    df[\"position\"] = 0\n",
    "\n",
    "    # Define Fibonacci levels\n",
    "    fibonacci_levels = [0.236, 0.382, 0.618]\n",
    "\n",
    "    for i in range(2, len(df)):\n",
    "        current_price = df.iloc[i-2][\"Close\"]\n",
    "        previous_high = df.iloc[-4:i-2][\"High\"].max()\n",
    "        previous_low = df.iloc[-4:i-2][\"Low\"].min()\n",
    "\n",
    "        price_range = previous_high - previous_low\n",
    "\n",
    "        buy_price = current_price - (fibonacci_levels[1] * price_range)\n",
    "        sell_price = current_price + (fibonacci_levels[1] * price_range)\n",
    "\n",
    "        if df.iloc[i - 1][\"position\"] == 1:\n",
    "            if current_price >= sell_price:\n",
    "                capital += df.iloc[i - 1][\"position\"] * current_price\n",
    "                df.at[i, \"sell\"] = 1\n",
    "                df.at[i, \"position\"] = 0\n",
    "        else:\n",
    "            if current_price <= buy_price:\n",
    "                shares_to_buy = int(capital / current_price)\n",
    "                capital -= shares_to_buy * current_price\n",
    "                df.at[i, \"buy\"] = 1\n",
    "                df.at[i, \"position\"] = shares_to_buy\n",
    "\n",
    "    return df\n"
   ]
  },
  {
   "cell_type": "code",
   "execution_count": 55,
   "metadata": {},
   "outputs": [],
   "source": [
    "current_price = df.iloc[len(df)-2][\"Close\"]\n",
    "previous_high = df.iloc[-5:len(df)-2][\"High\"].max()\n",
    "previous_low = df.iloc[-5:len(df)-2][\"Low\"].min()"
   ]
  },
  {
   "cell_type": "code",
   "execution_count": 51,
   "metadata": {},
   "outputs": [],
   "source": [
    "fibonacci_levels = [0.236, 0.382, 0.618]"
   ]
  },
  {
   "cell_type": "code",
   "execution_count": 65,
   "metadata": {},
   "outputs": [],
   "source": [
    "price_range = previous_high - previous_low\n",
    "buy_price = current_price - (fibonacci_levels[1] * price_range)\n",
    "sell_price = current_price + (fibonacci_levels[1] * price_range)"
   ]
  },
  {
   "cell_type": "code",
   "execution_count": 57,
   "metadata": {},
   "outputs": [
    {
     "data": {
      "text/plain": [
       "(182.9199981689453, 185.1999969482422, 166.19000244140625)"
      ]
     },
     "execution_count": 57,
     "metadata": {},
     "output_type": "execute_result"
    }
   ],
   "source": [
    "current_price, previous_high, previous_low"
   ]
  },
  {
   "cell_type": "code",
   "execution_count": 66,
   "metadata": {},
   "outputs": [
    {
     "data": {
      "text/plain": [
       "(19.009994506835938, 175.658180267334, 190.18181607055664)"
      ]
     },
     "execution_count": 66,
     "metadata": {},
     "output_type": "execute_result"
    }
   ],
   "source": [
    "price_range, buy_price, sell_price"
   ]
  },
  {
   "cell_type": "code",
   "execution_count": 71,
   "metadata": {},
   "outputs": [],
   "source": [
    "df_results = compute_strat_8(df, 1000)"
   ]
  },
  {
   "cell_type": "code",
   "execution_count": 72,
   "metadata": {},
   "outputs": [
    {
     "data": {
      "text/html": [
       "<div>\n",
       "<style scoped>\n",
       "    .dataframe tbody tr th:only-of-type {\n",
       "        vertical-align: middle;\n",
       "    }\n",
       "\n",
       "    .dataframe tbody tr th {\n",
       "        vertical-align: top;\n",
       "    }\n",
       "\n",
       "    .dataframe thead th {\n",
       "        text-align: right;\n",
       "    }\n",
       "</style>\n",
       "<table border=\"1\" class=\"dataframe\">\n",
       "  <thead>\n",
       "    <tr style=\"text-align: right;\">\n",
       "      <th></th>\n",
       "      <th>Open</th>\n",
       "      <th>High</th>\n",
       "      <th>Low</th>\n",
       "      <th>Close</th>\n",
       "      <th>Adj Close</th>\n",
       "      <th>Volume</th>\n",
       "      <th>buy</th>\n",
       "      <th>sell</th>\n",
       "      <th>position</th>\n",
       "    </tr>\n",
       "    <tr>\n",
       "      <th>Date</th>\n",
       "      <th></th>\n",
       "      <th></th>\n",
       "      <th></th>\n",
       "      <th></th>\n",
       "      <th></th>\n",
       "      <th></th>\n",
       "      <th></th>\n",
       "      <th></th>\n",
       "      <th></th>\n",
       "    </tr>\n",
       "  </thead>\n",
       "  <tbody>\n",
       "    <tr>\n",
       "      <th>2022-11-11</th>\n",
       "      <td>186.000000</td>\n",
       "      <td>196.520004</td>\n",
       "      <td>182.589996</td>\n",
       "      <td>195.970001</td>\n",
       "      <td>195.970001</td>\n",
       "      <td>114403600</td>\n",
       "      <td>0</td>\n",
       "      <td>0</td>\n",
       "      <td>0</td>\n",
       "    </tr>\n",
       "    <tr>\n",
       "      <th>2022-11-14</th>\n",
       "      <td>192.770004</td>\n",
       "      <td>195.729996</td>\n",
       "      <td>186.339996</td>\n",
       "      <td>190.949997</td>\n",
       "      <td>190.949997</td>\n",
       "      <td>92226600</td>\n",
       "      <td>0</td>\n",
       "      <td>0</td>\n",
       "      <td>0</td>\n",
       "    </tr>\n",
       "    <tr>\n",
       "      <th>2022-11-15</th>\n",
       "      <td>195.880005</td>\n",
       "      <td>200.820007</td>\n",
       "      <td>192.059998</td>\n",
       "      <td>194.419998</td>\n",
       "      <td>194.419998</td>\n",
       "      <td>91293800</td>\n",
       "      <td>0</td>\n",
       "      <td>0</td>\n",
       "      <td>0</td>\n",
       "    </tr>\n",
       "    <tr>\n",
       "      <th>2022-11-16</th>\n",
       "      <td>191.509995</td>\n",
       "      <td>192.570007</td>\n",
       "      <td>185.660004</td>\n",
       "      <td>186.919998</td>\n",
       "      <td>186.919998</td>\n",
       "      <td>66567600</td>\n",
       "      <td>0</td>\n",
       "      <td>0</td>\n",
       "      <td>0</td>\n",
       "    </tr>\n",
       "    <tr>\n",
       "      <th>2022-11-17</th>\n",
       "      <td>183.960007</td>\n",
       "      <td>186.160004</td>\n",
       "      <td>180.899994</td>\n",
       "      <td>183.169998</td>\n",
       "      <td>183.169998</td>\n",
       "      <td>64336000</td>\n",
       "      <td>0</td>\n",
       "      <td>0</td>\n",
       "      <td>0</td>\n",
       "    </tr>\n",
       "    <tr>\n",
       "      <th>2022-11-18</th>\n",
       "      <td>185.050003</td>\n",
       "      <td>185.190002</td>\n",
       "      <td>176.550003</td>\n",
       "      <td>180.190002</td>\n",
       "      <td>180.190002</td>\n",
       "      <td>76048900</td>\n",
       "      <td>0</td>\n",
       "      <td>0</td>\n",
       "      <td>0</td>\n",
       "    </tr>\n",
       "    <tr>\n",
       "      <th>2022-11-21</th>\n",
       "      <td>175.850006</td>\n",
       "      <td>176.770004</td>\n",
       "      <td>167.539993</td>\n",
       "      <td>167.869995</td>\n",
       "      <td>167.869995</td>\n",
       "      <td>92882700</td>\n",
       "      <td>0</td>\n",
       "      <td>0</td>\n",
       "      <td>0</td>\n",
       "    </tr>\n",
       "    <tr>\n",
       "      <th>2022-11-22</th>\n",
       "      <td>168.630005</td>\n",
       "      <td>170.919998</td>\n",
       "      <td>166.190002</td>\n",
       "      <td>169.910004</td>\n",
       "      <td>169.910004</td>\n",
       "      <td>78452300</td>\n",
       "      <td>0</td>\n",
       "      <td>0</td>\n",
       "      <td>0</td>\n",
       "    </tr>\n",
       "    <tr>\n",
       "      <th>2022-11-23</th>\n",
       "      <td>173.570007</td>\n",
       "      <td>183.619995</td>\n",
       "      <td>172.500000</td>\n",
       "      <td>183.199997</td>\n",
       "      <td>183.199997</td>\n",
       "      <td>109536700</td>\n",
       "      <td>0</td>\n",
       "      <td>0</td>\n",
       "      <td>0</td>\n",
       "    </tr>\n",
       "    <tr>\n",
       "      <th>2022-11-25</th>\n",
       "      <td>185.059998</td>\n",
       "      <td>185.199997</td>\n",
       "      <td>180.630005</td>\n",
       "      <td>182.860001</td>\n",
       "      <td>182.860001</td>\n",
       "      <td>50672700</td>\n",
       "      <td>0</td>\n",
       "      <td>0</td>\n",
       "      <td>0</td>\n",
       "    </tr>\n",
       "    <tr>\n",
       "      <th>2022-11-28</th>\n",
       "      <td>179.960007</td>\n",
       "      <td>188.500000</td>\n",
       "      <td>179.000000</td>\n",
       "      <td>182.919998</td>\n",
       "      <td>182.919998</td>\n",
       "      <td>92905200</td>\n",
       "      <td>0</td>\n",
       "      <td>0</td>\n",
       "      <td>0</td>\n",
       "    </tr>\n",
       "    <tr>\n",
       "      <th>2022-11-29</th>\n",
       "      <td>184.990005</td>\n",
       "      <td>186.380005</td>\n",
       "      <td>178.750000</td>\n",
       "      <td>180.830002</td>\n",
       "      <td>180.830002</td>\n",
       "      <td>83357100</td>\n",
       "      <td>0</td>\n",
       "      <td>0</td>\n",
       "      <td>0</td>\n",
       "    </tr>\n",
       "  </tbody>\n",
       "</table>\n",
       "</div>"
      ],
      "text/plain": [
       "                  Open        High         Low       Close   Adj Close  \\\n",
       "Date                                                                     \n",
       "2022-11-11  186.000000  196.520004  182.589996  195.970001  195.970001   \n",
       "2022-11-14  192.770004  195.729996  186.339996  190.949997  190.949997   \n",
       "2022-11-15  195.880005  200.820007  192.059998  194.419998  194.419998   \n",
       "2022-11-16  191.509995  192.570007  185.660004  186.919998  186.919998   \n",
       "2022-11-17  183.960007  186.160004  180.899994  183.169998  183.169998   \n",
       "2022-11-18  185.050003  185.190002  176.550003  180.190002  180.190002   \n",
       "2022-11-21  175.850006  176.770004  167.539993  167.869995  167.869995   \n",
       "2022-11-22  168.630005  170.919998  166.190002  169.910004  169.910004   \n",
       "2022-11-23  173.570007  183.619995  172.500000  183.199997  183.199997   \n",
       "2022-11-25  185.059998  185.199997  180.630005  182.860001  182.860001   \n",
       "2022-11-28  179.960007  188.500000  179.000000  182.919998  182.919998   \n",
       "2022-11-29  184.990005  186.380005  178.750000  180.830002  180.830002   \n",
       "\n",
       "               Volume  buy  sell  position  \n",
       "Date                                        \n",
       "2022-11-11  114403600    0     0         0  \n",
       "2022-11-14   92226600    0     0         0  \n",
       "2022-11-15   91293800    0     0         0  \n",
       "2022-11-16   66567600    0     0         0  \n",
       "2022-11-17   64336000    0     0         0  \n",
       "2022-11-18   76048900    0     0         0  \n",
       "2022-11-21   92882700    0     0         0  \n",
       "2022-11-22   78452300    0     0         0  \n",
       "2022-11-23  109536700    0     0         0  \n",
       "2022-11-25   50672700    0     0         0  \n",
       "2022-11-28   92905200    0     0         0  \n",
       "2022-11-29   83357100    0     0         0  "
      ]
     },
     "execution_count": 72,
     "metadata": {},
     "output_type": "execute_result"
    }
   ],
   "source": [
    "df_results.tail(12)"
   ]
  },
  {
   "cell_type": "code",
   "execution_count": 20,
   "metadata": {},
   "outputs": [
    {
     "data": {
      "text/plain": [
       "1188.813309188609"
      ]
     },
     "execution_count": 20,
     "metadata": {},
     "output_type": "execute_result"
    }
   ],
   "source": [
    "final_capital"
   ]
  },
  {
   "cell_type": "code",
   "execution_count": 7,
   "metadata": {},
   "outputs": [],
   "source": [
    "def cum_returns(stocks, wts):\n",
    "\n",
    "  weighted_returns = (wts * stocks.pct_change()[1:])\n",
    "  weighted_returns = pd.DataFrame(weighted_returns)\n",
    "  port_ret = weighted_returns.sum(axis=1)\n",
    "  return (port_ret + 1).cumprod() "
   ]
  },
  {
   "cell_type": "code",
   "execution_count": 8,
   "metadata": {},
   "outputs": [],
   "source": [
    "total_stocks = len(stocks)\n",
    "weight = [1/total_stocks]*total_stocks\n",
    "#call cumulative returns\n",
    "returns = cum_returns(df, weight).reset_index()\n",
    "returns.rename(columns={'Date':'date', 0:'ret'}, inplace=True)"
   ]
  },
  {
   "cell_type": "code",
   "execution_count": 9,
   "metadata": {},
   "outputs": [],
   "source": [
    "# optimizitation\n",
    "from scipy.optimize import minimize \n",
    "\n",
    "def optimize_weights(returns, risk_free_return):\n",
    "    \n",
    "    n = returns.shape[1]\n",
    "    initial_weights = np.ones(n) / n\n",
    "    bounds = [(0, 1) for i in range(n)]\n",
    "    constraints = ({'type': 'eq', 'fun': lambda x: np.sum(x) - 1})\n",
    "    def neg_sharpe_ratio(weights, returns, risk_free_rate):\n",
    "        portfolio_return = np.sum(returns.mean() * weights) * 252\n",
    "        portfolio_volatility = np.sqrt(np.dot(weights.T, np.dot(returns.cov() * 252, weights)))\n",
    "        sharpe_ratio = (portfolio_return - risk_free_rate) / portfolio_volatility\n",
    "        return -sharpe_ratio\n",
    "    result = minimize(fun=neg_sharpe_ratio, x0=initial_weights, args=(returns, risk_free_return), method='SLSQP', bounds=bounds, constraints=constraints)\n",
    "    optimized_weights = result.x\n",
    "    return optimized_weights"
   ]
  },
  {
   "cell_type": "code",
   "execution_count": 10,
   "metadata": {},
   "outputs": [],
   "source": [
    "res = optimize_weights(df.pct_change(), 4)"
   ]
  },
  {
   "cell_type": "code",
   "execution_count": 11,
   "metadata": {},
   "outputs": [
    {
     "data": {
      "text/plain": [
       "['NVDA', 'SAN.PA', 'ENG.MC']"
      ]
     },
     "execution_count": 11,
     "metadata": {},
     "output_type": "execute_result"
    }
   ],
   "source": [
    "pd.DataFrame(data=res, index=df.columns, columns=['res']).sort_values(by='res', ascending=False)[:3].index.tolist()"
   ]
  },
  {
   "cell_type": "code",
   "execution_count": 15,
   "metadata": {},
   "outputs": [
    {
     "data": {
      "text/plain": [
       "0.17876103188362516"
      ]
     },
     "execution_count": 15,
     "metadata": {},
     "output_type": "execute_result"
    }
   ],
   "source": [
    "returns = df.pct_change()\n",
    "n = returns.shape[1]\n",
    "weights = np.ones(n) / n\n",
    "np.sum(returns.mean() * weights) * 252"
   ]
  },
  {
   "cell_type": "code",
   "execution_count": 12,
   "metadata": {},
   "outputs": [
    {
     "name": "stdout",
     "output_type": "stream",
     "text": [
      "[<tf.Tensor: shape=(1, 1), dtype=float32, numpy=array([[-0.00019751]], dtype=float32)>, <tf.Tensor: shape=(1,), dtype=float32, numpy=array([0.00481659], dtype=float32)>]\n"
     ]
    }
   ],
   "source": [
    "import tensorflow as tf\n",
    "\n",
    "def sharpe_ratio_loss(y_true, y_pred):\n",
    "    # Sharpe ratio formula\n",
    "    return -tf.reduce_mean((y_true - y_pred) / tf.math.reduce_std(y_true - y_pred))\n",
    "\n",
    "# Define the inputs\n",
    "x = tf.constant([1.0, 2.0, 3.0, 4.0, 5.0])\n",
    "y = tf.constant([0.5, 1.0, 1.5, 2.0, 2.5])\n",
    "\n",
    "# Define the model\n",
    "model = tf.keras.Sequential([\n",
    "    tf.keras.layers.Dense(units=1, input_shape=[1])\n",
    "])\n",
    "\n",
    "# Compile the model\n",
    "model.compile(optimizer=tf.keras.optimizers.SGD(learning_rate=0.01), loss=sharpe_ratio_loss)\n",
    "\n",
    "# Train the model\n",
    "history = model.fit(x, y, epochs=1000, verbose=0)\n",
    "\n",
    "# Get the gradients\n",
    "with tf.GradientTape() as tape:\n",
    "    y_pred = model(x)\n",
    "    loss = sharpe_ratio_loss(y, y_pred)\n",
    "grads = tape.gradient(loss, model.trainable_variables)\n",
    "\n",
    "print(grads)"
   ]
  }
 ],
 "metadata": {
  "kernelspec": {
   "display_name": "Python 3",
   "language": "python",
   "name": "python3"
  },
  "language_info": {
   "codemirror_mode": {
    "name": "ipython",
    "version": 3
   },
   "file_extension": ".py",
   "mimetype": "text/x-python",
   "name": "python",
   "nbconvert_exporter": "python",
   "pygments_lexer": "ipython3",
   "version": "3.9.6"
  },
  "orig_nbformat": 4,
  "vscode": {
   "interpreter": {
    "hash": "11938c6bc6919ae2720b4d5011047913343b08a43b18698fd82dedb0d4417594"
   }
  }
 },
 "nbformat": 4,
 "nbformat_minor": 2
}
