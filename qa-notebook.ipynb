{
 "cells": [
  {
   "cell_type": "code",
   "execution_count": 43,
   "metadata": {},
   "outputs": [],
   "source": [
    "# Data manipulation\n",
    "import numpy as np\n",
    "import pandas as pd\n",
    "\n",
    "# Plotting\n",
    "import plotly.express as px\n",
    "import matplotlib.pyplot as plt\n",
    "import streamlit as st\n",
    "\n",
    "import datetime\n",
    "\n",
    "#Ignore warnings\n",
    "import warnings\n",
    "warnings.filterwarnings(\"ignore\")\n",
    "\n",
    "# import quant finance libraries\n",
    "import yfinance as yf"
   ]
  },
  {
   "cell_type": "code",
   "execution_count": 44,
   "metadata": {},
   "outputs": [],
   "source": [
    "stocks = ['eng.mc','ele.mc', 'itx.mc', 'bbva.mc', 'vid.mc', 'rep.mc', 'ibe.mc', 'or.pa',\n",
    "                'san.pa', 'azn', 'regn', 'atvi', 'msft', 'team', 'googl', 'nvda', 'csx']\n",
    "start_date = datetime.date(2020, 1, 1)"
   ]
  },
  {
   "cell_type": "code",
   "execution_count": 45,
   "metadata": {},
   "outputs": [],
   "source": [
    "def get_data(stocks, start_date, end_date):\n",
    "            return yf.download(stocks, start = start_date, end = end_date)"
   ]
  },
  {
   "cell_type": "code",
   "execution_count": 46,
   "metadata": {},
   "outputs": [
    {
     "data": {
      "text/plain": [
       "['eng.mc',\n",
       " 'ele.mc',\n",
       " 'itx.mc',\n",
       " 'bbva.mc',\n",
       " 'vid.mc',\n",
       " 'rep.mc',\n",
       " 'ibe.mc',\n",
       " 'or.pa',\n",
       " 'san.pa',\n",
       " 'azn',\n",
       " 'regn',\n",
       " 'atvi',\n",
       " 'msft',\n",
       " 'team',\n",
       " 'googl',\n",
       " 'nvda',\n",
       " 'csx']"
      ]
     },
     "execution_count": 46,
     "metadata": {},
     "output_type": "execute_result"
    }
   ],
   "source": [
    "stocks"
   ]
  },
  {
   "cell_type": "code",
   "execution_count": 47,
   "metadata": {},
   "outputs": [
    {
     "data": {
      "text/plain": [
       "datetime.date(2020, 1, 1)"
      ]
     },
     "execution_count": 47,
     "metadata": {},
     "output_type": "execute_result"
    }
   ],
   "source": [
    "start_date"
   ]
  },
  {
   "cell_type": "code",
   "execution_count": 48,
   "metadata": {},
   "outputs": [
    {
     "name": "stdout",
     "output_type": "stream",
     "text": [
      "[*********************100%***********************]  17 of 17 completed\n"
     ]
    }
   ],
   "source": [
    "df = get_data(stocks, start_date = \"2019-01-01\", end_date = \"2022-11-30\")       \n",
    "df = df['Adj Close']"
   ]
  },
  {
   "cell_type": "code",
   "execution_count": 49,
   "metadata": {},
   "outputs": [],
   "source": [
    "def cum_returns(stocks, wts):\n",
    "\n",
    "  weighted_returns = (wts * stocks.pct_change()[1:])\n",
    "  weighted_returns = pd.DataFrame(weighted_returns)\n",
    "  port_ret = weighted_returns.sum(axis=1)\n",
    "  return (port_ret + 1).cumprod() "
   ]
  },
  {
   "cell_type": "code",
   "execution_count": 50,
   "metadata": {},
   "outputs": [],
   "source": [
    "total_stocks = len(stocks)\n",
    "weight = [1/total_stocks]*total_stocks\n",
    "#call cumulative returns\n",
    "returns = cum_returns(df, weight).reset_index()\n",
    "returns.rename(columns={'Date':'date', 0:'ret'}, inplace=True)"
   ]
  },
  {
   "cell_type": "code",
   "execution_count": 51,
   "metadata": {},
   "outputs": [],
   "source": [
    "# optimizitation\n",
    "from scipy.optimize import minimize \n",
    "\n",
    "def optimize_weights(returns, risk_free_return):\n",
    "    \n",
    "    n = returns.shape[1]\n",
    "    initial_weights = np.ones(n) / n\n",
    "    bounds = [(0, 1) for i in range(n)]\n",
    "    constraints = ({'type': 'eq', 'fun': lambda x: np.sum(x) - 1})\n",
    "    def neg_sharpe_ratio(weights, returns, risk_free_rate):\n",
    "        portfolio_return = np.sum(returns.mean() * weights) * 252\n",
    "        portfolio_volatility = np.sqrt(np.dot(weights.T, np.dot(returns.cov() * 252, weights)))\n",
    "        sharpe_ratio = (portfolio_return - risk_free_rate) / portfolio_volatility\n",
    "        return -sharpe_ratio\n",
    "    result = minimize(fun=neg_sharpe_ratio, x0=initial_weights, args=(returns, risk_free_return), method='SLSQP', bounds=bounds, constraints=constraints)\n",
    "    optimized_weights = result.x\n",
    "    return optimized_weights"
   ]
  },
  {
   "cell_type": "code",
   "execution_count": 61,
   "metadata": {},
   "outputs": [],
   "source": [
    "res = optimize_weights(df.pct_change(), 4)"
   ]
  },
  {
   "cell_type": "code",
   "execution_count": 77,
   "metadata": {},
   "outputs": [
    {
     "data": {
      "text/plain": [
       "['NVDA', 'SAN.PA', 'ENG.MC']"
      ]
     },
     "execution_count": 77,
     "metadata": {},
     "output_type": "execute_result"
    }
   ],
   "source": [
    "pd.DataFrame(data=res, index=df.columns, columns=['res']).sort_values(by='res', ascending=False)[:3].index.tolist()"
   ]
  },
  {
   "cell_type": "code",
   "execution_count": 66,
   "metadata": {},
   "outputs": [],
   "source": [
    "import tensorflow as tf \n",
    "\n",
    "def optimize_weights_with_adam(returns, target_return, learning_rate=0.01, epochs=1000):\n",
    "  n = returns.shape[1]\n",
    "  initial_weights = tf.ones((n,), dtype=tf.float32) / n\n",
    "  returns_mean = tf.reduce_mean(returns, axis=0)\n",
    "  returns_cov = tf.matmul(tf.transpose(returns - returns_mean), returns - returns_mean) / (returns.shape[0] - 1)\n",
    "\n",
    "  def portfolio_return(weights, mean_returns, cov_matrix):\n",
    "    portfolio_return = tf.tensordot(weights, mean_returns, axes=1)\n",
    "    portfolio_volatility = tf.sqrt(tf.tensordot(tf.tensordot(weights, cov_matrix, axes=1), weights, axes=1))\n",
    "    return portfolio_return, portfolio_volatility\n",
    "\n",
    "  def loss_fn(weights, mean_returns, cov_matrix, target_return):\n",
    "    portfolio_return, portfolio_volatility = portfolio_return(weights, mean_returns, cov_matrix)\n",
    "    return -(portfolio_return - target_return) / portfolio_volatility\n",
    "\n",
    "  optimizer = tf.optimizers.Adam(learning_rate=learning_rate)\n",
    "\n",
    "  def train_step(weights, mean_returns, cov_matrix, target_return):\n",
    "    with tf.GradientTape() as tape:\n",
    "      loss_value = loss_fn(weights, mean_returns, cov_matrix, target_return)\n",
    "    grads = tape.gradient(loss_value, weights)\n",
    "    optimizer.apply_gradients(zip([grads], [weights]))\n",
    "    return weights\n",
    "\n",
    "  weights = initial_weights\n",
    "  for epoch in range(epochs):\n",
    "    weights = train_step(weights, returns_mean, returns_cov, target_return)\n",
    "  \n",
    "  optimal_weights = weights / tf.reduce_sum(weights)\n",
    "  return optimal_weights.numpy()"
   ]
  },
  {
   "cell_type": "code",
   "execution_count": 67,
   "metadata": {},
   "outputs": [],
   "source": [
    "res_adam = optimize_weights(df.pct_change(), 4)"
   ]
  },
  {
   "cell_type": "code",
   "execution_count": 76,
   "metadata": {},
   "outputs": [
    {
     "data": {
      "text/html": [
       "<div>\n",
       "<style scoped>\n",
       "    .dataframe tbody tr th:only-of-type {\n",
       "        vertical-align: middle;\n",
       "    }\n",
       "\n",
       "    .dataframe tbody tr th {\n",
       "        vertical-align: top;\n",
       "    }\n",
       "\n",
       "    .dataframe thead th {\n",
       "        text-align: right;\n",
       "    }\n",
       "</style>\n",
       "<table border=\"1\" class=\"dataframe\">\n",
       "  <thead>\n",
       "    <tr style=\"text-align: right;\">\n",
       "      <th></th>\n",
       "      <th>res</th>\n",
       "    </tr>\n",
       "  </thead>\n",
       "  <tbody>\n",
       "    <tr>\n",
       "      <th>NVDA</th>\n",
       "      <td>1.000000e+00</td>\n",
       "    </tr>\n",
       "    <tr>\n",
       "      <th>SAN.PA</th>\n",
       "      <td>6.272621e-13</td>\n",
       "    </tr>\n",
       "    <tr>\n",
       "      <th>ENG.MC</th>\n",
       "      <td>5.107928e-13</td>\n",
       "    </tr>\n",
       "  </tbody>\n",
       "</table>\n",
       "</div>"
      ],
      "text/plain": [
       "                 res\n",
       "NVDA    1.000000e+00\n",
       "SAN.PA  6.272621e-13\n",
       "ENG.MC  5.107928e-13"
      ]
     },
     "execution_count": 76,
     "metadata": {},
     "output_type": "execute_result"
    }
   ],
   "source": [
    "pd.DataFrame(data=res_adam, index=df.columns, columns=['res']).sort_values(by='res', ascending=False)[:3]"
   ]
  }
 ],
 "metadata": {
  "kernelspec": {
   "display_name": "Python 3",
   "language": "python",
   "name": "python3"
  },
  "language_info": {
   "codemirror_mode": {
    "name": "ipython",
    "version": 3
   },
   "file_extension": ".py",
   "mimetype": "text/x-python",
   "name": "python",
   "nbconvert_exporter": "python",
   "pygments_lexer": "ipython3",
   "version": "3.9.5"
  },
  "orig_nbformat": 4,
  "vscode": {
   "interpreter": {
    "hash": "11938c6bc6919ae2720b4d5011047913343b08a43b18698fd82dedb0d4417594"
   }
  }
 },
 "nbformat": 4,
 "nbformat_minor": 2
}
